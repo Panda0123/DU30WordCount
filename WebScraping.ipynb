{
 "cells": [
  {
   "cell_type": "code",
   "execution_count": 36,
   "metadata": {},
   "outputs": [],
   "source": [
    "from bs4 import BeautifulSoup\n",
    "import requests\n",
    "import numpy as np\n",
    "import pandas as pd"
   ]
  },
  {
   "cell_type": "code",
   "execution_count": 5,
   "metadata": {},
   "outputs": [
    {
     "data": {
      "text/plain": [
       "200"
      ]
     },
     "execution_count": 5,
     "metadata": {},
     "output_type": "execute_result"
    }
   ],
   "source": [
    "headers = {\n",
    "    'user-agent': 'Mozilla/5.0 (iPhone; CPU iPhone OS 10_3 like Mac OS X) AppleWebKit/602.1.50 (KHTML, like Gecko) CriOS/56.0.2924.75 Mobile/14E5239e Safari/602.1 RuxitSynthetic/1.0 v1355348020 t3296535826494656701 smf=0'\n",
    "}\n",
    "\n",
    "home_link = 'https://pcoo.gov.ph/presidential-speech/'\n",
    "\n",
    "response = requests.get(home_link, headers=headers)\n",
    "response.status_code"
   ]
  },
  {
   "cell_type": "markdown",
   "metadata": {},
   "source": [
    "# Corpus Making"
   ]
  },
  {
   "cell_type": "markdown",
   "metadata": {},
   "source": [
    "# 1. Speeches Information Extraction"
   ]
  },
  {
   "cell_type": "markdown",
   "metadata": {},
   "source": [
    ">Traversing body through container"
   ]
  },
  {
   "cell_type": "code",
   "execution_count": 6,
   "metadata": {},
   "outputs": [],
   "source": [
    "bf = BeautifulSoup(response.text, 'lxml')\n",
    "body = bf.find('div', class_='col-xs-12 col-sm-12 nopadding-left')"
   ]
  },
  {
   "cell_type": "code",
   "execution_count": 47,
   "metadata": {},
   "outputs": [],
   "source": [
    "speeches = {}\n",
    "\n",
    "num_page = 21\n",
    "\n",
    "#we're going to use this header cause the default python one is blocked by the site\n",
    "headers = {\n",
    "    'user-agent': 'Mozilla/5.0 (iPhone; CPU iPhone OS 10_3 like Mac OS X) AppleWebKit/602.1.50 (KHTML, like Gecko) CriOS/56.0.2924.75 Mobile/14E5239e Safari/602.1 RuxitSynthetic/1.0 v1355348020 t3296535826494656701 smf=0'\n",
    "}\n",
    "\n",
    "#traverse through diffent pages in the site from 1 to num_page\n",
    "for i in range(num_page):\n",
    "    #structure of the url(just changing the page number)\n",
    "    lnk = f'https://pcoo.gov.ph/presidential-speech/page/{i + 1}/' \n",
    "    \n",
    "    #we're requesting the link\n",
    "    response = requests.get(lnk, headers=headers)\n",
    "    \n",
    "    #check if the response is 'ok'\n",
    "    if response.status_code == 200:\n",
    "        \n",
    "        #parsing the html using lxml parser\n",
    "        html = BeautifulSoup(response.text, 'lxml')\n",
    "        \n",
    "        #retrieving just the container of the speeches\n",
    "        body = html.find('div', class_='col-xs-12 col-sm-12 nopadding-left')\n",
    "        \n",
    "        #traversing through speeches within container and extracting title, date, and url of the speech\n",
    "        for speech in body.findAll('div', class_='focus-feature row'):\n",
    "            title = speech.h3.a.text.strip()\n",
    "            date = speech.small.time.text.strip()\n",
    "            url = speech.h3.a['href']\n",
    "            speeches[date] = {'title': title, 'url': url}"
   ]
  },
  {
   "cell_type": "markdown",
   "metadata": {},
   "source": [
    "## 1.1 Dataframe Transformation"
   ]
  },
  {
   "cell_type": "code",
   "execution_count": 4,
   "metadata": {},
   "outputs": [],
   "source": [
    "df = pd.read_csv('Duterte\\'s Speeches.csv', index_col='Unnamed: 0')"
   ]
  },
  {
   "cell_type": "code",
   "execution_count": 48,
   "metadata": {},
   "outputs": [],
   "source": [
    "df = pd.DataFrame(speeches).T"
   ]
  },
  {
   "cell_type": "code",
   "execution_count": 6,
   "metadata": {},
   "outputs": [
    {
     "data": {
      "text/html": [
       "<div>\n",
       "<style scoped>\n",
       "    .dataframe tbody tr th:only-of-type {\n",
       "        vertical-align: middle;\n",
       "    }\n",
       "\n",
       "    .dataframe tbody tr th {\n",
       "        vertical-align: top;\n",
       "    }\n",
       "\n",
       "    .dataframe thead th {\n",
       "        text-align: right;\n",
       "    }\n",
       "</style>\n",
       "<table border=\"1\" class=\"dataframe\">\n",
       "  <thead>\n",
       "    <tr style=\"text-align: right;\">\n",
       "      <th></th>\n",
       "      <th>title</th>\n",
       "      <th>url</th>\n",
       "    </tr>\n",
       "  </thead>\n",
       "  <tbody>\n",
       "    <tr>\n",
       "      <th>May 26, 2020</th>\n",
       "      <td>Excerpts from Speech of President Rodrigo Roa ...</td>\n",
       "      <td>https://pcoo.gov.ph/presidential-speech/excerp...</td>\n",
       "    </tr>\n",
       "    <tr>\n",
       "      <th>May 25, 2020</th>\n",
       "      <td>Talk to the People of President Rodrigo Roa Du...</td>\n",
       "      <td>https://pcoo.gov.ph/presidential-speech/talk-t...</td>\n",
       "    </tr>\n",
       "    <tr>\n",
       "      <th>May 22, 2020</th>\n",
       "      <td>Speech of President Rodrigo Roa Duterte during...</td>\n",
       "      <td>https://pcoo.gov.ph/presidential-speech/speech...</td>\n",
       "    </tr>\n",
       "    <tr>\n",
       "      <th>May 19, 2020</th>\n",
       "      <td>Talk to the People of President Rodrigo Roa Du...</td>\n",
       "      <td>https://pcoo.gov.ph/presidential-speech/talk-t...</td>\n",
       "    </tr>\n",
       "    <tr>\n",
       "      <th>May 12, 2020</th>\n",
       "      <td>Talk to the People of President Rodrigo Roa Du...</td>\n",
       "      <td>https://pcoo.gov.ph/presidential-speech/talk-t...</td>\n",
       "    </tr>\n",
       "    <tr>\n",
       "      <th>...</th>\n",
       "      <td>...</td>\n",
       "      <td>...</td>\n",
       "    </tr>\n",
       "    <tr>\n",
       "      <th>April 5, 2018</th>\n",
       "      <td>Speech of President Rodrigo Roa Duterte during...</td>\n",
       "      <td>https://pcoo.gov.ph/presidential-speech/speech...</td>\n",
       "    </tr>\n",
       "    <tr>\n",
       "      <th>April 3, 2018</th>\n",
       "      <td>Speech of President Rodrigo Roa Duterte during...</td>\n",
       "      <td>https://pcoo.gov.ph/presidential-speech/speech...</td>\n",
       "    </tr>\n",
       "    <tr>\n",
       "      <th>April 2, 2018</th>\n",
       "      <td>Speech of President Rodrigo Roa Duterte during...</td>\n",
       "      <td>https://pcoo.gov.ph/presidential-speech/speech...</td>\n",
       "    </tr>\n",
       "    <tr>\n",
       "      <th>March 26, 2018</th>\n",
       "      <td>Speech Of President Rodrigo Roa Duterte during...</td>\n",
       "      <td>https://pcoo.gov.ph/presidential-speech/speech...</td>\n",
       "    </tr>\n",
       "    <tr>\n",
       "      <th>March 23, 2018</th>\n",
       "      <td>Speech of President Rodrigo Roa Duterte during...</td>\n",
       "      <td>https://pcoo.gov.ph/presidential-speech/speech...</td>\n",
       "    </tr>\n",
       "  </tbody>\n",
       "</table>\n",
       "<p>315 rows × 2 columns</p>\n",
       "</div>"
      ],
      "text/plain": [
       "                                                            title  \\\n",
       "May 26, 2020    Excerpts from Speech of President Rodrigo Roa ...   \n",
       "May 25, 2020    Talk to the People of President Rodrigo Roa Du...   \n",
       "May 22, 2020    Speech of President Rodrigo Roa Duterte during...   \n",
       "May 19, 2020    Talk to the People of President Rodrigo Roa Du...   \n",
       "May 12, 2020    Talk to the People of President Rodrigo Roa Du...   \n",
       "...                                                           ...   \n",
       "April 5, 2018   Speech of President Rodrigo Roa Duterte during...   \n",
       "April 3, 2018   Speech of President Rodrigo Roa Duterte during...   \n",
       "April 2, 2018   Speech of President Rodrigo Roa Duterte during...   \n",
       "March 26, 2018  Speech Of President Rodrigo Roa Duterte during...   \n",
       "March 23, 2018  Speech of President Rodrigo Roa Duterte during...   \n",
       "\n",
       "                                                              url  \n",
       "May 26, 2020    https://pcoo.gov.ph/presidential-speech/excerp...  \n",
       "May 25, 2020    https://pcoo.gov.ph/presidential-speech/talk-t...  \n",
       "May 22, 2020    https://pcoo.gov.ph/presidential-speech/speech...  \n",
       "May 19, 2020    https://pcoo.gov.ph/presidential-speech/talk-t...  \n",
       "May 12, 2020    https://pcoo.gov.ph/presidential-speech/talk-t...  \n",
       "...                                                           ...  \n",
       "April 5, 2018   https://pcoo.gov.ph/presidential-speech/speech...  \n",
       "April 3, 2018   https://pcoo.gov.ph/presidential-speech/speech...  \n",
       "April 2, 2018   https://pcoo.gov.ph/presidential-speech/speech...  \n",
       "March 26, 2018  https://pcoo.gov.ph/presidential-speech/speech...  \n",
       "March 23, 2018  https://pcoo.gov.ph/presidential-speech/speech...  \n",
       "\n",
       "[315 rows x 2 columns]"
      ]
     },
     "execution_count": 6,
     "metadata": {},
     "output_type": "execute_result"
    }
   ],
   "source": [
    "df"
   ]
  },
  {
   "cell_type": "markdown",
   "metadata": {},
   "source": [
    "# 2. Read/Download all speeches\n",
    ">In this stage we are going to extract the transcript of the speech in each page. However some page do not have the transcipt but instead provide a pdf file that has it. So we're going to crawl each page and scrape those that has the transcript or download the pdf for those hasn't.  In next stage we're going to process those pdfs.\n",
    "\n",
    ">We are also going to extract the event and locaion of the speech to add in our dataset."
   ]
  },
  {
   "cell_type": "code",
   "execution_count": 159,
   "metadata": {},
   "outputs": [],
   "source": [
    "def extract_transcript(html, transcript):\n",
    "    \"\"\"For extracting the transcript in the page\"\"\"\n",
    "    lt_name = ['PRESIDENT RODRIGO ROA DUTERTE:\\xa0', 'PRESIDENT DUTERTE:\\xa0', \n",
    "               'PRESIDENT DUTERTE:', 'PRESIDENT RODRIGO ROA DUTERTE:']\n",
    "    #the whole transcript is contained in div with release-content class\n",
    "    body = html.find('div', class_='release-content')\n",
    "            \n",
    "    #traverse through body and extract the content of p(except line break)\n",
    "    lt_p = [p for p in body if p != '\\n']\n",
    "\n",
    "    #discard paragraphs that are not dialogue of President Duterte\n",
    "    isDuterte = True\n",
    "    dut_text_lt = []\n",
    "    for p in lt_p:\n",
    "        if p.strong:\n",
    "            if any(nm in p.strong.text for nm in lt_name):\n",
    "                isDuterte = True\n",
    "            else:\n",
    "                isDuterte= False\n",
    "\n",
    "        if isDuterte:\n",
    "            dut_text_lt.append(p.text)\n",
    "\n",
    "    #concatenate every word into a single string\n",
    "    single_str = ', '.join(dut_text_lt)\n",
    "    #append the transcript as single string\n",
    "    transcript.append(single_str)\n",
    "    \n",
    "\n",
    "def download_pdf(html, transcript, date, headers, cur_lnk):\n",
    "    \"\"\"For downloading the pdf file from the page\"\"\"\n",
    "    \n",
    "    #the download link is contained in ul tag with class download-media\n",
    "    ul = html.find('ul', class_='download-media')\n",
    "    \n",
    "    #within ul there are two list either the pdf or the audio\n",
    "    #sometimes there is no audio thus try-catch\n",
    "    li = ul.findAll('li')\n",
    "    try:\n",
    "        pdf_lnk = li[1].a['href']\n",
    "    except:\n",
    "        pdf_lnk = li[0].a['href']\n",
    "        \n",
    "    try:\n",
    "        #we're going to name the pdf file using date of speech\n",
    "        with open(f'duterte_pdf\\\\{date}.pdf', 'wb') as fl:\n",
    "\n",
    "            #sometimes instead of pdf link they will give you an extension url of a page that contains the pdf url\n",
    "            #so check if the last 4 characters of the link ends with .pdf\n",
    "            if pdf_lnk[-4:] =='.pdf':\n",
    "                response2 = requests.get(pdf_lnk, headers=headers)\n",
    "                fl.write(response2.content)\n",
    "            else:\n",
    "                #we have to parse again this another page and location the pdf link and download it\n",
    "                concat_lnk = cur_lnk + pdf_lnk.lower()\n",
    "                response2 = requests.get(concat_lnk, headers=headers)\n",
    "                html_temp = BeautifulSoup(response2.text, 'lxml')\n",
    "\n",
    "                #in this page the link is in a tag of a p tag with class attachment\n",
    "                pdf_lnk2 = html_temp.find('p', class_='attachment').a['href']\n",
    "\n",
    "                response3 = requests.get(pdf_lnk2, headers=headers)\n",
    "                fl.write(response3.content)\n",
    "    except:\n",
    "        print(date)\n",
    "        \n",
    "    #for now we're going to represent those transcripts in pdf as nan\n",
    "    transcript.append(np.nan)"
   ]
  },
  {
   "cell_type": "code",
   "execution_count": 111,
   "metadata": {
    "scrolled": false
   },
   "outputs": [
    {
     "name": "stdout",
     "output_type": "stream",
     "text": [
      "May 11, 2019\n",
      "May 8, 2019\n"
     ]
    }
   ],
   "source": [
    "event = []\n",
    "location = []\n",
    "transcript = []\n",
    "\n",
    "#traverse through the speeches\n",
    "for i in range(df.shape[0]):\n",
    "    \n",
    "    #passing url in dataframe and headers as parameters\n",
    "    response = requests.get(df.iloc[i].url, headers=headers)\n",
    "    date = df.iloc[i].name\n",
    "    url = df.iloc[i].url\n",
    "    if response.status_code == 200:\n",
    "        html = BeautifulSoup(response.text, 'lxml')\n",
    "        \n",
    "        #scraping the event and location(some do not have this info, thus try-except)\n",
    "        speech_info = html.findAll('span', class_='speech-specifics')\n",
    "        try:\n",
    "            event.append(speech_info[0].text)\n",
    "        except:\n",
    "            event.append(np.nan)\n",
    "        try: \n",
    "            location.append(speech_info[1].text)\n",
    "        except:\n",
    "            location.append(np.nan)\n",
    "            \n",
    "        #the trancript is stored within div tag with class release-content\n",
    "        rel_cont = html.find('div', class_='release-content')\n",
    "        \n",
    "        #check if it contains p tag(meaning the page contains the transcript)\n",
    "        if rel_cont.p:\n",
    "            extract_transcript(html, transcript)\n",
    "        else:\n",
    "            download_pdf(html, transcript, date, headers, url)"
   ]
  },
  {
   "cell_type": "markdown",
   "metadata": {},
   "source": [
    ">To identify if a page contain the transcript or just the pdf, we have to find a div tag with 'release-content' class. Then we're going to check if this contain p tag, if it does then this page has the transcript otherwise just the pdf. If it contains the transcript then we're going to extract only President Duerte's part (some contains dialogue of other people). Now if it just contain the pdf then we're going to download the pdf and further process it in next section. In some cases the pdf url(href in a tag) is just an extension for the current url, that will redirect you to a page that contains the pdf url. We will further process this data in following sections.\n",
    "\n",
    ">Now that we have extracted/downloaded the transcript let's added it into out dataframe."
   ]
  },
  {
   "cell_type": "markdown",
   "metadata": {},
   "source": [
    "## 2.1 Add to DataFrame"
   ]
  },
  {
   "cell_type": "code",
   "execution_count": 164,
   "metadata": {
    "scrolled": false
   },
   "outputs": [
    {
     "data": {
      "text/html": [
       "<div>\n",
       "<style scoped>\n",
       "    .dataframe tbody tr th:only-of-type {\n",
       "        vertical-align: middle;\n",
       "    }\n",
       "\n",
       "    .dataframe tbody tr th {\n",
       "        vertical-align: top;\n",
       "    }\n",
       "\n",
       "    .dataframe thead th {\n",
       "        text-align: right;\n",
       "    }\n",
       "</style>\n",
       "<table border=\"1\" class=\"dataframe\">\n",
       "  <thead>\n",
       "    <tr style=\"text-align: right;\">\n",
       "      <th></th>\n",
       "      <th>title</th>\n",
       "      <th>url</th>\n",
       "      <th>event</th>\n",
       "      <th>location</th>\n",
       "      <th>transcript</th>\n",
       "    </tr>\n",
       "  </thead>\n",
       "  <tbody>\n",
       "    <tr>\n",
       "      <th>May 26, 2020</th>\n",
       "      <td>Excerpts from Speech of President Rodrigo Roa ...</td>\n",
       "      <td>https://pcoo.gov.ph/presidential-speech/excerp...</td>\n",
       "      <td>Meeting with Philippine Army (PA) and Philippi...</td>\n",
       "      <td>Malago Clubhouse, Malacañang Park, Manila</td>\n",
       "      <td>NaN</td>\n",
       "    </tr>\n",
       "    <tr>\n",
       "      <th>May 25, 2020</th>\n",
       "      <td>Talk to the People of President Rodrigo Roa Du...</td>\n",
       "      <td>https://pcoo.gov.ph/presidential-speech/talk-t...</td>\n",
       "      <td>On Coronavirus Disease 2019 (COVID-19)</td>\n",
       "      <td>Malago Clubhouse in Malacañang</td>\n",
       "      <td>PRESIDENT RODRIGO ROA DUTERTE: I remember dist...</td>\n",
       "    </tr>\n",
       "    <tr>\n",
       "      <th>May 22, 2020</th>\n",
       "      <td>Speech of President Rodrigo Roa Duterte during...</td>\n",
       "      <td>https://pcoo.gov.ph/presidential-speech/speech...</td>\n",
       "      <td>Commencement Exercsies of the Philippine Milit...</td>\n",
       "      <td>Malago Clubhouse, Malacañang Park, Manila</td>\n",
       "      <td>Kindly sit down. [May upuan sila? Okay.], Defe...</td>\n",
       "    </tr>\n",
       "    <tr>\n",
       "      <th>May 19, 2020</th>\n",
       "      <td>Talk to the People of President Rodrigo Roa Du...</td>\n",
       "      <td>https://pcoo.gov.ph/presidential-speech/talk-t...</td>\n",
       "      <td>On Coronavirus Disease 2019 (COVID-19)</td>\n",
       "      <td>Malago Clubhouse in Malacañang</td>\n",
       "      <td>PRESIDENT RODRIGO ROA DUTERTE: Good evening my...</td>\n",
       "    </tr>\n",
       "    <tr>\n",
       "      <th>May 12, 2020</th>\n",
       "      <td>Talk to the People of President Rodrigo Roa Du...</td>\n",
       "      <td>https://pcoo.gov.ph/presidential-speech/talk-t...</td>\n",
       "      <td>On Coronavirus Disease 2019 (COVID-19)</td>\n",
       "      <td>Malago Clubhouse in Malacañang</td>\n",
       "      <td>PRESIDENT DUTERTE: Sir, one question. Itong op...</td>\n",
       "    </tr>\n",
       "    <tr>\n",
       "      <th>...</th>\n",
       "      <td>...</td>\n",
       "      <td>...</td>\n",
       "      <td>...</td>\n",
       "      <td>...</td>\n",
       "      <td>...</td>\n",
       "    </tr>\n",
       "    <tr>\n",
       "      <th>April 5, 2018</th>\n",
       "      <td>Speech of President Rodrigo Roa Duterte during...</td>\n",
       "      <td>https://pcoo.gov.ph/presidential-speech/speech...</td>\n",
       "      <td>Awarding of Outstanding Farmers, Fisherfolks a...</td>\n",
       "      <td>Rizal Hall, Malacañan Palace</td>\n",
       "      <td>NaN</td>\n",
       "    </tr>\n",
       "    <tr>\n",
       "      <th>April 3, 2018</th>\n",
       "      <td>Speech of President Rodrigo Roa Duterte during...</td>\n",
       "      <td>https://pcoo.gov.ph/presidential-speech/speech...</td>\n",
       "      <td>Inauguration of Lisap Bridge Project</td>\n",
       "      <td>Bongabong, Oriental Mindoro</td>\n",
       "      <td>NaN</td>\n",
       "    </tr>\n",
       "    <tr>\n",
       "      <th>April 2, 2018</th>\n",
       "      <td>Speech of President Rodrigo Roa Duterte during...</td>\n",
       "      <td>https://pcoo.gov.ph/presidential-speech/speech...</td>\n",
       "      <td>Distribution of Certificate of Land Ownership ...</td>\n",
       "      <td>Provincial Capitol Gymnasium, Isulan, Sultan K...</td>\n",
       "      <td>NaN</td>\n",
       "    </tr>\n",
       "    <tr>\n",
       "      <th>March 26, 2018</th>\n",
       "      <td>Speech Of President Rodrigo Roa Duterte during...</td>\n",
       "      <td>https://pcoo.gov.ph/presidential-speech/speech...</td>\n",
       "      <td>Handover of loose firearms and presentation of...</td>\n",
       "      <td>Multi-purpose Gym, Capitol, Patikul Sulu</td>\n",
       "      <td>NaN</td>\n",
       "    </tr>\n",
       "    <tr>\n",
       "      <th>March 23, 2018</th>\n",
       "      <td>Speech of President Rodrigo Roa Duterte during...</td>\n",
       "      <td>https://pcoo.gov.ph/presidential-speech/speech...</td>\n",
       "      <td>16th founding Anniversary of the Supreme Triba...</td>\n",
       "      <td>3rd Infantry Battalion Headquarters, Calinan, ...</td>\n",
       "      <td>NaN</td>\n",
       "    </tr>\n",
       "  </tbody>\n",
       "</table>\n",
       "<p>315 rows × 5 columns</p>\n",
       "</div>"
      ],
      "text/plain": [
       "                                                            title  \\\n",
       "May 26, 2020    Excerpts from Speech of President Rodrigo Roa ...   \n",
       "May 25, 2020    Talk to the People of President Rodrigo Roa Du...   \n",
       "May 22, 2020    Speech of President Rodrigo Roa Duterte during...   \n",
       "May 19, 2020    Talk to the People of President Rodrigo Roa Du...   \n",
       "May 12, 2020    Talk to the People of President Rodrigo Roa Du...   \n",
       "...                                                           ...   \n",
       "April 5, 2018   Speech of President Rodrigo Roa Duterte during...   \n",
       "April 3, 2018   Speech of President Rodrigo Roa Duterte during...   \n",
       "April 2, 2018   Speech of President Rodrigo Roa Duterte during...   \n",
       "March 26, 2018  Speech Of President Rodrigo Roa Duterte during...   \n",
       "March 23, 2018  Speech of President Rodrigo Roa Duterte during...   \n",
       "\n",
       "                                                              url  \\\n",
       "May 26, 2020    https://pcoo.gov.ph/presidential-speech/excerp...   \n",
       "May 25, 2020    https://pcoo.gov.ph/presidential-speech/talk-t...   \n",
       "May 22, 2020    https://pcoo.gov.ph/presidential-speech/speech...   \n",
       "May 19, 2020    https://pcoo.gov.ph/presidential-speech/talk-t...   \n",
       "May 12, 2020    https://pcoo.gov.ph/presidential-speech/talk-t...   \n",
       "...                                                           ...   \n",
       "April 5, 2018   https://pcoo.gov.ph/presidential-speech/speech...   \n",
       "April 3, 2018   https://pcoo.gov.ph/presidential-speech/speech...   \n",
       "April 2, 2018   https://pcoo.gov.ph/presidential-speech/speech...   \n",
       "March 26, 2018  https://pcoo.gov.ph/presidential-speech/speech...   \n",
       "March 23, 2018  https://pcoo.gov.ph/presidential-speech/speech...   \n",
       "\n",
       "                                                            event  \\\n",
       "May 26, 2020    Meeting with Philippine Army (PA) and Philippi...   \n",
       "May 25, 2020               On Coronavirus Disease 2019 (COVID-19)   \n",
       "May 22, 2020    Commencement Exercsies of the Philippine Milit...   \n",
       "May 19, 2020               On Coronavirus Disease 2019 (COVID-19)   \n",
       "May 12, 2020               On Coronavirus Disease 2019 (COVID-19)   \n",
       "...                                                           ...   \n",
       "April 5, 2018   Awarding of Outstanding Farmers, Fisherfolks a...   \n",
       "April 3, 2018                Inauguration of Lisap Bridge Project   \n",
       "April 2, 2018   Distribution of Certificate of Land Ownership ...   \n",
       "March 26, 2018  Handover of loose firearms and presentation of...   \n",
       "March 23, 2018  16th founding Anniversary of the Supreme Triba...   \n",
       "\n",
       "                                                         location  \\\n",
       "May 26, 2020           Malago Clubhouse, Malacañang Park, Manila    \n",
       "May 25, 2020                       Malago Clubhouse in Malacañang   \n",
       "May 22, 2020           Malago Clubhouse, Malacañang Park, Manila    \n",
       "May 19, 2020                       Malago Clubhouse in Malacañang   \n",
       "May 12, 2020                       Malago Clubhouse in Malacañang   \n",
       "...                                                           ...   \n",
       "April 5, 2018                        Rizal Hall, Malacañan Palace   \n",
       "April 3, 2018                         Bongabong, Oriental Mindoro   \n",
       "April 2, 2018   Provincial Capitol Gymnasium, Isulan, Sultan K...   \n",
       "March 26, 2018          Multi-purpose Gym, Capitol, Patikul Sulu    \n",
       "March 23, 2018  3rd Infantry Battalion Headquarters, Calinan, ...   \n",
       "\n",
       "                                                       transcript  \n",
       "May 26, 2020                                                  NaN  \n",
       "May 25, 2020    PRESIDENT RODRIGO ROA DUTERTE: I remember dist...  \n",
       "May 22, 2020    Kindly sit down. [May upuan sila? Okay.], Defe...  \n",
       "May 19, 2020    PRESIDENT RODRIGO ROA DUTERTE: Good evening my...  \n",
       "May 12, 2020    PRESIDENT DUTERTE: Sir, one question. Itong op...  \n",
       "...                                                           ...  \n",
       "April 5, 2018                                                 NaN  \n",
       "April 3, 2018                                                 NaN  \n",
       "April 2, 2018                                                 NaN  \n",
       "March 26, 2018                                                NaN  \n",
       "March 23, 2018                                                NaN  \n",
       "\n",
       "[315 rows x 5 columns]"
      ]
     },
     "execution_count": 164,
     "metadata": {},
     "output_type": "execute_result"
    }
   ],
   "source": [
    "df['event'] = event\n",
    "df['location'] = location\n",
    "df['transcript'] = transcript\n",
    "\n",
    "df"
   ]
  },
  {
   "cell_type": "markdown",
   "metadata": {},
   "source": [
    ">As expected there are nan values in our transcript and event. The next thing we have to do now is to extract the transcript from the pdf file. In this time of writing the most recent speech in the website is on March 26, 2020 and the oldest one is on March 23, 2018."
   ]
  },
  {
   "cell_type": "markdown",
   "metadata": {},
   "source": [
    "# 3. Process transcipt in PDF file\n",
    ">To process the PDF file we'll use the pdfminer and python-docx module. Since the content of PDF does not have layout and just pure text, I have to find pattern to extract President Duterte's dialogue . It starts with the header and title and in most PDF it follows a particular structure. The main body of the speech is right after a particular pattern which is the Location and Date of the speech  enclosed by brackets like [Malago Clubhouse, Malacañang Park, Manila | 26 May 2020] then followed by the transcript(there are 3 PDFs that doesn't have this pattern). So I used regular expression to find the first occurence of this pattern and extract everything after it.\n",
    "\n",
    ">In my obervation there are 2 types of transcript. The first one is when it only contains President Duterte's dialogue second is when there are dialogue from other people(basically a conversation).  So I have extract only President Duterte's dialogue. For this type of transcript I have to convert the PDF file to word document for me to determine which are President Duterte's dialogue. \n",
    "\n",
    ">This section is divided into two:\n",
    " 1. Extract transcripts only(discard heading, date, and so on...)\n",
    " 2. Extract Duterte's Dialogue only(transcripts that contains dialogue of multiple people)"
   ]
  },
  {
   "cell_type": "code",
   "execution_count": null,
   "metadata": {},
   "outputs": [],
   "source": [
    "import pdfminer \n",
    "from pdfminer.high_level import extract_text\n",
    "import os"
   ]
  },
  {
   "cell_type": "markdown",
   "metadata": {},
   "source": [
    ">Extract text from PDFs"
   ]
  },
  {
   "cell_type": "code",
   "execution_count": 4,
   "metadata": {},
   "outputs": [
    {
     "name": "stdout",
     "output_type": "stream",
     "text": [
      "April 25, 2018.pdf\n"
     ]
    }
   ],
   "source": [
    "pdf_txt_dict = {}\n",
    "for fl_name in os.listdir('duterte_pdf'):\n",
    "    try:\n",
    "        pdf_txt_dict[fl_name] = extract_text(f'duterte_pdf\\\\{fl_name}')\n",
    "    except:\n",
    "        print(fl_name)\n"
   ]
  },
  {
   "cell_type": "markdown",
   "metadata": {},
   "source": [
    ">In here I found out that the PDF I downloaded for April 25, 2018 fail to load and so I checked the url for this PDF. It does not work also. So we have to exclude this from our dataset."
   ]
  },
  {
   "cell_type": "markdown",
   "metadata": {},
   "source": [
    "## 3.1 Extract Transcript only"
   ]
  },
  {
   "cell_type": "code",
   "execution_count": 3,
   "metadata": {},
   "outputs": [
    {
     "name": "stdout",
     "output_type": "stream",
     "text": [
      "June 22, 2019.pdf\n",
      "May 21, 2019.pdf\n",
      "September 4, 2018.pdf\n"
     ]
    }
   ],
   "source": [
    "import re\n",
    "regex = re.compile('\\\\[(.*?)\\]')\n",
    "count= 0\n",
    "pdf_txt_dict_trimmed = {}\n",
    "for key in pdf_txt_dict.keys():\n",
    "    try:\n",
    "        span = re.search(regex, pdf_txt_dict[key].replace('\\n', '')).span()\n",
    "        pdf_txt_dict_trimmed[key] = pdf_txt_dict[key].replace('\\n', '')[span[1]:]\n",
    "    except:\n",
    "        pdf_txt_dict_trimmed[key] = pdf_txt_dict[key].replace('\\n', '')\n",
    "        print(key)"
   ]
  },
  {
   "cell_type": "markdown",
   "metadata": {},
   "source": [
    ">So these are the PDFs that doesn't have those pattern. I checked them manually and found out that the PDF in June 22, 2019 does not contain dialogue of President Duterte but just the summary of what orccur on that event so I have to remove this. So far we have to remove April 25, 2018 and June 22, 2019. As for the other two they don't have the pattern so I have to extract them manually in the following section(I copied ot to a .txt file so you can just read it from there)."
   ]
  },
  {
   "cell_type": "markdown",
   "metadata": {},
   "source": [
    "## 3.2 Extract only President Duterte's Dialogue\n",
    ">Only a few PDF contains dialogue of another person other than President Duterte, so I have to identify these PDFs. Unlike an html where we can identify if there is a conversation by searching for strong tag and then a name. In PDF there is no such thing, so for us to know if there is a conversation is if it contains one of these strings 'PRESIDENT RODRIGO DUTERTE:', 'PRESIDENT DUTERTE:', 'PRESIDENT RODRIGO ROA DUTERTE:'(include the colon) after trimming it.\n",
    "\n",
    ">We're going to traverse through the transcripts and identify if it contains one of these strings."
   ]
  },
  {
   "cell_type": "code",
   "execution_count": 2,
   "metadata": {},
   "outputs": [
    {
     "name": "stdout",
     "output_type": "stream",
     "text": [
      "['April 13, 2018.pdf', 'April 13, 2020.pdf', 'April 29, 2018.pdf', 'April 8, 2020.pdf', 'April 9, 2018.pdf', 'August 20, 2019.pdf', 'August 30, 2019.pdf', 'December 10, 2019.pdf', 'December 26, 2018.pdf', 'December 4, 2019.pdf', 'December 5, 2019.pdf', 'July 28, 2019.pdf', 'June 2, 2018.pdf', 'June 8, 2019.pdf', 'March 7, 2019.pdf', 'May 21, 2019.pdf', 'May 28, 2020.pdf', 'November 1, 2018.pdf', 'November 15, 2018.pdf', 'November 20, 2018.pdf', 'November 25, 2019.pdf', 'November 6, 2018.pdf', 'October 1, 2019.pdf', 'October 18, 2019.pdf', 'October 2, 2019.pdf', 'October 3, 2019.pdf', 'October 31, 2019.pdf', 'October 6, 2019.pdf', 'September 11, 2018.pdf', 'September 13, 2018.pdf', 'September 16, 2018.pdf', 'September 17, 2018.pdf', 'September 18, 2018.pdf', 'September 2, 2018.pdf']\n"
     ]
    }
   ],
   "source": [
    "lt_names= ['PRESIDENT RODRIGO DUTERTE:', 'PRESIDENT DUTERTE:', 'PRESIDENT RODRIGO ROA DUTERTE:']\n",
    "\n",
    "lt_docx = []\n",
    "for key in pdf_txt_dict_trimmed.keys():\n",
    "    if any(name in pdf_txt_dict_trimmed[key] for name in lt):\n",
    "        lt_docx.append(key)     \n",
    "print(lt_docx)"
   ]
  },
  {
   "cell_type": "markdown",
   "metadata": {},
   "source": [
    ">So these are the PDFs that has dialogue other than Presiden Duterte. I have to convert these manually to docx file and store them to separate directory(you can just load the from duterte_docx file).\n",
    "\n",
    ">Now to extract Duterte's Dialogue from these docx."
   ]
  },
  {
   "cell_type": "code",
   "execution_count": null,
   "metadata": {},
   "outputs": [],
   "source": [
    "import docx\n",
    "\n",
    "transcript_docx = {}\n",
    "\n",
    "#traverse through different pdf\n",
    "for fl in lt_docx:\n",
    "    \n",
    "    doc = docx.Document(f'duterte_docx\\\\{fl[:-4]}.docx')\n",
    "    encountered = False\n",
    "    isDuterte = True\n",
    "    trans = []\n",
    "    \n",
    "    #tranverse through the context of transcript\n",
    "    for paragraph in doc.paragraphs:\n",
    "        if encountered:\n",
    "            for run in paragraph.runs:\n",
    "                # if the text is bold we ask if it is one of the lt_names\n",
    "                if run.bold:\n",
    "                    if any(nm in paragraph.text for nm in lt_names):\n",
    "                        isDuterte = True\n",
    "                    else:\n",
    "                        isDuterte = False\n",
    "            \n",
    "            #we'll only include President Duterte's dialogue in the list\n",
    "            if isDuterte:\n",
    "                if paragraph.text:\n",
    "                    trans.append(paragraph.text)\n",
    "\n",
    "\n",
    "        #if we encounter the pattern we'll start extracting\n",
    "        if re.search(regex, paragraph.text):\n",
    "            encountered = True\n",
    "            \n",
    "    \n",
    "    single_str = ' '.join(trans)\n",
    "    \n",
    "    for nm in lt_names:\n",
    "        single_str = single_str.replace(nm, ' ')\n",
    "        \n",
    "    transcript_docx[fl] = single_str "
   ]
  },
  {
   "cell_type": "markdown",
   "metadata": {},
   "source": [
    ">Now that we've extracted the dialogue of President Duterte from those docx. Let's delete May 21, 2019 and September 4, 2018 in both dictionaries because they are those that do not contain the pattern. In the dictionary they are either empty or contains dialogue from another person. We'll add the actual dialogue of President Duterte in this date later.\n",
    "\n",
    ">We'll merge the two dictionaries."
   ]
  },
  {
   "cell_type": "code",
   "execution_count": 5,
   "metadata": {},
   "outputs": [
    {
     "name": "stdout",
     "output_type": "stream",
     "text": [
      "['April 10, 2018.pdf', 'April 11, 2019.pdf', 'April 12, 2018.pdf', 'April 13, 2018.pdf', 'April 13, 2019.pdf', 'April 13, 2020.pdf', 'April 15, 2018.pdf', 'April 16, 2019.pdf', 'April 16, 2020.pdf', 'April 17, 2018.pdf']\n"
     ]
    }
   ],
   "source": [
    "del pdf_txt_dict_trimmed['May 21, 2019.pdf']\n",
    "del transcript_docx['May 21, 2019.pdf']\n",
    "del pdf_txt_dict_trimmed['September 4, 2018.pdf']\n",
    "transcript_from_pdf = pdf_txt_dict_trimmed\n",
    "transcript_from_pdf.update(pdf_txt_dict_trimmed)\n",
    "list(transcript_from_pdf.keys())[:10]"
   ]
  },
  {
   "cell_type": "markdown",
   "metadata": {},
   "source": [
    ">So these are the first 10 keys in our dictionary let's remove the extension .pdf and store it to a variable *all_transcript_from_pdf*."
   ]
  },
  {
   "cell_type": "code",
   "execution_count": 6,
   "metadata": {},
   "outputs": [
    {
     "name": "stdout",
     "output_type": "stream",
     "text": [
      "['April 10, 2018', 'April 11, 2019', 'April 12, 2018', 'April 13, 2018', 'April 13, 2019', 'April 13, 2020', 'April 15, 2018', 'April 16, 2019', 'April 16, 2020', 'April 17, 2018']\n"
     ]
    }
   ],
   "source": [
    "all_transcript_from_pdf = {}\n",
    "for key, val in zip(transcript_from_pdf.keys(), transcript_from_pdf.values()):\n",
    "    all_transcript_from_pdf[key[:-4]] = val"
   ]
  },
  {
   "cell_type": "markdown",
   "metadata": {},
   "source": [
    ">Now let's add the actualy content of May 21, 2019 and September 4, 2018."
   ]
  },
  {
   "cell_type": "code",
   "execution_count": null,
   "metadata": {},
   "outputs": [],
   "source": [
    "with open('duterte_pdf\\\\May 21, 2019.txt', 'r') as fl:\n",
    "    my_21_19 = fl.read()\n",
    "\n",
    "with open('duterte_pdf\\\\September 4, 2018.txt', 'r') as fl:\n",
    "    sp_04_18 = fl.read()\n",
    "\n",
    "all_transcript_from_pdf['May 21, 2019'] = my_21_19.replace('\\n', ' ')\n",
    "all_transcript_from_pdf['September 4, 2018'] = sp_04_18.replace('\\n', ' ')"
   ]
  },
  {
   "cell_type": "markdown",
   "metadata": {},
   "source": [
    ">Let's add the dictionary to our data frame/corpus"
   ]
  },
  {
   "cell_type": "code",
   "execution_count": null,
   "metadata": {},
   "outputs": [],
   "source": [
    "from_pdf_ser = pd.Series(all_transcript_from_pdf)\n",
    "df = pd.merge(df.reset_index(), from_pdf_ser.to_frame().T.reset_index(), how='outer').set_index('index')"
   ]
  },
  {
   "cell_type": "markdown",
   "metadata": {},
   "source": [
    ">So far we have one transcript that does not work which is the speech on April 25, 2018(the pdf url does not work), and we also have a datat that is not a transcript but the summary which is on June 22, 2019. So we'll remove this from our dataframe."
   ]
  },
  {
   "cell_type": "code",
   "execution_count": null,
   "metadata": {},
   "outputs": [],
   "source": [
    "df = df.drop(index=['June 22, 2019', 'April 25, 2018'])"
   ]
  },
  {
   "cell_type": "markdown",
   "metadata": {},
   "source": [
    ">Now let's save the the corpus to a file"
   ]
  },
  {
   "cell_type": "code",
   "execution_count": null,
   "metadata": {},
   "outputs": [],
   "source": [
    "df.to_csv('Duterte_Speech.csv')"
   ]
  }
 ],
 "metadata": {
  "kernelspec": {
   "display_name": "data_science_venv_2",
   "language": "python",
   "name": "data_science_venv_2"
  },
  "language_info": {
   "codemirror_mode": {
    "name": "ipython",
    "version": 3
   },
   "file_extension": ".py",
   "mimetype": "text/x-python",
   "name": "python",
   "nbconvert_exporter": "python",
   "pygments_lexer": "ipython3",
   "version": "3.7.7"
  }
 },
 "nbformat": 4,
 "nbformat_minor": 4
}
