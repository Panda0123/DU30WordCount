{
 "cells": [
  {
   "cell_type": "markdown",
   "metadata": {},
   "source": [
    ">As the quote goes garbage in garbage out so we'll do some cleaning to our data. In accordance to the purpose of this project which is to explore President Duterte's word cloud. I'll explore the data."
   ]
  },
  {
   "cell_type": "markdown",
   "metadata": {},
   "source": [
    ">Let's load the file"
   ]
  },
  {
   "cell_type": "code",
   "execution_count": 1,
   "metadata": {},
   "outputs": [],
   "source": [
    "import numpy as np\n",
    "import pandas as pd\n",
    "import pickle as pkl\n",
    "import os\n",
    "\n",
    "with open('Duterte_Dialogue.pkl', 'rb') as fl:\n",
    "    df = pkl.load(fl)"
   ]
  },
  {
   "cell_type": "markdown",
   "metadata": {},
   "source": [
    "# 1. Cleaning\n",
    "## 1.1 Dates Formatting\n",
    ">Since I'm gonna be grouping this speches by dates in later section for exploration I'm gonna check if all dates are formatted correctly."
   ]
  },
  {
   "cell_type": "code",
   "execution_count": 62,
   "metadata": {},
   "outputs": [],
   "source": [
    "grouped_date = df.groupby(df.date.map(lambda x: x[:-2] if x.find('_') != -1 else x))"
   ]
  },
  {
   "cell_type": "code",
   "execution_count": 63,
   "metadata": {},
   "outputs": [
    {
     "data": {
      "text/plain": [
       "{' , ': Int64Index([478, 501], dtype='int64'),\n",
       " 'April 02, 2017': Int64Index([573], dtype='int64'),\n",
       " 'April 02, 2018': Int64Index([704], dtype='int64'),\n",
       " 'April 03, 2017': Int64Index([572], dtype='int64'),\n",
       " 'April 03, 2018': Int64Index([703], dtype='int64'),\n",
       " 'April 04, 2017': Int64Index([570, 571], dtype='int64'),\n",
       " 'April 05, 2017': Int64Index([568, 569], dtype='int64'),\n",
       " 'April 05, 2018': Int64Index([701, 702], dtype='int64'),\n",
       " 'April 06, 2017': Int64Index([566, 567], dtype='int64'),\n",
       " 'April 09, 2017': Int64Index([565], dtype='int64'),\n",
       " 'April 09, 2018': Int64Index([700], dtype='int64'),\n",
       " 'April 1, 2020': Int64Index([14], dtype='int64'),\n",
       " 'April 10, 2017': Int64Index([564], dtype='int64'),\n",
       " 'April 10, 2018': Int64Index([308, 698, 699], dtype='int64'),\n",
       " 'April 11, 2019': Int64Index([138], dtype='int64'),\n",
       " 'April 12, 2017': Int64Index([562, 563], dtype='int64'),\n",
       " 'April 12, 2018': Int64Index([307], dtype='int64'),\n",
       " 'April 13, 2018': Int64Index([306], dtype='int64'),\n",
       " 'April 13, 2019': Int64Index([137], dtype='int64'),\n",
       " 'April 13, 2020': Int64Index([10], dtype='int64'),\n",
       " 'April 14, 2017': Int64Index([561], dtype='int64'),\n",
       " 'April 14, 2020': Int64Index([9], dtype='int64'),\n",
       " 'April 15, 2017': Int64Index([558, 559], dtype='int64'),\n",
       " 'April 15, 2018': Int64Index([305], dtype='int64'),\n",
       " 'April 16, 2019': Int64Index([136], dtype='int64'),\n",
       " 'April 16, 2020': Int64Index([8], dtype='int64'),\n",
       " 'April 17, 2017': Int64Index([557], dtype='int64'),\n",
       " 'April 17, 2018': Int64Index([304, 697], dtype='int64'),\n",
       " 'April 17, 2019': Int64Index([135], dtype='int64'),\n",
       " 'April 18, 2018': Int64Index([303], dtype='int64'),\n",
       " 'April 19, 2017': Int64Index([555, 556], dtype='int64'),\n",
       " 'April 19, 2018': Int64Index([302], dtype='int64'),\n",
       " 'April 2, 2018': Int64Index([312], dtype='int64'),\n",
       " 'April 2, 2019': Int64Index([142], dtype='int64'),\n",
       " 'April 21, 2018': Int64Index([301], dtype='int64'),\n",
       " 'April 21, 2019': Int64Index([134], dtype='int64'),\n",
       " 'April 23, 2017': Int64Index([554], dtype='int64'),\n",
       " 'April 23, 2019': Int64Index([133], dtype='int64'),\n",
       " 'April 24, 2020': Int64Index([7], dtype='int64'),\n",
       " 'April 25, 2019': Int64Index([132], dtype='int64'),\n",
       " 'April 26, 2018': Int64Index([299], dtype='int64'),\n",
       " 'April 26, 2019': Int64Index([131], dtype='int64'),\n",
       " 'April 27, 2020': Int64Index([6], dtype='int64'),\n",
       " 'April 28, 2017': Int64Index([550, 551, 552, 553], dtype='int64'),\n",
       " 'April 28, 2018': Int64Index([298, 696], dtype='int64'),\n",
       " 'April 28, 2019': Int64Index([130], dtype='int64'),\n",
       " 'April 29, 2017': Int64Index([544, 545, 546, 547, 548, 549], dtype='int64'),\n",
       " 'April 29, 2018': Int64Index([297], dtype='int64'),\n",
       " 'April 3, 2018': Int64Index([311], dtype='int64'),\n",
       " 'April 3, 2020': Int64Index([13], dtype='int64'),\n",
       " 'April 30, 2017': Int64Index([543], dtype='int64'),\n",
       " 'April 4, 2019': Int64Index([141], dtype='int64'),\n",
       " 'April 5, 2018': Int64Index([310], dtype='int64'),\n",
       " 'April 6, 2019': Int64Index([140], dtype='int64'),\n",
       " 'April 6, 2020': Int64Index([12], dtype='int64'),\n",
       " 'April 8, 2020': Int64Index([11], dtype='int64'),\n",
       " 'April 9, 2018': Int64Index([309], dtype='int64'),\n",
       " 'April 9, 2019': Int64Index([139], dtype='int64'),\n",
       " 'August 01, 2016': Int64Index([367, 368], dtype='int64'),\n",
       " 'August 02, 2016': Int64Index([366], dtype='int64'),\n",
       " 'August 03, 2016': Int64Index([365], dtype='int64'),\n",
       " 'August 04, 2016': Int64Index([364], dtype='int64'),\n",
       " 'August 05, 2016': Int64Index([363], dtype='int64'),\n",
       " 'August 07, 2016': Int64Index([362], dtype='int64'),\n",
       " 'August 08, 2016': Int64Index([360, 361], dtype='int64'),\n",
       " 'August 09, 2016': Int64Index([359], dtype='int64'),\n",
       " 'August 1, 2018': Int64Index([250], dtype='int64'),\n",
       " 'August 1, 2019': Int64Index([95], dtype='int64'),\n",
       " 'August 10, 2016': Int64Index([358], dtype='int64'),\n",
       " 'August 12, 2016': Int64Index([357], dtype='int64'),\n",
       " 'August 13, 2018': Int64Index([245], dtype='int64'),\n",
       " 'August 14, 2018': Int64Index([244], dtype='int64'),\n",
       " 'August 15, 2016': Int64Index([356], dtype='int64'),\n",
       " 'August 15, 2018': Int64Index([243], dtype='int64'),\n",
       " 'August 17, 2016': Int64Index([355], dtype='int64'),\n",
       " 'August 17, 2017': Int64Index([638], dtype='int64'),\n",
       " 'August 17, 2018': Int64Index([242], dtype='int64'),\n",
       " 'August 18, 2016': Int64Index([354], dtype='int64'),\n",
       " 'August 2, 2019': Int64Index([94], dtype='int64'),\n",
       " 'August 20, 2019': Int64Index([89], dtype='int64'),\n",
       " 'August 21, 2016': Int64Index([353], dtype='int64'),\n",
       " 'August 21, 2017': Int64Index([637], dtype='int64'),\n",
       " 'August 21, 2018': Int64Index([241], dtype='int64'),\n",
       " 'August 21, 2019': Int64Index([88], dtype='int64'),\n",
       " 'August 23, 2016': Int64Index([351, 352], dtype='int64'),\n",
       " 'August 23, 2018': Int64Index([240], dtype='int64'),\n",
       " 'August 24, 2016': Int64Index([349, 350], dtype='int64'),\n",
       " 'August 26, 2016': Int64Index([348], dtype='int64'),\n",
       " 'August 26, 2018': Int64Index([239], dtype='int64'),\n",
       " 'August 26, 2019': Int64Index([87], dtype='int64'),\n",
       " 'August 27, 2018': Int64Index([238], dtype='int64'),\n",
       " 'August 28, 2017': Int64Index([635, 636], dtype='int64'),\n",
       " 'August 28, 2019': Int64Index([86], dtype='int64'),\n",
       " 'August 29, 2016': Int64Index([341, 342, 344, 346, 347], dtype='int64'),\n",
       " 'August 29, 2017': Int64Index([634], dtype='int64'),\n",
       " 'August 30, 2018': Int64Index([237], dtype='int64'),\n",
       " 'August 30, 2019': Int64Index([85], dtype='int64'),\n",
       " 'August 31, 2016': Int64Index([338, 339, 340], dtype='int64'),\n",
       " 'August 4, 2018': Int64Index([249], dtype='int64'),\n",
       " 'August 5, 2019': Int64Index([93], dtype='int64'),\n",
       " 'August 6, 2018': Int64Index([248], dtype='int64'),\n",
       " 'August 6, 2019': Int64Index([92], dtype='int64'),\n",
       " 'August 7, 2017': Int64Index([639], dtype='int64'),\n",
       " 'August 7, 2018': Int64Index([247], dtype='int64'),\n",
       " 'August 8, 2018': Int64Index([246], dtype='int64'),\n",
       " 'August 8, 2019': Int64Index([91], dtype='int64'),\n",
       " 'August 9, 2019': Int64Index([90], dtype='int64'),\n",
       " 'December 01, 2016': Int64Index([480], dtype='int64'),\n",
       " 'December 02, 2016': Int64Index([479], dtype='int64'),\n",
       " 'December 05, 2016': Int64Index([477], dtype='int64'),\n",
       " 'December 07, 2016': Int64Index([474, 475, 476], dtype='int64'),\n",
       " 'December 08, 2016': Int64Index([473], dtype='int64'),\n",
       " 'December 09, 2016': Int64Index([472], dtype='int64'),\n",
       " 'December 10, 2018': Int64Index([187], dtype='int64'),\n",
       " 'December 10, 2019': Int64Index([53], dtype='int64'),\n",
       " 'December 11, 2016': Int64Index([470, 471], dtype='int64'),\n",
       " 'December 11, 2018': Int64Index([186], dtype='int64'),\n",
       " 'December 12, 2016': Int64Index([466, 467, 468, 469], dtype='int64'),\n",
       " 'December 13, 2016': Int64Index([465], dtype='int64'),\n",
       " 'December 13, 2018': Int64Index([185], dtype='int64'),\n",
       " 'December 15, 2016': Int64Index([464], dtype='int64'),\n",
       " 'December 15, 2018': Int64Index([184], dtype='int64'),\n",
       " 'December 16, 2016': Int64Index([463], dtype='int64'),\n",
       " 'December 17, 2016': Int64Index([462], dtype='int64'),\n",
       " 'December 17, 2019': Int64Index([52], dtype='int64'),\n",
       " 'December 18, 2018': Int64Index([183], dtype='int64'),\n",
       " 'December 18, 2019': Int64Index([51], dtype='int64'),\n",
       " 'December 19, 2016': Int64Index([458, 459, 460, 461], dtype='int64'),\n",
       " 'December 2, 2019': Int64Index([58], dtype='int64'),\n",
       " 'December 20, 2016': Int64Index([457], dtype='int64'),\n",
       " 'December 20, 2019': Int64Index([50], dtype='int64'),\n",
       " 'December 21, 2016': Int64Index([456], dtype='int64'),\n",
       " 'December 21, 2018': Int64Index([182], dtype='int64'),\n",
       " 'December 22, 2016': Int64Index([454, 455], dtype='int64'),\n",
       " 'December 22, 2018': Int64Index([181], dtype='int64'),\n",
       " 'December 23, 2019': Int64Index([49], dtype='int64'),\n",
       " 'December 26, 2018': Int64Index([180], dtype='int64'),\n",
       " 'December 27, 2016': Int64Index([450, 451, 452], dtype='int64'),\n",
       " 'December 29, 2018': Int64Index([179], dtype='int64'),\n",
       " 'December 3, 2018': Int64Index([191], dtype='int64'),\n",
       " 'December 3, 2019': Int64Index([57], dtype='int64'),\n",
       " 'December 30, 2019': Int64Index([48], dtype='int64'),\n",
       " 'December 4, 2019': Int64Index([56], dtype='int64'),\n",
       " 'December 5, 2018': Int64Index([190], dtype='int64'),\n",
       " 'December 5, 2019': Int64Index([55], dtype='int64'),\n",
       " 'December 6, 2018': Int64Index([189], dtype='int64'),\n",
       " 'December 7, 2018': Int64Index([188], dtype='int64'),\n",
       " 'December 9, 2019': Int64Index([54], dtype='int64'),\n",
       " 'February 01, 2018': Int64Index([682], dtype='int64'),\n",
       " 'February 02, 2017': Int64Index([516], dtype='int64'),\n",
       " 'February 03, 2017': Int64Index([515], dtype='int64'),\n",
       " 'February 06, 2017': Int64Index([513, 514], dtype='int64'),\n",
       " 'February 06, 2018': Int64Index([680, 681], dtype='int64'),\n",
       " 'February 07, 2017': Int64Index([512], dtype='int64'),\n",
       " 'February 07, 2018': Int64Index([679], dtype='int64'),\n",
       " 'February 08, 2017': Int64Index([510, 511], dtype='int64'),\n",
       " 'February 09, 2018': Int64Index([677, 678], dtype='int64'),\n",
       " 'February 10, 2017': Int64Index([509], dtype='int64'),\n",
       " 'February 10, 2020': Int64Index([31], dtype='int64'),\n",
       " 'February 11, 2019': Int64Index([167], dtype='int64'),\n",
       " 'February 11, 2020': Int64Index([30], dtype='int64'),\n",
       " 'February 12, 2017': Int64Index([508], dtype='int64'),\n",
       " 'February 12, 2018': Int64Index([675, 676], dtype='int64'),\n",
       " 'February 12, 2020': Int64Index([29], dtype='int64'),\n",
       " 'February 13, 2018': Int64Index([672, 673, 674], dtype='int64'),\n",
       " 'February 13, 2019': Int64Index([166], dtype='int64'),\n",
       " 'February 14, 2019': Int64Index([165], dtype='int64'),\n",
       " 'February 15, 2020': Int64Index([28], dtype='int64'),\n",
       " 'February 16, 2017': Int64Index([507], dtype='int64'),\n",
       " 'February 17, 2017': Int64Index([506], dtype='int64'),\n",
       " 'February 18, 2017': Int64Index([505], dtype='int64'),\n",
       " 'February 19, 2018': Int64Index([671], dtype='int64'),\n",
       " 'February 19, 2019': Int64Index([164], dtype='int64'),\n",
       " 'February 20, 2018': Int64Index([670], dtype='int64'),\n",
       " 'February 20, 2020': Int64Index([27], dtype='int64'),\n",
       " 'February 21, 2017': Int64Index([504], dtype='int64'),\n",
       " 'February 21, 2018': Int64Index([669], dtype='int64'),\n",
       " 'February 21, 2019': Int64Index([163], dtype='int64'),\n",
       " 'February 22, 2018': Int64Index([667, 668], dtype='int64'),\n",
       " 'February 22, 2019': Int64Index([162], dtype='int64'),\n",
       " 'February 23, 2017': Int64Index([503], dtype='int64'),\n",
       " 'February 23, 2019': Int64Index([161], dtype='int64'),\n",
       " 'February 24, 2017': Int64Index([502], dtype='int64'),\n",
       " 'February 24, 2019': Int64Index([160], dtype='int64'),\n",
       " 'February 25, 2019': Int64Index([159], dtype='int64'),\n",
       " 'February 25, 2020': Int64Index([26], dtype='int64'),\n",
       " 'February 26, 2018': Int64Index([666], dtype='int64'),\n",
       " 'February 26, 2019': Int64Index([158], dtype='int64'),\n",
       " 'February 26, 2020': Int64Index([25], dtype='int64'),\n",
       " 'February 27, 2017': Int64Index([499, 500], dtype='int64'),\n",
       " 'February 28, 2017': Int64Index([498], dtype='int64'),\n",
       " 'February 28, 2018': Int64Index([664, 665], dtype='int64'),\n",
       " 'February 28, 2019': Int64Index([157], dtype='int64'),\n",
       " 'February 3, 2020': Int64Index([33], dtype='int64'),\n",
       " 'February 6, 2020': Int64Index([32], dtype='int64'),\n",
       " 'February 7, 2019': Int64Index([169], dtype='int64'),\n",
       " 'February 8, 2019': Int64Index([168], dtype='int64'),\n",
       " 'January 09, 2017': Int64Index([497], dtype='int64'),\n",
       " 'January 10, 2019': Int64Index([175], dtype='int64'),\n",
       " 'January 10, 2020': Int64Index([43], dtype='int64'),\n",
       " 'January 11, 2017': Int64Index([496], dtype='int64'),\n",
       " 'January 12, 2017': Int64Index([494, 495], dtype='int64'),\n",
       " 'January 13, 2020': Int64Index([42], dtype='int64'),\n",
       " 'January 14, 2017': Int64Index([493], dtype='int64'),\n",
       " 'January 14, 2020': Int64Index([41], dtype='int64'),\n",
       " 'January 15, 2017': Int64Index([492], dtype='int64'),\n",
       " 'January 16, 2019': Int64Index([174], dtype='int64'),\n",
       " 'January 16, 2020': Int64Index([40], dtype='int64'),\n",
       " 'January 17, 2020': Int64Index([39], dtype='int64'),\n",
       " 'January 18, 2017': Int64Index([491], dtype='int64'),\n",
       " 'January 18, 2019': Int64Index([173], dtype='int64'),\n",
       " 'January 19, 2017': Int64Index([490], dtype='int64'),\n",
       " 'January 19, 2020': Int64Index([38], dtype='int64'),\n",
       " 'January 20, 2020': Int64Index([37], dtype='int64'),\n",
       " 'January 21, 2017': Int64Index([489], dtype='int64'),\n",
       " 'January 21, 2020': Int64Index([36], dtype='int64'),\n",
       " 'January 22, 2019': Int64Index([172], dtype='int64'),\n",
       " 'January 23, 2017': Int64Index([488], dtype='int64'),\n",
       " 'January 23, 2019': Int64Index([171], dtype='int64'),\n",
       " 'January 24, 2017': Int64Index([486, 487], dtype='int64'),\n",
       " 'January 24, 2020': Int64Index([35], dtype='int64'),\n",
       " 'January 25, 2017': Int64Index([485], dtype='int64'),\n",
       " 'January 26, 2017': Int64Index([484], dtype='int64'),\n",
       " 'January 27, 2017': Int64Index([483], dtype='int64'),\n",
       " 'January 29, 2019': Int64Index([170], dtype='int64'),\n",
       " 'January 29, 2020': Int64Index([34], dtype='int64'),\n",
       " 'January 3, 2019': Int64Index([178], dtype='int64'),\n",
       " 'January 31, 2017': Int64Index([481, 482], dtype='int64'),\n",
       " 'January 4, 2020': Int64Index([47], dtype='int64'),\n",
       " 'January 6, 2020': Int64Index([46], dtype='int64'),\n",
       " 'January 7, 2020': Int64Index([45], dtype='int64'),\n",
       " 'January 8, 2019': Int64Index([177], dtype='int64'),\n",
       " 'January 8, 2020': Int64Index([44], dtype='int64'),\n",
       " 'January 9, 2019': Int64Index([176], dtype='int64'),\n",
       " 'July 01, 2016': Int64Index([337], dtype='int64'),\n",
       " 'July 01, 2017': Int64Index([632, 633], dtype='int64'),\n",
       " 'July 03, 2017': Int64Index([631], dtype='int64'),\n",
       " 'July 04, 2017': Int64Index([629, 630], dtype='int64'),\n",
       " 'July 05, 2016': Int64Index([336], dtype='int64'),\n",
       " 'July 05, 2017': Int64Index([627, 628], dtype='int64'),\n",
       " 'July 06, 2017': Int64Index([625, 626], dtype='int64'),\n",
       " 'July 07, 2016': Int64Index([335], dtype='int64'),\n",
       " 'July 07, 2017': Int64Index([624], dtype='int64'),\n",
       " 'July 08, 2016': Int64Index([334], dtype='int64'),\n",
       " 'July 10, 2018': Int64Index([258], dtype='int64'),\n",
       " 'July 11, 2019': Int64Index([104], dtype='int64'),\n",
       " 'July 12, 2019': Int64Index([103], dtype='int64'),\n",
       " 'July 16, 2016': Int64Index([333], dtype='int64'),\n",
       " 'July 16, 2019': Int64Index([102], dtype='int64'),\n",
       " 'July 17, 2016': Int64Index([332], dtype='int64'),\n",
       " 'July 17, 2018': Int64Index([257], dtype='int64'),\n",
       " 'July 18, 2016': Int64Index([331], dtype='int64'),\n",
       " 'July 2, 2018': Int64Index([262], dtype='int64'),\n",
       " 'July 2, 2019': Int64Index([108], dtype='int64'),\n",
       " 'July 20, 2017': Int64Index([623], dtype='int64'),\n",
       " 'July 21, 2016': Int64Index([328, 329], dtype='int64'),\n",
       " 'July 22, 2016': Int64Index([326, 327], dtype='int64'),\n",
       " 'July 22, 2019': Int64Index([101], dtype='int64'),\n",
       " 'July 23, 2016': Int64Index([325], dtype='int64'),\n",
       " 'July 23, 2018': Int64Index([256], dtype='int64'),\n",
       " 'July 24, 2017': Int64Index([622], dtype='int64'),\n",
       " 'July 24, 2019': Int64Index([100], dtype='int64'),\n",
       " 'July 25, 2016': Int64Index([324], dtype='int64'),\n",
       " 'July 25, 2017': Int64Index([621], dtype='int64'),\n",
       " 'July 25, 2018': Int64Index([255], dtype='int64'),\n",
       " 'July 25, 2019': Int64Index([99], dtype='int64'),\n",
       " 'July 26, 2016': Int64Index([323], dtype='int64'),\n",
       " 'July 26, 2018': Int64Index([254], dtype='int64'),\n",
       " 'July 26, 2019': Int64Index([98], dtype='int64'),\n",
       " 'July 27, 2016': Int64Index([322], dtype='int64'),\n",
       " 'July 27, 2018': Int64Index([253], dtype='int64'),\n",
       " 'July 28, 2016': Int64Index([320, 321], dtype='int64'),\n",
       " 'July 28, 2019': Int64Index([97], dtype='int64'),\n",
       " 'July 29, 2016': Int64Index([318, 319], dtype='int64'),\n",
       " 'July 30, 2018': Int64Index([252], dtype='int64'),\n",
       " 'July 30, 2019': Int64Index([96], dtype='int64'),\n",
       " 'July 31, 2016': Int64Index([317], dtype='int64'),\n",
       " 'July 31, 2018': Int64Index([251], dtype='int64'),\n",
       " 'July 4, 2018': Int64Index([261], dtype='int64'),\n",
       " 'July 5, 2019': Int64Index([107], dtype='int64'),\n",
       " 'July 6, 2018': Int64Index([260], dtype='int64'),\n",
       " 'July 7, 2018': Int64Index([259], dtype='int64'),\n",
       " 'July 8, 2019': Int64Index([106], dtype='int64'),\n",
       " 'July 9, 2019': Int64Index([105], dtype='int64'),\n",
       " 'June 01, 2017': Int64Index([620], dtype='int64'),\n",
       " 'June 02, 2017': Int64Index([619], dtype='int64'),\n",
       " 'June 04, 2017': Int64Index([617, 618], dtype='int64'),\n",
       " 'June 06, 2017': Int64Index([616], dtype='int64'),\n",
       " 'June 07, 2017': Int64Index([615], dtype='int64'),\n",
       " 'June 09, 2017': Int64Index([613, 614], dtype='int64'),\n",
       " 'June 11, 2017': Int64Index([611, 612], dtype='int64'),\n",
       " 'June 12, 2018': Int64Index([274], dtype='int64'),\n",
       " 'June 12, 2019': Int64Index([118], dtype='int64'),\n",
       " 'June 13, 2018': Int64Index([273], dtype='int64'),\n",
       " 'June 13, 2019': Int64Index([117], dtype='int64'),\n",
       " 'June 14, 2018': Int64Index([272], dtype='int64'),\n",
       " 'June 16, 2018': Int64Index([271], dtype='int64'),\n",
       " 'June 17, 2017': Int64Index([608, 609, 610], dtype='int64'),\n",
       " 'June 17, 2019': Int64Index([116], dtype='int64'),\n",
       " 'June 18, 2018': Int64Index([270], dtype='int64'),\n",
       " 'June 19, 2018': Int64Index([269], dtype='int64'),\n",
       " 'June 19, 2019': Int64Index([115], dtype='int64'),\n",
       " 'June 2, 2018': Int64Index([279], dtype='int64'),\n",
       " 'June 20, 2017': Int64Index([605, 606, 607], dtype='int64'),\n",
       " 'June 20, 2018': Int64Index([268], dtype='int64'),\n",
       " 'June 21, 2019': Int64Index([114], dtype='int64'),\n",
       " 'June 22, 2018': Int64Index([267], dtype='int64'),\n",
       " 'June 22, 2019': Int64Index([113], dtype='int64'),\n",
       " 'June 23, 2019': Int64Index([112], dtype='int64'),\n",
       " 'June 24, 2019': Int64Index([111], dtype='int64'),\n",
       " 'June 25, 2018': Int64Index([266], dtype='int64'),\n",
       " 'June 25, 2019': Int64Index([110], dtype='int64'),\n",
       " 'June 26, 2018': Int64Index([265], dtype='int64'),\n",
       " 'June 26, 2019': Int64Index([109], dtype='int64'),\n",
       " 'June 27, 2017': Int64Index([604], dtype='int64'),\n",
       " 'June 28, 2017': Int64Index([600, 601, 602, 603], dtype='int64'),\n",
       " 'June 28, 2018': Int64Index([264], dtype='int64'),\n",
       " 'June 29, 2017': Int64Index([598, 599], dtype='int64'),\n",
       " 'June 29, 2018': Int64Index([263], dtype='int64'),\n",
       " 'June 3, 2018': Int64Index([278], dtype='int64'),\n",
       " 'June 30, 2016': Int64Index([316], dtype='int64'),\n",
       " 'June 4, 2018': Int64Index([277], dtype='int64'),\n",
       " 'June 5, 2018': Int64Index([276], dtype='int64'),\n",
       " 'June 6, 2019': Int64Index([120], dtype='int64'),\n",
       " 'June 7, 2018': Int64Index([275], dtype='int64'),\n",
       " 'June 8, 2019': Int64Index([119], dtype='int64'),\n",
       " 'March 01, 2018': Int64Index([695], dtype='int64'),\n",
       " 'March 02, 2017': Int64Index([541, 542], dtype='int64'),\n",
       " 'March 03, 2017': Int64Index([540], dtype='int64'),\n",
       " 'March 06, 2018': Int64Index([694], dtype='int64'),\n",
       " 'March 07, 2018': Int64Index([691, 692, 693], dtype='int64'),\n",
       " 'March 08, 2017': Int64Index([539], dtype='int64'),\n",
       " 'March 09, 2017': Int64Index([537, 538], dtype='int64'),\n",
       " 'March 10, 2020': Int64Index([21], dtype='int64'),\n",
       " 'March 11, 2017': Int64Index([535, 536], dtype='int64'),\n",
       " 'March 11, 2018': Int64Index([689, 690], dtype='int64'),\n",
       " 'March 11, 2019': Int64Index([151], dtype='int64'),\n",
       " 'March 11, 2020': Int64Index([20], dtype='int64'),\n",
       " 'March 12, 2017': Int64Index([533, 534], dtype='int64'),\n",
       " 'March 12, 2020': Int64Index([19], dtype='int64'),\n",
       " 'March 13, 2017': Int64Index([532], dtype='int64'),\n",
       " 'March 13, 2019': Int64Index([150], dtype='int64'),\n",
       " 'March 14, 2017': Int64Index([531], dtype='int64'),\n",
       " 'March 14, 2018': Int64Index([688], dtype='int64'),\n",
       " 'March 14, 2019': Int64Index([149], dtype='int64'),\n",
       " 'March 16, 2020': Int64Index([18], dtype='int64'),\n",
       " 'March 18, 2018': Int64Index([687], dtype='int64'),\n",
       " 'March 19, 2017': Int64Index([528, 529, 530], dtype='int64'),\n",
       " 'March 19, 2020': Int64Index([17], dtype='int64'),\n",
       " 'March 20, 2017': Int64Index([527], dtype='int64'),\n",
       " 'March 20, 2018': Int64Index([685, 686], dtype='int64'),\n",
       " 'March 20, 2019': Int64Index([148], dtype='int64'),\n",
       " 'March 21, 2018': Int64Index([683, 684], dtype='int64'),\n",
       " 'March 21, 2019': Int64Index([147], dtype='int64'),\n",
       " 'March 22, 2017': Int64Index([526], dtype='int64'),\n",
       " 'March 22, 2019': Int64Index([146], dtype='int64'),\n",
       " 'March 23, 2017': Int64Index([524, 525], dtype='int64'),\n",
       " 'March 23, 2018': Int64Index([314], dtype='int64'),\n",
       " 'March 23, 2019': Int64Index([145], dtype='int64'),\n",
       " 'March 24, 2020': Int64Index([16], dtype='int64'),\n",
       " 'March 25, 2017': Int64Index([520, 521], dtype='int64'),\n",
       " 'March 26, 2018': Int64Index([313], dtype='int64'),\n",
       " 'March 26, 2019': Int64Index([144], dtype='int64'),\n",
       " 'March 29, 2017': Int64Index([519], dtype='int64'),\n",
       " 'March 29, 2019': Int64Index([143], dtype='int64'),\n",
       " 'March 3, 2019': Int64Index([156], dtype='int64'),\n",
       " 'March 3, 2020': Int64Index([24], dtype='int64'),\n",
       " 'March 30, 2017': Int64Index([517, 518], dtype='int64'),\n",
       " 'March 31, 2020': Int64Index([15], dtype='int64'),\n",
       " 'March 5, 2019': Int64Index([155], dtype='int64'),\n",
       " 'March 5, 2020': Int64Index([23], dtype='int64'),\n",
       " 'March 6, 2019': Int64Index([154], dtype='int64'),\n",
       " 'March 7, 2019': Int64Index([153], dtype='int64'),\n",
       " 'March 8, 2019': Int64Index([152], dtype='int64'),\n",
       " 'March 9, 2020': Int64Index([22], dtype='int64'),\n",
       " 'May 01, 2017': Int64Index([596, 597], dtype='int64'),\n",
       " 'May 01, 2018': Int64Index([717], dtype='int64'),\n",
       " 'May 02, 2018': Int64Index([716], dtype='int64'),\n",
       " 'May 04, 2018': Int64Index([715], dtype='int64'),\n",
       " 'May 05, 2017': Int64Index([595], dtype='int64'),\n",
       " 'May 05, 2018': Int64Index([714], dtype='int64'),\n",
       " 'May 08, 2018': Int64Index([713], dtype='int64'),\n",
       " 'May 09, 2017': Int64Index([593, 594], dtype='int64'),\n",
       " 'May 09, 2018': Int64Index([712], dtype='int64'),\n",
       " 'May 1, 2018': Int64Index([296], dtype='int64'),\n",
       " 'May 10, 2017': Int64Index([592], dtype='int64'),\n",
       " 'May 11, 2017': Int64Index([591], dtype='int64'),\n",
       " 'May 11, 2018': Int64Index([290], dtype='int64'),\n",
       " 'May 11, 2019': Int64Index([128], dtype='int64'),\n",
       " 'May 12, 2020': Int64Index([4], dtype='int64'),\n",
       " 'May 13, 2017': Int64Index([589, 590], dtype='int64'),\n",
       " 'May 15, 2017': Int64Index([587, 588], dtype='int64'),\n",
       " 'May 15, 2018': Int64Index([289], dtype='int64'),\n",
       " 'May 16, 2017': Int64Index([586], dtype='int64'),\n",
       " 'May 16, 2018': Int64Index([288, 708, 709, 710, 711], dtype='int64'),\n",
       " 'May 18, 2017': Int64Index([585], dtype='int64'),\n",
       " 'May 19, 2017': Int64Index([580, 581, 582, 583, 584], dtype='int64'),\n",
       " 'May 19, 2018': Int64Index([287, 705, 706, 707], dtype='int64'),\n",
       " 'May 19, 2020': Int64Index([3], dtype='int64'),\n",
       " 'May 2, 2018': Int64Index([295], dtype='int64'),\n",
       " 'May 20, 2018': Int64Index([286], dtype='int64'),\n",
       " 'May 21, 2019': Int64Index([127], dtype='int64'),\n",
       " 'May 22, 2017': Int64Index([579], dtype='int64'),\n",
       " 'May 22, 2018': Int64Index([285], dtype='int64'),\n",
       " 'May 22, 2020': Int64Index([2], dtype='int64'),\n",
       " 'May 23, 2017': Int64Index([578], dtype='int64'),\n",
       " 'May 24, 2017': Int64Index([577], dtype='int64'),\n",
       " 'May 24, 2018': Int64Index([284], dtype='int64'),\n",
       " 'May 24, 2019': Int64Index([126], dtype='int64'),\n",
       " 'May 25, 2020': Int64Index([1], dtype='int64'),\n",
       " 'May 26, 2017': Int64Index([576], dtype='int64'),\n",
       " 'May 26, 2019': Int64Index([125], dtype='int64'),\n",
       " 'May 26, 2020': Int64Index([0], dtype='int64'),\n",
       " 'May 27, 2017': Int64Index([575], dtype='int64'),\n",
       " 'May 27, 2019': Int64Index([124], dtype='int64'),\n",
       " 'May 28, 2018': Int64Index([283], dtype='int64'),\n",
       " 'May 28, 2020': Int64Index([315], dtype='int64'),\n",
       " 'May 29, 2018': Int64Index([282], dtype='int64'),\n",
       " 'May 29, 2019': Int64Index([123], dtype='int64'),\n",
       " 'May 30, 2018': Int64Index([281], dtype='int64'),\n",
       " 'May 30, 2019': Int64Index([122], dtype='int64'),\n",
       " 'May 31, 2017': Int64Index([574], dtype='int64'),\n",
       " 'May 31, 2018': Int64Index([280], dtype='int64'),\n",
       " 'May 31, 2019': Int64Index([121], dtype='int64'),\n",
       " 'May 4, 2018': Int64Index([294], dtype='int64'),\n",
       " 'May 4, 2020': Int64Index([5], dtype='int64'),\n",
       " 'May 5, 2018': Int64Index([293], dtype='int64'),\n",
       " 'May 8, 2018': Int64Index([292], dtype='int64'),\n",
       " 'May 8, 2019': Int64Index([129], dtype='int64'),\n",
       " 'May 9, 2018': Int64Index([291], dtype='int64'),\n",
       " 'November 02, 2016': Int64Index([449], dtype='int64'),\n",
       " 'November 03, 2016': Int64Index([448], dtype='int64'),\n",
       " 'November 04, 2016': Int64Index([447], dtype='int64'),\n",
       " 'November 07, 2016': Int64Index([445, 446], dtype='int64'),\n",
       " 'November 07, 2017': Int64Index([662, 663], dtype='int64'),\n",
       " 'November 08, 2016': Int64Index([444], dtype='int64'),\n",
       " 'November 08, 2017': Int64Index([661], dtype='int64'),\n",
       " 'November 09, 2016': Int64Index([442, 443], dtype='int64'),\n",
       " 'November 09, 2017': Int64Index([660], dtype='int64'),\n",
       " 'November 1, 2018': Int64Index([206], dtype='int64'),\n",
       " 'November 10, 2018': Int64Index([201], dtype='int64'),\n",
       " 'November 11, 2016': Int64Index([440, 441], dtype='int64'),\n",
       " 'November 13, 2017': Int64Index([658, 659], dtype='int64'),\n",
       " 'November 13, 2018': Int64Index([200], dtype='int64'),\n",
       " 'November 14, 2016': Int64Index([439], dtype='int64'),\n",
       " 'November 14, 2017': Int64Index([657], dtype='int64'),\n",
       " 'November 14, 2018': Int64Index([199], dtype='int64'),\n",
       " 'November 15, 2018': Int64Index([198], dtype='int64'),\n",
       " 'November 16, 2018': Int64Index([197], dtype='int64'),\n",
       " 'November 17, 2016': Int64Index([438], dtype='int64'),\n",
       " 'November 19, 2016': Int64Index([436, 437], dtype='int64'),\n",
       " 'November 19, 2019': Int64Index([65], dtype='int64'),\n",
       " 'November 20, 2018': Int64Index([196], dtype='int64'),\n",
       " 'November 20, 2019': Int64Index([64], dtype='int64'),\n",
       " 'November 21, 2017': Int64Index([654, 655, 656], dtype='int64'),\n",
       " 'November 21, 2019': Int64Index([63], dtype='int64'),\n",
       " 'November 22, 2018': Int64Index([195], dtype='int64'),\n",
       " 'November 22, 2019': Int64Index([62], dtype='int64'),\n",
       " 'November 23, 2016': Int64Index([435], dtype='int64'),\n",
       " 'November 23, 2017': Int64Index([653], dtype='int64'),\n",
       " 'November 25, 2019': Int64Index([61], dtype='int64'),\n",
       " 'November 26, 2016': Int64Index([434], dtype='int64'),\n",
       " 'November 26, 2018': Int64Index([194], dtype='int64'),\n",
       " 'November 27, 2018': Int64Index([193], dtype='int64'),\n",
       " 'November 28, 2016': Int64Index([433], dtype='int64'),\n",
       " 'November 28, 2018': Int64Index([192], dtype='int64'),\n",
       " 'November 28, 2019': Int64Index([60], dtype='int64'),\n",
       " 'November 30, 2016': Int64Index([432], dtype='int64'),\n",
       " 'November 30, 2019': Int64Index([59], dtype='int64'),\n",
       " 'November 5, 2018': Int64Index([205], dtype='int64'),\n",
       " 'November 6, 2018': Int64Index([204], dtype='int64'),\n",
       " 'November 7, 2018': Int64Index([203], dtype='int64'),\n",
       " 'November 8, 2018': Int64Index([202], dtype='int64'),\n",
       " 'October 04, 2016': Int64Index([428, 429, 430], dtype='int64'),\n",
       " 'October 06, 2016': Int64Index([427], dtype='int64'),\n",
       " 'October 07, 2016': Int64Index([425, 426], dtype='int64'),\n",
       " 'October 1, 2019': Int64Index([75], dtype='int64'),\n",
       " 'October 10, 2016': Int64Index([424], dtype='int64'),\n",
       " 'October 11, 2016': Int64Index([423], dtype='int64'),\n",
       " 'October 11, 2018': Int64Index([216], dtype='int64'),\n",
       " 'October 12, 2016': Int64Index([422], dtype='int64'),\n",
       " 'October 14, 2016': Int64Index([421], dtype='int64'),\n",
       " 'October 14, 2018': Int64Index([215], dtype='int64'),\n",
       " 'October 15, 2018': Int64Index([214], dtype='int64'),\n",
       " 'October 16, 2016': Int64Index([419, 420], dtype='int64'),\n",
       " 'October 16, 2019': Int64Index([70], dtype='int64'),\n",
       " 'October 17, 2016': Int64Index([418], dtype='int64'),\n",
       " 'October 17, 2019': Int64Index([69], dtype='int64'),\n",
       " 'October 18, 2018': Int64Index([213], dtype='int64'),\n",
       " 'October 18, 2019': Int64Index([68], dtype='int64'),\n",
       " 'October 19, 2016': Int64Index([416, 417], dtype='int64'),\n",
       " 'October 19, 2018': Int64Index([212], dtype='int64'),\n",
       " 'October 2 , 2016': Int64Index([431], dtype='int64'),\n",
       " 'October 2, 2018': Int64Index([219], dtype='int64'),\n",
       " 'October 2, 2019': Int64Index([74], dtype='int64'),\n",
       " 'October 20, 2016': Int64Index([415], dtype='int64'),\n",
       " 'October 23, 2016': Int64Index([411, 412], dtype='int64'),\n",
       " 'October 24, 2016': Int64Index([410], dtype='int64'),\n",
       " 'October 24, 2018': Int64Index([211], dtype='int64'),\n",
       " 'October 25, 2016': Int64Index([408, 409], dtype='int64'),\n",
       " 'October 25, 2018': Int64Index([210], dtype='int64'),\n",
       " 'October 26, 2016': Int64Index([405, 406, 407], dtype='int64'),\n",
       " 'October 27, 2018': Int64Index([209], dtype='int64'),\n",
       " 'October 28, 2018': Int64Index([208], dtype='int64'),\n",
       " 'October 28, 2019': Int64Index([67], dtype='int64'),\n",
       " 'October 29, 2016': Int64Index([404], dtype='int64'),\n",
       " 'October 3, 2019': Int64Index([73], dtype='int64'),\n",
       " 'October 31, 2017': Int64Index([651, 652], dtype='int64'),\n",
       " 'October 31, 2018': Int64Index([207], dtype='int64'),\n",
       " 'October 31, 2019': Int64Index([66], dtype='int64'),\n",
       " 'October 4, 2018': Int64Index([218], dtype='int64'),\n",
       " 'October 5, 2019': Int64Index([72], dtype='int64'),\n",
       " 'October 6, 2019': Int64Index([71], dtype='int64'),\n",
       " 'October 9, 2018': Int64Index([217], dtype='int64'),\n",
       " 'September 01, 2017': Int64Index([650], dtype='int64'),\n",
       " 'September 02, 2016': Int64Index([403], dtype='int64'),\n",
       " 'September 03, 2017': Int64Index([649], dtype='int64'),\n",
       " 'September 05, 2016': Int64Index([401, 402], dtype='int64'),\n",
       " 'September 05, 2017': Int64Index([648], dtype='int64'),\n",
       " 'September 06, 2016': Int64Index([399, 400], dtype='int64'),\n",
       " 'September 06, 2017': Int64Index([646, 647], dtype='int64'),\n",
       " 'September 08, 2016': Int64Index([398], dtype='int64'),\n",
       " 'September 08, 2017': Int64Index([645], dtype='int64'),\n",
       " 'September 09, 2016': Int64Index([394, 395, 396, 397], dtype='int64'),\n",
       " 'September 09, 2017': Int64Index([643, 644], dtype='int64'),\n",
       " 'September 10, 2016': Int64Index([392, 393], dtype='int64'),\n",
       " 'September 10, 2019': Int64Index([81], dtype='int64'),\n",
       " 'September 11, 2018': Int64Index([231], dtype='int64'),\n",
       " 'September 12, 2016': Int64Index([390, 391], dtype='int64'),\n",
       " 'September 12, 2018': Int64Index([230], dtype='int64'),\n",
       " 'September 12, 2019': Int64Index([80], dtype='int64'),\n",
       " 'September 13, 2016': Int64Index([388, 389], dtype='int64'),\n",
       " 'September 13, 2018': Int64Index([229], dtype='int64'),\n",
       " 'September 15, 2016': Int64Index([387], dtype='int64'),\n",
       " 'September 16, 2018': Int64Index([228], dtype='int64'),\n",
       " 'September 17, 2016': Int64Index([386], dtype='int64'),\n",
       " 'September 17, 2018': Int64Index([227], dtype='int64'),\n",
       " 'September 17, 2019': Int64Index([79], dtype='int64'),\n",
       " 'September 18, 2016': Int64Index([385], dtype='int64'),\n",
       " 'September 18, 2018': Int64Index([226], dtype='int64'),\n",
       " 'September 19, 2016': Int64Index([384], dtype='int64'),\n",
       " 'September 19, 2018': Int64Index([225], dtype='int64'),\n",
       " 'September 19, 2019': Int64Index([78], dtype='int64'),\n",
       " 'September 2, 2018': Int64Index([236], dtype='int64'),\n",
       " 'September 20, 2016': Int64Index([382, 383], dtype='int64'),\n",
       " 'September 20, 2018': Int64Index([224], dtype='int64'),\n",
       " 'September 21, 2016': Int64Index([381], dtype='int64'),\n",
       " 'September 22, 2016': Int64Index([379, 380], dtype='int64'),\n",
       " 'September 22, 2017': Int64Index([641], dtype='int64'),\n",
       " 'September 22, 2018': Int64Index([223], dtype='int64'),\n",
       " 'September 23, 2016': Int64Index([378], dtype='int64'),\n",
       " 'September 24, 2019': Int64Index([77], dtype='int64'),\n",
       " 'September 25, 2019': Int64Index([76], dtype='int64'),\n",
       " 'September 26, 2016': Int64Index([376, 377], dtype='int64'),\n",
       " 'September 26, 2018': Int64Index([222], dtype='int64'),\n",
       " 'September 27, 2016': Int64Index([374, 375], dtype='int64'),\n",
       " 'September 27, 2018': Int64Index([221], dtype='int64'),\n",
       " 'September 28, 2016': Int64Index([371, 372, 373], dtype='int64'),\n",
       " 'September 28, 2017': Int64Index([640], dtype='int64'),\n",
       " 'September 29, 2018': Int64Index([220], dtype='int64'),\n",
       " 'September 3, 2018': Int64Index([235], dtype='int64'),\n",
       " 'September 30, 2016': Int64Index([369, 370], dtype='int64'),\n",
       " 'September 4, 2018': Int64Index([234], dtype='int64'),\n",
       " 'September 6, 2018': Int64Index([233], dtype='int64'),\n",
       " 'September 6, 2019': Int64Index([84], dtype='int64'),\n",
       " 'September 7, 2019': Int64Index([83], dtype='int64'),\n",
       " 'September 8, 2018': Int64Index([232], dtype='int64'),\n",
       " 'September 9, 2019': Int64Index([82], dtype='int64'),\n",
       " 'ly 19, Ju, 2016': Int64Index([330], dtype='int64')}"
      ]
     },
     "execution_count": 63,
     "metadata": {},
     "output_type": "execute_result"
    }
   ],
   "source": [
    "grouped_date.groups"
   ]
  },
  {
   "cell_type": "markdown",
   "metadata": {},
   "source": [
    ">So there are data points who has missing dates specifically the group ' , ' and 'ly 19, Ju 2016'(as seen in the list above)"
   ]
  },
  {
   "cell_type": "code",
   "execution_count": 64,
   "metadata": {},
   "outputs": [
    {
     "data": {
      "text/html": [
       "<div>\n",
       "<style scoped>\n",
       "    .dataframe tbody tr th:only-of-type {\n",
       "        vertical-align: middle;\n",
       "    }\n",
       "\n",
       "    .dataframe tbody tr th {\n",
       "        vertical-align: top;\n",
       "    }\n",
       "\n",
       "    .dataframe thead th {\n",
       "        text-align: right;\n",
       "    }\n",
       "</style>\n",
       "<table border=\"1\" class=\"dataframe\">\n",
       "  <thead>\n",
       "    <tr style=\"text-align: right;\">\n",
       "      <th></th>\n",
       "      <th>date</th>\n",
       "      <th>title</th>\n",
       "      <th>url</th>\n",
       "      <th>event</th>\n",
       "      <th>location</th>\n",
       "      <th>transcript</th>\n",
       "    </tr>\n",
       "  </thead>\n",
       "  <tbody>\n",
       "    <tr>\n",
       "      <th>478</th>\n",
       "      <td>,</td>\n",
       "      <td>Phone conversation between President Duterte a...</td>\n",
       "      <td>http://pcoo.gov.ph//dec-02-2016-phone-conversa...</td>\n",
       "      <td>NaN</td>\n",
       "      <td>02 December 2016</td>\n",
       "      <td>PRESIDENT DUTERTE: The President-elect Trump w...</td>\n",
       "    </tr>\n",
       "    <tr>\n",
       "      <th>501</th>\n",
       "      <td>, _2</td>\n",
       "      <td>Speech of Executive Secretary Salvador C. Medi...</td>\n",
       "      <td>http://pcoo.gov.ph//february-24-2017-speech-of...</td>\n",
       "      <td>NaN</td>\n",
       "      <td>24 February 2017</td>\n",
       "      <td></td>\n",
       "    </tr>\n",
       "  </tbody>\n",
       "</table>\n",
       "</div>"
      ],
      "text/plain": [
       "      date                                              title  \\\n",
       "478     ,   Phone conversation between President Duterte a...   \n",
       "501   , _2  Speech of Executive Secretary Salvador C. Medi...   \n",
       "\n",
       "                                                   url event  \\\n",
       "478  http://pcoo.gov.ph//dec-02-2016-phone-conversa...   NaN   \n",
       "501  http://pcoo.gov.ph//february-24-2017-speech-of...   NaN   \n",
       "\n",
       "             location                                         transcript  \n",
       "478  02 December 2016  PRESIDENT DUTERTE: The President-elect Trump w...  \n",
       "501  24 February 2017                                                     "
      ]
     },
     "execution_count": 64,
     "metadata": {},
     "output_type": "execute_result"
    }
   ],
   "source": [
    "grouped_date.get_group(' , ')"
   ]
  },
  {
   "cell_type": "markdown",
   "metadata": {},
   "source": [
    ">Aside from the fact that the dates are stored in location feature, the record 501 has no transcript. I visited the url and it has no content so I'm gonna have to remove it from the list."
   ]
  },
  {
   "cell_type": "code",
   "execution_count": 70,
   "metadata": {},
   "outputs": [],
   "source": [
    "df.loc[478, 'date'] = 'December 02, 2016_2'\n",
    "df.loc[478, 'location'] = np.nan\n",
    "df.drop(index=501, inplace=True)"
   ]
  },
  {
   "cell_type": "markdown",
   "metadata": {},
   "source": [
    ">There already exis a speech in 'December 02, 2016' so I had to add a suffix.\n",
    "\n",
    ">Now let's try to correct the record who has 'ly 19, Ju, 2016' as a date."
   ]
  },
  {
   "cell_type": "code",
   "execution_count": 95,
   "metadata": {},
   "outputs": [
    {
     "data": {
      "text/html": [
       "<div>\n",
       "<style scoped>\n",
       "    .dataframe tbody tr th:only-of-type {\n",
       "        vertical-align: middle;\n",
       "    }\n",
       "\n",
       "    .dataframe tbody tr th {\n",
       "        vertical-align: top;\n",
       "    }\n",
       "\n",
       "    .dataframe thead th {\n",
       "        text-align: right;\n",
       "    }\n",
       "</style>\n",
       "<table border=\"1\" class=\"dataframe\">\n",
       "  <thead>\n",
       "    <tr style=\"text-align: right;\">\n",
       "      <th></th>\n",
       "      <th>date</th>\n",
       "      <th>title</th>\n",
       "      <th>url</th>\n",
       "      <th>event</th>\n",
       "      <th>location</th>\n",
       "      <th>transcript</th>\n",
       "    </tr>\n",
       "  </thead>\n",
       "  <tbody>\n",
       "    <tr>\n",
       "      <th>330</th>\n",
       "      <td>ly 19, Ju, 2016</td>\n",
       "      <td>President Rodrigo Duterte’s Statement on Forei...</td>\n",
       "      <td>http://pcoo.gov.ph//july-19-2016-president-rod...</td>\n",
       "      <td>NaN</td>\n",
       "      <td>President Duterte: Good afternoon.</td>\n",
       "      <td>I would like the Philippines to know that I pe...</td>\n",
       "    </tr>\n",
       "  </tbody>\n",
       "</table>\n",
       "</div>"
      ],
      "text/plain": [
       "                date                                              title  \\\n",
       "330  ly 19, Ju, 2016  President Rodrigo Duterte’s Statement on Forei...   \n",
       "\n",
       "                                                   url event  \\\n",
       "330  http://pcoo.gov.ph//july-19-2016-president-rod...   NaN   \n",
       "\n",
       "                               location  \\\n",
       "330  President Duterte: Good afternoon.   \n",
       "\n",
       "                                            transcript  \n",
       "330  I would like the Philippines to know that I pe...  "
      ]
     },
     "execution_count": 95,
     "metadata": {},
     "output_type": "execute_result"
    }
   ],
   "source": [
    "grouped_date = df.groupby(df.date.map(lambda x: x[:-2] if x.find('_') != -1 else x))\n",
    "grouped_date.get_group('ly 19, Ju, 2016')"
   ]
  },
  {
   "cell_type": "markdown",
   "metadata": {},
   "source": [
    ">The date is not formatted properly and the location looks like part of his speech. I visited the link and the correct location is in Malacanan Palace, so I'm gonna correct this and concatenate the current content of the location to transcript"
   ]
  },
  {
   "cell_type": "code",
   "execution_count": 111,
   "metadata": {},
   "outputs": [],
   "source": [
    "before = grouped_date.get_group('ly 19, Ju, 2016' ).location.values[0] \n",
    "missing = ' I would like to arrest if you…You know what is going around that Secretary Yasay of the Department of Foreign Affairs is on his way out. I would to assure the Secretary that he is in good company and there is no truth to the rumor that there is a plan for his ouster, far from it actually. '\n",
    "after = grouped_date.get_group('ly 19, Ju, 2016' ).transcript.values[0]\n",
    "trans = before + missing + after\n",
    "\n",
    "df.loc[330, 'transcript'] = trans\n",
    "df.loc[330, 'date'] = 'July 19, 2016'\n",
    "df.loc[330, 'location'] = np.nan"
   ]
  },
  {
   "cell_type": "code",
   "execution_count": 116,
   "metadata": {},
   "outputs": [
    {
     "data": {
      "text/plain": [
       "date                                              July 19, 2016\n",
       "title         President Rodrigo Duterte’s Statement on Forei...\n",
       "url           http://pcoo.gov.ph//july-19-2016-president-rod...\n",
       "event                                                       NaN\n",
       "location                                                    NaN\n",
       "transcript    President Duterte: Good afternoon. I would lik...\n",
       "Name: 330, dtype: object"
      ]
     },
     "execution_count": 116,
     "metadata": {},
     "output_type": "execute_result"
    }
   ],
   "source": [
    "df.loc[330]"
   ]
  },
  {
   "cell_type": "code",
   "execution_count": 118,
   "metadata": {},
   "outputs": [
    {
     "data": {
      "text/plain": [
       "['May 26, 2020',\n",
       " 'May 25, 2020',\n",
       " 'May 22, 2020',\n",
       " 'May 19, 2020',\n",
       " 'May 12, 2020',\n",
       " 'May 4, 2020',\n",
       " 'April 27, 2020',\n",
       " 'April 24, 2020',\n",
       " 'April 16, 2020',\n",
       " 'April 14, 2020',\n",
       " 'April 13, 2020',\n",
       " 'April 8, 2020',\n",
       " 'April 6, 2020',\n",
       " 'April 3, 2020',\n",
       " 'April 1, 2020',\n",
       " 'March 31, 2020',\n",
       " 'March 24, 2020',\n",
       " 'March 19, 2020',\n",
       " 'March 16, 2020',\n",
       " 'March 12, 2020',\n",
       " 'March 11, 2020',\n",
       " 'March 10, 2020',\n",
       " 'March 9, 2020',\n",
       " 'March 5, 2020',\n",
       " 'March 3, 2020',\n",
       " 'February 26, 2020',\n",
       " 'February 25, 2020',\n",
       " 'February 20, 2020',\n",
       " 'February 15, 2020',\n",
       " 'February 12, 2020',\n",
       " 'February 11, 2020',\n",
       " 'February 10, 2020',\n",
       " 'February 6, 2020',\n",
       " 'February 3, 2020',\n",
       " 'January 29, 2020',\n",
       " 'January 24, 2020',\n",
       " 'January 21, 2020',\n",
       " 'January 20, 2020',\n",
       " 'January 19, 2020',\n",
       " 'January 17, 2020',\n",
       " 'January 16, 2020',\n",
       " 'January 14, 2020',\n",
       " 'January 13, 2020',\n",
       " 'January 10, 2020',\n",
       " 'January 8, 2020',\n",
       " 'January 7, 2020',\n",
       " 'January 6, 2020',\n",
       " 'January 4, 2020',\n",
       " 'December 30, 2019',\n",
       " 'December 23, 2019',\n",
       " 'December 20, 2019',\n",
       " 'December 18, 2019',\n",
       " 'December 17, 2019',\n",
       " 'December 10, 2019',\n",
       " 'December 9, 2019',\n",
       " 'December 5, 2019',\n",
       " 'December 4, 2019',\n",
       " 'December 3, 2019',\n",
       " 'December 2, 2019',\n",
       " 'November 30, 2019',\n",
       " 'November 28, 2019',\n",
       " 'November 25, 2019',\n",
       " 'November 22, 2019',\n",
       " 'November 21, 2019',\n",
       " 'November 20, 2019',\n",
       " 'November 19, 2019',\n",
       " 'October 31, 2019',\n",
       " 'October 28, 2019',\n",
       " 'October 18, 2019',\n",
       " 'October 17, 2019',\n",
       " 'October 16, 2019',\n",
       " 'October 6, 2019',\n",
       " 'October 5, 2019',\n",
       " 'October 3, 2019',\n",
       " 'October 2, 2019',\n",
       " 'October 1, 2019',\n",
       " 'September 25, 2019',\n",
       " 'September 24, 2019',\n",
       " 'September 19, 2019',\n",
       " 'September 17, 2019',\n",
       " 'September 12, 2019',\n",
       " 'September 10, 2019',\n",
       " 'September 9, 2019',\n",
       " 'September 7, 2019',\n",
       " 'September 6, 2019',\n",
       " 'August 30, 2019',\n",
       " 'August 28, 2019',\n",
       " 'August 26, 2019',\n",
       " 'August 21, 2019',\n",
       " 'August 20, 2019',\n",
       " 'August 9, 2019',\n",
       " 'August 8, 2019',\n",
       " 'August 6, 2019',\n",
       " 'August 5, 2019',\n",
       " 'August 2, 2019',\n",
       " 'August 1, 2019',\n",
       " 'July 30, 2019',\n",
       " 'July 28, 2019',\n",
       " 'July 26, 2019',\n",
       " 'July 25, 2019',\n",
       " 'July 24, 2019',\n",
       " 'July 22, 2019',\n",
       " 'July 16, 2019',\n",
       " 'July 12, 2019',\n",
       " 'July 11, 2019',\n",
       " 'July 9, 2019',\n",
       " 'July 8, 2019',\n",
       " 'July 5, 2019',\n",
       " 'July 2, 2019',\n",
       " 'June 26, 2019',\n",
       " 'June 25, 2019',\n",
       " 'June 24, 2019',\n",
       " 'June 23, 2019',\n",
       " 'June 22, 2019',\n",
       " 'June 21, 2019',\n",
       " 'June 19, 2019',\n",
       " 'June 17, 2019',\n",
       " 'June 13, 2019',\n",
       " 'June 12, 2019',\n",
       " 'June 8, 2019',\n",
       " 'June 6, 2019',\n",
       " 'May 31, 2019',\n",
       " 'May 30, 2019',\n",
       " 'May 29, 2019',\n",
       " 'May 27, 2019',\n",
       " 'May 26, 2019',\n",
       " 'May 24, 2019',\n",
       " 'May 21, 2019',\n",
       " 'May 11, 2019',\n",
       " 'May 8, 2019',\n",
       " 'April 28, 2019',\n",
       " 'April 26, 2019',\n",
       " 'April 25, 2019',\n",
       " 'April 23, 2019',\n",
       " 'April 21, 2019',\n",
       " 'April 17, 2019',\n",
       " 'April 16, 2019',\n",
       " 'April 13, 2019',\n",
       " 'April 11, 2019',\n",
       " 'April 9, 2019',\n",
       " 'April 6, 2019',\n",
       " 'April 4, 2019',\n",
       " 'April 2, 2019',\n",
       " 'March 29, 2019',\n",
       " 'March 26, 2019',\n",
       " 'March 23, 2019',\n",
       " 'March 22, 2019',\n",
       " 'March 21, 2019',\n",
       " 'March 20, 2019',\n",
       " 'March 14, 2019',\n",
       " 'March 13, 2019',\n",
       " 'March 11, 2019',\n",
       " 'March 8, 2019',\n",
       " 'March 7, 2019',\n",
       " 'March 6, 2019',\n",
       " 'March 5, 2019',\n",
       " 'March 3, 2019',\n",
       " 'February 28, 2019',\n",
       " 'February 26, 2019',\n",
       " 'February 25, 2019',\n",
       " 'February 24, 2019',\n",
       " 'February 23, 2019',\n",
       " 'February 22, 2019',\n",
       " 'February 21, 2019',\n",
       " 'February 19, 2019',\n",
       " 'February 14, 2019',\n",
       " 'February 13, 2019',\n",
       " 'February 11, 2019',\n",
       " 'February 8, 2019',\n",
       " 'February 7, 2019',\n",
       " 'January 29, 2019',\n",
       " 'January 23, 2019',\n",
       " 'January 22, 2019',\n",
       " 'January 18, 2019',\n",
       " 'January 16, 2019',\n",
       " 'January 10, 2019',\n",
       " 'January 9, 2019',\n",
       " 'January 8, 2019',\n",
       " 'January 3, 2019',\n",
       " 'December 29, 2018',\n",
       " 'December 26, 2018',\n",
       " 'December 22, 2018',\n",
       " 'December 21, 2018',\n",
       " 'December 18, 2018',\n",
       " 'December 15, 2018',\n",
       " 'December 13, 2018',\n",
       " 'December 11, 2018',\n",
       " 'December 10, 2018',\n",
       " 'December 7, 2018',\n",
       " 'December 6, 2018',\n",
       " 'December 5, 2018',\n",
       " 'December 3, 2018',\n",
       " 'November 28, 2018',\n",
       " 'November 27, 2018',\n",
       " 'November 26, 2018',\n",
       " 'November 22, 2018',\n",
       " 'November 20, 2018',\n",
       " 'November 16, 2018',\n",
       " 'November 15, 2018',\n",
       " 'November 14, 2018',\n",
       " 'November 13, 2018',\n",
       " 'November 10, 2018',\n",
       " 'November 8, 2018',\n",
       " 'November 7, 2018',\n",
       " 'November 6, 2018',\n",
       " 'November 5, 2018',\n",
       " 'November 1, 2018',\n",
       " 'October 31, 2018',\n",
       " 'October 28, 2018',\n",
       " 'October 27, 2018',\n",
       " 'October 25, 2018',\n",
       " 'October 24, 2018',\n",
       " 'October 19, 2018',\n",
       " 'October 18, 2018',\n",
       " 'October 15, 2018',\n",
       " 'October 14, 2018',\n",
       " 'October 11, 2018',\n",
       " 'October 9, 2018',\n",
       " 'October 4, 2018',\n",
       " 'October 2, 2018',\n",
       " 'September 29, 2018',\n",
       " 'September 27, 2018',\n",
       " 'September 26, 2018',\n",
       " 'September 22, 2018',\n",
       " 'September 20, 2018',\n",
       " 'September 19, 2018',\n",
       " 'September 18, 2018',\n",
       " 'September 17, 2018',\n",
       " 'September 16, 2018',\n",
       " 'September 13, 2018',\n",
       " 'September 12, 2018',\n",
       " 'September 11, 2018',\n",
       " 'September 8, 2018',\n",
       " 'September 6, 2018',\n",
       " 'September 4, 2018',\n",
       " 'September 3, 2018',\n",
       " 'September 2, 2018',\n",
       " 'August 30, 2018',\n",
       " 'August 27, 2018',\n",
       " 'August 26, 2018',\n",
       " 'August 23, 2018',\n",
       " 'August 21, 2018',\n",
       " 'August 17, 2018',\n",
       " 'August 15, 2018',\n",
       " 'August 14, 2018',\n",
       " 'August 13, 2018',\n",
       " 'August 8, 2018',\n",
       " 'August 7, 2018',\n",
       " 'August 6, 2018',\n",
       " 'August 4, 2018',\n",
       " 'August 1, 2018',\n",
       " 'July 31, 2018',\n",
       " 'July 30, 2018',\n",
       " 'July 27, 2018',\n",
       " 'July 26, 2018',\n",
       " 'July 25, 2018',\n",
       " 'July 23, 2018',\n",
       " 'July 17, 2018',\n",
       " 'July 10, 2018',\n",
       " 'July 7, 2018',\n",
       " 'July 6, 2018',\n",
       " 'July 4, 2018',\n",
       " 'July 2, 2018',\n",
       " 'June 29, 2018',\n",
       " 'June 28, 2018',\n",
       " 'June 26, 2018',\n",
       " 'June 25, 2018',\n",
       " 'June 22, 2018',\n",
       " 'June 20, 2018',\n",
       " 'June 19, 2018',\n",
       " 'June 18, 2018',\n",
       " 'June 16, 2018',\n",
       " 'June 14, 2018',\n",
       " 'June 13, 2018',\n",
       " 'June 12, 2018',\n",
       " 'June 7, 2018',\n",
       " 'June 5, 2018',\n",
       " 'June 4, 2018',\n",
       " 'June 3, 2018',\n",
       " 'June 2, 2018',\n",
       " 'May 31, 2018',\n",
       " 'May 30, 2018',\n",
       " 'May 29, 2018',\n",
       " 'May 28, 2018',\n",
       " 'May 24, 2018',\n",
       " 'May 22, 2018',\n",
       " 'May 20, 2018',\n",
       " 'May 19, 2018_4',\n",
       " 'May 16, 2018_5',\n",
       " 'May 15, 2018',\n",
       " 'May 11, 2018',\n",
       " 'May 9, 2018',\n",
       " 'May 8, 2018',\n",
       " 'May 5, 2018',\n",
       " 'May 4, 2018',\n",
       " 'May 2, 2018',\n",
       " 'May 1, 2018',\n",
       " 'April 29, 2018',\n",
       " 'April 28, 2018_2',\n",
       " 'April 26, 2018',\n",
       " 'April 21, 2018',\n",
       " 'April 19, 2018',\n",
       " 'April 18, 2018',\n",
       " 'April 17, 2018_2',\n",
       " 'April 15, 2018',\n",
       " 'April 13, 2018',\n",
       " 'April 12, 2018',\n",
       " 'April 10, 2018_3',\n",
       " 'April 9, 2018',\n",
       " 'April 5, 2018',\n",
       " 'April 3, 2018',\n",
       " 'April 2, 2018',\n",
       " 'March 26, 2018',\n",
       " 'March 23, 2018',\n",
       " 'May 28, 2020',\n",
       " 'June 30, 2016',\n",
       " 'July 31, 2016',\n",
       " 'July 29, 2016',\n",
       " 'July 29, 2016_2',\n",
       " 'July 28, 2016',\n",
       " 'July 28, 2016_2',\n",
       " 'July 27, 2016',\n",
       " 'July 26, 2016',\n",
       " 'July 25, 2016',\n",
       " 'July 23, 2016',\n",
       " 'July 22, 2016',\n",
       " 'July 22, 2016_2',\n",
       " 'July 21, 2016',\n",
       " 'July 21, 2016_2',\n",
       " 'July 19, 2016',\n",
       " 'July 18, 2016',\n",
       " 'July 17, 2016',\n",
       " 'July 16, 2016',\n",
       " 'July 08, 2016',\n",
       " 'July 07, 2016',\n",
       " 'July 05, 2016',\n",
       " 'July 01, 2016',\n",
       " 'August 31, 2016',\n",
       " 'August 31, 2016_2',\n",
       " 'August 31, 2016_3',\n",
       " 'August 29, 2016',\n",
       " 'August 29, 2016_2',\n",
       " 'August 29, 2016_4',\n",
       " 'August 29, 2016_6',\n",
       " 'August 29, 2016_7',\n",
       " 'August 26, 2016',\n",
       " 'August 24, 2016',\n",
       " 'August 24, 2016_2',\n",
       " 'August 23, 2016',\n",
       " 'August 23, 2016_2',\n",
       " 'August 21, 2016',\n",
       " 'August 18, 2016',\n",
       " 'August 17, 2016',\n",
       " 'August 15, 2016',\n",
       " 'August 12, 2016',\n",
       " 'August 10, 2016',\n",
       " 'August 09, 2016',\n",
       " 'August 08, 2016',\n",
       " 'August 08, 2016_2',\n",
       " 'August 07, 2016',\n",
       " 'August 05, 2016',\n",
       " 'August 04, 2016',\n",
       " 'August 03, 2016',\n",
       " 'August 02, 2016',\n",
       " 'August 01, 2016',\n",
       " 'August 01, 2016_2',\n",
       " 'September 30, 2016',\n",
       " 'September 30, 2016_2',\n",
       " 'September 28, 2016',\n",
       " 'September 28, 2016_2',\n",
       " 'September 28, 2016_3',\n",
       " 'September 27, 2016',\n",
       " 'September 27, 2016_2',\n",
       " 'September 26, 2016',\n",
       " 'September 26, 2016_2',\n",
       " 'September 23, 2016',\n",
       " 'September 22, 2016',\n",
       " 'September 22, 2016_2',\n",
       " 'September 21, 2016',\n",
       " 'September 20, 2016',\n",
       " 'September 20, 2016_2',\n",
       " 'September 19, 2016',\n",
       " 'September 18, 2016',\n",
       " 'September 17, 2016',\n",
       " 'September 15, 2016',\n",
       " 'September 13, 2016',\n",
       " 'September 13, 2016_2',\n",
       " 'September 12, 2016',\n",
       " 'September 12, 2016_2',\n",
       " 'September 10, 2016',\n",
       " 'September 10, 2016_2',\n",
       " 'September 09, 2016',\n",
       " 'September 09, 2016_2',\n",
       " 'September 09, 2016_3',\n",
       " 'September 09, 2016_4',\n",
       " 'September 08, 2016',\n",
       " 'September 06, 2016',\n",
       " 'September 06, 2016_2',\n",
       " 'September 05, 2016',\n",
       " 'September 05, 2016_2',\n",
       " 'September 02, 2016',\n",
       " 'October 29, 2016',\n",
       " 'October 26, 2016',\n",
       " 'October 26, 2016_2',\n",
       " 'October 26, 2016_3',\n",
       " 'October 25, 2016',\n",
       " 'October 25, 2016_2',\n",
       " 'October 24, 2016',\n",
       " 'October 23, 2016',\n",
       " 'October 23, 2016_2',\n",
       " 'October 20, 2016',\n",
       " 'October 19, 2016',\n",
       " 'October 19, 2016_2',\n",
       " 'October 17, 2016',\n",
       " 'October 16, 2016',\n",
       " 'October 16, 2016_2',\n",
       " 'October 14, 2016',\n",
       " 'October 12, 2016',\n",
       " 'October 11, 2016',\n",
       " 'October 10, 2016',\n",
       " 'October 07, 2016',\n",
       " 'October 07, 2016_2',\n",
       " 'October 06, 2016',\n",
       " 'October 04, 2016',\n",
       " 'October 04, 2016_2',\n",
       " 'October 04, 2016_3',\n",
       " 'October 2 , 2016',\n",
       " 'November 30, 2016',\n",
       " 'November 28, 2016',\n",
       " 'November 26, 2016',\n",
       " 'November 23, 2016',\n",
       " 'November 19, 2016',\n",
       " 'November 19, 2016_2',\n",
       " 'November 17, 2016',\n",
       " 'November 14, 2016',\n",
       " 'November 11, 2016',\n",
       " 'November 11, 2016_2',\n",
       " 'November 09, 2016',\n",
       " 'November 09, 2016_2',\n",
       " 'November 08, 2016',\n",
       " 'November 07, 2016',\n",
       " 'November 07, 2016_2',\n",
       " 'November 04, 2016',\n",
       " 'November 03, 2016',\n",
       " 'November 02, 2016',\n",
       " 'December 27, 2016',\n",
       " 'December 27, 2016_2',\n",
       " 'December 27, 2016_3',\n",
       " 'December 22, 2016',\n",
       " 'December 22, 2016_2',\n",
       " 'December 21, 2016',\n",
       " 'December 20, 2016',\n",
       " 'December 19, 2016',\n",
       " 'December 19, 2016_2',\n",
       " 'December 19, 2016_3',\n",
       " 'December 19, 2016_4',\n",
       " 'December 17, 2016',\n",
       " 'December 16, 2016',\n",
       " 'December 15, 2016',\n",
       " 'December 13, 2016',\n",
       " 'December 12, 2016',\n",
       " 'December 12, 2016_2',\n",
       " 'December 12, 2016_3',\n",
       " 'December 12, 2016_4',\n",
       " 'December 11, 2016',\n",
       " 'December 11, 2016_2',\n",
       " 'December 09, 2016',\n",
       " 'December 08, 2016',\n",
       " 'December 07, 2016',\n",
       " 'December 07, 2016_2',\n",
       " 'December 07, 2016_3',\n",
       " 'December 05, 2016',\n",
       " 'December 02, 2016_2',\n",
       " 'December 02, 2016',\n",
       " 'December 01, 2016',\n",
       " 'January 31, 2017',\n",
       " 'January 31, 2017_2',\n",
       " 'January 27, 2017',\n",
       " 'January 26, 2017',\n",
       " 'January 25, 2017',\n",
       " 'January 24, 2017',\n",
       " 'January 24, 2017_2',\n",
       " 'January 23, 2017',\n",
       " 'January 21, 2017',\n",
       " 'January 19, 2017',\n",
       " 'January 18, 2017',\n",
       " 'January 15, 2017',\n",
       " 'January 14, 2017',\n",
       " 'January 12, 2017',\n",
       " 'January 12, 2017_2',\n",
       " 'January 11, 2017',\n",
       " 'January 09, 2017',\n",
       " 'February 28, 2017',\n",
       " 'February 27, 2017',\n",
       " 'February 27, 2017_2',\n",
       " 'February 24, 2017',\n",
       " 'February 23, 2017',\n",
       " 'February 21, 2017',\n",
       " 'February 18, 2017',\n",
       " 'February 17, 2017',\n",
       " 'February 16, 2017',\n",
       " 'February 12, 2017',\n",
       " 'February 10, 2017',\n",
       " 'February 08, 2017',\n",
       " 'February 08, 2017_2',\n",
       " 'February 07, 2017',\n",
       " 'February 06, 2017',\n",
       " 'February 06, 2017_2',\n",
       " 'February 03, 2017',\n",
       " 'February 02, 2017',\n",
       " 'March 30, 2017',\n",
       " 'March 30, 2017_2',\n",
       " 'March 29, 2017',\n",
       " 'March 25, 2017',\n",
       " 'March 25, 2017_2',\n",
       " 'March 23, 2017',\n",
       " 'March 23, 2017_2',\n",
       " 'March 22, 2017',\n",
       " 'March 20, 2017',\n",
       " 'March 19, 2017',\n",
       " 'March 19, 2017_2',\n",
       " 'March 19, 2017_3',\n",
       " 'March 14, 2017',\n",
       " 'March 13, 2017',\n",
       " 'March 12, 2017',\n",
       " 'March 12, 2017_2',\n",
       " 'March 11, 2017',\n",
       " 'March 11, 2017_2',\n",
       " 'March 09, 2017',\n",
       " 'March 09, 2017_2',\n",
       " 'March 08, 2017',\n",
       " 'March 03, 2017',\n",
       " 'March 02, 2017',\n",
       " 'March 02, 2017_2',\n",
       " 'April 30, 2017',\n",
       " 'April 29, 2017',\n",
       " 'April 29, 2017_2',\n",
       " 'April 29, 2017_3',\n",
       " 'April 29, 2017_4',\n",
       " 'April 29, 2017_5',\n",
       " 'April 29, 2017_6',\n",
       " 'April 28, 2017',\n",
       " 'April 28, 2017_2',\n",
       " 'April 28, 2017_3',\n",
       " 'April 28, 2017_4',\n",
       " 'April 23, 2017',\n",
       " 'April 19, 2017',\n",
       " 'April 19, 2017_2',\n",
       " 'April 17, 2017',\n",
       " 'April 15, 2017',\n",
       " 'April 15, 2017_2',\n",
       " 'April 14, 2017',\n",
       " 'April 12, 2017',\n",
       " 'April 12, 2017_2',\n",
       " 'April 10, 2017',\n",
       " 'April 09, 2017',\n",
       " 'April 06, 2017',\n",
       " 'April 06, 2017_2',\n",
       " 'April 05, 2017',\n",
       " 'April 05, 2017_2',\n",
       " 'April 04, 2017',\n",
       " 'April 04, 2017_2',\n",
       " 'April 03, 2017',\n",
       " 'April 02, 2017',\n",
       " 'May 31, 2017',\n",
       " 'May 27, 2017',\n",
       " 'May 26, 2017',\n",
       " 'May 24, 2017',\n",
       " 'May 23, 2017',\n",
       " 'May 22, 2017',\n",
       " 'May 19, 2017',\n",
       " 'May 19, 2017_2',\n",
       " 'May 19, 2017_3',\n",
       " 'May 19, 2017_4',\n",
       " 'May 19, 2017_5',\n",
       " 'May 18, 2017',\n",
       " 'May 16, 2017',\n",
       " 'May 15, 2017',\n",
       " 'May 15, 2017_2',\n",
       " 'May 13, 2017',\n",
       " 'May 13, 2017_2',\n",
       " 'May 11, 2017',\n",
       " 'May 10, 2017',\n",
       " 'May 09, 2017',\n",
       " 'May 09, 2017_2',\n",
       " 'May 05, 2017',\n",
       " 'May 01, 2017',\n",
       " 'May 01, 2017_2',\n",
       " 'June 29, 2017',\n",
       " 'June 29, 2017_2',\n",
       " 'June 28, 2017',\n",
       " 'June 28, 2017_2',\n",
       " 'June 28, 2017_3',\n",
       " 'June 28, 2017_4',\n",
       " 'June 27, 2017',\n",
       " 'June 20, 2017',\n",
       " 'June 20, 2017_2',\n",
       " 'June 20, 2017_3',\n",
       " 'June 17, 2017',\n",
       " 'June 17, 2017_2',\n",
       " 'June 17, 2017_3',\n",
       " 'June 11, 2017',\n",
       " 'June 11, 2017_2',\n",
       " 'June 09, 2017',\n",
       " 'June 09, 2017_2',\n",
       " 'June 07, 2017',\n",
       " 'June 06, 2017',\n",
       " 'June 04, 2017',\n",
       " 'June 04, 2017_2',\n",
       " 'June 02, 2017',\n",
       " 'June 01, 2017',\n",
       " 'July 25, 2017',\n",
       " 'July 24, 2017',\n",
       " 'July 20, 2017',\n",
       " 'July 07, 2017',\n",
       " 'July 06, 2017',\n",
       " 'July 06, 2017_2',\n",
       " 'July 05, 2017',\n",
       " 'July 05, 2017_2',\n",
       " 'July 04, 2017',\n",
       " 'July 04, 2017_2',\n",
       " 'July 03, 2017',\n",
       " 'July 01, 2017',\n",
       " 'July 01, 2017_2',\n",
       " 'August 29, 2017',\n",
       " 'August 28, 2017',\n",
       " 'August 28, 2017_2',\n",
       " 'August 21, 2017',\n",
       " 'August 17, 2017',\n",
       " 'August 7, 2017',\n",
       " 'September 28, 2017',\n",
       " 'September 22, 2017',\n",
       " 'September 09, 2017',\n",
       " 'September 09, 2017_2',\n",
       " 'September 08, 2017',\n",
       " 'September 06, 2017',\n",
       " 'September 06, 2017_2',\n",
       " 'September 05, 2017',\n",
       " 'September 03, 2017',\n",
       " 'September 01, 2017',\n",
       " 'October 31, 2017',\n",
       " 'October 31, 2017_2',\n",
       " 'November 23, 2017',\n",
       " 'November 21, 2017',\n",
       " 'November 21, 2017_2',\n",
       " 'November 21, 2017_3',\n",
       " 'November 14, 2017',\n",
       " 'November 13, 2017',\n",
       " 'November 13, 2017_2',\n",
       " 'November 09, 2017',\n",
       " 'November 08, 2017',\n",
       " 'November 07, 2017',\n",
       " 'November 07, 2017_2',\n",
       " 'February 28, 2018',\n",
       " 'February 28, 2018_2',\n",
       " 'February 26, 2018',\n",
       " 'February 22, 2018',\n",
       " 'February 22, 2018_2',\n",
       " 'February 21, 2018',\n",
       " 'February 20, 2018',\n",
       " 'February 19, 2018',\n",
       " 'February 13, 2018',\n",
       " 'February 13, 2018_2',\n",
       " 'February 13, 2018_3',\n",
       " 'February 12, 2018',\n",
       " 'February 12, 2018_2',\n",
       " 'February 09, 2018',\n",
       " 'February 09, 2018_2',\n",
       " 'February 07, 2018',\n",
       " 'February 06, 2018',\n",
       " 'February 06, 2018_2',\n",
       " 'February 01, 2018',\n",
       " 'March 21, 2018',\n",
       " 'March 21, 2018_2',\n",
       " 'March 20, 2018',\n",
       " 'March 20, 2018_2',\n",
       " 'March 18, 2018',\n",
       " 'March 14, 2018',\n",
       " 'March 11, 2018',\n",
       " 'March 11, 2018_2',\n",
       " 'March 07, 2018',\n",
       " 'March 07, 2018_2',\n",
       " 'March 07, 2018_3',\n",
       " 'March 06, 2018',\n",
       " 'March 01, 2018',\n",
       " 'April 28, 2018',\n",
       " 'April 17, 2018',\n",
       " 'April 10, 2018',\n",
       " 'April 10, 2018_2',\n",
       " 'April 09, 2018',\n",
       " 'April 05, 2018',\n",
       " 'April 05, 2018_2',\n",
       " 'April 03, 2018',\n",
       " 'April 02, 2018',\n",
       " 'May 19, 2018',\n",
       " 'May 19, 2018_2',\n",
       " 'May 19, 2018_3',\n",
       " 'May 16, 2018',\n",
       " 'May 16, 2018_2',\n",
       " 'May 16, 2018_3',\n",
       " 'May 16, 2018_4',\n",
       " 'May 09, 2018',\n",
       " 'May 08, 2018',\n",
       " 'May 05, 2018',\n",
       " 'May 04, 2018',\n",
       " 'May 02, 2018',\n",
       " 'May 01, 2018']"
      ]
     },
     "execution_count": 118,
     "metadata": {},
     "output_type": "execute_result"
    }
   ],
   "source": [
    "df.date.tolist()"
   ]
  },
  {
   "cell_type": "markdown",
   "metadata": {},
   "source": [
    ">Now that we fixed the dates. Let's explore each the speeche having the same date as they could be the same but just trimmed differently"
   ]
  },
  {
   "cell_type": "code",
   "execution_count": 127,
   "metadata": {},
   "outputs": [
    {
     "data": {
      "text/plain": [
       "101"
      ]
     },
     "execution_count": 127,
     "metadata": {},
     "output_type": "execute_result"
    }
   ],
   "source": [
    "grouped_dates = df.groupby(df.date.map(lambda x: x[:-2] if x.find('_') != -1 else x))\n",
    "multiple_speeches = []\n",
    "\n",
    "for group in grouped_dates.groups:\n",
    "    if grouped_dates.get_group(group).shape[0] > 1:\n",
    "        multiple_speeches.append(group)\n",
    "len(multiple_speeches)"
   ]
  },
  {
   "cell_type": "markdown",
   "metadata": {},
   "source": [
    ">There are total of 101 dates that has multiple speeches. I'm gonna manually explore them and see if there are difference."
   ]
  },
  {
   "cell_type": "code",
   "execution_count": 143,
   "metadata": {},
   "outputs": [
    {
     "data": {
      "text/html": [
       "<div>\n",
       "<style scoped>\n",
       "    .dataframe tbody tr th:only-of-type {\n",
       "        vertical-align: middle;\n",
       "    }\n",
       "\n",
       "    .dataframe tbody tr th {\n",
       "        vertical-align: top;\n",
       "    }\n",
       "\n",
       "    .dataframe thead th {\n",
       "        text-align: right;\n",
       "    }\n",
       "</style>\n",
       "<table border=\"1\" class=\"dataframe\">\n",
       "  <thead>\n",
       "    <tr style=\"text-align: right;\">\n",
       "      <th></th>\n",
       "      <th>date</th>\n",
       "      <th>title</th>\n",
       "      <th>url</th>\n",
       "      <th>event</th>\n",
       "      <th>location</th>\n",
       "      <th>transcript</th>\n",
       "    </tr>\n",
       "  </thead>\n",
       "  <tbody>\n",
       "    <tr>\n",
       "      <th>550</th>\n",
       "      <td>April 28, 2017</td>\n",
       "      <td>Toast of President Rodrigo Roa Duterte Republi...</td>\n",
       "      <td>http://pcoo.gov.ph//toast-of-president-rodrigo...</td>\n",
       "      <td>NaN</td>\n",
       "      <td>Rizal Hall, Malacañan Palace</td>\n",
       "      <td>\\nHis Excellency President Joko Widodo; Madame...</td>\n",
       "    </tr>\n",
       "    <tr>\n",
       "      <th>551</th>\n",
       "      <td>April 28, 2017_2</td>\n",
       "      <td>Speech of President Rodrigo Roa Duterte during...</td>\n",
       "      <td>http://pcoo.gov.ph//april-28-2017-speech-of-pr...</td>\n",
       "      <td>NaN</td>\n",
       "      <td>Fiesta Pavilion, Manila Hotel</td>\n",
       "      <td>\\nThank you. Kindly sit down.\\nPresident Ramos...</td>\n",
       "    </tr>\n",
       "    <tr>\n",
       "      <th>552</th>\n",
       "      <td>April 28, 2017_3</td>\n",
       "      <td>Joint Press Statement of President Rodrigo Roa...</td>\n",
       "      <td>http://pcoo.gov.ph//joint-press-statement-of-p...</td>\n",
       "      <td>NaN</td>\n",
       "      <td>Reception Hall, Malacañan Palace</td>\n",
       "      <td>\\nPRESIDENT DUTERTE: I get to read my statemen...</td>\n",
       "    </tr>\n",
       "    <tr>\n",
       "      <th>553</th>\n",
       "      <td>April 28, 2017_4</td>\n",
       "      <td>Media Interview with President Rodrigo Roa Dut...</td>\n",
       "      <td>http://pcoo.gov.ph//media-interview-with-presi...</td>\n",
       "      <td>NaN</td>\n",
       "      <td>Malacañan, Palace</td>\n",
       "      <td>\\nQ: Kay Mary Jane Veloso, sir. Are you going ...</td>\n",
       "    </tr>\n",
       "  </tbody>\n",
       "</table>\n",
       "</div>"
      ],
      "text/plain": [
       "                 date                                              title  \\\n",
       "550    April 28, 2017  Toast of President Rodrigo Roa Duterte Republi...   \n",
       "551  April 28, 2017_2  Speech of President Rodrigo Roa Duterte during...   \n",
       "552  April 28, 2017_3  Joint Press Statement of President Rodrigo Roa...   \n",
       "553  April 28, 2017_4  Media Interview with President Rodrigo Roa Dut...   \n",
       "\n",
       "                                                   url event  \\\n",
       "550  http://pcoo.gov.ph//toast-of-president-rodrigo...   NaN   \n",
       "551  http://pcoo.gov.ph//april-28-2017-speech-of-pr...   NaN   \n",
       "552  http://pcoo.gov.ph//joint-press-statement-of-p...   NaN   \n",
       "553  http://pcoo.gov.ph//media-interview-with-presi...   NaN   \n",
       "\n",
       "                             location  \\\n",
       "550      Rizal Hall, Malacañan Palace   \n",
       "551     Fiesta Pavilion, Manila Hotel   \n",
       "552  Reception Hall, Malacañan Palace   \n",
       "553                 Malacañan, Palace   \n",
       "\n",
       "                                            transcript  \n",
       "550  \\nHis Excellency President Joko Widodo; Madame...  \n",
       "551  \\nThank you. Kindly sit down.\\nPresident Ramos...  \n",
       "552  \\nPRESIDENT DUTERTE: I get to read my statemen...  \n",
       "553  \\nQ: Kay Mary Jane Veloso, sir. Are you going ...  "
      ]
     },
     "execution_count": 143,
     "metadata": {},
     "output_type": "execute_result"
    }
   ],
   "source": [
    "grouped_dates.get_group(multiple_speeches[9])"
   ]
  },
  {
   "cell_type": "markdown",
   "metadata": {},
   "source": [
    "So the transcript in record 553 has a dialogue of another person I'm gonna clean this and remove it."
   ]
  },
  {
   "cell_type": "code",
   "execution_count": 9,
   "metadata": {},
   "outputs": [],
   "source": [
    "def get_duterte_part(transcript):\n",
    "    lt_names= ['PRESIDENT RODRIGO DUTERTE:', 'PRESIDENT DUTERTE:', 'PRESIDENT RODRIGO ROA DUTERTE:', 'DUTERTE:']\n",
    "\n",
    "    lt_trans = transcript.replace('\\n', ' ').split(' ')\n",
    "\n",
    "    full_txt = ''\n",
    "    isDuterte = False\n",
    "    for word in lt_trans:\n",
    "        if ':' in word:\n",
    "            if any(nm in word for nm in lt_names):\n",
    "                isDuterte = True\n",
    "                full_txt += '\\n'\n",
    "            elif 'Q:' not in word.strip():\n",
    "                isDuterte = True\n",
    "            else:\n",
    "                isDuterte = False\n",
    "\n",
    "        if isDuterte:\n",
    "            full_txt = full_txt + ' ' + word\n",
    "    return full_txt"
   ]
  },
  {
   "cell_type": "code",
   "execution_count": 156,
   "metadata": {},
   "outputs": [],
   "source": [
    "df.loc[553, 'transcript'] = get_duterte_part(df.loc[553].transcript)"
   ]
  },
  {
   "cell_type": "code",
   "execution_count": 159,
   "metadata": {},
   "outputs": [
    {
     "data": {
      "text/html": [
       "<div>\n",
       "<style scoped>\n",
       "    .dataframe tbody tr th:only-of-type {\n",
       "        vertical-align: middle;\n",
       "    }\n",
       "\n",
       "    .dataframe tbody tr th {\n",
       "        vertical-align: top;\n",
       "    }\n",
       "\n",
       "    .dataframe thead th {\n",
       "        text-align: right;\n",
       "    }\n",
       "</style>\n",
       "<table border=\"1\" class=\"dataframe\">\n",
       "  <thead>\n",
       "    <tr style=\"text-align: right;\">\n",
       "      <th></th>\n",
       "      <th>date</th>\n",
       "      <th>title</th>\n",
       "      <th>url</th>\n",
       "      <th>event</th>\n",
       "      <th>location</th>\n",
       "      <th>transcript</th>\n",
       "    </tr>\n",
       "  </thead>\n",
       "  <tbody>\n",
       "    <tr>\n",
       "      <th>550</th>\n",
       "      <td>April 28, 2017</td>\n",
       "      <td>Toast of President Rodrigo Roa Duterte Republi...</td>\n",
       "      <td>http://pcoo.gov.ph//toast-of-president-rodrigo...</td>\n",
       "      <td>NaN</td>\n",
       "      <td>Rizal Hall, Malacañan Palace</td>\n",
       "      <td>\\nHis Excellency President Joko Widodo; Madame...</td>\n",
       "    </tr>\n",
       "    <tr>\n",
       "      <th>551</th>\n",
       "      <td>April 28, 2017_2</td>\n",
       "      <td>Speech of President Rodrigo Roa Duterte during...</td>\n",
       "      <td>http://pcoo.gov.ph//april-28-2017-speech-of-pr...</td>\n",
       "      <td>NaN</td>\n",
       "      <td>Fiesta Pavilion, Manila Hotel</td>\n",
       "      <td>\\nThank you. Kindly sit down.\\nPresident Ramos...</td>\n",
       "    </tr>\n",
       "    <tr>\n",
       "      <th>552</th>\n",
       "      <td>April 28, 2017_3</td>\n",
       "      <td>Joint Press Statement of President Rodrigo Roa...</td>\n",
       "      <td>http://pcoo.gov.ph//joint-press-statement-of-p...</td>\n",
       "      <td>NaN</td>\n",
       "      <td>Reception Hall, Malacañan Palace</td>\n",
       "      <td>\\nPRESIDENT DUTERTE: I get to read my statemen...</td>\n",
       "    </tr>\n",
       "    <tr>\n",
       "      <th>553</th>\n",
       "      <td>April 28, 2017_4</td>\n",
       "      <td>Media Interview with President Rodrigo Roa Dut...</td>\n",
       "      <td>http://pcoo.gov.ph//media-interview-with-presi...</td>\n",
       "      <td>NaN</td>\n",
       "      <td>Malacañan, Palace</td>\n",
       "      <td>\\n DUTERTE: Those are one of the things that a...</td>\n",
       "    </tr>\n",
       "  </tbody>\n",
       "</table>\n",
       "</div>"
      ],
      "text/plain": [
       "                 date                                              title  \\\n",
       "550    April 28, 2017  Toast of President Rodrigo Roa Duterte Republi...   \n",
       "551  April 28, 2017_2  Speech of President Rodrigo Roa Duterte during...   \n",
       "552  April 28, 2017_3  Joint Press Statement of President Rodrigo Roa...   \n",
       "553  April 28, 2017_4  Media Interview with President Rodrigo Roa Dut...   \n",
       "\n",
       "                                                   url event  \\\n",
       "550  http://pcoo.gov.ph//toast-of-president-rodrigo...   NaN   \n",
       "551  http://pcoo.gov.ph//april-28-2017-speech-of-pr...   NaN   \n",
       "552  http://pcoo.gov.ph//joint-press-statement-of-p...   NaN   \n",
       "553  http://pcoo.gov.ph//media-interview-with-presi...   NaN   \n",
       "\n",
       "                             location  \\\n",
       "550      Rizal Hall, Malacañan Palace   \n",
       "551     Fiesta Pavilion, Manila Hotel   \n",
       "552  Reception Hall, Malacañan Palace   \n",
       "553                 Malacañan, Palace   \n",
       "\n",
       "                                            transcript  \n",
       "550  \\nHis Excellency President Joko Widodo; Madame...  \n",
       "551  \\nThank you. Kindly sit down.\\nPresident Ramos...  \n",
       "552  \\nPRESIDENT DUTERTE: I get to read my statemen...  \n",
       "553  \\n DUTERTE: Those are one of the things that a...  "
      ]
     },
     "execution_count": 159,
     "metadata": {},
     "output_type": "execute_result"
    }
   ],
   "source": [
    "grouped_dates.get_group(multiple_speeches[9])"
   ]
  },
  {
   "cell_type": "markdown",
   "metadata": {},
   "source": [
    ">Now that we fixed that let's continue"
   ]
  },
  {
   "cell_type": "code",
   "execution_count": 198,
   "metadata": {},
   "outputs": [
    {
     "data": {
      "text/html": [
       "<div>\n",
       "<style scoped>\n",
       "    .dataframe tbody tr th:only-of-type {\n",
       "        vertical-align: middle;\n",
       "    }\n",
       "\n",
       "    .dataframe tbody tr th {\n",
       "        vertical-align: top;\n",
       "    }\n",
       "\n",
       "    .dataframe thead th {\n",
       "        text-align: right;\n",
       "    }\n",
       "</style>\n",
       "<table border=\"1\" class=\"dataframe\">\n",
       "  <thead>\n",
       "    <tr style=\"text-align: right;\">\n",
       "      <th></th>\n",
       "      <th>date</th>\n",
       "      <th>title</th>\n",
       "      <th>url</th>\n",
       "      <th>event</th>\n",
       "      <th>location</th>\n",
       "      <th>transcript</th>\n",
       "    </tr>\n",
       "  </thead>\n",
       "  <tbody>\n",
       "    <tr>\n",
       "      <th>664</th>\n",
       "      <td>February 28, 2018</td>\n",
       "      <td>Media Interview with President Rodrigo Roa Dut...</td>\n",
       "      <td>http://pcoo.gov.ph/wp-content/uploads/2018/02/...</td>\n",
       "      <td>NaN</td>\n",
       "      <td>Brgy. Maria Cristina, Balo-i, Lanao del Norte</td>\n",
       "      <td>Sir, I'm Kaye Imson, sir, from TV5 Manila. Sir...</td>\n",
       "    </tr>\n",
       "    <tr>\n",
       "      <th>665</th>\n",
       "      <td>February 28, 2018_2</td>\n",
       "      <td>Speech of President Rodrigo Roa Duterte during...</td>\n",
       "      <td>http://pcoo.gov.ph/wp-content/uploads/2018/02/...</td>\n",
       "      <td>NaN</td>\n",
       "      <td>Phase 2, Brgy. Mipaga, Marawi City, Lanao del Sur</td>\n",
       "      <td>Salamat po. Kindly sit down. Sa kurtesiya niny...</td>\n",
       "    </tr>\n",
       "  </tbody>\n",
       "</table>\n",
       "</div>"
      ],
      "text/plain": [
       "                    date                                              title  \\\n",
       "664    February 28, 2018  Media Interview with President Rodrigo Roa Dut...   \n",
       "665  February 28, 2018_2  Speech of President Rodrigo Roa Duterte during...   \n",
       "\n",
       "                                                   url event  \\\n",
       "664  http://pcoo.gov.ph/wp-content/uploads/2018/02/...   NaN   \n",
       "665  http://pcoo.gov.ph/wp-content/uploads/2018/02/...   NaN   \n",
       "\n",
       "                                              location  \\\n",
       "664      Brgy. Maria Cristina, Balo-i, Lanao del Norte   \n",
       "665  Phase 2, Brgy. Mipaga, Marawi City, Lanao del Sur   \n",
       "\n",
       "                                            transcript  \n",
       "664  Sir, I'm Kaye Imson, sir, from TV5 Manila. Sir...  \n",
       "665  Salamat po. Kindly sit down. Sa kurtesiya niny...  "
      ]
     },
     "execution_count": 198,
     "metadata": {},
     "output_type": "execute_result"
    }
   ],
   "source": [
    "grouped_dates.get_group(multiple_speeches[34])"
   ]
  },
  {
   "cell_type": "code",
   "execution_count": 202,
   "metadata": {},
   "outputs": [
    {
     "name": "stdout",
     "output_type": "stream",
     "text": [
      "Sir, I'm Kaye Imson, sir, from TV5 Manila. Sir, given the situation now with the New People's Army, sir, maraming nagsu-surrender. At this point, are you still considering to --- for the resumption of peace negotiations with them, sir?   Not at this time. Maybe. Alongside with the mass surrenders is also the ferocity of those fighting. At alam mo ganito 'yan. Sabi ko nga, we have to reinvent the doctrine diyan sa detachment-detachment sa highway. Kasi sila nahalata ko, malayo sila, marunong na sila mag-sniper. Natutumba 'yung mga sundalo ko, nakatindig lang diyan sa detachment. So we are reconfiguring our --- the movement of the forces. Sinabi ko sa sundalo na ibahin na ninyo. Except 'yung mga population centers. Pero 'yung sa mga highway, ayaw ko na kasi marunong na silang mag-ano --- sniper. [off mic]   Hindi pa nga… hindi pa matapos ‘yung pagka-surrender. Kung mag-surrender na sila lahat bukas, eh 'di tapos na. What would be the use of… Pero kung nakita ko na lumalaban pa rin sila, marami pa sila eh. Pero alam ko hirap na sila kasi matanda na. Yes, sir.   At may mga sakit. Lahat 'yung mga leaders na 'yan, 'yung the higher echelons nila, wala na 'yan. Puro matatanda na. Hindi na gumagana ang utak. Pero 'yung --- marami pa rin. I am not satisfied by the numbers of surrenderees. You are not satisfied yet?   I am not satisfied. Ano sir 'yung barometer natin for us to measure na maybe this is the right time for us   The barometer is the if they give up or dalawa lang 'yan. They give up or they’re all dead. Wala man akong magawa. They’re fighting government. They’re killing the soldiers and policemen. So my order is also to kill them. Alright.   Ano pa man ang dramahin ko diyan na… Namamatayan na nga ako eh. Sir, on another note, sir. Kanina na-discuss ninyo and you were even apologetic to the Maranao people because of what happened to Marawi.   Yes. And I mean… Sir, nakita naman namin 'yung sincerity ninyoeven before pa. Pero sir, kanina we had a chance to get an interview with Vice Governor Bombit Adiong and he said na at some point medyo nadi-disappoint din sila, sir. Although tuloy-tuloy 'yung rehabilitation na ginagawa natin para makabangon ulit 'yung Marawi. Pero parang hindi yata nako-consult properly 'yung provincial government, sir. What's your take on that, sir?   Well, there is somebody on the ground here and they should --- Actually if they want to do it, just let them demand… mag-issue ng statements. So this time, nandito man si Ed del Rosario, he is the ground commander dito sa rehabilitation. All that they have to do is to go to him and just talk to him. Or they can go to… seek an appointment sa akin, sa opisina ko. They can always... Meron akong ano si Mamao, who is the Presidential Adviser sa Moro Affairs. And he is my fraternity brother and a classmate. He is from here. So he can… they can talk to him and to Alonto. Dalawa 'yan sila. Si Mamondiong sa TESDA. They’re all Maranaos. They’re Cabinet members. All of them. So very open?   Ah. Pati ako. Ilan kaming Maranao diyan? Isa lang ata ang --- si [unclear] ang Tausug diyan. Thank you, sir.   Anytime ako. Ano ba kayo. Kababayan, kadugo ninyo ako. Okay? Thank you, Mr. Presidente.   Any... Wala ng ibang question? Wala na? Pwede pa ba?   Sige. Pwede pa ba, sir?   O, ano? Sir, tuloy-tuloy daw 'yung… Tuloy-tuloy pa raw 'yung recruitment, sir, ng Maute-ISIS group...   Kaya nga eh. Dito sa Lanao. How are we planning to deal with that situation, sir?   Harshly. During the debate sa kampanya, I was asked the same question sa La Salle. And if you were there, the question, how would I treat the terrorist? Harshly. Kaya 'pag ito, maubos na talaga sila. They can regroup anywhere and we can have a fight again. Pero to the last man 'yan. Sabi ko, it will not stop until the last terrorist is neutralized. 'Yun 'yung sa Marawi. It would be the same rule for any other conflict coming our way. In other area?   Same policy. Alright, sir. Thank you, sir. Thank you, Mr. President. --- END --- Source: PCOO-PND (Presidential News Desk)\n"
     ]
    }
   ],
   "source": [
    "print(df.loc[664].transcript)"
   ]
  },
  {
   "cell_type": "markdown",
   "metadata": {},
   "source": [
    ">Looks like another one contains dialogue of another person. This one is from docx, this happend because the module *docx* failed to read the  name/label of the other person which is Q. So I fixed it."
   ]
  },
  {
   "cell_type": "code",
   "execution_count": 37,
   "metadata": {},
   "outputs": [],
   "source": [
    "import docx\n",
    "import re\n",
    "\n",
    "def get_duterte_part_docx(dt):\n",
    "    regex = re.compile('\\\\[(.*?)\\]')\n",
    "    doc = docx.Document(f'duterte_docx2\\\\{dt}.docx')\n",
    "    encountered = False\n",
    "    isDuterte = True\n",
    "    trans = []\n",
    "    lt_names= ['PRESIDENT RODRIGO DUTERTE:', 'PRESIDENT DUTERTE:', 'PRESIDENT RODRIGO ROA DUTERTE:', 'DUTERTE:']\n",
    "    for paragraph in doc.paragraphs:\n",
    "            if encountered:\n",
    "                for run in paragraph.runs:\n",
    "                    # if the text is bold we ask if it is a name of duterte or not\n",
    "                     if run.bold:\n",
    "                        if any(nm in paragraph.text for nm in lt_names):\n",
    "                                    isDuterte = True\n",
    "                                    trans.append('\\n')\n",
    "                        else:\n",
    "                            isDuterte = False\n",
    "\n",
    "            #we'll only include President Duterte's dialogue in the list\n",
    "            if isDuterte and encountered:\n",
    "                if paragraph.text:\n",
    "                    trans.append(paragraph.text)\n",
    "\n",
    "\n",
    "            #if we encounter the pattern\n",
    "            if re.search(regex, paragraph.text.replace('\\n', '')) and not encountered:\n",
    "                encountered = True\n",
    "                #we'll extract the location\n",
    "                pattern = paragraph.text\n",
    "                separator = pattern.find('|')\n",
    "                loc = pattern[1:separator]\n",
    "                if 'Delivered at' in loc:\n",
    "                    loc = loc[len('Delivered at'):].strip()\n",
    "    single_str = ' '.join(trans)\n",
    "    return single_str"
   ]
  },
  {
   "cell_type": "code",
   "execution_count": 215,
   "metadata": {},
   "outputs": [
    {
     "data": {
      "text/html": [
       "<div>\n",
       "<style scoped>\n",
       "    .dataframe tbody tr th:only-of-type {\n",
       "        vertical-align: middle;\n",
       "    }\n",
       "\n",
       "    .dataframe tbody tr th {\n",
       "        vertical-align: top;\n",
       "    }\n",
       "\n",
       "    .dataframe thead th {\n",
       "        text-align: right;\n",
       "    }\n",
       "</style>\n",
       "<table border=\"1\" class=\"dataframe\">\n",
       "  <thead>\n",
       "    <tr style=\"text-align: right;\">\n",
       "      <th></th>\n",
       "      <th>date</th>\n",
       "      <th>title</th>\n",
       "      <th>url</th>\n",
       "      <th>event</th>\n",
       "      <th>location</th>\n",
       "      <th>transcript</th>\n",
       "    </tr>\n",
       "  </thead>\n",
       "  <tbody>\n",
       "    <tr>\n",
       "      <th>664</th>\n",
       "      <td>February 28, 2018</td>\n",
       "      <td>Media Interview with President Rodrigo Roa Dut...</td>\n",
       "      <td>http://pcoo.gov.ph/wp-content/uploads/2018/02/...</td>\n",
       "      <td>NaN</td>\n",
       "      <td>Brgy. Maria Cristina, Balo-i, Lanao del Norte</td>\n",
       "      <td>PRESIDENT DUTERTE: Not at this time. Maybe. Al...</td>\n",
       "    </tr>\n",
       "  </tbody>\n",
       "</table>\n",
       "</div>"
      ],
      "text/plain": [
       "                  date                                              title  \\\n",
       "664  February 28, 2018  Media Interview with President Rodrigo Roa Dut...   \n",
       "\n",
       "                                                   url event  \\\n",
       "664  http://pcoo.gov.ph/wp-content/uploads/2018/02/...   NaN   \n",
       "\n",
       "                                          location  \\\n",
       "664  Brgy. Maria Cristina, Balo-i, Lanao del Norte   \n",
       "\n",
       "                                            transcript  \n",
       "664  PRESIDENT DUTERTE: Not at this time. Maybe. Al...  "
      ]
     },
     "execution_count": 215,
     "metadata": {},
     "output_type": "execute_result"
    }
   ],
   "source": [
    "df.loc[664, 'transcript'] = get_duterte_part_docx(df.loc[664].date)\n",
    "df.loc[664].to_frame().T"
   ]
  },
  {
   "cell_type": "markdown",
   "metadata": {},
   "source": [
    ">Now that it is fixed let's continue"
   ]
  },
  {
   "cell_type": "code",
   "execution_count": 225,
   "metadata": {},
   "outputs": [],
   "source": [
    "num = 40"
   ]
  },
  {
   "cell_type": "code",
   "execution_count": 238,
   "metadata": {},
   "outputs": [
    {
     "data": {
      "text/html": [
       "<div>\n",
       "<style scoped>\n",
       "    .dataframe tbody tr th:only-of-type {\n",
       "        vertical-align: middle;\n",
       "    }\n",
       "\n",
       "    .dataframe tbody tr th {\n",
       "        vertical-align: top;\n",
       "    }\n",
       "\n",
       "    .dataframe thead th {\n",
       "        text-align: right;\n",
       "    }\n",
       "</style>\n",
       "<table border=\"1\" class=\"dataframe\">\n",
       "  <thead>\n",
       "    <tr style=\"text-align: right;\">\n",
       "      <th></th>\n",
       "      <th>date</th>\n",
       "      <th>title</th>\n",
       "      <th>url</th>\n",
       "      <th>event</th>\n",
       "      <th>location</th>\n",
       "      <th>transcript</th>\n",
       "    </tr>\n",
       "  </thead>\n",
       "  <tbody>\n",
       "    <tr>\n",
       "      <th>611</th>\n",
       "      <td>June 11, 2017</td>\n",
       "      <td>Media Interview with President Rodrigo Roa Dut...</td>\n",
       "      <td>http://pcoo.gov.ph//june-11-2017-media-intervi...</td>\n",
       "      <td>NaN</td>\n",
       "      <td>Camp Evangelista Station Hospital, 4th Infantr...</td>\n",
       "      <td>\\nQ: …Challenge them in your speeches. Can we ...</td>\n",
       "    </tr>\n",
       "    <tr>\n",
       "      <th>612</th>\n",
       "      <td>June 11, 2017_2</td>\n",
       "      <td>Speech of President Rodrigo Roa Duterte during...</td>\n",
       "      <td>http://pcoo.gov.ph//june-11-2017-speech-of-pre...</td>\n",
       "      <td>NaN</td>\n",
       "      <td>Camp Bgen Edilberto Evangelista, Cagayan de Or...</td>\n",
       "      <td>\\n\\nSandali ha para isang basahan na lang ito....</td>\n",
       "    </tr>\n",
       "  </tbody>\n",
       "</table>\n",
       "</div>"
      ],
      "text/plain": [
       "                date                                              title  \\\n",
       "611    June 11, 2017  Media Interview with President Rodrigo Roa Dut...   \n",
       "612  June 11, 2017_2  Speech of President Rodrigo Roa Duterte during...   \n",
       "\n",
       "                                                   url event  \\\n",
       "611  http://pcoo.gov.ph//june-11-2017-media-intervi...   NaN   \n",
       "612  http://pcoo.gov.ph//june-11-2017-speech-of-pre...   NaN   \n",
       "\n",
       "                                              location  \\\n",
       "611  Camp Evangelista Station Hospital, 4th Infantr...   \n",
       "612  Camp Bgen Edilberto Evangelista, Cagayan de Or...   \n",
       "\n",
       "                                            transcript  \n",
       "611  \\nQ: …Challenge them in your speeches. Can we ...  \n",
       "612  \\n\\nSandali ha para isang basahan na lang ito....  "
      ]
     },
     "metadata": {},
     "output_type": "display_data"
    },
    {
     "name": "stdout",
     "output_type": "stream",
     "text": [
      "49\n"
     ]
    }
   ],
   "source": [
    "display(grouped_dates.get_group(multiple_speeches[num]))\n",
    "print(num)\n",
    "num += 1"
   ]
  },
  {
   "cell_type": "code",
   "execution_count": 247,
   "metadata": {},
   "outputs": [
    {
     "name": "stdout",
     "output_type": "stream",
     "text": [
      "\n",
      "Q: …Challenge them in your speeches. Can we now hear from you a message for the residents of Marawi City, 250,000 something who were displaced? What are their assurances about rehabilitation? What are they going to have? Those who returned… \n",
      "PRESIDENT DUTERTE: That is… That is sampung questions already.\n",
      "Well, we had known along the buildup here in Marawi. That is why if you were tracking me, my statements in public was that “do not force my hand into it” ’cause there were already terroristic acts including all — also victims were the innocent men and women and children.\n",
      "Ang Pilipinas, ayaw kasi, medyo complacent. Pero sila sa military pati police, wina-warningan na ako na it has become critical in Mindanao. \n",
      "Alam mo kung hindi talaga bobo ‘yang mga oppositors, you know you have to declare martial law in the entire Mindanao kasi wala ito… We are not separated by waters and they can always seek refuge because apparently nandito karamihan wala namang Kristyanos, all Moro from Mindanao. \n",
      "So even on hot pursuits, they would go running towards Lanao del Norte or going down to Basilan, kaya kailangan mo… Kasi bakit mo i-martial law ang Marawi lang? Eh kung kagaya ngayon nagtatakbuhan na? \n",
      "You have to pursue them and if they are ordered, they might just ought to be terrorist states, bomba dito, bomba doon. Mahina kasi talaga ang grap — ang ano ng… You have to grapple between the naive or a pretended naïveté.\n",
      "This is Moro land ang Mindanao. It is not just a land of opportunities for all, Christians and everybody. So ang sympathy talaga niyan magbakbakan, ‘pag nagtakbo yan, in all direction. \n",
      "And that is why you have to declare the whole of Mindanao. Kung hindi ba naman mga bogo , p**** i**, hindi makaintindi ng ganun. \n",
      "Q: Specifically po I was asking about your message to the residents of Marawi who have been displaced, who may not have homes to return to?\n",
      "PRESIDENT DUTERTE: We are, I said, it is in the pipeline. Long before, sinabi na namin matagal ‘to kasi nakapwesto na silang lahat. They were already deployed on vantage position. \n",
      "Kumbaga sa away ito, umaakyat ang mga sundalo ko na sila nasa on top of the mountain. So ang target nila nasa baba, ‘yun ang Armed Forces. \n",
      "‘Di marami kaming patay. Hindi ko naman akalain na ganun kalala kasi now lumabas na si Baghdadi mismo, the leader of the ISIS has specifically ordered terroristic activities here in the Philippines.\n",
      "Wala naman kasi tayong away and we are having a quarrel here purely fueled by nationalism ng Moro. And we are trying to correct it with the MILF. We didn’t want to fight.\n",
      "Eh sabi ko it’s not a good thing for a President to declare martial law, especially I’m the second President only in modern history to declare martial law.\n",
      "I am not proud of it. I am not happy with it. But I have to call the soldiers in because they were already occupying a definite territory and governance really has collapsed there in Marawi at saka they were already flying the ISIS flag. Nawala na ‘yung…\n",
      "So ngayon nakita na ninyong Pilipinas. Ang problema nito ‘yung spillover. That is why we have to declare martial law in the entire island of Mindanao because they can run everywhere and anywhere, and they can always find sanctuary and solace kasi distributed tayong lahat. \n",
      "There are Christians in Jolo, and there are Muslims in Davao, lahat hanggang Abra. That is why it’s not a good thing to fight. \n",
      "I’m appealing to the Moro — ‘yung Moro na — ginagawa na nga natin eh. We’re trying to fix it by talking to the MI and I’ve been talking to Nur Misuari. As a matter of fact, he even committed his troops to fight in Marawi. Sabi ko, “huwag.” Kasi ano kayo eh, puro kayo Muslims. Huwag lang muna, hayaan mo na lang.  \n",
      "So government is the neutral party here. So kami, hayaan mo na lang kami. It has nothing to do with religion. I refused to believe that it is religion that fueled this war. It never has been and it is not now.\n",
      "Q: So those who lost homes…?\n",
      "PRESIDENT DUTERTE: Meron kami, sabi ko kay Jun, when I was mayor of Davao City siya ‘yung sa housing ko, “prepare a rehab plan for Marawi”. Unahin ko lang ‘yung mga bahay na ‘yung mga mahirap. Iyong mga malalaking building, hayaan mo na may pera ‘yan pero there will never be…\n",
      "I will promise you there will never be cooking of shabu in this island of Mindanao when I am through.\n",
      "I have ordered the military and the police to strike hard against the drug people kasi kasama na sila sa rebellion. Ang rebellion was financed by drug money. \n",
      "Iyong remittances sa abroad, hindi masyado malalaki, tinignan na namin sa mga – you know, remittances. Ang pinakamalaki nga, napunta pa doon sa pulis. Alam mo kung sino ‘yan? ‘Yung babae na pulis na traydor, si Nobleza. She was receiving on a regular basis, money coming from the Middle East. Ganun katindi ‘yung walang-hiya na ‘yon. Traydor.\n",
      "Q: President…\n",
      "PRESIDENT DUTERTE: Yes?\n",
      "Q: Zea po from Davao Today. Sir, ano pong thoughts niyo on the participation of the US troops dito po sa Marawi?\n",
      "PRESIDENT DUTERTE: I am not aware of that until they arrived. When I declared martial law, I gave the powers to the Defense department. Hindi ako nakikialam because it is purely — and we follow the opinion of Justice Mendoza.\n",
      "Q: Sir, wala po ba itong effect doon sa pinupush ninyo na independent foreign policy sa bansa?\n",
      "PRESIDENT DUTERTE: Gusto ko nga sana eh kasi may giyera eh. And we are not that powerful. Maybe we do not have the technical expertise to do it. \n",
      "That is why itong mga Philippine Army natin, most of them or all of them, nag-schooling ito sa America. So ito talaga ang sentimento nito, pro-American, pro-American talaga ang mga sundalo natin, that I cannot deny. Iyong away ko sa America, hindi ‘yung Amerikano, ‘yung p***** i**** Obama na ‘yon.\n",
      "Q: Sir, Independence Day po tomorrow, may nakikita po ba kayong, ‘yung pong target ng government na mabawi ‘yung Marawi from – sa mga kalaban?\n",
      "PRESIDENT DUTERTE: Mabawi naman, ma’am. Alam man ninyo ‘yan? Meron na except for one or two buildings there. Snipers. Iyon lang ang tatapusin. But ang sundalo, they’re there in Marawi na.\n",
      "Meron lang dalawa, two buildings with snipers. So until now, pati nga bata tinamaan eh. Pero let us not make this a joke na ganito lang kasimple ang…\n",
      "Just imagine I lost how many soldiers? [Someone says: “58”] You see. And you say that silang mga — ‘yung mga oppositors. I lost 58 yesterday soldiers. Add it to the growing numbers already. Tapos ganun lang ka-simple ang tingin nila na.\n",
      "They better… Maybe sila kasi sa Luzon okay lang sila eh. But ilagay mo ‘to dito sa Mindanao? Make him establish a residence here in Marawi and in Zamboanga and Jolo, tingnan natin.\n",
      "Madali lang kasi magdaldal, magpapogi. It’s very easy to, you know, criticize. But history has shown na ‘yung nagki-criticize, ‘yung noon Liberal sinasabi “corrupt”, “corrupt” si Arroyo ngayon sila, o tignan mo ‘yung six years eh ‘di puro corruption. \n",
      "Q: Okay. Maayong hapon, Mr. President. May tulong na po ba tayo mula sa mga ASEAN countries at may tulong din po ba mula sa China at Russia?\n",
      "PRESIDENT DUTERTE: Wala, wala. I have not done that. I have not made an appeal. I said I did not even know that the American government has been providing technical.\n",
      "Kasi sabi ko ‘yung mga sundalo natin galing lang lahat… Almost all officers will go to America to study about militaristic thing. Kaya meron ‘yan silang rapport and I cannot deny that.\n",
      "But I said my quarrel with the — is with the State Department and Obama noon who was reprimanding me in public as if I were a federal employee.\n",
      "So pagdating naman sa kaibigan kong si Trump, si Donald, sabi niya: ‘Tama ka. God d*****. Wala kang mali diyan.’ O so sino ang sundin ko ngayon? Paiba-iba ang kultura nila. All the changing values of America, I really do not know.\n",
      "So we better stick to our own… Kaya ako wala akong… Totoo ‘yan, I never approached any American to say that, “Tumulong kayo.”\n",
      "Maski wala man silang tulong. Siguro meron man. Ako, nagpapasalamat lang rin ako nandiyan na rin it could save lives. But to say na…\n",
      "Kaya man natin. Kaya natin. Sabi ng mga sundalo, “Kaya natin ’to.” O kita mo gusto mo nang bumalik o. ‘Yan, bantay pagbalik ‘yan kay may galit na ‘yan.  Hindi ‘yan mag-atras hanggang hindi mawala ang ulo. Oo.\n",
      "Sabi ko nga sa kanila huwag na ninyong ano ‘yung — bigyan ko sila ng baril. Huwag ninyong…\n",
      "Q: Para sa kanila?\n",
      "PRESIDENT DUTERTE: Oo, sabi ko magiwan ng dalawa. ‘Wag kang mag-surrender kay kung mag-surrender ka, puputulin rin ulo mo.\n",
      "Iyong bala na last, para iyo ‘yon. Ganun ang… Kung ako, ganon ang gawain ko. Hindi ako mag- surrender nang buhay. Ganun rin mamamatay ka rin, bakit mo ipahiya ka pa sarili mo?\n",
      "Pero ito matatapang ‘to. Babalik ito mga next year ganyan may sugat na naman, pero matatapang eh.\n",
      "Kaya ako, ‘pag mag-saludo ako, you would notice I would — bumaba ‘yang kamay mo kasi kung mag-saludo ka ng Presidente, mauna talaga ang Presidente magbaba.\n",
      "Pero itong mga idol ko… Iyong isa doon maraming anak o. Tapos sabi niya, “Ilan asawa mo?” “Dalawa, sir. Ay isa lang pala, sir.” [laughter] Sabi ko, ikaw bata ‘wag kang mag-ano ha kay pareho ang sakit natin. Malaman ko kung nag-lie ka kagaya ko.\n",
      "Pero itong Marines matatapang ‘to. Kinatakutan talaga ‘to pati lahat ng sundalo. You are brave enough to fight any war.\n",
      "Ito Carolyn, sabihin mo doon sa mga tao mo sa bukid, batiin mo? Ah hindi ko malaman, una sabi nila, “you resume the ground action”. Tapos they wanted to offer to fight with the… Kaya tingnan ko. Pilipino ka man, tingnan mo ang sitwasyon. Which movement do you prefer? The ISIS or the Republic of the Philippines? Mamili kayo.\n",
      "Q: [off mic]\n",
      "PRESIDENT DUTERTE: Again?\n",
      "Q: Who is in charge of the rehabilitation?\n",
      "PRESIDENT DUTERTE: Evasco ‘yan. Si Evasco ‘yan. Evasco is the former priest who was arrested by the Scout Rangers noon, tapos nadala sa… \n",
      "Pari yan, silang dalawa ni Tizon. Father Tizon is already dead. Waray ‘yon, pumunta doon sa Mindanao nakipag… Naging NDF kagaya mo tapos nahuli sila.\n",
      "Alam mo man ang history, namakak pa gyud. Huwag ka na ngang magpa-deny-deny diyan. Iyong mga intelligence nagkalat, alam nila na…\n",
      "Q: Wrong intelligence.\n",
      "PRESIDENT DUTERTE: Hindi naman, okay, peace naman tayo. So wala namang galawan. Tapos si Evasco nagtrabaho sa akin naging mayor ako, I was the one prosecuting him because I was a fiscal. Ako ‘yung prosecutor niya sa korte. \n",
      "Pagdating ng panahon, hindi naman namin kasalanan, binitawan lahat pati rebelde ayun, pumunta si Evasco sa akin naghingi ng trabaho.\n",
      "Ngayon, secretary na siya. Kaya pagbalik niya sa kampo doon mga sundalo, saludo sa kanya. Pero pagtalikod niya sabi ng sundalo, ‘Ang sarap barilin ng p***** i**.’ [laughter] Pati ‘yung mayor kasama niya. Pandamay ‘yan.  \n",
      "No, ganun lang ang buhay. There’s always a time for war and a time for peace. And this is a time for war.\n",
      "Q: Message lagi to the Marawi residents?\n",
      "PRESIDENT DUTERTE: Yes, I said… Alam mo man na galing ang lola ko doon. \n",
      "Mga kapatid kong mga Maranao, lahat na pati the Moro world of Mindanao: I do not want to fight. I cannot… I simply cannot wage a war against my own people.\n",
      "I pray that there will be a short period of war activity and we expect it to be over soon. We are ready ang gobyerno, ang ating Republic, to extend assistance. \n",
      "We will always… Alam na ni Evasco ‘yan, komunista ‘yan noon eh. Hanggang ngayon. Alam niya how it works in the masa. You go for the — mga mahirap, paakyat ka doon. \n",
      "Kung may matira, ‘yung mga mayaman. Kung wala na, pasensiya. \n",
      "—END—\n",
      "\n"
     ]
    }
   ],
   "source": [
    "print(df.loc[611].transcript)"
   ]
  },
  {
   "cell_type": "markdown",
   "metadata": {},
   "source": [
    ">Another one that contains a dialogue of another person let's extract Duterte's part only"
   ]
  },
  {
   "cell_type": "code",
   "execution_count": 288,
   "metadata": {
    "scrolled": true
   },
   "outputs": [
    {
     "data": {
      "text/html": [
       "<div>\n",
       "<style scoped>\n",
       "    .dataframe tbody tr th:only-of-type {\n",
       "        vertical-align: middle;\n",
       "    }\n",
       "\n",
       "    .dataframe tbody tr th {\n",
       "        vertical-align: top;\n",
       "    }\n",
       "\n",
       "    .dataframe thead th {\n",
       "        text-align: right;\n",
       "    }\n",
       "</style>\n",
       "<table border=\"1\" class=\"dataframe\">\n",
       "  <thead>\n",
       "    <tr style=\"text-align: right;\">\n",
       "      <th></th>\n",
       "      <th>date</th>\n",
       "      <th>title</th>\n",
       "      <th>url</th>\n",
       "      <th>event</th>\n",
       "      <th>location</th>\n",
       "      <th>transcript</th>\n",
       "    </tr>\n",
       "  </thead>\n",
       "  <tbody>\n",
       "    <tr>\n",
       "      <th>611</th>\n",
       "      <td>June 11, 2017</td>\n",
       "      <td>Media Interview with President Rodrigo Roa Dut...</td>\n",
       "      <td>http://pcoo.gov.ph//june-11-2017-media-intervi...</td>\n",
       "      <td>NaN</td>\n",
       "      <td>Camp Evangelista Station Hospital, 4th Infantr...</td>\n",
       "      <td>\\n DUTERTE: That is… That is sampung questions...</td>\n",
       "    </tr>\n",
       "  </tbody>\n",
       "</table>\n",
       "</div>"
      ],
      "text/plain": [
       "              date                                              title  \\\n",
       "611  June 11, 2017  Media Interview with President Rodrigo Roa Dut...   \n",
       "\n",
       "                                                   url event  \\\n",
       "611  http://pcoo.gov.ph//june-11-2017-media-intervi...   NaN   \n",
       "\n",
       "                                              location  \\\n",
       "611  Camp Evangelista Station Hospital, 4th Infantr...   \n",
       "\n",
       "                                            transcript  \n",
       "611  \\n DUTERTE: That is… That is sampung questions...  "
      ]
     },
     "execution_count": 288,
     "metadata": {},
     "output_type": "execute_result"
    }
   ],
   "source": [
    "df.loc[611, 'transcript'] = get_duterte_part(df.loc[611].transcript)\n",
    "df.loc[611].to_frame().T"
   ]
  },
  {
   "cell_type": "markdown",
   "metadata": {},
   "source": [
    ">Now that is done let's continue again"
   ]
  },
  {
   "cell_type": "code",
   "execution_count": 722,
   "metadata": {},
   "outputs": [],
   "source": [
    "num = 0"
   ]
  },
  {
   "cell_type": "code",
   "execution_count": 696,
   "metadata": {},
   "outputs": [],
   "source": [
    "num -= 2"
   ]
  },
  {
   "cell_type": "code",
   "execution_count": 726,
   "metadata": {
    "scrolled": true
   },
   "outputs": [
    {
     "data": {
      "text/html": [
       "<div>\n",
       "<style scoped>\n",
       "    .dataframe tbody tr th:only-of-type {\n",
       "        vertical-align: middle;\n",
       "    }\n",
       "\n",
       "    .dataframe tbody tr th {\n",
       "        vertical-align: top;\n",
       "    }\n",
       "\n",
       "    .dataframe thead th {\n",
       "        text-align: right;\n",
       "    }\n",
       "</style>\n",
       "<table border=\"1\" class=\"dataframe\">\n",
       "  <thead>\n",
       "    <tr style=\"text-align: right;\">\n",
       "      <th></th>\n",
       "      <th>date</th>\n",
       "      <th>title</th>\n",
       "      <th>url</th>\n",
       "      <th>event</th>\n",
       "      <th>location</th>\n",
       "      <th>transcript</th>\n",
       "    </tr>\n",
       "  </thead>\n",
       "  <tbody>\n",
       "    <tr>\n",
       "      <th>566</th>\n",
       "      <td>April 06, 2017</td>\n",
       "      <td>Media Interview with President Rodrigo Roa Dut...</td>\n",
       "      <td>http://pcoo.gov.ph//april-06-2017-media-interv...</td>\n",
       "      <td>NaN</td>\n",
       "      <td>Camp Artemio Ricarte, Puerto Princesa City, Pa...</td>\n",
       "      <td>\\n DUTERTE: Few questions ha. I’m having a sun...</td>\n",
       "    </tr>\n",
       "    <tr>\n",
       "      <th>567</th>\n",
       "      <td>April 06, 2017_2</td>\n",
       "      <td>Speech of President Rodrigo Roa Duterte during...</td>\n",
       "      <td>http://pcoo.gov.ph//april-06-2017-speech-of-pr...</td>\n",
       "      <td>NaN</td>\n",
       "      <td>Camp Artemio Ricarte, Puerto Princesa City, Pa...</td>\n",
       "      <td>Salamat po. Somebody could give the tikas pahi...</td>\n",
       "    </tr>\n",
       "  </tbody>\n",
       "</table>\n",
       "</div>"
      ],
      "text/plain": [
       "                 date                                              title  \\\n",
       "566    April 06, 2017  Media Interview with President Rodrigo Roa Dut...   \n",
       "567  April 06, 2017_2  Speech of President Rodrigo Roa Duterte during...   \n",
       "\n",
       "                                                   url event  \\\n",
       "566  http://pcoo.gov.ph//april-06-2017-media-interv...   NaN   \n",
       "567  http://pcoo.gov.ph//april-06-2017-speech-of-pr...   NaN   \n",
       "\n",
       "                                              location  \\\n",
       "566  Camp Artemio Ricarte, Puerto Princesa City, Pa...   \n",
       "567  Camp Artemio Ricarte, Puerto Princesa City, Pa...   \n",
       "\n",
       "                                            transcript  \n",
       "566  \\n DUTERTE: Few questions ha. I’m having a sun...  \n",
       "567  Salamat po. Somebody could give the tikas pahi...  "
      ]
     },
     "metadata": {},
     "output_type": "display_data"
    },
    {
     "name": "stdout",
     "output_type": "stream",
     "text": [
      "3\n"
     ]
    }
   ],
   "source": [
    "display(grouped_dates.get_group(multiple_speeches[num]))\n",
    "print(num)\n",
    "num += 1"
   ]
  },
  {
   "cell_type": "code",
   "execution_count": 730,
   "metadata": {},
   "outputs": [],
   "source": [
    "with open('need_cleaning_.pkl', 'wb') as fl:\n",
    "    pkl.dump(df, fl)\n",
    "    \n",
    "df.to_csv('need_cleaning.csv')"
   ]
  },
  {
   "cell_type": "code",
   "execution_count": 727,
   "metadata": {},
   "outputs": [
    {
     "name": "stdout",
     "output_type": "stream",
     "text": [
      "http://pcoo.gov.ph//april-06-2017-media-interview-with-president-rodrigo-roa-duterte-following-his-visit-to-the-western-command/\n"
     ]
    }
   ],
   "source": [
    "nm = 566\n",
    "print(df.loc[nm].url)"
   ]
  },
  {
   "cell_type": "code",
   "execution_count": 728,
   "metadata": {
    "scrolled": false
   },
   "outputs": [
    {
     "name": "stdout",
     "output_type": "stream",
     "text": [
      "\n",
      " DUTERTE: Few questions ha. I’m having a sunset limitation time sa Jolo. \n",
      " DUTERTE: Well, the usual. We tried to be friends with everybody but we have to maintain our jurisdiction now, at least the areas under our control. And I have ordered the Armed Forces to occupy all — these so many islands, I think nine or 10 — lagyan ng structures and the Philippine flag. And sa coming Independence Day natin, I might, I may go to Pag-asa island to raise the flag there. Pati ‘yung ano, basta ‘yung bakante na ‘yung atin na, tirahan na natin… Mukhang agawan kasi ito ng isla eh. And what’s ours now at least kunin na natin and make a strong point there that it is ours. \n",
      " DUTERTE: The money is there. I don’t know how the — the Army or the engineering battalion would do it. But that development there has my full support.  Gagastos ako diyan sa fortifications diyan because I want to — including the Benham Rise on the right side of the Philippines in the Pacific — I will officially claim it as ours and rename it. Hindi Benham Rise. It’s… I would call it the “Philippine Ridge”. Kasi parang ridge, kasi continuous kasi ang continental shelf diyan sa baba eh. So might as we claim a ridge because it connects one ridge to another.\n",
      " DUTERTE:  That is our not… Wala kami pa ma’am. Bago pa lang kami nagpasok. We are still… Iyong amin still is on deck, it is in the pipeline but it is in the drawing board. Iyang nakikita niyo, bidded out na ‘yan na matagal, that is not our project. Walang corruption sa panahon ko. Iyong sinasabi mo na ano, parang… \n",
      " DUTERTE: I’ll just fire everybody. Alam mo, ma’ am, there are 110 Filipinos, 110 million Filipinos. Walang trabaho ‘yan almost, more than half of it. Hindi ako magtiis sa isang Pilipinong g***. T*** i** paalisin kita at maraming papalit sa’yo. And even Cabinet secretaries. There are so many talented people outside. I do not have to suffer your incongruity there. I just fired Valdez the Undersecretary for approving… You know, common sense ‘yan harvest time. Ngayon kung you allow the import, it will compete with the local prices. Eh kawawa ang Pilipino, hindi mabenta ‘yung bigas niya. So although there is the World Trade agreement that you can really export, import anytime. But ikaw ‘yung ano… And ang signatory diyan is Jason Aquino. Hindi kasi nila kilala ‘yan. But one of those who rebelled against the government before, mga rebelde ‘yan eh. Kilala ko ‘yan noon. Inilagay ko diyan, kasi sabi ko, ‘diyan ka’. You want reforms? Iyon man ang complaints nila ‘di ba? Corruption, reforms. ‘O sige then diyan ka’. So may nag-apply dito ng importation for so many sacks of rice. He denied it. Correctly, harvest time ngayon eh. Harvest time ngayon. And I’ve been to Nueva Ecija. They’re earning more than triple ‘yung new hybrid natin na bigas. Then you allow the importation? Kawawa naman ‘yung mga… Anak ng… Kaya siya ang nag-approve. Ang protocol diyan, if it is appealed to the Cabinet because always to the President ‘yan eh. It’s appealable to the Office of the President. Paalamin mo ako. At saka huwag kang mag-pirma. Ang magpirma niyan dapat si Jason Aquino. Siya ‘yung administrador eh. So if there’s a change of decision, you can overrule Aquino, fine, but you give it back to him with the orders to approve the importation. Kaya siya nag-pirma… I fired her yesterday, pabalik ako ng Nueva Ecija, it’s harvest time tapos mag-import ka, patay ang Pilipino. Iyon ‘yung kau***** talaga ng Pilipino. P****** i** niya, totoo lang.\n",
      " DUTERTE: It’s 72 billion? \n",
      " DUTERTE: So that’s the local government share of the… Bago lang kasi akong Presidente. Tingnan ko kung may pera pa ibigay ko sa inyo. It’s rightfully yours so why would we claim it? But it amounts now… Alam mo ‘pag ibinigay ko sa inyo ‘yan sa Palawan, you will be the richest province in the entire Philippines. What will you do with the 72 million by the way? Anong gawain ninyo? ‘Di ibigay na lang niyo sa iba kasi good naman kayo dito. I need money to build houses. Nag-aagawan na nga ‘yung mga Kadamay. You know, but they are — nakakasuya. Mahirap rin ‘yan. [inaudible] If you pull them out violently… Sabi ko dito nga sa sundalo, ‘Hayaan na ninyo ‘yan. Ibigay na ninyo. Gagawaan ko kayo nang mas maganda.’ And this time, kung saan pa nila gusto. Kung meron ditong sundalong mag-retire, you want it here, I’ll build the land here, dito na.\n",
      " DUTERTE: Hindi binayaran ni Gloria, hindi binayaran ni PNoy. Baka hindi… Baka hindi makalimutan ni Duterte ‘yung utang na ‘yan. \n",
      " DUTERTE: O ito… I have said a mouthful against ABS-CBN. Sinabi ko huwag na kayong… Huwag niyong isali… I’m in military camp, abangan ninyo ako sa labas. P***** i** ‘yung mga oligarchs na ‘yan. Alam mo ba ‘yang ABS-CBN? Nagbayad ako kasi nga nagkapera ako noong last days na lumakas na ang survey. I was hitting 32 so everybody was giving me money.  Then one of those who offered the money si Lucio Tan. I did not accept it. Kasi nagkonting pera, nagbili ako ‘nong propaganda tayo. Alam mo ‘yung p****** i** ABS-CBN na ‘yan? Tinanggap nila ‘yung pera ko, Doris, they never showed my— And hanggang ngayon wala namang offer to reimburse or to return the money. Ganon ka-walang hiya ‘yang mga p***** i** mga oligarchs na ‘yan. Totoo. Ikaw taga… Tawagan mo sila ngayon. At instead, ‘yung may TRO, sinabi ng court, ‘do not show it’. Iyong mga bata nga ginamit ni Trillanes ‘yan, which is really against the law. Iyong ginamit nila ‘yung mga bata na huwag ‘yan kasi… You know, that’s child abuse. That is why there was a TRO. Only ABS-CBN ang hindi naniwala. Okay lang ‘yan. Tinanggap ‘yung pera ko, hindi naman gipalabas ‘yung short propaganda ko, nabili ko — baka makatulong. Sabagay totoo naman ‘yung sinasabi ko. Nothing wrong… That’s the truth. Tapos Inquirer, susmaryosep. ABS-CBN 211 million. Sinabi ko sa inyo. Kalkalin ninyo noon sila pa ang power. Meron lang akong kalahati niyan, I will withdraw as a candidate.  Ngayong Presidente na ako, I’m giving everybody the authority including Inquirer and ABS. 211, I do not have that money. At kung meron man makaturo, I will step down tomorrow as President of this Republic. And if my sons and daughters are ma-involve corruption during my time, I will step down. You have my word of honor there.  Kaya ‘yang Inquirer, ‘yung ABS. Inquirer ang may-ari ng Dunkin’ Donuts. Alam mo ba ‘yan? At may utang ‘yan sila na taxes inayos ni Kim Henares. Walang ibinayad o nabayad nang konti lang. Iyan ang totoo na mga oligarchs na mga mayaman. Sila ‘yun, they control the airwaves. Sila ‘yung nagfi-feed ng balita na basura. Sila ‘yan. Ang Inquirer may utang ‘yan na running to billion. Kaya Monday, I will — not only Inquirer — I will give them a deadline. I need money to run this country. I need money to build houses. I build, you know, I build. Hindi ako ‘yung… Gawain nila akong extrajudicial killing? Noong mayor ako I build a city. Now, it’s really I build a country. That is why left and right ang fire out ko sa mga tao diyan sa mga corrupt.  Hindi tayo nagkulang ng talent. Maski ikaw kunin kita Cabinet member, okay ka eh Doris. Totoo lang. Sa lawak mo na ano. Maraming talented na Pilipino. \n",
      " DUTERTE: I will fire more.\n",
      " DUTERTE: Mag-dismiss pa ako nang marami. I have dismissed about 92, karamihan sa mga LTFRB, LTO. Pero kasi may mga anak na nga sila, nakita ko may mga abugadong anak na doktora. Sabi ko go out quietly. Hindi na ako mag-eskandalo kasi out of respeto sa mga anak ninyo. Mapahiya eh.  \n",
      " DUTERTE: Bahala sila.\n",
      " DUTERTE: Sinabi ko ito ibigay ko. Huwag na ninyong ulitin. Nandiyan na eh. Para ‘yan sa mga sundalo. Eh ‘pag mga pulis, pagdating nila ‘yung unit nila, ayaw mong, ayaw kong lumabas diyan. Eh kung pagbabarilin ka. Squatter ka eh.  Sabi ko sa mga sundalo huwag na lang kasi masama pakinggan, na tayo, kayo may armas tapos ‘yun mga mahirap lang. Ibigay na lang natin sa kanila. Tutal kung i-evict mo ‘yan? What do you suppose that I will do? I will have to use force then between anarchy at magbigay ka na lang. Anarchy? Hanggang diyan lang ‘yan sa Bulacan. Anarchy. Pero hindi na sila makaulit kasi next time that I will build the houses for the police and the… Pabantayan ko na ng limang M60 pati bazooka. ‘Pag unang entrada pa lang, bitawan mo na. T**** i**** ‘yan. Eh nagpapasensya lang ako, kasi mahirap lang rin ‘yan eh. \n",
      " DUTERTE: I could never be misinformed. Kaabugado ko ma-misinformed ako.  And when I make a move, when I fire you, diyan mismo. Alam ko ang ginagawa ko. Sabi ko the first whiff, ang unang singaw lang. Maski hindi totoo, ba-bye tayo. Maraming, maraming kapalit sa gobyerno.  Hindi tayo nagkulang ng talent. Bright pati ‘yung honest with integrity.  \n",
      " DUTERTE: Iyan nga we have about nine or 10 islands there. We have to fortify. I must build bunkers there or houses and make provisions for habitation. \n",
      " DUTERTE: Atin man ‘yun. Palitan ko ng luxury liner ‘yun. May mga waiter, pagkain, swimming pool para ang sundalo tataba. At least ‘yung hirap nila…  Kanina pa ‘yung eroplano ko umaandar. Kasi paalis na ako dito. I-on na ng piloto. Sabi nila hanggang ngayon nag-andar ang gasolina kalahati na lang. Kung hindi ako mag-abot ng Jolo kayo ‘yung may kasalanan.  —END— \n"
     ]
    }
   ],
   "source": [
    "print(df.loc[nm].transcript)"
   ]
  },
  {
   "cell_type": "markdown",
   "metadata": {},
   "source": [
    ">Again this contain dialogue of another person"
   ]
  },
  {
   "cell_type": "code",
   "execution_count": 298,
   "metadata": {},
   "outputs": [
    {
     "data": {
      "text/html": [
       "<div>\n",
       "<style scoped>\n",
       "    .dataframe tbody tr th:only-of-type {\n",
       "        vertical-align: middle;\n",
       "    }\n",
       "\n",
       "    .dataframe tbody tr th {\n",
       "        vertical-align: top;\n",
       "    }\n",
       "\n",
       "    .dataframe thead th {\n",
       "        text-align: right;\n",
       "    }\n",
       "</style>\n",
       "<table border=\"1\" class=\"dataframe\">\n",
       "  <thead>\n",
       "    <tr style=\"text-align: right;\">\n",
       "      <th></th>\n",
       "      <th>date</th>\n",
       "      <th>title</th>\n",
       "      <th>url</th>\n",
       "      <th>event</th>\n",
       "      <th>location</th>\n",
       "      <th>transcript</th>\n",
       "    </tr>\n",
       "  </thead>\n",
       "  <tbody>\n",
       "    <tr>\n",
       "      <th>609</th>\n",
       "      <td>June 17, 2017_2</td>\n",
       "      <td>Media interview with President Rodrigo Roa Dut...</td>\n",
       "      <td>http://pcoo.gov.ph//june-17-2017-media-intervi...</td>\n",
       "      <td>NaN</td>\n",
       "      <td>Brgy. Bancasi, Butuan City</td>\n",
       "      <td>\\n DUTERTE: You want me to explain my absence?...</td>\n",
       "    </tr>\n",
       "  </tbody>\n",
       "</table>\n",
       "</div>"
      ],
      "text/plain": [
       "                date                                              title  \\\n",
       "609  June 17, 2017_2  Media interview with President Rodrigo Roa Dut...   \n",
       "\n",
       "                                                   url event  \\\n",
       "609  http://pcoo.gov.ph//june-17-2017-media-intervi...   NaN   \n",
       "\n",
       "                       location  \\\n",
       "609  Brgy. Bancasi, Butuan City   \n",
       "\n",
       "                                            transcript  \n",
       "609  \\n DUTERTE: You want me to explain my absence?...  "
      ]
     },
     "execution_count": 298,
     "metadata": {},
     "output_type": "execute_result"
    }
   ],
   "source": [
    "df.loc[609, 'transcript'] = get_duterte_part(df.loc[609].transcript)\n",
    "df.loc[609].to_frame().T"
   ]
  },
  {
   "cell_type": "markdown",
   "metadata": {},
   "source": [
    ">We fixed it, fuck this shit I'm just gonna search which data point contains 'Q:' and fix them."
   ]
  },
  {
   "cell_type": "code",
   "execution_count": 345,
   "metadata": {
    "scrolled": false
   },
   "outputs": [
    {
     "data": {
      "text/plain": [
       "(43,)"
      ]
     },
     "execution_count": 345,
     "metadata": {},
     "output_type": "execute_result"
    }
   ],
   "source": [
    "index_contain_q = df[df.transcript.map(lambda x: 'Q:' in x)].index\n",
    "index_contain_q.shape"
   ]
  },
  {
   "cell_type": "markdown",
   "metadata": {},
   "source": [
    ">There are total of 43 transcripts that contain dialogue of another person"
   ]
  },
  {
   "cell_type": "code",
   "execution_count": 354,
   "metadata": {},
   "outputs": [],
   "source": [
    "for index in index_contain_q:\n",
    "    df.loc[index, 'transcript'] = get_duterte_part(df.loc[index].transcript)"
   ]
  },
  {
   "cell_type": "markdown",
   "metadata": {},
   "source": [
    ">Now that we fixed that let's continue what we are doing preiously(for fuck sake)."
   ]
  },
  {
   "cell_type": "code",
   "execution_count": 394,
   "metadata": {},
   "outputs": [],
   "source": [
    "num = 60"
   ]
  },
  {
   "cell_type": "code",
   "execution_count": 409,
   "metadata": {},
   "outputs": [
    {
     "data": {
      "text/html": [
       "<div>\n",
       "<style scoped>\n",
       "    .dataframe tbody tr th:only-of-type {\n",
       "        vertical-align: middle;\n",
       "    }\n",
       "\n",
       "    .dataframe tbody tr th {\n",
       "        vertical-align: top;\n",
       "    }\n",
       "\n",
       "    .dataframe thead th {\n",
       "        text-align: right;\n",
       "    }\n",
       "</style>\n",
       "<table border=\"1\" class=\"dataframe\">\n",
       "  <thead>\n",
       "    <tr style=\"text-align: right;\">\n",
       "      <th></th>\n",
       "      <th>date</th>\n",
       "      <th>title</th>\n",
       "      <th>url</th>\n",
       "      <th>event</th>\n",
       "      <th>location</th>\n",
       "      <th>transcript</th>\n",
       "    </tr>\n",
       "  </thead>\n",
       "  <tbody>\n",
       "    <tr>\n",
       "      <th>580</th>\n",
       "      <td>May 19, 2017</td>\n",
       "      <td>Episode 1</td>\n",
       "      <td>http://pcoo.gov.ph//president-rodrigo-roa-dute...</td>\n",
       "      <td>NaN</td>\n",
       "      <td>Television Network (PTV) – 4</td>\n",
       "      <td>ROCKY IGNACIO: Magandang araw Pilipinas. Ito p...</td>\n",
       "    </tr>\n",
       "    <tr>\n",
       "      <th>581</th>\n",
       "      <td>May 19, 2017_2</td>\n",
       "      <td>Speech of President Rrodrigo Roa Duterte durin...</td>\n",
       "      <td>http://pcoo.gov.ph//speech-of-president-rrodri...</td>\n",
       "      <td>NaN</td>\n",
       "      <td>Function Room 2&amp;3, SMX Convention Center, Lana...</td>\n",
       "      <td>\\nKindly sit down. Salamat po.\\nMayor Inday Sa...</td>\n",
       "    </tr>\n",
       "    <tr>\n",
       "      <th>582</th>\n",
       "      <td>May 19, 2017_3</td>\n",
       "      <td>Speech of President Rodrigo Roa Duterte during...</td>\n",
       "      <td>http://pcoo.gov.ph//speech-of-president-rodrig...</td>\n",
       "      <td>NaN</td>\n",
       "      <td>Function Room 1, SMX Convention Center, Lanang...</td>\n",
       "      <td>\\nKindly sit down. Salamat po.\\nAssistant Secr...</td>\n",
       "    </tr>\n",
       "    <tr>\n",
       "      <th>583</th>\n",
       "      <td>May 19, 2017_4</td>\n",
       "      <td>Speech of President Rodrigo Roa Duterte during...</td>\n",
       "      <td>http://pcoo.gov.ph//speech-of-president-rodrig...</td>\n",
       "      <td>NaN</td>\n",
       "      <td>Central Park Subdivision, Bangkal, Brgy. Talom...</td>\n",
       "      <td>\\n\\nMaayong hapon kaninyong tanan mga silingan...</td>\n",
       "    </tr>\n",
       "    <tr>\n",
       "      <th>584</th>\n",
       "      <td>May 19, 2017_5</td>\n",
       "      <td>Speech of President Rodrigo Roa Duterte during...</td>\n",
       "      <td>http://pcoo.gov.ph//speech-of-president-rodrig...</td>\n",
       "      <td>NaN</td>\n",
       "      <td>Brgy. Los Amigos, Tugbok Dist., Davao City</td>\n",
       "      <td>\\nIlang araw minemorize yan, yan. [audience ch...</td>\n",
       "    </tr>\n",
       "  </tbody>\n",
       "</table>\n",
       "</div>"
      ],
      "text/plain": [
       "               date                                              title  \\\n",
       "580    May 19, 2017                                          Episode 1   \n",
       "581  May 19, 2017_2  Speech of President Rrodrigo Roa Duterte durin...   \n",
       "582  May 19, 2017_3  Speech of President Rodrigo Roa Duterte during...   \n",
       "583  May 19, 2017_4  Speech of President Rodrigo Roa Duterte during...   \n",
       "584  May 19, 2017_5  Speech of President Rodrigo Roa Duterte during...   \n",
       "\n",
       "                                                   url event  \\\n",
       "580  http://pcoo.gov.ph//president-rodrigo-roa-dute...   NaN   \n",
       "581  http://pcoo.gov.ph//speech-of-president-rrodri...   NaN   \n",
       "582  http://pcoo.gov.ph//speech-of-president-rodrig...   NaN   \n",
       "583  http://pcoo.gov.ph//speech-of-president-rodrig...   NaN   \n",
       "584  http://pcoo.gov.ph//speech-of-president-rodrig...   NaN   \n",
       "\n",
       "                                              location  \\\n",
       "580                       Television Network (PTV) – 4   \n",
       "581  Function Room 2&3, SMX Convention Center, Lana...   \n",
       "582  Function Room 1, SMX Convention Center, Lanang...   \n",
       "583  Central Park Subdivision, Bangkal, Brgy. Talom...   \n",
       "584         Brgy. Los Amigos, Tugbok Dist., Davao City   \n",
       "\n",
       "                                            transcript  \n",
       "580  ROCKY IGNACIO: Magandang araw Pilipinas. Ito p...  \n",
       "581  \\nKindly sit down. Salamat po.\\nMayor Inday Sa...  \n",
       "582  \\nKindly sit down. Salamat po.\\nAssistant Secr...  \n",
       "583  \\n\\nMaayong hapon kaninyong tanan mga silingan...  \n",
       "584  \\nIlang araw minemorize yan, yan. [audience ch...  "
      ]
     },
     "metadata": {},
     "output_type": "display_data"
    },
    {
     "name": "stdout",
     "output_type": "stream",
     "text": [
      "70\n"
     ]
    }
   ],
   "source": [
    "display(grouped_dates.get_group(multiple_speeches[num]))\n",
    "print(num)\n",
    "num += 1"
   ]
  },
  {
   "cell_type": "code",
   "execution_count": 410,
   "metadata": {},
   "outputs": [
    {
     "name": "stdout",
     "output_type": "stream",
     "text": [
      "ROCKY IGNACIO: Magandang araw Pilipinas. Ito po si Rocky Ignacio. Ito po ang programang Mula sa Masa, Para sa Masa. Ito po ang programang maghahatid sa panguluhan kung ano ang kanilang mga problema.\n",
      "At syempre ito rin ang magbibigay daan para maihatid ang mga mahahalagang programa ng pamahalaan.\n",
      "Ngayong araw po, syempre makakasama natin ang\n",
      "tinatagurin nating bida ng masa, si Pangulong Rodrigo Duterte.\n",
      "\n",
      "PRESIDENT DUTERTE: Magandang araw po. I am happy that I have thistime with you para pag-usapan ‘yung mga tinatanong ninyo sa akin. Questions that are never answered by me or by anybody else tapos gusto ninyong malaman ngayon ang mga rason na ‘to and I am ready to respond to your questions.\n",
      "\n",
      "MS. IGNACIO: Mr. President kasi meron pa rin mga katanungan ang mga Filipino sa usapin ng environment, isa po ‘yan sa mga matagal ng naging issue sa ating bansa, panoorin po natin ito.\n",
      "\n",
      "\n",
      "\n",
      " IGNACIO: ‘Yan Mr. President. Kasi marami rin po ang nanghinayang sa hindi nga pagkumpirma kay dating DENR Secretary Gina Lopez. Pero ano nga ba ang marching order ng pangulo kay DENR Secretary Roy Cimatu?\n",
      "\n",
      "PRESIDENT DUTERTE: The question is ripe. Una na natin pag usapan yung kay Secretary Lopez in the sense as she was rejected by the Commission on Appointments despite of my public pleadings in one or two public gatherings but I do not want to impose anything against the, or impose on the congressional body, Commission on Appointments. So tatanggapin natin yan.I chose Cimatu because I believe in him.  When I was the mayor of\n",
      "Davao City for the longest time, I was always appointed as the\n",
      "regional peace and order council chairman. So when he was assigned dito sa Davao City, we used to meet every now and then regarding the\n",
      "law and order situation of Region 11 of which I was the sabi ko nga,\n",
      "chairman.\n",
      "And we became friends and I know Cimatu. He is honest, hardworking, he is a graduate of the Philippine Military Academy. He served his country well. At one time he was the envoy of President Arroyo nung mga evacuation movements ng ating mga kababayan sa Middle East and also, he was the Chief of Staff at one time.\n",
      "He’s a silent guy, very low-key personality but he does his work very well.\n",
      "Yung mining naman is, there is what you would call a description of your work.  All you have to do is to read the law creating that bureau,\n",
      "mining or the larger.. you would really be the DENR.\n",
      "\n",
      "Basahin lang niya ‘yung mga provisions diyan and enforce it . It doesn’t have to be a genius especially Cimatu graduate nga ng PMA ‘yan, he will know what to do and he will do it right.\n",
      "The quality that I had always been my requirement sa mga Cabinet\n",
      "members is that you serve with honesty and integrity. Alam nila, alam\n",
      "ni Roy, kilala niya ako, for so many years noong he was first assigned\n",
      "various capacities thereon, siya at ako as mayor  alam niya ang ugali ko at alam niya ano ang ibig sabihin ng public service sa akin.\n",
      "Matagal na kami nagkasama and I am sure that he will do his best for his country. Ang\n",
      "sinabi ko lang nga, yung marching order ko, sabi ko right after I swore\n",
      "him into office, sinabi ko lang that… my marching orders really is\n",
      "you are there in the Department of Environment and Natural\n",
      "Resources just do your duty and do it right and do not.. always do it\n",
      "for the country.\n",
      "\n",
      "MS. IGNACIO: Okay, Sa issue naman ng peace and order Mr. President, panoorin natin ‘to.\n",
      "\n",
      "[Video plays]\n",
      "\n",
      "MS. IGNACIO:  ‘Yan kasi Mr. President. May mga kaibigan akong reporter, na natatakot kasi sila na madako dito sa bandang Quiapo. Kasi nga nasa sa isip nila ISIS nga ang gumawa. Pero resulta nga ng\n",
      "imbestigasyon ng PNP hindi at iba itong motibo so papano ika-counter ng government yung fear ng katulad naming ordinaryong tao na\n",
      "wala talagang kinalaman ang ISIS dito?\n",
      "\n",
      "PRESIDENT DUTERTE:  In the first place, hihingi ako na lang ng\n",
      "paumanhin sa inyo. I am forced to shift into minsan sa English because ‘di ko alam yung appropriate na Tagalog words to characterize what I am trying to say.\n",
      "But certainly it is not an ISIS thing. One is that kung ISIS iyan di\n",
      "puputok sa Quiapo yan it could be somewhere else but definitely not\n",
      "Quiapo. Kasi puro, karamihan nakatira diyan kapatid natin na Moro.\n",
      "If it is ISIS, I do not think it would start there or initiated in that\n",
      "place. But there is bad blood amongst the groups of persons there. It\n",
      "could be a rido, which is actually a rido is a vendetta, tawag naming\n",
      "dyan e vendetta ng isang pamilya o isang grupo but yung pipe bomb na pumutok at saka yung, the subsequent ones, yung dalawa.\n",
      "Kaawa naman yung nagdala, yung inutusan ng ano, he was working for this company, is it a delivery thing? Parang Uber, yuber or whatever ayan na empleyado lang ng isang kumpanya hinatid yung pinadeliver doon.\n",
      " While he was handling it, giving it to the other guy iyon pumutok.\n",
      "And so iyon ang damay talaga but definitely, I am assuring you it is\n",
      "not the handiwork of ISIS. Hindi naman sabihin mo ilagay mo naman lahat sa ISIS\n",
      "I do not like ISIS. But I do not like to attribute things na hindi naman\n",
      "nila ginawa.\n",
      "Let’s put things in the proper perspective. Para we act fairly in\n",
      "everybody’s thing and this is not theirs.\n",
      "So parang away ito diyan sa loob na personal. Always, I think it is\n",
      "money. But if there is something else in the theory, I do not know but\n",
      "I should say it always begins with money matters. Almost all quarrels begin with money. Yun ang masasabi ko. And I assure our country.\n",
      "Well Isis is\n",
      "doing their thing which are altogether bad but wag naman  natin I ano\n",
      "sa kanila iyong di naman nila ginawa.\n",
      "It’s wrong and beside it could only mislead a person into believing\n",
      "things that they are when they are not.\n",
      "\n",
      "MS. IGNACIO: Okay, Mr. President eto naman issue ito sa nagiging imahe ng Pilipinas sa international community panoorin nyo po.\n",
      "\n",
      "[Video plays]\n",
      "\n",
      "MS. IGNACIO: ‘Yun nga Mr. President sinasabi niya na hindi opisyal yung kanyang pagbisita sa Pilipinas. But then,nagkakaroon ito ng pagkakataonna sinasabi nga di ito taliwas sa sinasabi ng gobyerno when it comes to human rights at yung anti drug campaign ng Duterte administration.\n",
      "\n",
      "PRESIDENT DUTERTE: Well I would not know her from Eve, asawa ni Adam. You know, I would not talk about the soundness of her visit dito or visit nya doon. As a matter of fact she can talk anytime here, punta siya dito.\n",
      "But I would not listen to her. You know there is one crucial thing\n",
      "that happened while she was here. And her statement na ang shabu hindi nakakasira ng utak ng tao.  Anak naman si ma’am oy.  Ano pangalan niyan?\n",
      "\n",
      "MS. IGNACIO: Agnes Callamard.\n",
      "\n",
      "PRESIDENT DUTERTE: Ano, ay Agnes, kapangalan ka pa naman ng duktor ko. Alam mo, if you review and move backwards maybe ten steps back, from four or three years, 77,000 Filipinos died drug related crimes, mostly mga rape, mga murder diretso, rape with homicide, robbery with homicide ,robbery with rape and homicide. The last one that was really a very robust indictment kita yung babae doon sa Cagayan and lahat naka droga.\n",
      "Kung ang mga tao magsabi sa iyo ang guardian angel niyan nagsasabi na patayin niya, katsahin niya yung nanay niya kasi demonyo. Kung lahat ng mamamatay tao diyan walang kasalanan, hindi siraulo, bakit pumatay ang mga pu— Bakit nila ginalaw ang mga bata? One year old, two year old.\n",
      "Alam mo pagka ganun ang ginagawa ng tao whether you like it or not, he is crazy. Ang tao na mag rape ng 18 years old, one year old na bata must be crazy.\n",
      "So what caused this insanity of the numbers of Filipinos committing\n",
      "the crime? Imposible naman na  araw-araw may mabubuang lang sa\n",
      "hangin, or because of genetical disorder. Ang experience natin would\n",
      "tell us that it is a virulent chemical. And nobody but nobody can dispute that with just a simple statement, pareho ‘yung itim na isa ring pumunta dito, ‘yung buhok kung saan-saan pumunta.\n",
      "Kaya sabi ko, mag-honeymoon na muna kayo ni… anak ng… kami dito na nagtiis sa droga for so many years, ako ‘yung mayor 23 years, halos gabi-gabi akong nagpa-patrolya noong bago pa akong mayor.\n",
      "You want to dispute that with a statement without any factual basis? You did not even mention or pronounce something that is connected, a study that is connected with drugs.\n",
      "How can you be so… stupid. You are stupid. Now, for me to submit to you an investigation at this time now, you must be crazy, you have prejudged me.\n",
      "Ang sinasabi mong shabu cannot cause anything, or damage in the mind, or in the structure of the brain of a person. In-assume na tuloy ninyo na ‘yan, ibig sabihin pinatay mo for nothing, ‘yan ang gusto ninyong palabasin eh.\n",
      "Pinapatay ko, dahil durugista, siraulo, baka patayin mo naman ‘yung hindi loko-loko. Ngayon, sinabi ninyo yung drugs okay ‘yan, parang aspirin lang ‘yan at pinatay mo pa.\n",
      "You have prejudged me and sinong g*** na papayag na pumunta ng investigation nung ganoon, nung prine-judge na ninyo ‘yung shabu as one chemical that does not really affect or damage the brain of a person.\n",
      "You must be kidding. You must be kidding. Kayo ang dapat i-indict ko, if you want to have a public debate, come here.\n",
      "Basta, if you want to testify against me, you must be under oath, including the rapporteur. If you want to state your charges, be under oath because if there is anything false or a lie there, I will go after you.\n",
      "And I will see to it that you’ll go to jail first. Talagang hahatakin, even if you are a foreigner, I don’t know if you enjoy diplomatic advantage. But again, pagka ginawa mo ‘yan dito, I will arrest you.\n",
      "You are committing perjury… God.\n",
      "\n",
      " IGNACIO:Yes. Mr. President, according to Foreign Affairs Secretary Alan Peter Cayetano, your anti-drug war is to protect the more than 100 million Filipinos?\n",
      "\n",
      "PRESIDENT DUTERTE: Yes, correct. You have 4 million drug addicts, what am I supposed to do?\n",
      "Alam mo ganito ‘yan eh, Rocky, at the time he commits the crime, magnanakaw siya pera para magamit niya, he can buy shabu, he kills a person but at that time he is high on drugs.\n",
      "Therefore, not in his right mind, pagka na establish ‘yan, na siya pumatay dahil sa droga, hindi mo madala sa korte ‘yan, because at that time he is not of sound mind, he is not equipped with the mental faculties to face the cons… to discern what is right and what is wrong.\n",
      "Ngayon, kung hindi siya g*** noon, hindi siya buang, but at the time of the trial buang na siya o baka 6 months after, overuse of the chemical shabu, hindi mo na rin sila ma-demanda.\n",
      "And they cannot stand trial because the court will say, “look, he cannot stand trial because he’s crazy.” And so, in between far and wide the victims now, who will answer for these crimes?\n",
      "Hindi mo naman mahabol kasi out of his mind nga nung ginawa niya, o nung ginawa niya of his right mind but at the time of the trial wala na, sabog na, sino ngayon ang babayad nitong problema [beep sound]\n",
      "Who will now answer for this loss of so many lives? And who will now take care of this 4 million? Madali lang ‘yan sabihin sa inyo, kita mo naman sa America, tapos sila—\n",
      "You know, it was not until with the advent of everybody being conscious of human rights. Wala ito noon eh, but in the early 60’s, itong America and itong EU, but lalo na America, in their desire to be civilized… to be known as a civilized state, started going around, giving assistance for promotion of human rights, wala pa ‘yang shabu.\n",
      "Not even money to combat shabu, only the promotion of human rights, karamihan noon mga political. Mga biktima sa political vendetta. Either because the dictator is… is harsh of putting in prison many of his political enemies.\n",
      "Doon nag-umpisa ‘yan, ngayon, they rambled into so many things: Marijuana, bawal noon, patayan tapos suddenly they realize, Marijuana pala hindi, okay ‘yan, so nagbibigay na sila ng marijuana.\n",
      "‘Yung pinatay ninyo noon, papano ‘yun? Kung ang marijuana pala okay, pinagbibigay na ninyo ng libre ngayong, so what happened to those that were arrested and those that are killed in the process?\n",
      "Sinong managot doon, gobyerno, kayo? Tapos pupunta kayo dito sa amin tinuturo ninyo kami. Na sa amin, alam namin na bawal talaga, eh nasa batas naming eh. See?\n",
      "And if they are arrested, and they do not want to be placed under the custody of the law, but rather would fight, makipagpatayan, makipagsaksakan, and they are killed and you are pointing it to me, wala naman akong inutusan na patayin ka ng nakatalikod o nakaluhod.\n",
      "So, dapat kayo ang may topak, siguro kayo ang nag-marijuana noon, ‘yung ulo ninyo sira. How about the drug-bust operations noon ng marijuana namatay, kinulong ninyo ng 99 years… aggravating because it was a…\n",
      "The crime of rape was committed with the use of drugs, so maximum of 60 years, 50 years. Who will now pay for this? Following your theory, who will not pay for this?\n",
      "Na-libre na pala ang marijuana ngayon, pinagbibigay na ninyo, ngayon ang gusto ninyo, suggestion ninyo, maglagay ako ng istasyon ng mga shabu at ibibigay ko sa mga Pilipinong… para libre na.\n",
      "May tanong ako sa inyo: kayong lahat diyan sa human rights, magsabi lang kayo ng totoo, hindi ako magagalit, naka-droga kayo? Hindi, magsabi lang kayo ng totoo, are you on drugs? Because I am inclined to believe that you are.\n",
      "\n",
      " IGNACIO:Mr. President, you…\n",
      "\n",
      "PRESIDENT DUTERTE: Magbigay ako ng halimbawa, kung maglagay ako ng shabu dito ngayon, ikaw, kukunin mo?\n",
      "Ms. Ignacio: Hindi ako marunong niyan. Mister President, ‘yung kampanya mo kontra iligal na droga, talagang sinusuportahan ‘yan maski ng mga Pilipino abroad. Pero nasaan na nga ba ang anti-drug war ng Duterte administration?\n",
      "PRESIDENT DUTERTE: Sinabi ko sa inyo ganito, ‘yang general statement ko, Mayor pa ako niyan. Sinabi ko sa inyo, huwag ninyong sirain ang mga anak namin, kasi kapag kami ang tumanda, kaming nandito sa kuwarto na ito, puro gobyerno lang ito.\n",
      "So wala kaming mga salarin na pwede kaming mag… ako kasi, Presidente na, maybe 9 months straight sa ospital, the best services, lahat first class. Pagdating ng 9 months, tabla na ako.\n",
      "Eh ’yung mga mahirap pa sa akin? Sinong magbili ng oxygen sa kanila, sinong magbigay ng medisina sa kanila, sinong magsusubo ng lugaw sa bunganga nila? Kayo, p***** i** ninyo.\n",
      "Madaling sabihin ‘yan eh. Who will suffer? It’s the Filipino, the child na inasahan namin na pinag… na inalagaan namin ng mabuti, tapos mabuang lang sa ganoon.\n",
      "And there comes the ridiculous suggestion that I place drugs in strategic places for them just to use it and when they are drunk, after all ganito eh.\n",
      "When all has been said and done, at the end of the day, the Republic of the Philippines will collapse. Who’s gonna revive it? Who’s going to help them? My countrymen, who’s going to rehabilitate my country from the onslaught of drugs, kayo?\n",
      "Kayong mga [beep sound], you’re crazy, you must be crazy. Kaya ‘yung sinabi ko na, “do not do this because I will kill you,” that is a general statement wala akong… I, I, ako… I will kill you.\n",
      "Hindi ako nagsabi na, I will order Bong Go to kill you with a revolver or a pistol or with a… because it was an outrage coming from a leader. Pero ‘yung mga pulis, bago maging pulis ‘yan, tinuturo na sa kanila kung paano, kung kailan magpatay ng tao.\n",
      "And there is only one rule there, whether in the performance of duty or isa ka lang… a citizen, and walking to the streets and you are attacked, wala kang kasalanan and you kill the idiot, self-defense, sa pulis naman, performance of duty.\n",
      "Hindi ko na kailangang sabihin that I will kill you because the law says that da-da-da-da… tapos na ‘yan, alam ng pulis kung hanggang saan ‘yan sila.\n",
      "‘Yung ‘I will kill you’ is an outrage of mine and ‘yan ang ginagamit ng mga ‘yan, kaya nga ako sabi ko istupido kayo eh. Kita mo naman, I never said I will order the army, I will order the scout rangers to kill you.\n",
      "I said, “I will kill you.” Hanggang ngayon, wala pa akong pinatay na rapporteur. Sinong pinatay ko? “I will kill you,” that is a generic… Kasi ‘yan ang galit ko ng mayor ako, ‘yang ang galit ko ngayon.\n",
      "You know what, you must understand that I am just… I am not just a mayor, or was a mayor for nothing. My job there was to catch or run around, my job was to heal the city.\n",
      "When I was first elected President, my job was to build a nation. Stop [beep sound]\n",
      "\n",
      " IGNACIO:Speaking of building a nation, Mr. President, maganda ‘yung pagkilala sa iyo ng international community, even Chinese President Xi Jinping, invited you doon sa international, ‘yung One Road, One Belt.\n",
      "\n",
      "PRESIDENT DUTERTE: Framework for really progress and China has a large participation there including maybe the financing of projects that would be critical in building that hypothetical road. \n",
      "It actually… it’s not… it travels around the sea papuntang Pilipinas then to Malaysia down to Indonesia, then maybe Australia.\n",
      "Ms. Ignacio: Isa ‘yan sa mga magki-create doon sa target mo na magdagdag opportunities and trabaho sa mga–?\n",
      "PRESIDENT DUTERTE: Yes, because China would build the industries for you to export and import.\n",
      "So kung ano ka, malakas ka diyan, kagaya ng Pilipinas, sa agricultural tayo because whether you like it or not we are agricultural based country. Then we start to improve on that and maybe expand. \n",
      "Kung ano ‘yung pinakamarami sa’yo, ‘yun. Mining, ‘di mine and mine and mine  and produce more. You need money really to grow up in this world.\n",
      "Ms. Ignacio: Pero ‘yung inappoint mo si Foreign Affairs Secretary Alan Peter Cayetano, nagkaroon na kayo ng conversation or discussion kung papaano idi-deal ‘yung issue ng Pilipinas sa South China Sea?\n",
      "PRESIDENT DUTERTE: Yes, may prangkahan na kami. More than ‘yung sabi ninyo na suggestion niya [unclear].\n",
      "Sabihin ko lang sa inyo in due time, in front of several Cabinet members, point blank. Sinabi ko ‘yun. Sinabi ko, we are going there to drill for oil, ‘cause that is ours. Ayaw ko na lang -iano ‘yung sagot ng–\n",
      "Pero ganito na lang. Sabihin ko sa’yo. Iyo ‘yan? Do not touch it. Kaibigan tayo. Kung pakialaman mo ‘yan, gusto mo away tayo, giyera tayo? \n",
      "More than just invoking ano, na amin ‘yan, amin ‘yan. Eh kung sagutin ka ng ganon, anong gawin ko? Teka muna kay mag kuha ako ng Navy ko.\n",
      "Ms. Ignacio: Pero definitely, Mr. President, ‘yung decision ng UN Arbitral Tribunal hindi mababalewala ‘yun when it comes to–?\n",
      "PRESIDENT DUTERTE: Hindi ‘yan mababalewala becaue it will be there for all time and it will always bug China. \n",
      "But at this time, because so many countries are claiming the area, kaya sila ganyan. Kasi Vietnam is also there. Nandiyan ang Malaysia. Mag-agawan ‘yan, magulo na. Kaya sabi niya, “Huwag muna.”\n",
      "Wait for better times when heads are cooler and when we are, we have the equanimity sa ating katawan, both in minds and body to discuss it. \n",
      "But I told them that there always be a time that the issue will crop up even during my term.\n",
      "Marami tayong pledges to help and China has been very adamant about it. Actually they have, they are the ones hurrying us up. ‘Yung first mga tranches nila dumating naman.\n",
      "It’s about two billion plus already coming in. Dumating na. And everybody’s taking advantage of it. It is not really a money where you can withdraw from the bank and then you just throw it out.\n",
      "It’s a money for business. So lahat ng mga may negosyo ngayon na gusto mag-expand… So in expanding, you also increase the number of Filipinos employed.\n",
      "Ang habol ko diyan ang trabaho muna. But maybe later on, in the fullness of God’s time, we’ll be able to develop really a product that our own. Most of that is really ‘yung steel which is one of the concessions being asked by the itong komunista, that we develop our own steel industry.\n",
      "Kasi sabi kasi nila mura ngayon. Some other school of thought say that a [block?] of supplies… iron. \n",
      "Hindi ‘yan eh. Eh kung magka-l****-l**** itong buhay na ito, mag-away-away kayo. Saan na kukuha ng para gawing bala?\n",
      "Ms. Ignacio: Pupunta na tayo ngayon sa bahagi ng programa na ‘to na “Good Job.” Bibigyan ka naming ng magandang balita, ‘yung “Good Job” pagdating sa ating mga OFWs. Tingan niyo po ‘to.\n",
      "OFW in video: WASAQ po. Ang meaning po ng WASAQ is Welfare and Services Associated with Hospitality Qatar. \n",
      "Ito po ‘yung grupo ng mga OFW na tumutulong sa ating mga kababayan dito para po mai-uplift or mai-enhance ‘yung kanilang skills regarding in baking.\n",
      "So ang [unclear] po ngayon is naga-assist sa amin in terms of food ng mga volunteers and rental ‘nong place. Meron po kaming mga graduates na dating [T-Boy?] which is ngayon pastry chef na sa mga hotels dito.\n",
      "So meron din po kaming graduate na dating domestic helper pero ngayon po isa na rin po siyang pastry chef. \n",
      "‘Yung iba naman they cannot afford na to pay so libre po talaga.\n",
      "Ngayon, ito lang pong huling batch nagbigay po kami ng, nanghingi kami ng—\n",
      "Man in video: Volunteer na nagluluto ng mga pangarap ng ilang OFW na naghahangad sumarap ang buhay. Hindi lamang dagdag na income ang natitimpla sa bawat attendee, kung ‘di paraan ito sa pagtaas ng morale nila dahil sa dagdag tulong sa harap ng pugon.\n",
      "Gaya ng cake na sa unang salang walang halimuyak, kaunti ang attendees sa WASAQ sa unang salang. Pero habang umuusog na sa  ng kaalaman, umakit sila sa mga gustong tumikim ng matamis na pastries.\n",
      "Woman in video: Hangga’t nandidito po kami, willing po kami to volunteer para makatulong. Ang kailangan lang po talaga namin ‘yung lugar.\n",
      "Man in video: Nangangamba nga lang si Aling [Rosalie?] ang hepe ng pugon na baka mapanis ang sinimulan nilang putahe ng malusog na kapalaran para sa OFWs ng Qatar.\n",
      "Kahit suportado ng TESDA, OWWA at POLO ang kanilang baking school, wala silang sariling panaderya para ma-preserve ang mga mabuting layunin.\n",
      "Ms. Ignacio: ‘Yan, ano ‘yung maipapahatid na tulong ng pamahalaan?\n",
      "PRESIDENT DUTERTE: Ganito ‘yan Rocky eh. ‘Di naman ako nagpapa-corny, but ako talaga mahal ko ang kababayan kong Pilipino. Pilipino ako eh. \n",
      "Ngayon, maski sa… ang pangako ko na walang corruption. Talagang hihintuin ko ang corruption.  Kapag naka-demanda ka ng corruption dito, I will see to it na kung may kasalanan ka, you are out.\n",
      "It goes for all, from the Cabinet. May finire (fire) out na ako during a Cabinet meeting for lying through his teeth in front of me. \n",
      "May mga taga-Davao ako na with me since I was Mayor. Wala, sinipa ko.\n",
      "Ganito kasi ‘yan para sa ating mga OFW. Sabi ko, I promised you within mga three to four years mag-stabilize ‘to. Wala ‘yung droga, ‘yung kriminal, I will go down then progress can really come to our country.\n",
      "Maghintay lang ho kayo nang konti. Just give me time to improve things and sa awa ng Diyos, i-improve talaga tayo. \n",
      "Ngayon pa lang nagi-improve na economy. Umaakyat na. Ang exports natin back to the original. Noon, wala nang nagbibili ng saging kasi may ano, may alitan ang America, pati tayo nadadamay sa China. And the same with Russia.\n",
      "Kaya ganito ‘yan for the OFW. Ganon na lang ang pagmamalasakit ko sa inyo. Kasi alam mo, may nanay umaalis. Once the mother leaves, the family, that family is already, hindi na normal ‘yan. Dysfunctional na ‘yan.\n",
      "Pag umalis pa ang tatay at pupunta doon sa isang bayan, hindi magka pareho, that family is now left in the care of mga lolo, lola, o kapatid.\n",
      "That time, dysfunctional na ang bata. Lalaki ‘yan na wala masyadong disiplina, always longing a father or mother.\n",
      "Kaya ako talagang galit sa mga durugista. Talagang papatayin ko kayo kasi kita mo naman lumalabas ng bayan ‘yan and they endure ‘yung kalungkutan sa anak.\n",
      "Ang anak… Both ways ‘yan eh. Ang anak maghanap ng tatay, nanay. Tapos tatay, nanay always pagka gabi.\n",
      "And they endure hardships. Tingnan mo ‘yang mga Pilipinong umuuwi dito. Ano ang standard nila? Ang tulog nila ilan? Basahin mo lahat, three to four hours. Ang kinakain ‘yung lugaw pa na basura na sa ibang tao.\n",
      "Kaya ako diyan mainit. ‘Yung iba are subjected to sexual abuse and they endure it para lang kumita, maipadala sa mga anak nila, para makapag-aral. Only to realize at the end of the day pagbalik nila, nasira sa shabu o nabiktima ng drug addict ang mga anak kasi walang nagbabantay.\n",
      "Ms. Ignacio: Yes. May isa pang humihingi naman ng tulong, Mr. President. Isang OFW sa Qatar na nagtatrabaho ng legal 13 years ago. Gusto ng amo niya na maging illegal na ang kanilang operasyon, mag-recruit ng mga Pilipino na wala umanong malinis na papel ang kanilang tinututulan.\n",
      "Ang ganti ng amo ay pagkansela ng kanyang kontrata. At nagka-anak siya. Nagka-anak siya tapos namatay ‘yung asawa niya kaya nawalan din ng documents ang bata, na-null and void. Pakinggan natin ‘yung story.\n",
      "PRESIDENT DUTERTE: Well, we have always the embassy and if you have time, I will personally have the Foreign Affairs department to look into this. Give more focus on acts of injustice and we will do the necessary things to help you.\n",
      "Ms. Ignacio: Ito, pakinggan natin, Mr. President, para maka abot sa‘yo ‘yung hinihingi nilang tulong. Panoorin mo ‘to.\n",
      "PRESIDENT DUTERTE: Mas mabuti ‘tong programang ‘to. Nakakatulong kaagad tayo.  Eh dito naman madali lang. All you have to do is go to the embassy tomorrow, bukas. Gabi man siguro, umaga man siguro diyan. I don’t know.\n",
      "Ms. Ignacio: Five hours.\n",
      "PRESIDENT DUTERTE: Five hours difference, okay. Punta kayo sa embassy natin. Babayaran ko ‘yung utang ninyo at bigyan kayo ng travel documents. \n",
      "About the thing… ano ‘yung hinihingi ng DFA? ‘Yang certificate of– Sabi ko walain na ‘yan. That’s… I do not like that regulation. That’s b*****. Hindi na kailangan. Magpadala ako ng pera pang bayad doon sa utang mo at umuwi na kayo kaagad.\n",
      "When I got home the last time, I was, I brought with me 150. Sana nakasali ka na doon. There’s another one coming up. \n",
      "Dito naman sa pupunta ko ng Russia, may 100 Filipinos na gustong… 150 o 100 na gustong umuwi.\n",
      "Kung matuloy ako doon, kung matuloy ako doon, Inshallah, God willing, dala ko na ‘yun sila. Sabi ko sa eroplano, mag-reserba ng 100 seats. Kung kulang, itapon na ‘yung ibang opisyal para makasakay ‘yung mga worker.\n",
      "Ms. Ignacio: Ngayon naman sa pagkakataong ito, Mr. President, ibibigay namin ‘yung “Hotline ng Masa.”\n",
      "Ito ‘yung pakikipag usap mo ng personal doon po sa mga nais humingi ng tulong sa’yo.\n",
      "Pakinggan po natin si… Narito si Ms. [Nancy Aranzazu?] na isa pong OFW. ‘Yan. Siya ‘yung nakita natin, nireport natin, Mr. President, na humihingi sa’yo ng tulong. At least ito personal mo ng maipapaabot ‘yung sinabi mo kanina.\n",
      "PRESIDENT DUTERTE: ‘Yung… okay na ho. Babayaran ko ‘yung ticket. Punta lang kayo sa embassy at magpadala ako ng pera para sa pambayad sa utang at makauwi na agad kayo, in about mga two days. Huwag na kayong umiyak, wala namang… sayang lang ‘yang luha mo.  \n",
      "Ms. Aranzazu: Sobra po kaming saya. Kasi kayo lang po ang nakapansin ng problema namin kasi 20 years na kami dito. \n",
      "PRESIDENT DUTERTE: Kaya ako nandito para sa inyo eh.\n",
      "Ms. Ignacio: Okay, maraming salamat.\n",
      "PRESIDENT DUTERTE: Huwag ka na sige umiyak. Huwag ka ng umiyak.\n",
      "Ms. Aranzazu: Ang saya-saya po namin. Sobra pong saya talagang–   \n",
      "PRESIDENT DUTERTE: Bigyan mo ako ng ngiti, huwag mo ako bigyan ng iyak kasi pati ako napapaiyak na tuloy dito. \n",
      "Ms. Aranzazu: ‘Yan po lagi pinagpe-pray namin sa Panginoon na makausap po namin kayo. Talagang answered prayer. Salamat talaga nang marami. \n",
      "PRESIDENT DUTERTE: Kaya pala ako ginising ng Panginoon kagabi eh. Pumunta ka diyan sa opisina mo kay may gustong kausapin, mag-usap sayo sa Skype. Ikaw pala ang nag-udyok ng Panginoon. \n",
      "Nagkatotoo pala talaga. Sige na. Punta na kayo bukas at ayusin na ninyo ‘yung papel. Magpapadala ako ng pera, sandali lang naman.\n",
      "Ms. Ignacio: Okay, maraming salamat po.\n",
      "Ms. Aranzazu: Daghang salamat po, Mayor. Thank you. Thank you.  \n",
      "PRESIDENT DUTERTE: Trabaho ko ‘yan. Huwag mo akong pasalamatan. Trabaho ko ‘yan.\n",
      "Ms. Ignacio: Okay, salamat po Mrs. Nancy Aranzazu.\n",
      "Ms. Aranzazu: God bless po.\n",
      "PRESIDENT DUTERTE: God bless.\n",
      "Ms. Ignacio: ‘Yan po ‘yung hotline ng masa kung saan personal niyong makakausap ‘yung mga taong nangangailangan. At siyempre ito ‘yung, alam po naming pagod na si Pangulong Rodrigo Duterte. Nais natin siyang—\n",
      "PRESIDENT DUTERTE: Hindi, okay lang.\n",
      "Ms. Ignacio: Pasalamatan at nabigyan po ng pagakakataon ang programang Mula sa Masa, Para sa Masa. \n",
      "Ito po ‘yung pagkakataon niyo na mailapit o mailapit niyong personal sa Pangulo ‘yung inyong mga hinaing o reklamo na agad namang tutugunan ng Pangulo.\n",
      "At siyempre nais nating pasalamatan dahil alam nating busing(busy)-busy si Pangulong Rodrigo Roa Duterte. Maraming salamat po sa programang ito.\n",
      "At siyempre nais po nating pasalamatan ang RTVM, ang PCOO, People’s Television Network, Radyo ng Bayan, Philippine News Agency, Philippine Information Agency, at ang ating social media accounts, Presidential Communications Facebook page, ang Mula sa Masa, Para sa Masa.\n",
      "Ang inyo pong statement, Mr. President.\n",
      "PRESIDENT DUTERTE: Well, I’m happy. This is the maiden flight ‘ika nga. \n",
      "If we can just continue with this program so that I can have communications with our countrymen outside the Philippines. At hindi talaga namin alam ‘yang  mga problema ninyo. \n",
      "Some are solvable, some are not. Some, it would take time for me to solve the problem. But you have my assurance na kami po ay trabahante lang sa gobyerno. We are workers of government and we intend to really work for you.\n",
      "Ms. Ignacio: Okay, maraming salamat, Mr. President. Maraming salamat po. Hanggang sa susunod, ako po si Rocky Ignacio.\n",
      "— END —\n"
     ]
    }
   ],
   "source": [
    "print(df.loc[580].transcript)"
   ]
  },
  {
   "cell_type": "markdown",
   "metadata": {},
   "source": [
    ">I'll turn every character to lower case and remove the name of duterte as well as remove those that are enclosed with brackets, parentheses, quotations and other unnecessary characters. We'll also remove english and filipino stop words. For english stop words we'll use the list from sklearn as for filipino stop words I made a list in *Filipino_Stopwords.txt*"
   ]
  },
  {
   "cell_type": "code",
   "execution_count": 1,
   "metadata": {},
   "outputs": [],
   "source": [
    "import re\n",
    "\n",
    "def clean_transcript(single_str):\n",
    "    lt_names= ['PRESIDENT RODRIGO DUTERTE:', 'PRESIDENT DUTERTE:', 'PRESIDENT RODRIGO ROA DUTERTE:']\n",
    "    str_cleaned = single_str\n",
    "    for nm in lt_names:\n",
    "        str_cleaned = str_cleaned.replace(nm, '')\n",
    "    str_cleaned = str_cleaned.replace('\\xa0', '')\n",
    "    str_cleaned = str_cleaned.replace('\\x0c', '')\n",
    "    str_cleaned = str_cleaned.replace('\\\\', '')\n",
    "    str_cleaned = str_cleaned.replace('—', '')\n",
    "    str_cleaned = str_cleaned.replace('-', '')\n",
    "    str_cleaned = str_cleaned.replace('...', '')\n",
    "    str_cleaned = str_cleaned.replace('…', '')\n",
    "    str_cleaned = str_cleaned.replace('END', '')\n",
    "    str_cleaned = re.sub(r\"\\[(.*?)\\]\", '', str_cleaned) #remove all that is contained within brackets\n",
    "    str_cleaned = re.sub(r\"\\((.*?)\\)\", '', str_cleaned) #remove all that is contained within parentheses\n",
    "    str_cleaned = re.sub(r'\\“(.+?)\\”', '', str_cleaned) #remove all that is in quatation as he probably quoting someone\n",
    "    str_cleaned = str_cleaned.replace('‘', '')\n",
    "    str_cleaned = [wrd.lower() for wrd in str_cleaned.split(' ') if wrd != '']\n",
    "    str_cleaned = ' '.join(str_cleaned)\n",
    "\n",
    "    return str_cleaned"
   ]
  },
  {
   "cell_type": "code",
   "execution_count": null,
   "metadata": {},
   "outputs": [],
   "source": []
  },
  {
   "cell_type": "code",
   "execution_count": null,
   "metadata": {},
   "outputs": [],
   "source": []
  },
  {
   "cell_type": "code",
   "execution_count": null,
   "metadata": {},
   "outputs": [],
   "source": []
  },
  {
   "cell_type": "markdown",
   "metadata": {},
   "source": [
    "# TESTING"
   ]
  },
  {
   "cell_type": "code",
   "execution_count": 280,
   "metadata": {},
   "outputs": [],
   "source": [
    "def get_duterte_part2(transcript):\n",
    "    lt_names= ['PRESIDENT RODRIGO DUTERTE:', 'PRESIDENT DUTERTE:', 'PRESIDENT RODRIGO ROA DUTERTE:', 'DUTERTE:']\n",
    "\n",
    "    lt_trans = transcript.replace('\\n', ' ').split(' ')\n",
    "\n",
    "    full_txt = ''\n",
    "    isDuterte = False\n",
    "    for word in lt_trans:\n",
    "        if ':' in word:\n",
    "            print(word)\n",
    "            if any(nm in word for nm in lt_names):\n",
    "                isDuterte = True\n",
    "                full_txt += '\\n'\n",
    "            elif 'Q:' not in word.strip():\n",
    "                isDuterte = True\n",
    "            else:\n",
    "                isDuterte = False\n",
    "\n",
    "        if isDuterte:\n",
    "            full_txt = full_txt + ' ' + word\n",
    "    return full_txt"
   ]
  },
  {
   "cell_type": "code",
   "execution_count": 281,
   "metadata": {},
   "outputs": [],
   "source": [
    "txt = df.loc[611].transcript"
   ]
  },
  {
   "cell_type": "code",
   "execution_count": 282,
   "metadata": {},
   "outputs": [
    {
     "data": {
      "text/plain": [
       "'\\nQ: …Challenge them in your speeches. Can we now hear from you a message for the residents of Marawi City, 250,000 something who were displaced? What are their assurances about rehabilitation? What are they going to have? Those who returned…\\xa0\\nPRESIDENT DUTERTE:\\xa0That is… That is sampung questions already.\\nWell, we had known along the buildup here in Marawi. That is why if you were tracking me, my statements in public was that\\xa0“do not force my hand into it” ’cause there were already terroristic acts including all — also victims were the innocent men and women and children.\\nAng Pilipinas, ayaw kasi, medyo complacent. Pero sila sa military pati police, wina-warningan na ako na it has become critical in Mindanao.\\xa0\\nAlam mo kung hindi talaga bobo ‘yang mga oppositors, you know you have to declare martial law in the entire Mindanao kasi wala ito… We are not separated by waters and they can always seek refuge because apparently nandito karamihan wala namang Kristyanos, all Moro from Mindanao.\\xa0\\nSo even on hot pursuits, they would go running towards Lanao del Norte or going down to Basilan, kaya kailangan mo… Kasi bakit mo i-martial law ang Marawi lang?\\xa0Eh kung kagaya ngayon nagtatakbuhan na?\\xa0\\nYou have to pursue them and if they are ordered, they might just ought to be terrorist states, bomba dito, bomba doon. Mahina kasi talaga ang grap — ang ano ng… You have to grapple between the naive or a pretended naïveté.\\nThis is Moro land ang Mindanao. It is not just a land of opportunities for all, Christians and everybody. So ang sympathy talaga niyan magbakbakan, ‘pag nagtakbo yan, in all direction.\\xa0\\nAnd that is why you have to declare the whole of Mindanao. Kung hindi ba naman mga bogo , p**** i**, hindi makaintindi ng ganun.\\xa0\\nQ:\\xa0Specifically po I was asking about your message to the residents of Marawi who have been displaced, who may not have homes to return to?\\nPRESIDENT DUTERTE:\\xa0We are, I said, it is in the pipeline. Long before, sinabi na namin matagal ‘to kasi nakapwesto na silang lahat. They were already deployed on vantage position.\\xa0\\nKumbaga sa away ito, umaakyat ang mga sundalo ko na sila nasa on top of the mountain. So ang target nila nasa baba, ‘yun ang Armed Forces.\\xa0\\n‘Di marami kaming patay. Hindi ko naman akalain na ganun kalala kasi now lumabas na si Baghdadi mismo, the leader of the ISIS has specifically ordered terroristic activities here in the Philippines.\\nWala naman kasi tayong away and we are having a quarrel here purely fueled by nationalism ng Moro. And we are trying to correct it with the MILF. We didn’t want to fight.\\nEh sabi ko it’s not a good thing for a President to declare martial law, especially I’m the second President only in modern history to declare martial law.\\nI am not proud of it. I am not happy with it. But I have to call the soldiers in because they were already occupying a definite territory and governance really has collapsed there in Marawi at saka they were already flying the ISIS flag. Nawala na ‘yung…\\nSo ngayon nakita na ninyong Pilipinas. Ang problema nito ‘yung spillover. That is why we have to declare martial law in the entire island of Mindanao because they can run everywhere and anywhere, and they can always find sanctuary and solace kasi distributed tayong lahat.\\xa0\\nThere are Christians in Jolo, and there are Muslims in Davao, lahat hanggang Abra. That is why it’s not a good thing to fight.\\xa0\\nI’m appealing to the Moro — ‘yung Moro na — ginagawa na nga natin eh. We’re trying to fix it by talking to the MI and I’ve been talking to Nur Misuari. As a matter of fact, he even committed his troops to fight in Marawi. Sabi ko, “huwag.” Kasi ano kayo eh, puro kayo Muslims. Huwag lang muna, hayaan mo na lang. \\xa0\\nSo government is the neutral party here. So kami, hayaan mo na lang kami. It has nothing to do with religion. I refused to believe that it is religion that fueled this war. It never has been and it is not now.\\nQ: So those who lost homes…?\\nPRESIDENT DUTERTE: Meron kami, sabi ko kay Jun, when I was mayor of Davao City siya ‘yung sa housing ko, “prepare a rehab plan for Marawi”. Unahin ko lang ‘yung mga bahay na ‘yung mga mahirap. Iyong mga malalaking building, hayaan mo na may pera ‘yan pero there will never be…\\nI will promise you there will never be cooking of shabu in this island of Mindanao when I am through.\\nI have ordered the military and the police to strike hard against the drug people kasi kasama na sila sa rebellion. Ang rebellion was financed by drug money.\\xa0\\nIyong remittances sa abroad, hindi masyado malalaki, tinignan na namin sa mga – you know, remittances. Ang pinakamalaki nga, napunta pa doon sa pulis. Alam mo kung sino ‘yan? ‘Yung babae na pulis na traydor, si Nobleza. She was receiving on a regular basis, money coming from the Middle East. Ganun katindi ‘yung walang-hiya na ‘yon. Traydor.\\nQ:\\xa0President…\\nPRESIDENT DUTERTE:\\xa0Yes?\\nQ:\\xa0Zea po from Davao Today. Sir, ano pong thoughts niyo on the participation of the US troops dito po sa Marawi?\\nPRESIDENT DUTERTE:\\xa0I am not aware of that until they arrived. When I declared martial law, I gave the powers to the Defense department. Hindi ako nakikialam because it is purely — and we follow the opinion of Justice Mendoza.\\nQ:\\xa0Sir, wala po ba itong effect doon sa pinupush ninyo na independent foreign policy sa bansa?\\nPRESIDENT DUTERTE:\\xa0Gusto ko nga sana eh kasi may giyera eh. And we are not that powerful. Maybe we do not have the technical expertise to do it.\\xa0\\nThat is why itong mga Philippine Army natin, most of them or all of them, nag-schooling ito sa America. So ito talaga ang sentimento nito, pro-American, pro-American talaga ang mga sundalo natin, that I cannot deny. Iyong away ko sa America, hindi ‘yung Amerikano, ‘yung p***** i**** Obama na ‘yon.\\nQ:\\xa0Sir, Independence Day po tomorrow, may nakikita po ba kayong, ‘yung pong target ng government na mabawi ‘yung Marawi from – sa mga kalaban?\\nPRESIDENT DUTERTE:\\xa0Mabawi naman, ma’am. Alam man ninyo ‘yan? Meron na except for one or two buildings there.\\xa0Snipers. Iyon lang ang tatapusin. But ang sundalo, they’re there in Marawi na.\\nMeron lang dalawa, two buildings with snipers. So until now, pati nga bata tinamaan eh. Pero let us not make this a joke na ganito lang kasimple ang…\\nJust imagine I lost how many soldiers? [Someone says: “58”] You see. And you say that silang mga — ‘yung mga oppositors. I lost 58 yesterday soldiers. Add it to the growing numbers already. Tapos ganun lang ka-simple ang tingin nila na.\\nThey better… Maybe sila kasi sa Luzon okay lang sila eh. But ilagay mo ‘to dito sa Mindanao? Make him establish a residence here in Marawi and in Zamboanga and Jolo, tingnan natin.\\nMadali lang kasi magdaldal, magpapogi. It’s very easy to, you know, criticize. But history has shown na ‘yung nagki-criticize, ‘yung noon Liberal sinasabi “corrupt”, “corrupt” si Arroyo ngayon sila, o tignan mo ‘yung six years eh ‘di puro corruption.\\xa0\\nQ:\\xa0Okay. Maayong hapon, Mr. President. May tulong na po ba tayo mula sa mga ASEAN countries at may tulong din po ba mula sa China at Russia?\\nPRESIDENT DUTERTE:\\xa0Wala, wala. I have not done that. I have not made an appeal. I said I did not even know that the American government has been providing technical.\\nKasi sabi ko ‘yung mga sundalo natin galing lang lahat… Almost all officers will go to America to study about militaristic thing. Kaya meron ‘yan silang rapport and I cannot deny that.\\nBut I said my quarrel with the — is with the State Department and Obama noon who was reprimanding me in public as if I were a federal employee.\\nSo pagdating naman sa kaibigan kong si Trump, si Donald, sabi niya: ‘Tama ka. God d*****. Wala kang mali diyan.’ O so sino ang sundin ko ngayon? Paiba-iba ang kultura nila. All the changing values of America, I really do not know.\\nSo we better stick to our own… Kaya ako wala akong… Totoo ‘yan, I never approached any American to say that, “Tumulong kayo.”\\nMaski wala man silang tulong. Siguro meron man. Ako, nagpapasalamat lang rin ako nandiyan na rin it could save lives. But to say na…\\nKaya man natin. Kaya natin. Sabi ng mga sundalo, “Kaya natin ’to.” O kita mo gusto mo nang bumalik o.\\xa0‘Yan, bantay pagbalik ‘yan kay may galit na ‘yan.\\xa0 Hindi ‘yan mag-atras hanggang hindi mawala ang ulo.\\xa0Oo.\\nSabi ko nga sa kanila huwag na ninyong ano ‘yung — bigyan ko sila ng baril. Huwag ninyong…\\nQ: Para sa kanila?\\nPRESIDENT DUTERTE: Oo, sabi ko magiwan ng dalawa. ‘Wag kang mag-surrender kay kung mag-surrender ka, puputulin rin ulo mo.\\nIyong bala na last, para iyo ‘yon. Ganun ang… Kung ako, ganon ang gawain ko. Hindi ako mag- surrender nang buhay. Ganun rin mamamatay ka rin, bakit mo ipahiya ka pa sarili mo?\\nPero ito matatapang ‘to. Babalik ito mga next year ganyan may sugat na naman, pero matatapang eh.\\nKaya ako, ‘pag mag-saludo ako, you would notice I would — bumaba ‘yang kamay mo kasi kung mag-saludo ka ng Presidente, mauna talaga ang Presidente magbaba.\\nPero itong mga idol ko… Iyong isa doon maraming anak o.\\xa0Tapos sabi niya, “Ilan asawa mo?” “Dalawa, sir. Ay isa lang pala, sir.” [laughter] Sabi ko, ikaw bata ‘wag kang mag-ano ha kay pareho ang sakit natin. Malaman ko kung nag-lie ka kagaya ko.\\nPero itong Marines matatapang ‘to. Kinatakutan talaga ‘to pati lahat ng sundalo. You are brave enough to fight any war.\\nIto Carolyn, sabihin mo doon sa mga tao mo sa bukid, batiin mo? Ah hindi ko malaman, una sabi nila, “you resume the ground action”. Tapos they wanted to offer to fight with the… Kaya tingnan ko. Pilipino ka man, tingnan mo ang sitwasyon. Which movement do you prefer? The ISIS or the Republic of the Philippines? Mamili kayo.\\nQ:\\xa0[off mic]\\nPRESIDENT DUTERTE:\\xa0Again?\\nQ:\\xa0Who is in charge of the rehabilitation?\\nPRESIDENT DUTERTE:\\xa0Evasco ‘yan. Si Evasco ‘yan. Evasco is the former priest who was arrested by the Scout Rangers noon, tapos nadala sa…\\xa0\\nPari yan, silang dalawa ni Tizon. Father Tizon is already dead. Waray ‘yon, pumunta doon sa Mindanao nakipag… Naging NDF kagaya mo tapos nahuli sila.\\nAlam mo man ang history, namakak pa gyud. Huwag ka na ngang magpa-deny-deny diyan. Iyong mga intelligence nagkalat, alam nila na…\\nQ: Wrong intelligence.\\nPRESIDENT DUTERTE: Hindi naman, okay, peace naman tayo. So wala namang galawan. Tapos si Evasco nagtrabaho sa akin naging mayor ako, I was the one prosecuting him because I was a fiscal. Ako ‘yung prosecutor niya sa korte.\\xa0\\nPagdating ng panahon, hindi naman namin kasalanan, binitawan lahat pati rebelde ayun, pumunta si Evasco sa akin naghingi ng trabaho.\\nNgayon, secretary na siya. Kaya pagbalik niya sa kampo doon mga sundalo, saludo sa kanya. Pero pagtalikod niya sabi ng sundalo, ‘Ang sarap barilin ng p***** i**.’ [laughter] Pati ‘yung mayor kasama niya. Pandamay ‘yan. \\xa0\\nNo, ganun lang ang buhay. There’s always a time for war and a time for peace. And this is a time for war.\\nQ: Message lagi to the Marawi residents?\\nPRESIDENT DUTERTE: Yes, I said… Alam mo man na galing ang lola ko doon.\\xa0\\nMga kapatid kong mga Maranao, lahat na pati the Moro world of Mindanao: I do not want to fight. I cannot… I simply cannot wage a war against my own people.\\nI pray that there will be a short period of war activity and we expect\\xa0it to be over soon. We are ready ang gobyerno, ang ating Republic, to extend assistance.\\xa0\\nWe will always… Alam na ni Evasco ‘yan, komunista ‘yan noon eh. Hanggang ngayon. Alam niya how it works in the masa. You go for the — mga mahirap, paakyat ka doon.\\xa0\\nKung may matira, ‘yung mga mayaman. Kung wala na, pasensiya.\\xa0\\n—END—\\n'"
      ]
     },
     "execution_count": 282,
     "metadata": {},
     "output_type": "execute_result"
    }
   ],
   "source": [
    "txt"
   ]
  },
  {
   "cell_type": "markdown",
   "metadata": {},
   "source": [
    "# CLEANING"
   ]
  },
  {
   "cell_type": "code",
   "execution_count": 4,
   "metadata": {},
   "outputs": [],
   "source": [
    "with open('need_cleaning_.pkl', 'rb') as fl:\n",
    "    df = pkl.load(fl)"
   ]
  },
  {
   "cell_type": "code",
   "execution_count": 5,
   "metadata": {},
   "outputs": [
    {
     "data": {
      "text/html": [
       "<div>\n",
       "<style scoped>\n",
       "    .dataframe tbody tr th:only-of-type {\n",
       "        vertical-align: middle;\n",
       "    }\n",
       "\n",
       "    .dataframe tbody tr th {\n",
       "        vertical-align: top;\n",
       "    }\n",
       "\n",
       "    .dataframe thead th {\n",
       "        text-align: right;\n",
       "    }\n",
       "</style>\n",
       "<table border=\"1\" class=\"dataframe\">\n",
       "  <thead>\n",
       "    <tr style=\"text-align: right;\">\n",
       "      <th></th>\n",
       "      <th>date</th>\n",
       "      <th>title</th>\n",
       "      <th>url</th>\n",
       "      <th>event</th>\n",
       "      <th>location</th>\n",
       "      <th>transcript</th>\n",
       "    </tr>\n",
       "  </thead>\n",
       "  <tbody>\n",
       "    <tr>\n",
       "      <th>0</th>\n",
       "      <td>May 26, 2020</td>\n",
       "      <td>Excerpts from Speech of President Rodrigo Roa ...</td>\n",
       "      <td>https://pcoo.gov.ph/presidential-speech/excerp...</td>\n",
       "      <td>Meeting with Philippine Army (PA) and Philippi...</td>\n",
       "      <td>Malago Clubhouse, Malacañang Park, Manila</td>\n",
       "      <td>So ako pati si Bong during my mayorship d...</td>\n",
       "    </tr>\n",
       "    <tr>\n",
       "      <th>1</th>\n",
       "      <td>May 25, 2020</td>\n",
       "      <td>Talk to the People of President Rodrigo Roa Du...</td>\n",
       "      <td>https://pcoo.gov.ph/presidential-speech/talk-t...</td>\n",
       "      <td>On Coronavirus Disease 2019 (COVID-19)</td>\n",
       "      <td>Malago Clubhouse in Malacañang</td>\n",
       "      <td>PRESIDENT RODRIGO ROA DUTERTE: I remember dist...</td>\n",
       "    </tr>\n",
       "    <tr>\n",
       "      <th>2</th>\n",
       "      <td>May 22, 2020</td>\n",
       "      <td>Speech of President Rodrigo Roa Duterte during...</td>\n",
       "      <td>https://pcoo.gov.ph/presidential-speech/speech...</td>\n",
       "      <td>Commencement Exercsies of the Philippine Milit...</td>\n",
       "      <td>Malago Clubhouse, Malacañang Park, Manila</td>\n",
       "      <td>Kindly sit down. [May upuan sila? Okay.], Defe...</td>\n",
       "    </tr>\n",
       "    <tr>\n",
       "      <th>3</th>\n",
       "      <td>May 19, 2020</td>\n",
       "      <td>Talk to the People of President Rodrigo Roa Du...</td>\n",
       "      <td>https://pcoo.gov.ph/presidential-speech/talk-t...</td>\n",
       "      <td>On Coronavirus Disease 2019 (COVID-19)</td>\n",
       "      <td>Malago Clubhouse in Malacañang</td>\n",
       "      <td>PRESIDENT RODRIGO ROA DUTERTE: Good evening my...</td>\n",
       "    </tr>\n",
       "    <tr>\n",
       "      <th>4</th>\n",
       "      <td>May 12, 2020</td>\n",
       "      <td>Talk to the People of President Rodrigo Roa Du...</td>\n",
       "      <td>https://pcoo.gov.ph/presidential-speech/talk-t...</td>\n",
       "      <td>On Coronavirus Disease 2019 (COVID-19)</td>\n",
       "      <td>Malago Clubhouse in Malacañang</td>\n",
       "      <td>PRESIDENT DUTERTE: Sir, one question. Itong op...</td>\n",
       "    </tr>\n",
       "    <tr>\n",
       "      <th>...</th>\n",
       "      <td>...</td>\n",
       "      <td>...</td>\n",
       "      <td>...</td>\n",
       "      <td>...</td>\n",
       "      <td>...</td>\n",
       "      <td>...</td>\n",
       "    </tr>\n",
       "    <tr>\n",
       "      <th>713</th>\n",
       "      <td>May 08, 2018</td>\n",
       "      <td>Speech of President Rodrigo Roa Duterte during...</td>\n",
       "      <td>http://pcoo.gov.ph/wp-content/uploads/2018/05/...</td>\n",
       "      <td>NaN</td>\n",
       "      <td>the Rizal Hall, Malacañan Palace</td>\n",
       "      <td>Maybe after my prepared speech, this is just a...</td>\n",
       "    </tr>\n",
       "    <tr>\n",
       "      <th>714</th>\n",
       "      <td>May 05, 2018</td>\n",
       "      <td>Speech of President Rodrigo Roa Duterte during...</td>\n",
       "      <td>http://pcoo.gov.ph/wp-content/uploads/2018/05/...</td>\n",
       "      <td>NaN</td>\n",
       "      <td>the Isla Ballroom, EDSA Shangri-La, Mandaluyon...</td>\n",
       "      <td>Thank you. Kindly sit down.     I’d forego wit...</td>\n",
       "    </tr>\n",
       "    <tr>\n",
       "      <th>715</th>\n",
       "      <td>May 04, 2018</td>\n",
       "      <td>Speech of President Rodrigo Roa Duterte during...</td>\n",
       "      <td>http://pcoo.gov.ph/wp-content/uploads/2018/05/...</td>\n",
       "      <td>NaN</td>\n",
       "      <td>the SMX Convention Center, Davao City</td>\n",
       "      <td>Salamat po. Thank you for your courtesy. You m...</td>\n",
       "    </tr>\n",
       "    <tr>\n",
       "      <th>716</th>\n",
       "      <td>May 02, 2018</td>\n",
       "      <td>Speech of President Rodrigo Roa Duterte during...</td>\n",
       "      <td>http://pcoo.gov.ph/wp-content/uploads/2018/05/...</td>\n",
       "      <td>NaN</td>\n",
       "      <td>Liwasang Alfaro G. Aguirre, Mulanay, Quezon</td>\n",
       "      <td>Kindly sit down. Thank you for your courtesy. ...</td>\n",
       "    </tr>\n",
       "    <tr>\n",
       "      <th>717</th>\n",
       "      <td>May 01, 2018</td>\n",
       "      <td>Speech of President Rodrigo Roa Duterte during...</td>\n",
       "      <td>http://pcoo.gov.ph/wp-content/uploads/2018/05/...</td>\n",
       "      <td>NaN</td>\n",
       "      <td>IEC Convention Center of Cebu, Pope John Paul ...</td>\n",
       "      <td>Paglingkod lang, sige mo pakpak diha. (Please ...</td>\n",
       "    </tr>\n",
       "  </tbody>\n",
       "</table>\n",
       "<p>707 rows × 6 columns</p>\n",
       "</div>"
      ],
      "text/plain": [
       "             date                                              title  \\\n",
       "0    May 26, 2020  Excerpts from Speech of President Rodrigo Roa ...   \n",
       "1    May 25, 2020  Talk to the People of President Rodrigo Roa Du...   \n",
       "2    May 22, 2020  Speech of President Rodrigo Roa Duterte during...   \n",
       "3    May 19, 2020  Talk to the People of President Rodrigo Roa Du...   \n",
       "4    May 12, 2020  Talk to the People of President Rodrigo Roa Du...   \n",
       "..            ...                                                ...   \n",
       "713  May 08, 2018  Speech of President Rodrigo Roa Duterte during...   \n",
       "714  May 05, 2018  Speech of President Rodrigo Roa Duterte during...   \n",
       "715  May 04, 2018  Speech of President Rodrigo Roa Duterte during...   \n",
       "716  May 02, 2018  Speech of President Rodrigo Roa Duterte during...   \n",
       "717  May 01, 2018  Speech of President Rodrigo Roa Duterte during...   \n",
       "\n",
       "                                                   url  \\\n",
       "0    https://pcoo.gov.ph/presidential-speech/excerp...   \n",
       "1    https://pcoo.gov.ph/presidential-speech/talk-t...   \n",
       "2    https://pcoo.gov.ph/presidential-speech/speech...   \n",
       "3    https://pcoo.gov.ph/presidential-speech/talk-t...   \n",
       "4    https://pcoo.gov.ph/presidential-speech/talk-t...   \n",
       "..                                                 ...   \n",
       "713  http://pcoo.gov.ph/wp-content/uploads/2018/05/...   \n",
       "714  http://pcoo.gov.ph/wp-content/uploads/2018/05/...   \n",
       "715  http://pcoo.gov.ph/wp-content/uploads/2018/05/...   \n",
       "716  http://pcoo.gov.ph/wp-content/uploads/2018/05/...   \n",
       "717  http://pcoo.gov.ph/wp-content/uploads/2018/05/...   \n",
       "\n",
       "                                                 event  \\\n",
       "0    Meeting with Philippine Army (PA) and Philippi...   \n",
       "1               On Coronavirus Disease 2019 (COVID-19)   \n",
       "2    Commencement Exercsies of the Philippine Milit...   \n",
       "3               On Coronavirus Disease 2019 (COVID-19)   \n",
       "4               On Coronavirus Disease 2019 (COVID-19)   \n",
       "..                                                 ...   \n",
       "713                                                NaN   \n",
       "714                                                NaN   \n",
       "715                                                NaN   \n",
       "716                                                NaN   \n",
       "717                                                NaN   \n",
       "\n",
       "                                              location  \\\n",
       "0           Malago Clubhouse, Malacañang Park, Manila    \n",
       "1                       Malago Clubhouse in Malacañang   \n",
       "2           Malago Clubhouse, Malacañang Park, Manila    \n",
       "3                       Malago Clubhouse in Malacañang   \n",
       "4                       Malago Clubhouse in Malacañang   \n",
       "..                                                 ...   \n",
       "713                   the Rizal Hall, Malacañan Palace   \n",
       "714  the Isla Ballroom, EDSA Shangri-La, Mandaluyon...   \n",
       "715              the SMX Convention Center, Davao City   \n",
       "716        Liwasang Alfaro G. Aguirre, Mulanay, Quezon   \n",
       "717  IEC Convention Center of Cebu, Pope John Paul ...   \n",
       "\n",
       "                                            transcript  \n",
       "0         So ako pati si Bong during my mayorship d...  \n",
       "1    PRESIDENT RODRIGO ROA DUTERTE: I remember dist...  \n",
       "2    Kindly sit down. [May upuan sila? Okay.], Defe...  \n",
       "3    PRESIDENT RODRIGO ROA DUTERTE: Good evening my...  \n",
       "4    PRESIDENT DUTERTE: Sir, one question. Itong op...  \n",
       "..                                                 ...  \n",
       "713  Maybe after my prepared speech, this is just a...  \n",
       "714  Thank you. Kindly sit down.     I’d forego wit...  \n",
       "715  Salamat po. Thank you for your courtesy. You m...  \n",
       "716  Kindly sit down. Thank you for your courtesy. ...  \n",
       "717  Paglingkod lang, sige mo pakpak diha. (Please ...  \n",
       "\n",
       "[707 rows x 6 columns]"
      ]
     },
     "execution_count": 5,
     "metadata": {},
     "output_type": "execute_result"
    }
   ],
   "source": [
    "df"
   ]
  },
  {
   "cell_type": "markdown",
   "metadata": {},
   "source": [
    "# CONTAIN DIALOGUES"
   ]
  },
  {
   "cell_type": "markdown",
   "metadata": {},
   "source": [
    "## 580"
   ]
  },
  {
   "cell_type": "code",
   "execution_count": 8,
   "metadata": {},
   "outputs": [
    {
     "name": "stdout",
     "output_type": "stream",
     "text": [
      "ROCKY IGNACIO: Magandang araw Pilipinas. Ito po si Rocky Ignacio. Ito po ang programang Mula sa Masa, Para sa Masa. Ito po ang programang maghahatid sa panguluhan kung ano ang kanilang mga problema.\n",
      "At syempre ito rin ang magbibigay daan para maihatid ang mga mahahalagang programa ng pamahalaan.\n",
      "Ngayong araw po, syempre makakasama natin ang\n",
      "tinatagurin nating bida ng masa, si Pangulong Rodrigo Duterte.\n",
      "\n",
      "PRESIDENT DUTERTE: Magandang araw po. I am happy that I have thistime with you para pag-usapan ‘yung mga tinatanong ninyo sa akin. Questions that are never answered by me or by anybody else tapos gusto ninyong malaman ngayon ang mga rason na ‘to and I am ready to respond to your questions.\n",
      "\n",
      "MS. IGNACIO: Mr. President kasi meron pa rin mga katanungan ang mga Filipino sa usapin ng environment, isa po ‘yan sa mga matagal ng naging issue sa ating bansa, panoorin po natin ito.\n",
      "\n",
      "\n",
      "\n",
      " IGNACIO: ‘Yan Mr. President. Kasi marami rin po ang nanghinayang sa hindi nga pagkumpirma kay dating DENR Secretary Gina Lopez. Pero ano nga ba ang marching order ng pangulo kay DENR Secretary Roy Cimatu?\n",
      "\n",
      "PRESIDENT DUTERTE: The question is ripe. Una na natin pag usapan yung kay Secretary Lopez in the sense as she was rejected by the Commission on Appointments despite of my public pleadings in one or two public gatherings but I do not want to impose anything against the, or impose on the congressional body, Commission on Appointments. So tatanggapin natin yan.I chose Cimatu because I believe in him.  When I was the mayor of\n",
      "Davao City for the longest time, I was always appointed as the\n",
      "regional peace and order council chairman. So when he was assigned dito sa Davao City, we used to meet every now and then regarding the\n",
      "law and order situation of Region 11 of which I was the sabi ko nga,\n",
      "chairman.\n",
      "And we became friends and I know Cimatu. He is honest, hardworking, he is a graduate of the Philippine Military Academy. He served his country well. At one time he was the envoy of President Arroyo nung mga evacuation movements ng ating mga kababayan sa Middle East and also, he was the Chief of Staff at one time.\n",
      "He’s a silent guy, very low-key personality but he does his work very well.\n",
      "Yung mining naman is, there is what you would call a description of your work.  All you have to do is to read the law creating that bureau,\n",
      "mining or the larger.. you would really be the DENR.\n",
      "\n",
      "Basahin lang niya ‘yung mga provisions diyan and enforce it . It doesn’t have to be a genius especially Cimatu graduate nga ng PMA ‘yan, he will know what to do and he will do it right.\n",
      "The quality that I had always been my requirement sa mga Cabinet\n",
      "members is that you serve with honesty and integrity. Alam nila, alam\n",
      "ni Roy, kilala niya ako, for so many years noong he was first assigned\n",
      "various capacities thereon, siya at ako as mayor  alam niya ang ugali ko at alam niya ano ang ibig sabihin ng public service sa akin.\n",
      "Matagal na kami nagkasama and I am sure that he will do his best for his country. Ang\n",
      "sinabi ko lang nga, yung marching order ko, sabi ko right after I swore\n",
      "him into office, sinabi ko lang that… my marching orders really is\n",
      "you are there in the Department of Environment and Natural\n",
      "Resources just do your duty and do it right and do not.. always do it\n",
      "for the country.\n",
      "\n",
      "MS. IGNACIO: Okay, Sa issue naman ng peace and order Mr. President, panoorin natin ‘to.\n",
      "\n",
      "[Video plays]\n",
      "\n",
      "MS. IGNACIO:  ‘Yan kasi Mr. President. May mga kaibigan akong reporter, na natatakot kasi sila na madako dito sa bandang Quiapo. Kasi nga nasa sa isip nila ISIS nga ang gumawa. Pero resulta nga ng\n",
      "imbestigasyon ng PNP hindi at iba itong motibo so papano ika-counter ng government yung fear ng katulad naming ordinaryong tao na\n",
      "wala talagang kinalaman ang ISIS dito?\n",
      "\n",
      "PRESIDENT DUTERTE:  In the first place, hihingi ako na lang ng\n",
      "paumanhin sa inyo. I am forced to shift into minsan sa English because ‘di ko alam yung appropriate na Tagalog words to characterize what I am trying to say.\n",
      "But certainly it is not an ISIS thing. One is that kung ISIS iyan di\n",
      "puputok sa Quiapo yan it could be somewhere else but definitely not\n",
      "Quiapo. Kasi puro, karamihan nakatira diyan kapatid natin na Moro.\n",
      "If it is ISIS, I do not think it would start there or initiated in that\n",
      "place. But there is bad blood amongst the groups of persons there. It\n",
      "could be a rido, which is actually a rido is a vendetta, tawag naming\n",
      "dyan e vendetta ng isang pamilya o isang grupo but yung pipe bomb na pumutok at saka yung, the subsequent ones, yung dalawa.\n",
      "Kaawa naman yung nagdala, yung inutusan ng ano, he was working for this company, is it a delivery thing? Parang Uber, yuber or whatever ayan na empleyado lang ng isang kumpanya hinatid yung pinadeliver doon.\n",
      " While he was handling it, giving it to the other guy iyon pumutok.\n",
      "And so iyon ang damay talaga but definitely, I am assuring you it is\n",
      "not the handiwork of ISIS. Hindi naman sabihin mo ilagay mo naman lahat sa ISIS\n",
      "I do not like ISIS. But I do not like to attribute things na hindi naman\n",
      "nila ginawa.\n",
      "Let’s put things in the proper perspective. Para we act fairly in\n",
      "everybody’s thing and this is not theirs.\n",
      "So parang away ito diyan sa loob na personal. Always, I think it is\n",
      "money. But if there is something else in the theory, I do not know but\n",
      "I should say it always begins with money matters. Almost all quarrels begin with money. Yun ang masasabi ko. And I assure our country.\n",
      "Well Isis is\n",
      "doing their thing which are altogether bad but wag naman  natin I ano\n",
      "sa kanila iyong di naman nila ginawa.\n",
      "It’s wrong and beside it could only mislead a person into believing\n",
      "things that they are when they are not.\n",
      "\n",
      "MS. IGNACIO: Okay, Mr. President eto naman issue ito sa nagiging imahe ng Pilipinas sa international community panoorin nyo po.\n",
      "\n",
      "[Video plays]\n",
      "\n",
      "MS. IGNACIO: ‘Yun nga Mr. President sinasabi niya na hindi opisyal yung kanyang pagbisita sa Pilipinas. But then,nagkakaroon ito ng pagkakataonna sinasabi nga di ito taliwas sa sinasabi ng gobyerno when it comes to human rights at yung anti drug campaign ng Duterte administration.\n",
      "\n",
      "PRESIDENT DUTERTE: Well I would not know her from Eve, asawa ni Adam. You know, I would not talk about the soundness of her visit dito or visit nya doon. As a matter of fact she can talk anytime here, punta siya dito.\n",
      "But I would not listen to her. You know there is one crucial thing\n",
      "that happened while she was here. And her statement na ang shabu hindi nakakasira ng utak ng tao.  Anak naman si ma’am oy.  Ano pangalan niyan?\n",
      "\n",
      "MS. IGNACIO: Agnes Callamard.\n",
      "\n",
      "PRESIDENT DUTERTE: Ano, ay Agnes, kapangalan ka pa naman ng duktor ko. Alam mo, if you review and move backwards maybe ten steps back, from four or three years, 77,000 Filipinos died drug related crimes, mostly mga rape, mga murder diretso, rape with homicide, robbery with homicide ,robbery with rape and homicide. The last one that was really a very robust indictment kita yung babae doon sa Cagayan and lahat naka droga.\n",
      "Kung ang mga tao magsabi sa iyo ang guardian angel niyan nagsasabi na patayin niya, katsahin niya yung nanay niya kasi demonyo. Kung lahat ng mamamatay tao diyan walang kasalanan, hindi siraulo, bakit pumatay ang mga pu— Bakit nila ginalaw ang mga bata? One year old, two year old.\n",
      "Alam mo pagka ganun ang ginagawa ng tao whether you like it or not, he is crazy. Ang tao na mag rape ng 18 years old, one year old na bata must be crazy.\n",
      "So what caused this insanity of the numbers of Filipinos committing\n",
      "the crime? Imposible naman na  araw-araw may mabubuang lang sa\n",
      "hangin, or because of genetical disorder. Ang experience natin would\n",
      "tell us that it is a virulent chemical. And nobody but nobody can dispute that with just a simple statement, pareho ‘yung itim na isa ring pumunta dito, ‘yung buhok kung saan-saan pumunta.\n",
      "Kaya sabi ko, mag-honeymoon na muna kayo ni… anak ng… kami dito na nagtiis sa droga for so many years, ako ‘yung mayor 23 years, halos gabi-gabi akong nagpa-patrolya noong bago pa akong mayor.\n",
      "You want to dispute that with a statement without any factual basis? You did not even mention or pronounce something that is connected, a study that is connected with drugs.\n",
      "How can you be so… stupid. You are stupid. Now, for me to submit to you an investigation at this time now, you must be crazy, you have prejudged me.\n",
      "Ang sinasabi mong shabu cannot cause anything, or damage in the mind, or in the structure of the brain of a person. In-assume na tuloy ninyo na ‘yan, ibig sabihin pinatay mo for nothing, ‘yan ang gusto ninyong palabasin eh.\n",
      "Pinapatay ko, dahil durugista, siraulo, baka patayin mo naman ‘yung hindi loko-loko. Ngayon, sinabi ninyo yung drugs okay ‘yan, parang aspirin lang ‘yan at pinatay mo pa.\n",
      "You have prejudged me and sinong g*** na papayag na pumunta ng investigation nung ganoon, nung prine-judge na ninyo ‘yung shabu as one chemical that does not really affect or damage the brain of a person.\n",
      "You must be kidding. You must be kidding. Kayo ang dapat i-indict ko, if you want to have a public debate, come here.\n",
      "Basta, if you want to testify against me, you must be under oath, including the rapporteur. If you want to state your charges, be under oath because if there is anything false or a lie there, I will go after you.\n",
      "And I will see to it that you’ll go to jail first. Talagang hahatakin, even if you are a foreigner, I don’t know if you enjoy diplomatic advantage. But again, pagka ginawa mo ‘yan dito, I will arrest you.\n",
      "You are committing perjury… God.\n",
      "\n",
      " IGNACIO:Yes. Mr. President, according to Foreign Affairs Secretary Alan Peter Cayetano, your anti-drug war is to protect the more than 100 million Filipinos?\n",
      "\n",
      "PRESIDENT DUTERTE: Yes, correct. You have 4 million drug addicts, what am I supposed to do?\n",
      "Alam mo ganito ‘yan eh, Rocky, at the time he commits the crime, magnanakaw siya pera para magamit niya, he can buy shabu, he kills a person but at that time he is high on drugs.\n",
      "Therefore, not in his right mind, pagka na establish ‘yan, na siya pumatay dahil sa droga, hindi mo madala sa korte ‘yan, because at that time he is not of sound mind, he is not equipped with the mental faculties to face the cons… to discern what is right and what is wrong.\n",
      "Ngayon, kung hindi siya g*** noon, hindi siya buang, but at the time of the trial buang na siya o baka 6 months after, overuse of the chemical shabu, hindi mo na rin sila ma-demanda.\n",
      "And they cannot stand trial because the court will say, “look, he cannot stand trial because he’s crazy.” And so, in between far and wide the victims now, who will answer for these crimes?\n",
      "Hindi mo naman mahabol kasi out of his mind nga nung ginawa niya, o nung ginawa niya of his right mind but at the time of the trial wala na, sabog na, sino ngayon ang babayad nitong problema [beep sound]\n",
      "Who will now answer for this loss of so many lives? And who will now take care of this 4 million? Madali lang ‘yan sabihin sa inyo, kita mo naman sa America, tapos sila—\n",
      "You know, it was not until with the advent of everybody being conscious of human rights. Wala ito noon eh, but in the early 60’s, itong America and itong EU, but lalo na America, in their desire to be civilized… to be known as a civilized state, started going around, giving assistance for promotion of human rights, wala pa ‘yang shabu.\n",
      "Not even money to combat shabu, only the promotion of human rights, karamihan noon mga political. Mga biktima sa political vendetta. Either because the dictator is… is harsh of putting in prison many of his political enemies.\n",
      "Doon nag-umpisa ‘yan, ngayon, they rambled into so many things: Marijuana, bawal noon, patayan tapos suddenly they realize, Marijuana pala hindi, okay ‘yan, so nagbibigay na sila ng marijuana.\n",
      "‘Yung pinatay ninyo noon, papano ‘yun? Kung ang marijuana pala okay, pinagbibigay na ninyo ng libre ngayong, so what happened to those that were arrested and those that are killed in the process?\n",
      "Sinong managot doon, gobyerno, kayo? Tapos pupunta kayo dito sa amin tinuturo ninyo kami. Na sa amin, alam namin na bawal talaga, eh nasa batas naming eh. See?\n",
      "And if they are arrested, and they do not want to be placed under the custody of the law, but rather would fight, makipagpatayan, makipagsaksakan, and they are killed and you are pointing it to me, wala naman akong inutusan na patayin ka ng nakatalikod o nakaluhod.\n",
      "So, dapat kayo ang may topak, siguro kayo ang nag-marijuana noon, ‘yung ulo ninyo sira. How about the drug-bust operations noon ng marijuana namatay, kinulong ninyo ng 99 years… aggravating because it was a…\n",
      "The crime of rape was committed with the use of drugs, so maximum of 60 years, 50 years. Who will now pay for this? Following your theory, who will not pay for this?\n",
      "Na-libre na pala ang marijuana ngayon, pinagbibigay na ninyo, ngayon ang gusto ninyo, suggestion ninyo, maglagay ako ng istasyon ng mga shabu at ibibigay ko sa mga Pilipinong… para libre na.\n",
      "May tanong ako sa inyo: kayong lahat diyan sa human rights, magsabi lang kayo ng totoo, hindi ako magagalit, naka-droga kayo? Hindi, magsabi lang kayo ng totoo, are you on drugs? Because I am inclined to believe that you are.\n",
      "\n",
      " IGNACIO:Mr. President, you…\n",
      "\n",
      "PRESIDENT DUTERTE: Magbigay ako ng halimbawa, kung maglagay ako ng shabu dito ngayon, ikaw, kukunin mo?\n",
      "Ms. Ignacio: Hindi ako marunong niyan. Mister President, ‘yung kampanya mo kontra iligal na droga, talagang sinusuportahan ‘yan maski ng mga Pilipino abroad. Pero nasaan na nga ba ang anti-drug war ng Duterte administration?\n",
      "PRESIDENT DUTERTE: Sinabi ko sa inyo ganito, ‘yang general statement ko, Mayor pa ako niyan. Sinabi ko sa inyo, huwag ninyong sirain ang mga anak namin, kasi kapag kami ang tumanda, kaming nandito sa kuwarto na ito, puro gobyerno lang ito.\n",
      "So wala kaming mga salarin na pwede kaming mag… ako kasi, Presidente na, maybe 9 months straight sa ospital, the best services, lahat first class. Pagdating ng 9 months, tabla na ako.\n",
      "Eh ’yung mga mahirap pa sa akin? Sinong magbili ng oxygen sa kanila, sinong magbigay ng medisina sa kanila, sinong magsusubo ng lugaw sa bunganga nila? Kayo, p***** i** ninyo.\n",
      "Madaling sabihin ‘yan eh. Who will suffer? It’s the Filipino, the child na inasahan namin na pinag… na inalagaan namin ng mabuti, tapos mabuang lang sa ganoon.\n",
      "And there comes the ridiculous suggestion that I place drugs in strategic places for them just to use it and when they are drunk, after all ganito eh.\n",
      "When all has been said and done, at the end of the day, the Republic of the Philippines will collapse. Who’s gonna revive it? Who’s going to help them? My countrymen, who’s going to rehabilitate my country from the onslaught of drugs, kayo?\n",
      "Kayong mga [beep sound], you’re crazy, you must be crazy. Kaya ‘yung sinabi ko na, “do not do this because I will kill you,” that is a general statement wala akong… I, I, ako… I will kill you.\n",
      "Hindi ako nagsabi na, I will order Bong Go to kill you with a revolver or a pistol or with a… because it was an outrage coming from a leader. Pero ‘yung mga pulis, bago maging pulis ‘yan, tinuturo na sa kanila kung paano, kung kailan magpatay ng tao.\n",
      "And there is only one rule there, whether in the performance of duty or isa ka lang… a citizen, and walking to the streets and you are attacked, wala kang kasalanan and you kill the idiot, self-defense, sa pulis naman, performance of duty.\n",
      "Hindi ko na kailangang sabihin that I will kill you because the law says that da-da-da-da… tapos na ‘yan, alam ng pulis kung hanggang saan ‘yan sila.\n",
      "‘Yung ‘I will kill you’ is an outrage of mine and ‘yan ang ginagamit ng mga ‘yan, kaya nga ako sabi ko istupido kayo eh. Kita mo naman, I never said I will order the army, I will order the scout rangers to kill you.\n",
      "I said, “I will kill you.” Hanggang ngayon, wala pa akong pinatay na rapporteur. Sinong pinatay ko? “I will kill you,” that is a generic… Kasi ‘yan ang galit ko ng mayor ako, ‘yang ang galit ko ngayon.\n",
      "You know what, you must understand that I am just… I am not just a mayor, or was a mayor for nothing. My job there was to catch or run around, my job was to heal the city.\n",
      "When I was first elected President, my job was to build a nation. Stop [beep sound]\n",
      "\n",
      " IGNACIO:Speaking of building a nation, Mr. President, maganda ‘yung pagkilala sa iyo ng international community, even Chinese President Xi Jinping, invited you doon sa international, ‘yung One Road, One Belt.\n",
      "\n",
      "PRESIDENT DUTERTE: Framework for really progress and China has a large participation there including maybe the financing of projects that would be critical in building that hypothetical road. \n",
      "It actually… it’s not… it travels around the sea papuntang Pilipinas then to Malaysia down to Indonesia, then maybe Australia.\n",
      "Ms. Ignacio: Isa ‘yan sa mga magki-create doon sa target mo na magdagdag opportunities and trabaho sa mga–?\n",
      "PRESIDENT DUTERTE: Yes, because China would build the industries for you to export and import.\n",
      "So kung ano ka, malakas ka diyan, kagaya ng Pilipinas, sa agricultural tayo because whether you like it or not we are agricultural based country. Then we start to improve on that and maybe expand. \n",
      "Kung ano ‘yung pinakamarami sa’yo, ‘yun. Mining, ‘di mine and mine and mine  and produce more. You need money really to grow up in this world.\n",
      "Ms. Ignacio: Pero ‘yung inappoint mo si Foreign Affairs Secretary Alan Peter Cayetano, nagkaroon na kayo ng conversation or discussion kung papaano idi-deal ‘yung issue ng Pilipinas sa South China Sea?\n",
      "PRESIDENT DUTERTE: Yes, may prangkahan na kami. More than ‘yung sabi ninyo na suggestion niya [unclear].\n",
      "Sabihin ko lang sa inyo in due time, in front of several Cabinet members, point blank. Sinabi ko ‘yun. Sinabi ko, we are going there to drill for oil, ‘cause that is ours. Ayaw ko na lang -iano ‘yung sagot ng–\n",
      "Pero ganito na lang. Sabihin ko sa’yo. Iyo ‘yan? Do not touch it. Kaibigan tayo. Kung pakialaman mo ‘yan, gusto mo away tayo, giyera tayo? \n",
      "More than just invoking ano, na amin ‘yan, amin ‘yan. Eh kung sagutin ka ng ganon, anong gawin ko? Teka muna kay mag kuha ako ng Navy ko.\n",
      "Ms. Ignacio: Pero definitely, Mr. President, ‘yung decision ng UN Arbitral Tribunal hindi mababalewala ‘yun when it comes to–?\n",
      "PRESIDENT DUTERTE: Hindi ‘yan mababalewala becaue it will be there for all time and it will always bug China. \n",
      "But at this time, because so many countries are claiming the area, kaya sila ganyan. Kasi Vietnam is also there. Nandiyan ang Malaysia. Mag-agawan ‘yan, magulo na. Kaya sabi niya, “Huwag muna.”\n",
      "Wait for better times when heads are cooler and when we are, we have the equanimity sa ating katawan, both in minds and body to discuss it. \n",
      "But I told them that there always be a time that the issue will crop up even during my term.\n",
      "Marami tayong pledges to help and China has been very adamant about it. Actually they have, they are the ones hurrying us up. ‘Yung first mga tranches nila dumating naman.\n",
      "It’s about two billion plus already coming in. Dumating na. And everybody’s taking advantage of it. It is not really a money where you can withdraw from the bank and then you just throw it out.\n",
      "It’s a money for business. So lahat ng mga may negosyo ngayon na gusto mag-expand… So in expanding, you also increase the number of Filipinos employed.\n",
      "Ang habol ko diyan ang trabaho muna. But maybe later on, in the fullness of God’s time, we’ll be able to develop really a product that our own. Most of that is really ‘yung steel which is one of the concessions being asked by the itong komunista, that we develop our own steel industry.\n",
      "Kasi sabi kasi nila mura ngayon. Some other school of thought say that a [block?] of supplies… iron. \n",
      "Hindi ‘yan eh. Eh kung magka-l****-l**** itong buhay na ito, mag-away-away kayo. Saan na kukuha ng para gawing bala?\n",
      "Ms. Ignacio: Pupunta na tayo ngayon sa bahagi ng programa na ‘to na “Good Job.” Bibigyan ka naming ng magandang balita, ‘yung “Good Job” pagdating sa ating mga OFWs. Tingan niyo po ‘to.\n",
      "OFW in video: WASAQ po. Ang meaning po ng WASAQ is Welfare and Services Associated with Hospitality Qatar. \n",
      "Ito po ‘yung grupo ng mga OFW na tumutulong sa ating mga kababayan dito para po mai-uplift or mai-enhance ‘yung kanilang skills regarding in baking.\n",
      "So ang [unclear] po ngayon is naga-assist sa amin in terms of food ng mga volunteers and rental ‘nong place. Meron po kaming mga graduates na dating [T-Boy?] which is ngayon pastry chef na sa mga hotels dito.\n",
      "So meron din po kaming graduate na dating domestic helper pero ngayon po isa na rin po siyang pastry chef. \n",
      "‘Yung iba naman they cannot afford na to pay so libre po talaga.\n",
      "Ngayon, ito lang pong huling batch nagbigay po kami ng, nanghingi kami ng—\n",
      "Man in video: Volunteer na nagluluto ng mga pangarap ng ilang OFW na naghahangad sumarap ang buhay. Hindi lamang dagdag na income ang natitimpla sa bawat attendee, kung ‘di paraan ito sa pagtaas ng morale nila dahil sa dagdag tulong sa harap ng pugon.\n",
      "Gaya ng cake na sa unang salang walang halimuyak, kaunti ang attendees sa WASAQ sa unang salang. Pero habang umuusog na sa  ng kaalaman, umakit sila sa mga gustong tumikim ng matamis na pastries.\n",
      "Woman in video: Hangga’t nandidito po kami, willing po kami to volunteer para makatulong. Ang kailangan lang po talaga namin ‘yung lugar.\n",
      "Man in video: Nangangamba nga lang si Aling [Rosalie?] ang hepe ng pugon na baka mapanis ang sinimulan nilang putahe ng malusog na kapalaran para sa OFWs ng Qatar.\n",
      "Kahit suportado ng TESDA, OWWA at POLO ang kanilang baking school, wala silang sariling panaderya para ma-preserve ang mga mabuting layunin.\n",
      "Ms. Ignacio: ‘Yan, ano ‘yung maipapahatid na tulong ng pamahalaan?\n",
      "PRESIDENT DUTERTE: Ganito ‘yan Rocky eh. ‘Di naman ako nagpapa-corny, but ako talaga mahal ko ang kababayan kong Pilipino. Pilipino ako eh. \n",
      "Ngayon, maski sa… ang pangako ko na walang corruption. Talagang hihintuin ko ang corruption.  Kapag naka-demanda ka ng corruption dito, I will see to it na kung may kasalanan ka, you are out.\n",
      "It goes for all, from the Cabinet. May finire (fire) out na ako during a Cabinet meeting for lying through his teeth in front of me. \n",
      "May mga taga-Davao ako na with me since I was Mayor. Wala, sinipa ko.\n",
      "Ganito kasi ‘yan para sa ating mga OFW. Sabi ko, I promised you within mga three to four years mag-stabilize ‘to. Wala ‘yung droga, ‘yung kriminal, I will go down then progress can really come to our country.\n",
      "Maghintay lang ho kayo nang konti. Just give me time to improve things and sa awa ng Diyos, i-improve talaga tayo. \n",
      "Ngayon pa lang nagi-improve na economy. Umaakyat na. Ang exports natin back to the original. Noon, wala nang nagbibili ng saging kasi may ano, may alitan ang America, pati tayo nadadamay sa China. And the same with Russia.\n",
      "Kaya ganito ‘yan for the OFW. Ganon na lang ang pagmamalasakit ko sa inyo. Kasi alam mo, may nanay umaalis. Once the mother leaves, the family, that family is already, hindi na normal ‘yan. Dysfunctional na ‘yan.\n",
      "Pag umalis pa ang tatay at pupunta doon sa isang bayan, hindi magka pareho, that family is now left in the care of mga lolo, lola, o kapatid.\n",
      "That time, dysfunctional na ang bata. Lalaki ‘yan na wala masyadong disiplina, always longing a father or mother.\n",
      "Kaya ako talagang galit sa mga durugista. Talagang papatayin ko kayo kasi kita mo naman lumalabas ng bayan ‘yan and they endure ‘yung kalungkutan sa anak.\n",
      "Ang anak… Both ways ‘yan eh. Ang anak maghanap ng tatay, nanay. Tapos tatay, nanay always pagka gabi.\n",
      "And they endure hardships. Tingnan mo ‘yang mga Pilipinong umuuwi dito. Ano ang standard nila? Ang tulog nila ilan? Basahin mo lahat, three to four hours. Ang kinakain ‘yung lugaw pa na basura na sa ibang tao.\n",
      "Kaya ako diyan mainit. ‘Yung iba are subjected to sexual abuse and they endure it para lang kumita, maipadala sa mga anak nila, para makapag-aral. Only to realize at the end of the day pagbalik nila, nasira sa shabu o nabiktima ng drug addict ang mga anak kasi walang nagbabantay.\n",
      "Ms. Ignacio: Yes. May isa pang humihingi naman ng tulong, Mr. President. Isang OFW sa Qatar na nagtatrabaho ng legal 13 years ago. Gusto ng amo niya na maging illegal na ang kanilang operasyon, mag-recruit ng mga Pilipino na wala umanong malinis na papel ang kanilang tinututulan.\n",
      "Ang ganti ng amo ay pagkansela ng kanyang kontrata. At nagka-anak siya. Nagka-anak siya tapos namatay ‘yung asawa niya kaya nawalan din ng documents ang bata, na-null and void. Pakinggan natin ‘yung story.\n",
      "PRESIDENT DUTERTE: Well, we have always the embassy and if you have time, I will personally have the Foreign Affairs department to look into this. Give more focus on acts of injustice and we will do the necessary things to help you.\n",
      "Ms. Ignacio: Ito, pakinggan natin, Mr. President, para maka abot sa‘yo ‘yung hinihingi nilang tulong. Panoorin mo ‘to.\n",
      "PRESIDENT DUTERTE: Mas mabuti ‘tong programang ‘to. Nakakatulong kaagad tayo.  Eh dito naman madali lang. All you have to do is go to the embassy tomorrow, bukas. Gabi man siguro, umaga man siguro diyan. I don’t know.\n",
      "Ms. Ignacio: Five hours.\n",
      "PRESIDENT DUTERTE: Five hours difference, okay. Punta kayo sa embassy natin. Babayaran ko ‘yung utang ninyo at bigyan kayo ng travel documents. \n",
      "About the thing… ano ‘yung hinihingi ng DFA? ‘Yang certificate of– Sabi ko walain na ‘yan. That’s… I do not like that regulation. That’s b*****. Hindi na kailangan. Magpadala ako ng pera pang bayad doon sa utang mo at umuwi na kayo kaagad.\n",
      "When I got home the last time, I was, I brought with me 150. Sana nakasali ka na doon. There’s another one coming up. \n",
      "Dito naman sa pupunta ko ng Russia, may 100 Filipinos na gustong… 150 o 100 na gustong umuwi.\n",
      "Kung matuloy ako doon, kung matuloy ako doon, Inshallah, God willing, dala ko na ‘yun sila. Sabi ko sa eroplano, mag-reserba ng 100 seats. Kung kulang, itapon na ‘yung ibang opisyal para makasakay ‘yung mga worker.\n",
      "Ms. Ignacio: Ngayon naman sa pagkakataong ito, Mr. President, ibibigay namin ‘yung “Hotline ng Masa.”\n",
      "Ito ‘yung pakikipag usap mo ng personal doon po sa mga nais humingi ng tulong sa’yo.\n",
      "Pakinggan po natin si… Narito si Ms. [Nancy Aranzazu?] na isa pong OFW. ‘Yan. Siya ‘yung nakita natin, nireport natin, Mr. President, na humihingi sa’yo ng tulong. At least ito personal mo ng maipapaabot ‘yung sinabi mo kanina.\n",
      "PRESIDENT DUTERTE: ‘Yung… okay na ho. Babayaran ko ‘yung ticket. Punta lang kayo sa embassy at magpadala ako ng pera para sa pambayad sa utang at makauwi na agad kayo, in about mga two days. Huwag na kayong umiyak, wala namang… sayang lang ‘yang luha mo.  \n",
      "Ms. Aranzazu: Sobra po kaming saya. Kasi kayo lang po ang nakapansin ng problema namin kasi 20 years na kami dito. \n",
      "PRESIDENT DUTERTE: Kaya ako nandito para sa inyo eh.\n",
      "Ms. Ignacio: Okay, maraming salamat.\n",
      "PRESIDENT DUTERTE: Huwag ka na sige umiyak. Huwag ka ng umiyak.\n",
      "Ms. Aranzazu: Ang saya-saya po namin. Sobra pong saya talagang–   \n",
      "PRESIDENT DUTERTE: Bigyan mo ako ng ngiti, huwag mo ako bigyan ng iyak kasi pati ako napapaiyak na tuloy dito. \n",
      "Ms. Aranzazu: ‘Yan po lagi pinagpe-pray namin sa Panginoon na makausap po namin kayo. Talagang answered prayer. Salamat talaga nang marami. \n",
      "PRESIDENT DUTERTE: Kaya pala ako ginising ng Panginoon kagabi eh. Pumunta ka diyan sa opisina mo kay may gustong kausapin, mag-usap sayo sa Skype. Ikaw pala ang nag-udyok ng Panginoon. \n",
      "Nagkatotoo pala talaga. Sige na. Punta na kayo bukas at ayusin na ninyo ‘yung papel. Magpapadala ako ng pera, sandali lang naman.\n",
      "Ms. Ignacio: Okay, maraming salamat po.\n",
      "Ms. Aranzazu: Daghang salamat po, Mayor. Thank you. Thank you.  \n",
      "PRESIDENT DUTERTE: Trabaho ko ‘yan. Huwag mo akong pasalamatan. Trabaho ko ‘yan.\n",
      "Ms. Ignacio: Okay, salamat po Mrs. Nancy Aranzazu.\n",
      "Ms. Aranzazu: God bless po.\n",
      "PRESIDENT DUTERTE: God bless.\n",
      "Ms. Ignacio: ‘Yan po ‘yung hotline ng masa kung saan personal niyong makakausap ‘yung mga taong nangangailangan. At siyempre ito ‘yung, alam po naming pagod na si Pangulong Rodrigo Duterte. Nais natin siyang—\n",
      "PRESIDENT DUTERTE: Hindi, okay lang.\n",
      "Ms. Ignacio: Pasalamatan at nabigyan po ng pagakakataon ang programang Mula sa Masa, Para sa Masa. \n",
      "Ito po ‘yung pagkakataon niyo na mailapit o mailapit niyong personal sa Pangulo ‘yung inyong mga hinaing o reklamo na agad namang tutugunan ng Pangulo.\n",
      "At siyempre nais nating pasalamatan dahil alam nating busing(busy)-busy si Pangulong Rodrigo Roa Duterte. Maraming salamat po sa programang ito.\n",
      "At siyempre nais po nating pasalamatan ang RTVM, ang PCOO, People’s Television Network, Radyo ng Bayan, Philippine News Agency, Philippine Information Agency, at ang ating social media accounts, Presidential Communications Facebook page, ang Mula sa Masa, Para sa Masa.\n",
      "Ang inyo pong statement, Mr. President.\n",
      "PRESIDENT DUTERTE: Well, I’m happy. This is the maiden flight ‘ika nga. \n",
      "If we can just continue with this program so that I can have communications with our countrymen outside the Philippines. At hindi talaga namin alam ‘yang  mga problema ninyo. \n",
      "Some are solvable, some are not. Some, it would take time for me to solve the problem. But you have my assurance na kami po ay trabahante lang sa gobyerno. We are workers of government and we intend to really work for you.\n",
      "Ms. Ignacio: Okay, maraming salamat, Mr. President. Maraming salamat po. Hanggang sa susunod, ako po si Rocky Ignacio.\n",
      "— END —\n"
     ]
    }
   ],
   "source": [
    "print(df.loc[580].transcript)"
   ]
  },
  {
   "cell_type": "code",
   "execution_count": 25,
   "metadata": {
    "scrolled": true
   },
   "outputs": [],
   "source": [
    "lt_other_names = ['IGNACIO:', 'Ignacio:', 'video:', 'Aranzazu:']\n",
    "df.loc[580, 'transcript'] = get_duterte_part_not_q(df.loc[580].transcript, lt_other_names).replace('Ms.', '')"
   ]
  },
  {
   "cell_type": "code",
   "execution_count": 26,
   "metadata": {},
   "outputs": [
    {
     "data": {
      "text/plain": [
       "'\\n DUTERTE: Magandang araw po. I am happy that I have thistime with you para pag-usapan ‘yung mga tinatanong ninyo sa akin. Questions that are never answered by me or by anybody else tapos gusto ninyong malaman ngayon ang mga rason na ‘to and I am ready to respond to your questions.  MS.\\n DUTERTE: The question is ripe. Una na natin pag usapan yung kay Secretary Lopez in the sense as she was rejected by the Commission on Appointments despite of my public pleadings in one or two public gatherings but I do not want to impose anything against the, or impose on the congressional body, Commission on Appointments. So tatanggapin natin yan.I chose Cimatu because I believe in him.\\xa0 When I was the mayor of Davao City for the longest time, I was always appointed as the regional peace and order council chairman. So when he was assigned dito sa Davao City, we used to meet every now and then regarding the law and order situation of Region 11 of which I was the sabi ko nga, chairman. And we became friends and I know Cimatu. He is honest, hardworking, he is a graduate of the Philippine Military Academy. He served his country well. At one time he was the envoy of President Arroyo nung mga evacuation movements ng ating mga kababayan sa Middle East and also, he was the Chief of Staff at one time. He’s a silent guy, very low-key personality but he does his work very well. Yung mining naman is, there is what you would call a description of your work.\\xa0 All you have to do is to read the law creating that bureau, mining or the larger.. you would really be the DENR.  Basahin lang niya ‘yung\\xa0mga provisions diyan and enforce it . It doesn’t have to be a genius especially Cimatu graduate nga ng PMA ‘yan, he will know what to do and he will do it right. The quality that I had always been my requirement sa mga Cabinet members is that you serve with honesty and integrity. Alam nila, alam ni Roy, kilala niya ako, for so many years noong he was first assigned various capacities thereon, siya at ako as mayor\\xa0 alam niya ang ugali ko at alam niya ano ang ibig sabihin ng public service sa akin. Matagal na kami nagkasama and I am sure that he will do his best for his country. Ang sinabi ko lang nga, yung marching order ko, sabi ko right after I swore him into office, sinabi ko lang that… my marching orders really is you are there in the Department of Environment and Natural Resources just do your duty and do it right and do not.. always do it for the country.  MS.\\n DUTERTE:\\xa0 In the first place, hihingi ako na lang ng paumanhin sa inyo. I am forced to shift into minsan sa English because ‘di ko alam yung appropriate na Tagalog words to characterize what I am trying to say. But certainly it is not an ISIS thing. One is that kung ISIS iyan di puputok sa Quiapo yan it could be somewhere else but definitely not Quiapo. Kasi puro, karamihan nakatira diyan kapatid natin na Moro. If it is ISIS, I do not think it would start there or initiated in that place. But there is bad blood amongst the groups of persons there. It could be a rido, which is actually a rido is a vendetta, tawag naming dyan e vendetta ng isang pamilya o isang grupo but yung pipe bomb na pumutok at saka yung, the subsequent ones, yung dalawa. Kaawa naman yung nagdala, yung inutusan ng ano, he was working for this company, is it a delivery thing? Parang Uber, yuber or whatever ayan na empleyado lang ng isang kumpanya hinatid yung pinadeliver doon. \\xa0While he was handling it, giving it to the other guy iyon pumutok. And so iyon ang damay talaga but definitely, I am assuring you it is not the handiwork of ISIS. Hindi naman sabihin mo ilagay mo naman lahat sa ISIS I do not like ISIS. But I do not like to attribute things na hindi naman nila ginawa. Let’s put things in the proper perspective. Para we act fairly in everybody’s thing and this is not theirs. So parang away ito diyan sa loob na personal. Always, I think it is money. But if there is something else in the theory, I do not know but I should say it always begins with money matters. Almost all quarrels begin with money. Yun ang masasabi ko. And I assure our country. Well Isis is doing their thing which are altogether bad but wag naman\\xa0 natin I ano sa kanila iyong di naman nila ginawa. It’s wrong and beside it could only mislead a person into believing things that they are when they are not.  MS.\\n DUTERTE: Well I would not know her from Eve, asawa ni Adam. You know, I would not talk about the soundness of her visit dito or visit nya doon. As a matter of fact she can talk anytime here, punta siya dito. But I would not listen to her. You know there is one crucial thing that happened while she was here. And her statement na ang shabu hindi nakakasira ng utak ng tao.\\xa0 Anak naman si ma’am oy.\\xa0 Ano pangalan niyan?  MS.\\n DUTERTE: Ano, ay Agnes, kapangalan ka pa naman ng duktor ko. Alam mo, if you review and move backwards maybe ten steps back, from four or three years, 77,000\\xa0Filipinos died drug related crimes, mostly mga rape, mga murder diretso, rape with homicide, robbery with homicide ,robbery with rape and homicide. The last one that was really a very robust indictment kita yung babae doon sa Cagayan and lahat naka droga. Kung ang mga tao magsabi sa iyo ang guardian angel niyan nagsasabi na patayin niya, katsahin niya yung nanay niya kasi demonyo. Kung lahat ng mamamatay tao diyan walang kasalanan, hindi siraulo, bakit pumatay ang mga pu— Bakit nila ginalaw ang mga bata? One year old, two year old. Alam mo pagka ganun ang ginagawa ng tao whether you like it or not, he is crazy. Ang tao na mag rape ng 18 years old, one year old na bata must be crazy. So what caused this insanity of the numbers of Filipinos committing the crime? Imposible naman na\\xa0 araw-araw may mabubuang lang sa hangin, or because of genetical disorder. Ang experience natin would tell us that it is a virulent chemical. And nobody but nobody can dispute that with just a simple statement, pareho ‘yung itim na isa ring pumunta dito, ‘yung buhok kung saan-saan pumunta. Kaya sabi ko, mag-honeymoon na muna kayo ni… anak ng… kami dito na nagtiis sa droga for so many years, ako ‘yung mayor 23 years, halos gabi-gabi akong nagpa-patrolya noong bago pa akong mayor. You want to dispute that with a statement without any factual basis? You did not even mention or pronounce something that is connected, a study that is connected with drugs. How can you be so… stupid. You are stupid. Now, for me to submit to you an investigation at this time now, you must be crazy, you have prejudged me. Ang sinasabi mong shabu cannot cause anything, or damage in the mind, or in the structure of the brain of a person. In-assume na tuloy ninyo na ‘yan, ibig sabihin pinatay mo for nothing, ‘yan ang gusto ninyong palabasin eh. Pinapatay ko, dahil durugista, siraulo, baka patayin mo naman ‘yung hindi loko-loko. Ngayon, sinabi ninyo yung drugs okay ‘yan, parang aspirin lang ‘yan at pinatay mo pa. You have prejudged me and sinong g*** na papayag na pumunta ng investigation nung ganoon, nung prine-judge na ninyo ‘yung shabu as one chemical that does not really affect or damage the brain of a person. You must be kidding. You must be kidding. Kayo ang dapat i-indict ko, if you want to have a public debate, come here. Basta, if you want to testify against me, you must be under oath, including the rapporteur. If you want to state your charges, be under oath because if there is anything false or a lie there, I will go after you. And I will see to it that you’ll go to jail first. Talagang hahatakin, even if you are a foreigner, I don’t know if you enjoy diplomatic advantage. But again, pagka ginawa mo ‘yan dito, I will arrest you. You are committing perjury… God.  \\n DUTERTE:\\xa0Yes, correct. You have 4 million drug addicts, what am I supposed to do? Alam mo ganito ‘yan eh, Rocky, at the time he commits the crime, magnanakaw siya pera para magamit niya, he can buy shabu, he kills a person\\xa0but at that time he is high on drugs. Therefore, not in his right mind, pagka na establish ‘yan, na siya pumatay dahil sa droga, hindi mo madala sa korte ‘yan, because at that time he is not of sound mind, he is not equipped with the mental faculties to face the cons… to discern what is right and what is wrong. Ngayon, kung hindi siya g*** noon, hindi siya buang, but at the time of the trial buang na siya o baka 6 months after, overuse of the chemical shabu, hindi mo na rin sila ma-demanda. And they cannot stand trial because the court will say, “look, he cannot stand trial because he’s crazy.” And so, in between far and wide the victims now, who will answer for these crimes? Hindi mo naman mahabol kasi out of his mind nga nung ginawa niya, o nung ginawa niya of his right mind but at the time of the trial wala na, sabog na, sino ngayon ang babayad nitong problema [beep sound] Who will now answer for this loss of so many lives? And who will now take care of this 4 million? Madali lang ‘yan sabihin sa inyo, kita mo naman sa America, tapos sila— You know, it was not until with the advent of everybody being conscious of human rights. Wala ito noon eh, but in the early 60’s, itong America and itong EU, but lalo na America, in their desire to be civilized… to be known as a civilized state, started going around, giving assistance for promotion of human rights, wala pa ‘yang shabu. Not even money to combat shabu, only the promotion of human rights, karamihan noon mga political. Mga biktima sa political vendetta. Either because the dictator is… is harsh of putting in prison many of his political enemies. Doon nag-umpisa ‘yan, ngayon, they rambled into so many things: Marijuana, bawal noon, patayan tapos suddenly they realize, Marijuana pala hindi, okay ‘yan, so nagbibigay na sila ng marijuana. ‘Yung pinatay ninyo noon, papano ‘yun? Kung ang marijuana pala okay, pinagbibigay na ninyo ng libre ngayong, so what happened to those that were arrested and those that are killed in the process? Sinong managot doon, gobyerno, kayo? Tapos pupunta kayo dito sa amin tinuturo ninyo kami. Na sa amin, alam namin na bawal talaga, eh nasa batas naming eh. See? And if they are arrested, and they do not want to be placed under the custody of the law, but rather would fight, makipagpatayan, makipagsaksakan, and they are killed and you are pointing it to me, wala naman akong inutusan na patayin ka ng nakatalikod o nakaluhod. So, dapat kayo ang may topak, siguro kayo ang nag-marijuana noon, ‘yung ulo ninyo sira. How about the drug-bust operations noon ng marijuana namatay, kinulong ninyo ng 99 years… aggravating because it was a… The crime of rape was committed with the use of drugs, so maximum of 60 years, 50 years. Who will now pay for this? Following your theory, who will not pay for this? Na-libre na pala ang marijuana ngayon, pinagbibigay na ninyo, ngayon ang gusto ninyo, suggestion ninyo, maglagay ako ng istasyon ng mga shabu at ibibigay ko sa mga Pilipinong… para libre na. May tanong ako sa inyo: kayong lahat diyan sa human rights, magsabi lang kayo ng totoo, hindi ako magagalit, naka-droga kayo? Hindi, magsabi lang kayo ng totoo, are you on drugs? Because I am inclined to believe that you are.  \\n DUTERTE:\\xa0Magbigay ako ng halimbawa, kung maglagay ako ng shabu dito ngayon, ikaw, kukunin mo? \\n DUTERTE:\\xa0Sinabi ko sa inyo ganito, ‘yang general statement ko, Mayor pa ako niyan. Sinabi ko sa inyo, huwag ninyong sirain ang mga anak namin, kasi kapag kami ang tumanda, kaming nandito sa kuwarto na ito, puro gobyerno lang ito. So wala kaming mga salarin na pwede kaming mag… ako kasi, Presidente na, maybe 9 months straight sa ospital, the best services, lahat first class. Pagdating ng 9 months, tabla na ako. Eh ’yung mga mahirap pa sa akin? Sinong magbili ng oxygen sa kanila, sinong magbigay ng medisina sa kanila, sinong magsusubo ng lugaw sa bunganga nila? Kayo, p***** i** ninyo. Madaling sabihin ‘yan eh. Who will suffer? It’s the Filipino, the child na inasahan namin na pinag… na inalagaan namin ng mabuti, tapos mabuang lang sa ganoon. And there comes the ridiculous suggestion that I place drugs in strategic places for them just to use it and when they are drunk, after all ganito eh. When all has been said and done, at the end of the day, the Republic of the Philippines will collapse. Who’s gonna revive it? Who’s going to help them? My countrymen, who’s going to rehabilitate my country from the onslaught of drugs, kayo? Kayong mga [beep sound], you’re crazy, you must be crazy. Kaya ‘yung sinabi ko na, “do not do this because I will kill you,” that is a general statement wala akong… I, I, ako… I will kill you. Hindi ako nagsabi na, I will order Bong Go to kill you with a revolver or a pistol or with a… because it was an outrage coming from a leader. Pero ‘yung mga pulis, bago maging pulis ‘yan, tinuturo na sa kanila kung paano, kung kailan magpatay ng tao. And there is only one rule there, whether in the performance of duty or isa ka lang… a citizen, and walking to the streets and you are attacked, wala kang kasalanan and you kill the idiot, self-defense, sa pulis naman, performance of duty. Hindi ko na kailangang sabihin that I will kill you because the law says that da-da-da-da… tapos na ‘yan, alam ng pulis kung hanggang saan ‘yan sila. ‘Yung ‘I will kill you’ is an outrage of mine and ‘yan ang ginagamit ng mga ‘yan, kaya nga ako sabi ko istupido kayo eh. Kita mo naman, I never said I will order the army, I will order the scout rangers to kill you. I said, “I will kill you.” Hanggang ngayon, wala pa akong pinatay na rapporteur. Sinong pinatay ko? “I will kill you,” that is a generic… Kasi ‘yan ang galit ko ng mayor ako, ‘yang ang galit ko ngayon. You know what, you must understand that I am just… I am not just a mayor, or was a mayor for nothing. My job there was to catch or run around, my job was to heal the city. When I was first elected President, my job was to build a nation. Stop [beep sound]  \\n DUTERTE:\\xa0Framework for really progress and China has a large participation there including maybe the financing of projects that would be critical in building that hypothetical road.\\xa0 It actually… it’s not… it travels around the sea papuntang Pilipinas then to Malaysia down to Indonesia, then maybe Australia. \\n DUTERTE: Yes, because China would build the industries for you to export and import. So kung ano ka, malakas ka diyan, kagaya ng Pilipinas, sa agricultural tayo because whether you like it or not we are agricultural based country. Then we start to improve on that and maybe expand.\\xa0 Kung ano ‘yung pinakamarami sa’yo, ‘yun. Mining, ‘di mine and mine and mine \\xa0and produce more. You need money really to grow up in this world. \\n DUTERTE: Yes, may prangkahan na kami. More than ‘yung sabi ninyo na suggestion niya [unclear]. Sabihin ko lang sa inyo in due time, in front of several Cabinet members, point blank. Sinabi ko ‘yun. Sinabi ko, we are going there to drill for oil, ‘cause that is ours. Ayaw ko na lang -iano ‘yung sagot ng– Pero ganito na lang. Sabihin ko sa’yo. Iyo ‘yan? Do not touch it. Kaibigan tayo. Kung pakialaman mo ‘yan, gusto mo away tayo, giyera tayo?\\xa0 More than just invoking ano, na amin ‘yan, amin ‘yan. Eh kung sagutin ka ng ganon, anong gawin ko? Teka muna kay mag kuha ako ng Navy ko. \\n DUTERTE:\\xa0Hindi ‘yan mababalewala becaue it will be there for all time and it will always bug China.\\xa0 But at this time, because so many countries are claiming the area, kaya sila ganyan. Kasi Vietnam is also there. Nandiyan ang Malaysia. Mag-agawan ‘yan, magulo na. Kaya sabi niya, “Huwag muna.” Wait for better times when heads are cooler and when we are, we have the equanimity sa ating katawan, both in minds and body to discuss it.\\xa0 But I told them that there always be a time that the issue will crop up even during my term. Marami tayong pledges to help and China has been very adamant about it. Actually they have, they are the ones hurrying us up. ‘Yung first mga\\xa0tranches\\xa0nila dumating naman. It’s about two billion plus already coming in. Dumating na. And everybody’s taking advantage of it. It is not really a money where you can withdraw from the bank and then you just throw it out. It’s a money for business. So lahat ng mga may negosyo ngayon na gusto mag-expand… So in expanding, you also increase the number of Filipinos employed. Ang habol ko diyan ang trabaho muna. But maybe later on, in the fullness of God’s time, we’ll be able to develop really a product that our own. Most of that is really ‘yung steel which is one of the concessions being asked by the itong komunista, that we develop our own steel industry. Kasi sabi kasi nila mura ngayon. Some other school of thought say that a [block?] of supplies… iron.\\xa0 Hindi ‘yan eh. Eh kung magka-l****-l**** itong buhay na ito, mag-away-away kayo. Saan na kukuha ng para gawing bala? \\n DUTERTE:\\xa0Ganito ‘yan Rocky eh. ‘Di naman ako nagpapa-corny, but ako talaga mahal ko ang kababayan kong Pilipino. Pilipino ako eh.\\xa0 Ngayon, maski sa… ang pangako ko na walang corruption. Talagang hihintuin ko ang corruption.\\xa0 Kapag naka-demanda ka ng corruption dito, I will see to it na kung may kasalanan ka, you are out. It goes for all, from the Cabinet. May finire (fire) out na ako during a Cabinet meeting for lying through his teeth in front of me.\\xa0 May mga taga-Davao ako na with me since I was Mayor. Wala, sinipa ko. Ganito kasi ‘yan para sa ating mga OFW. Sabi ko, I promised you within mga three to four years mag-stabilize ‘to. Wala ‘yung droga, ‘yung kriminal, I will go down then progress can really come to our country. Maghintay lang ho kayo nang konti. Just give me time to improve things and sa awa ng Diyos, i-improve talaga tayo.\\xa0 Ngayon pa lang nagi-improve na economy. Umaakyat na. Ang exports natin back to the original. Noon, wala nang nagbibili ng saging kasi may ano, may alitan ang America, pati tayo nadadamay sa China. And the same with Russia. Kaya ganito ‘yan for the OFW. Ganon na lang ang pagmamalasakit ko sa inyo. Kasi alam mo, may nanay umaalis. Once the mother leaves, the family, that family is already, hindi na normal ‘yan. Dysfunctional na ‘yan. Pag umalis pa ang tatay at pupunta doon sa isang bayan, hindi magka pareho, that family is now left in the care of mga lolo, lola, o kapatid. That time, dysfunctional na ang bata. Lalaki ‘yan na wala masyadong disiplina, always longing a father or mother. Kaya ako talagang galit sa mga durugista. Talagang papatayin ko kayo kasi kita mo naman lumalabas ng bayan ‘yan and they endure ‘yung kalungkutan sa anak. Ang anak… Both ways ‘yan eh. Ang anak maghanap ng tatay, nanay. Tapos tatay, nanay always pagka gabi. And they endure hardships. Tingnan mo ‘yang mga Pilipinong umuuwi dito. Ano ang standard nila? Ang tulog nila ilan? Basahin mo lahat, three to four hours. Ang kinakain ‘yung lugaw pa na basura na sa ibang tao. Kaya ako diyan mainit. ‘Yung iba are subjected to sexual abuse and they endure it para lang kumita, maipadala sa mga anak nila, para makapag-aral. Only to realize at the end of the day pagbalik nila, nasira sa shabu o nabiktima ng drug addict ang mga anak kasi walang nagbabantay. \\n DUTERTE:\\xa0Well, we have always the embassy and if you have time, I will personally have the Foreign Affairs department to look into this. Give more focus on acts of injustice and we will do the necessary things to help you. \\n DUTERTE:\\xa0Mas mabuti ‘tong programang ‘to. Nakakatulong kaagad tayo.\\xa0 Eh dito naman madali lang. All you have to do is go to the embassy tomorrow, bukas. Gabi man siguro, umaga man siguro diyan. I don’t know. \\n DUTERTE:\\xa0Five hours difference, okay. Punta kayo sa embassy natin. Babayaran ko ‘yung utang ninyo at bigyan kayo ng travel documents.\\xa0 About the thing… ano ‘yung hinihingi ng DFA? ‘Yang certificate of– Sabi ko walain na ‘yan. That’s… I do not like that regulation. That’s b*****. Hindi na kailangan. Magpadala ako ng pera pang bayad doon sa utang mo at umuwi na kayo kaagad. When I got home the last time, I was, I brought with me 150. Sana nakasali ka na doon. There’s another one coming up.\\xa0 Dito naman sa pupunta ko ng Russia, may 100 Filipinos na gustong… 150 o 100 na gustong umuwi. Kung matuloy ako doon, kung matuloy ako doon, Inshallah, God willing, dala ko na ‘yun sila. Sabi ko sa eroplano, mag-reserba ng 100 seats. Kung kulang, itapon na ‘yung ibang opisyal para makasakay ‘yung mga worker. \\n DUTERTE:\\xa0‘Yung… okay na ho. Babayaran ko ‘yung ticket. Punta lang kayo sa embassy at magpadala ako ng pera para sa pambayad sa utang at makauwi na agad kayo, in about mga two days. Huwag na kayong umiyak, wala namang… sayang lang ‘yang luha mo.\\xa0\\xa0 \\n DUTERTE:\\xa0Kaya ako nandito para sa inyo eh. \\n DUTERTE:\\xa0Huwag ka na sige umiyak. Huwag ka ng umiyak. \\n DUTERTE:\\xa0Bigyan mo ako ng ngiti, huwag mo ako bigyan ng iyak kasi pati ako napapaiyak na tuloy dito.\\xa0 \\n DUTERTE:\\xa0Kaya pala ako ginising ng Panginoon kagabi eh. Pumunta ka diyan sa opisina mo kay may gustong kausapin, mag-usap sayo sa Skype. Ikaw pala ang nag-udyok ng Panginoon.\\xa0 Nagkatotoo pala talaga. Sige na. Punta na kayo bukas at ayusin na ninyo ‘yung papel. Magpapadala ako ng pera, sandali lang naman. \\n DUTERTE:\\xa0Trabaho ko ‘yan. Huwag mo akong pasalamatan. Trabaho ko ‘yan. \\n DUTERTE:\\xa0God bless. \\n DUTERTE:\\xa0Hindi, okay lang. \\n DUTERTE:\\xa0Well, I’m happy. This is the\\xa0maiden\\xa0flight ‘ika nga.\\xa0 If we can just continue with this program so that I can have communications with our countrymen outside the Philippines. At hindi talaga namin alam ‘yang\\xa0 mga problema ninyo.\\xa0 Some are solvable, some are not. Some, it would take time for me to solve the problem. But you have my assurance na kami po ay trabahante lang sa gobyerno. We are workers of government and we intend to really work for you. '"
      ]
     },
     "execution_count": 26,
     "metadata": {},
     "output_type": "execute_result"
    }
   ],
   "source": [
    "df.loc[580].transcript"
   ]
  },
  {
   "cell_type": "markdown",
   "metadata": {},
   "source": [
    "## 643"
   ]
  },
  {
   "cell_type": "code",
   "execution_count": 28,
   "metadata": {},
   "outputs": [
    {
     "data": {
      "text/plain": [
       "'  Okay… Hi, sir. Good evening. Kaye Imson sir, from TV5 Manila.   Yes? Sir, first question po. ‘Yung mga commanders natin, they keep on telling the media that the fight will be over soon. And in fact, within the month daw po, kaya. Sir, first, kaya po ba talaga within the month na matapos \\'yung krisis sa Marawi? And second, ano sir \\'yung standing order ninyo sa mga commanders sa ground, sir?   Ganito \\'yan, matagal na sanang tapos \\'to. Kung military lang pag-usapan, fight. Madali \\'yung away eh. Bomba kayo, bomba ka lang diyan. Problem is \\'yung the last stronghold, nag-bivouac sila diyan sa isang mosque na malaki. Ayaw ko naman na wasakin, na bombahin. Mahirap \\'yan. That\\'s a sacred place to the Islam believers. At hindi maganda. Kaya sabi ko na basta... kasi pagka winasak mo \\'yan, you\\'d have wounded the feelings of the entire Muslim world. Now remember that maraming Muslim nakadeploy. Pilipino, mga Muslim, o karamihan kay Kristyanos. They are deployed in the Middle East. And they number around by now, two and a half million. Kung ikaw ang Presidente, anong gawin mo? \\'Yun nga, nandoon sila eh. So, and they are mostly in Muslim states. So hindi ko basta-basta na lang... Then again, pag ginawa mo \\'yan, o talagang pinilit mo, kung maari lang --- kung maari lang na dahan-dahan lang. The moment kasi na mag-rush up \\'yan sila, mag-away, ang mangyayari niyan, \\'yung bihag, talagang bihag, puputulan ng ulo \\'yan. Terorista \\'to. Hindi naman ito matino na... I mean, that is not Islam. Eh ako ano... Apo ako ng Moro, ano bang kalokohan \\'yang ganoon na Islam, gamitin mo ang pangalan ng Diyos. I mean that\\'s not to behead. So how do I explain to the people? I mean, we could do that as a last resort but it\\'s a very horrendous thing to do. Ewan ko kung kaya rin ng sundalo ‘yan na pagpasok nila, puputulan lahat ng ulo \\'yan. But ultimately, ang sundalo, mag-order lang --- ang mag-sunod ng order. Eh sinong… eh ‘di ako. Ako \\'yung nagdeclare ng martial law. Ako \\'yung nagsabi sa kanila na pumunta kayo doon para makipag-away, masugatan, pati mamatay. Kaya ako sensitive sa issue na \\'yan. So ultimately, I will be fishing the nation for an --- to give them a sane explanation. So, hayaan ko na sila na paano gawin. Pero this has to end. This cannot go on. Kung mag... kay may nag-surrender naman, eh ‘di kung mag surrender sila, okay lang. We will try them, give them due process, provide them with a lawyer, and they will... there will be no oppression or harassment, or anything. No violence will be inflicted upon them if they surrender. \\'Yan ang i-guarantee ko sa inyo. Pag mag-surrender sila, walang --- ‘yung sabihin mo na bugbugin mo o you oppress o gutumin. Nothing of the sort. I will not also allow it. That is not the way how we treat people, especially even they\\'re criminals. They are not POWs to me. They\\'re simply criminals. Period. So \\'yun ang problema ko. Kasi ako ang managot niyan lahat pagkatapos nito. So sir, with the situation now, kaya po ba siya? Doable po ba within the month?   I am not placing any timetable. Because pagsabi nila na, \"Well, we need another six months,\" eh ‘di, we\\'ll just have to wait it out. If I can save one life there, I am willing to wait one year. Makalibre lang man ako ng isang buhay, eh ‘di trabaho ng sundalo \\'yan. Eh ‘di, they just surround the place and camp there until kingdom come if it could save a life. Pero kung wala na, I said this has to end, and I dread the day that it would come, then I must be prepared to the --- to explain to the Filipino nation what happened. Mayor President, good evening po.   Yes. Si Ian Cruz po ng GMA 7. Good evening din po sa mga sundalo nating mga bayani. Mayor, kanina po doon sa Mindanao Business Conference, may nabanggit po kayo na may ilalabas kayong bank account ni Senator Trillanes. Siya rin po \\'yung gustong magpa ---   Yes. Pero ako --- --- magpakita nung tattoo ni Vice Mayor Pulong.   Yes, we will... we will show it and of course \\'yung sa mga more than 200 consultants niya sa DAP. May kaso siya sa DAP. Abogado ako, just looking at it. Inubos niya sa pamigay and he will have to answer also. Ano po \\'yung ---   May mga account \\'yan na joint. Ang kasama niya, puro Chinese tapos paulit-ulit \\'yung pangayo... pangalan. But it\\'s in Hong Kong, in Malaysia, then there\\'s in Australia, and meron rin sa United States. Mayor ---   Just like him, nakuha --- ang anong nakuha niyang basura, itong akin, hindi ito basura. Nandiyan ako sa gobyerno eh. So bakit ko kailangan ng basura? All we have to do is to get the goods on him but... matagal na \\'yan hawak ko. But you know, medyo sumosobra na kasi. Opo.   He has been at it against me, my son, and my family since election. Tapos na \\'yung kampanya, and when I thought all the while na ganoon talaga pulitika. Pero ito, he is bent on destroying me. So I destroy him or he will destroy me. Ganun lang \\'yan eh.   Yes. And I readily agreed. Bakit, what\\'s wrong? He was a president. To the Ilocanos, he was the greatest president. Why do we have to debate on that? It\\'s one day where they can celebrate the anniversary of a great Ilocano. As far as the Ilocanos [are] concerned, Marcos is a hero. Kaya to dwell on this thing for so long a time will just divide the nation. \\'Yung... \\'Yung north na puro Ilocano, galit \\'yan. Akala mo \\'yung mga yellow-yellow nila, walang nagagalit sa kanila. Galit \\'yan sa [unclear] But itong mga Ilocano kasi, eh peace loving eh. I can say that with the Cotabato migration ng Ilocano. They assimilate. \\'Yung iba, nag-asawa talaga ng mga Muslim. Either they become converts, Balik Islam, o... There\\'s nothing wrong in religion, really. Most of the peaceful settlements, nandiyan \\'yung Ilcoano. Kaya itong mga Ilocano, ayaw lang mag-ano... kunwari ayaw makipag... walang gulo. That\\'s their nature eh. Ang Ilonggo, \\'yan ang medyo... lalo na Ilonggo na taga-Mindanao. Sanay kasi sa... sanay sa... it\\'s always a day-to-day fight for existence. So wala ako... ako... I see nothing wrong there. Pagka... pagdating ng mga Pampangueño, they want to celebrate also a great son of theirs, then go ahead. O Cebuano, o \\'di sige. Bakit pa natin pag-awayan \\'yan? Sa kanila, tingin nila, si Marcos, masamang tao. But that is not shared. That sentiment or that view is not shared by all. To the Ilocanos, that\\'s a lot of hogwash. Basura \\'yan. Itong mga yellow na hanggang ngayon puro ignorante pa. Pareho kay Trillanes, hindi naman abugado, pati si Alejano, nakakahiya na. Sayang ang ginastos ng gobyerno ninyo na hindi naman ninyo alam ang batas, pasok kayo ng pasok. Puro idioto. Trillanes, tignan mo. Tattoo. P***. Ako? Presidente --- ako anak ng Presidente ng Pilipinas, bigyan mo ng tattoo to recognize me? B**** s***. Kaya tama \\'yung si Pulong. Dapat ninyo makita ang tattoo ni Inday. Nakita ninyo nasa likod ni Inday? O, hintayin ninyo mag-ano. Araw. Buong... baka magalit \\'yun pero... Baste, buong katawan. Kita mo ang kamay ni Baste, puro tattoo? Ako. [shows his tattoo] It\\'s a rose. Dito, [points to his tattoo] \\'yung number ko ng Guardians, I don\\'t know what year is that. Guardians Brotherhood. Ito \\'yan o. Tignan mo kamay ni Pulong at tingnan mo ‘yung kamay ni Honasan. [Ilando pa diay \\'to?] That\\'s a brotherhood. Mao na, \\'nung unang panahon, naging Ram ako in the early days of the rumo... tapos naging... Tingnan mo \\'yung Greg Honasan. Ipa-decode mo \\'yan. [laughter] Sabihin ko nga kay ano, kay Greg. Sabi ko, \"P*** \\'yan, ipa-decode mo \\'yan mga pinagdodrawing mo.” Marami \\'yan dito. Tingnan mo \\'yung kamay niya. Ito talaga si ano. Na... \\'yung ano mo, idioto na imong ano? Biro mo ipa-decode mo \\'yung... hanapin mo kung saan \\'yang... \\'Yung mga ganoon na issue, dadalhin mo doon sa Senado. You cheapened the... you cheapened the institution. Gagamitin mo ‘yang Senado na mag-ano ng mga hearsay. “Sabi niya, sabi ito.” Tapos mag-produce ka ng bangko. Eh ‘yung akin nga na 200 million hanggang ngayon hindi niya makita. 211 million sa election. Sabi ko nga, “’Pag makita mo ‘yan, kung totoo ‘yan, mag-resign ako.” Sir, maayong gabii. Ako si Divina Suson. I am writing for Davao Today. Is it true that former Mayor Omar Solitario negotiate or attempted to negotiate with the Maute?   Yes, correct. Do you have any knowledge?   No, no. Yes. He was commissioned by Dureza. It was with the acquiescence, not expressly, ni Secretary Lorenzana. Dureza and I, Lorenzana, had a talk and they talked about the desire of Solitario to surrender because he found out that his name was on the list. Sabi niya, “I’m better off working for you than putting me in prison.” Then he proposed many things, mostly about talking peace to the Mautes or bargaining doon sa ‘yung mga hostages. More ako doon sa release ng hostages. I confirm that it really happened. Aside from Mayor Solitario, sir, may iba pa bang emissary?   I don’t know. Pero wala na. Wala akong kausap na iba. I only agreed to the suggestion of Dureza. It was the initiative of Secretary Dureza. Are you in favor, sir, of the negotiation with the Maute?   They will be treated as criminals. If they surrender, they will be prosecuted. But they will be treated as human being. If they choose to fight, then the State has the right to kill them. Simply, they are rebelling. So with the NPAs. Kasi ang NPA hindi mo na kasi ngayon ma-ano eh. Actively, ‘yung front nila. Wala na silang tago-tago. Their meetings are in public. Hinayaan ko lang, sige. Pati ‘yung liga nila, mga leftist organization, harap-harapan na nakikipagkita na sila. Sabi ko, “Sige.” Sabi ko, “Hayaan mo.” But do not commit the mistake. Ako, hindi ako nananakot ha. Do not commit the mistake of staging a rebellion. ‘Yung sabihin mo na there’s a fighting on the streets. I will not hesitate to impose martial law all throughout the country and order the arrest of everybody. Ke may kampo ako o wala. Hindi ako nananakot. Pero gagamitin ko talaga ang Armed Forces pati pulis. Ayaw ko makipagpatayan but if you do that, I will arrest all of you. All of you. Hindi ako nananakot, sinasabi ko lang sa inyo ‘yan. Huwag kayong magkamali. You can demonstrate sa streets in the coming days. I am ordering the military to stay in the barracks, but be prepared for war. Ang pulis, sabi ko, “Sa istasyon lang kayo. We’ll just assign a few traffic policemen.” But kung sabihin nila na mag-demonstrate sila ganun, marami. Okay, fine. Pababain ninyo lahat sa, ‘yung nasa bukid. I don’t mind. But I will declare that day a holiday. No government time. Stay at home. Mga estudyante, kung gusto ninyong sumali sa ano, you are free. You can have the city. But do not create trouble. ‘Yan lang talaga ang warning ko. Do not resort to destruction and trouble because I will order the military and the police to go against you. Pagdating niyan, ewan ko kung anong mangyari. Then, do not create trouble here. Alam ko ‘yung mga legal nila na fronts, pati ‘yung usap --- Harap-harapan na. Okay lang ‘yan. Pero huwag kayong magkamali na magsunog dito, mag-vandalism. I will not accept it. Ang kaharap ninyo baril, sigurado ‘yan. Sigurado ‘yan. Paglabas ng sundalo pati pulis, baril ang kaharap ninyo. And if you want something to happen, let it happen para magkaalaman na ano ba talaga itong bayan natin. You want to destroy it? Fine. So we can start anew. Let us go into spasm. Wala akong problema diyan. Pero kung eternal ‘yan na dito, ambush dito, ambush dito, ambush doon. Nauubos na ‘yung sundalo ko pati pulis. Raid ng mga istasyon dito. Kay wala man kayong istasyon, wala akong magantihan. Pero ‘yan ang hinihintay ko. ‘Yan talaga ang hinihintay ko. An overt act to destroy government and I will decide kung hanggang tayo… saan tayo aabot. I am prepared. I do not expect anything but I am prepared for everything. Sir, Froilan Gallardo, MindaNews, sir. Sir, in the future or in the near future, if maganda ang outcome, this is Marawi again, sir, maganda ang outcome ng Armed Forces, ang victory in Marawi, will you lead the raising of the flag just to signify the closure of the problem? And the second question, sir, kung ‘yung si Omar kasi nag-a-ano siya na the Mautes can leave the camp in Marawi in exchange for the safe release ng hostages?   Ano sir? Hindi ko narinig. Nagba-bounce kasi sa… Ano ang… ano ang statement niya? Can I have a lady… Actually, it was triggered daw by you, sabi nila, by your statement. Sabi ni Omar na, “Okay, safe passage for out ng Maute and safe release. Iwanan na lang ang hostages sa Marawi.”   No way. So…   No way.  Sabi pa ni Pulong kay Trillanes, “No way.” So you will lead the raising of the flag at the ---   It’s not a time for celebration. You do not celebrate because you killed a fellow Filipino. We will do it because we have to restore the dignity of the place. And aside from that, maybe I’ll congratulate them but that’s all. We do not have to spend money for food and wine just to celebrate the defeat of another Filipino tapos pinatay. That is not a cause for a joyous event. It saddens us. Sabi ko sa iyo, Maranao ang lola ko. So what do you think? Anong iniisip ko ngayon? Sige daw. Try to fathom it if you can. I’m mixed. My father is a Cebuano. But what do you think of the suffering there? Including my cousins, nandiyan sa evacuation centers. It is not a cause for celebration. The eventual end of this sad story, saga, is that it will teach all of us. The Army, they have to revise their doctrines about fighting because it’s a new thing about building per building. Kagaya ‘yan ng Iraq, Syria, na hanggang ngayon, sige away. Because sa Mosul, Aleppo, talagang nasa building, naka-position na eh. So kaya marami akong patay. ‘Yung first batch. And what precipitated the whole thing? They were there. The police were there to serve a warrant. Binakbakan sila ng --- Kaya pumunta ang Marines. Two days or three days after, I had these Marines all dead. Kaya ako pumunta sa--- Pagdating ng mga labi kasi --- Sabi ko, “What do you think?” Ako kasi mixed ako eh. So I have my own reasons to whatever there is to it. But first and foremost is the Republic of the Philippines. My duty as President is to protect the people and to preserve the nation. That’s the long --- That’s the start and end of my --- That’s why I’m standing here and pinning the awards to the soldiers. Okay?'"
      ]
     },
     "execution_count": 28,
     "metadata": {},
     "output_type": "execute_result"
    }
   ],
   "source": [
    "df.loc[643].transcript"
   ]
  },
  {
   "cell_type": "code",
   "execution_count": 39,
   "metadata": {},
   "outputs": [],
   "source": [
    "df.loc[643, 'transcript'] = get_duterte_part_docx(df.loc[643].date)"
   ]
  },
  {
   "cell_type": "code",
   "execution_count": 40,
   "metadata": {},
   "outputs": [
    {
     "data": {
      "text/plain": [
       "'\\n PRESIDENT DUTERTE: Okay… \\n PRESIDENT DUTERTE: Yes? \\n \\n PRESIDENT DUTERTE: Ganito \\'yan, matagal na sanang tapos \\'to. Kung military lang pag-usapan, fight. Madali \\'yung away eh. Bomba kayo, bomba ka lang diyan. Problem is \\'yung the last stronghold, nag-bivouac sila diyan sa isang mosque na malaki. Ayaw ko naman na wasakin, na bombahin. Mahirap \\'yan. That\\'s a sacred place to the Islam believers. At hindi maganda. Kaya sabi ko na basta... kasi pagka winasak mo \\'yan, you\\'d have wounded the feelings of the entire Muslim world. Now remember that maraming Muslim nakadeploy. Pilipino, mga Muslim, o karamihan kay Kristyanos. They are deployed in the Middle East. And they number around by now, two and a half million. Kung ikaw ang Presidente, anong gawin mo? \\'Yun nga, nandoon sila eh. So, and they are mostly in Muslim states. So hindi ko basta-basta na lang... Then again, pag ginawa mo \\'yan, o talagang pinilit mo, kung maari lang --- kung maari lang na dahan-dahan lang. The moment kasi na mag-rush up \\'yan sila, mag-away, ang mangyayari niyan, \\'yung bihag, talagang bihag, puputulan ng ulo \\'yan. Terorista \\'to. Hindi naman ito matino na... I mean, that is not Islam. Eh ako ano... Apo ako ng Moro, ano bang kalokohan \\'yang ganoon na Islam, gamitin mo ang pangalan ng Diyos. I mean that\\'s not to behead. So how do I explain to the people? I mean, we could do that as a last resort but it\\'s a very horrendous thing to do. Ewan ko kung kaya rin ng sundalo ‘yan na pagpasok nila, puputulan lahat ng ulo \\'yan. But ultimately, ang sundalo, mag-order lang --- ang mag-sunod ng order. Eh sinong… eh ‘di ako. Ako \\'yung nagdeclare ng martial law. Ako \\'yung nagsabi sa kanila na pumunta kayo doon para makipag-away, masugatan, pati mamatay. Kaya ako sensitive sa issue na \\'yan. So ultimately, I will be fishing the nation for an --- to give them a sane explanation. So, hayaan ko na sila na paano gawin. Pero this has to end. This cannot go on. Kung mag... kay may nag-surrender naman, eh ‘di kung mag surrender sila, okay lang. We will try them, give them due process, provide them with a lawyer, and they will... there will be no oppression or harassment, or anything. No violence will be inflicted upon them if they surrender. \\'Yan ang i-guarantee ko sa inyo. Pag mag-surrender sila, walang --- ‘yung sabihin mo na bugbugin mo o you oppress o gutumin. Nothing of the sort. I will not also allow it. That is not the way how we treat people, especially even they\\'re criminals. They are not POWs to me. They\\'re simply criminals. Period. So \\'yun ang problema ko. Kasi ako ang managot niyan lahat pagkatapos nito. \\n \\n PRESIDENT DUTERTE: I am not placing any timetable. Because pagsabi nila na, \"Well, we need another six months,\" eh ‘di, we\\'ll just have to wait it out. If I can save one life there, I am willing to wait one year. Makalibre lang man ako ng isang buhay, eh ‘di trabaho ng sundalo \\'yan. Eh ‘di, they just surround the place and camp there until kingdom come if it could save a life. Pero kung wala na, I said this has to end, and I dread the day that it would come, then I must be prepared to the --- to explain to the Filipino nation what happened. \\n PRESIDENT DUTERTE: Yes. \\n PRESIDENT DUTERTE: Yes. Pero ako --- \\n \\n PRESIDENT DUTERTE: Yes, we will... we will show it and of course \\'yung sa mga more than 200 consultants niya sa DAP. May kaso siya sa DAP. Abogado ako, just looking at it. Inubos niya sa pamigay and he will have to answer also. \\n \\n PRESIDENT DUTERTE: May mga account \\'yan na joint. Ang kasama niya, puro Chinese tapos paulit-ulit \\'yung pangayo... pangalan. But it\\'s in Hong Kong, in Malaysia, then there\\'s in Australia, and meron rin sa United States. \\n \\n PRESIDENT DUTERTE: Just like him, nakuha --- ang anong nakuha niyang basura, itong akin, hindi ito basura. Nandiyan ako sa gobyerno eh. So bakit ko kailangan ng basura? All we have to do is to get the goods on him but... matagal na \\'yan hawak ko. But you know, medyo sumosobra na kasi. \\n \\n PRESIDENT DUTERTE: He has been at it against me, my son, and my family since election. Tapos na \\'yung kampanya, and when I thought all the while na ganoon talaga pulitika. Pero ito, he is bent on destroying me. So I destroy him or he will destroy me. Ganun lang \\'yan eh. \\n PRESIDENT DUTERTE: Yes. And I readily agreed. Bakit, what\\'s wrong? He was a president. To the Ilocanos, he was the greatest president. Why do we have to debate on that? It\\'s one day where they can celebrate the anniversary of a great Ilocano. As far as the Ilocanos [are] concerned, Marcos is a hero. Kaya to dwell on this thing for so long a time will just divide the nation. \\'Yung... \\'Yung north na puro Ilocano, galit \\'yan. Akala mo \\'yung mga yellow-yellow nila, walang nagagalit sa kanila. Galit \\'yan sa [unclear] But itong mga Ilocano kasi, eh peace loving eh. I can say that with the Cotabato migration ng Ilocano. They assimilate. \\'Yung iba, nag-asawa talaga ng mga Muslim. Either they become converts, Balik Islam, o... There\\'s nothing wrong in religion, really. Most of the peaceful settlements, nandiyan \\'yung Ilcoano. Kaya itong mga Ilocano, ayaw lang mag-ano... kunwari ayaw makipag... walang gulo. That\\'s their nature eh. Ang Ilonggo, \\'yan ang medyo... lalo na Ilonggo na taga-Mindanao. Sanay kasi sa... sanay sa... it\\'s always a day-to-day fight for existence. So wala ako... ako... I see nothing wrong there. Pagka... pagdating ng mga Pampangueño, they want to celebrate also a great son of theirs, then go ahead. O Cebuano, o \\'di sige. Bakit pa natin pag-awayan \\'yan? Sa kanila, tingin nila, si Marcos, masamang tao. But that is not shared. That sentiment or that view is not shared by all. To the Ilocanos, that\\'s a lot of hogwash. Basura \\'yan. Itong mga yellow na hanggang ngayon puro ignorante pa. Pareho kay Trillanes, hindi naman abugado, pati si Alejano, nakakahiya na. Sayang ang ginastos ng gobyerno ninyo na hindi naman ninyo alam ang batas, pasok kayo ng pasok. Puro idioto. Trillanes, tignan mo. Tattoo. P***. Ako? Presidente --- ako anak ng Presidente ng Pilipinas, bigyan mo ng tattoo to recognize me? B**** s***. Kaya tama \\'yung si Pulong. Dapat ninyo makita ang tattoo ni Inday. Nakita ninyo nasa likod ni Inday? O, hintayin ninyo mag-ano. Araw. Buong... baka magalit \\'yun pero... Baste, buong katawan. Kita mo ang kamay ni Baste, puro tattoo? Ako. [shows his tattoo] It\\'s a rose. Dito, [points to his tattoo] \\'yung number ko ng Guardians, I don\\'t know what year is that. Guardians Brotherhood. Ito \\'yan o. Tignan mo kamay ni Pulong at tingnan mo ‘yung kamay ni Honasan. [Ilando pa diay \\'to?] That\\'s a brotherhood. Mao na, \\'nung unang panahon, naging Ram ako in the early days of the rumo... tapos naging... Tingnan mo \\'yung Greg Honasan. Ipa-decode mo \\'yan. [laughter] Sabihin ko nga kay ano, kay Greg. Sabi ko, \"P*** \\'yan, ipa-decode mo \\'yan mga pinagdodrawing mo.” Marami \\'yan dito. Tingnan mo \\'yung kamay niya. Ito talaga si ano. Na... \\'yung ano mo, idioto na imong ano? Biro mo ipa-decode mo \\'yung... hanapin mo kung saan \\'yang... \\'Yung mga ganoon na issue, dadalhin mo doon sa Senado. You cheapened the... you cheapened the institution. Gagamitin mo ‘yang Senado na mag-ano ng mga hearsay. “Sabi niya, sabi ito.” Tapos mag-produce ka ng bangko. Eh ‘yung akin nga na 200 million hanggang ngayon hindi niya makita. 211 million sa election. Sabi ko nga, “’Pag makita mo ‘yan, kung totoo ‘yan, mag-resign ako.” \\n PRESIDENT DUTERTE: Yes, correct. \\n \\n PRESIDENT DUTERTE: No, no. Yes. He was commissioned by Dureza. It was with the acquiescence, not expressly, ni Secretary Lorenzana. Dureza and I, Lorenzana, had a talk and they talked about the desire of Solitario to surrender because he found out that his name was on the list. Sabi niya, “I’m better off working for you than putting me in prison.” Then he proposed many things, mostly about talking peace to the Mautes or bargaining doon sa ‘yung mga hostages. More ako doon sa release ng hostages. I confirm that it really happened. \\n \\n PRESIDENT DUTERTE: I don’t know. Pero wala na. Wala akong kausap na iba. I only agreed to the suggestion of Dureza. It was the initiative of Secretary Dureza. \\n \\n PRESIDENT DUTERTE: They will be treated as criminals. If they surrender, they will be prosecuted. But they will be treated as human being. If they choose to fight, then the State has the right to kill them. Simply, they are rebelling. So with the NPAs. Kasi ang NPA hindi mo na kasi ngayon ma-ano eh. Actively, ‘yung front nila. Wala na silang tago-tago. Their meetings are in public. Hinayaan ko lang, sige. Pati ‘yung liga nila, mga leftist organization, harap-harapan na nakikipagkita na sila. Sabi ko, “Sige.” Sabi ko, “Hayaan mo.” But do not commit the mistake. Ako, hindi ako nananakot ha. Do not commit the mistake of staging a rebellion. ‘Yung sabihin mo na there’s a fighting on the streets. I will not hesitate to impose martial law all throughout the country and order the arrest of everybody. Ke may kampo ako o wala. Hindi ako nananakot. Pero gagamitin ko talaga ang Armed Forces pati pulis. Ayaw ko makipagpatayan but if you do that, I will arrest all of you. All of you. Hindi ako nananakot, sinasabi ko lang sa inyo ‘yan. Huwag kayong magkamali. You can demonstrate sa streets in the coming days. I am ordering the military to stay in the barracks, but be prepared for war. Ang pulis, sabi ko, “Sa istasyon lang kayo. We’ll just assign a few traffic policemen.” But kung sabihin nila na mag-demonstrate sila ganun, marami. Okay, fine. Pababain ninyo lahat sa, ‘yung nasa bukid. I don’t mind. But I will declare that day a holiday. No government time. Stay at home. Mga estudyante, kung gusto ninyong sumali sa ano, you are free. You can have the city. But do not create trouble. ‘Yan lang talaga ang warning ko. Do not resort to destruction and trouble because I will order the military and the police to go against you. Pagdating niyan, ewan ko kung anong mangyari. Then, do not create trouble here. Alam ko ‘yung mga legal nila na fronts, pati ‘yung usap --- Harap-harapan na. Okay lang ‘yan. Pero huwag kayong magkamali na magsunog dito, mag-vandalism. I will not accept it. Ang kaharap ninyo baril, sigurado ‘yan. Sigurado ‘yan. Paglabas ng sundalo pati pulis, baril ang kaharap ninyo. And if you want something to happen, let it happen para magkaalaman na ano ba talaga itong bayan natin. You want to destroy it? Fine. So we can start anew. Let us go into spasm. Wala akong problema diyan. Pero kung eternal ‘yan na dito, ambush dito, ambush dito, ambush doon. Nauubos na ‘yung sundalo ko pati pulis. Raid ng mga istasyon dito. Kay wala man kayong istasyon, wala akong magantihan. Pero ‘yan ang hinihintay ko. ‘Yan talaga ang hinihintay ko. An overt act to destroy government and I will decide kung hanggang tayo… saan tayo aabot. I am prepared. I do not expect anything but I am prepared for everything. \\n \\n PRESIDENT DUTERTE: Ano sir? Hindi ko narinig. Nagba-bounce kasi sa… Ano ang… ano ang statement niya? Can I have a lady… \\n PRESIDENT DUTERTE: No way. \\n \\n PRESIDENT DUTERTE: No way.  Sabi pa ni Pulong kay Trillanes, “No way.” \\n \\n PRESIDENT DUTERTE: It’s not a time for celebration. You do not celebrate because you killed a fellow Filipino. We will do it because we have to restore the dignity of the place. And aside from that, maybe I’ll congratulate them but that’s all. We do not have to spend money for food and wine just to celebrate the defeat of another Filipino tapos pinatay. That is not a cause for a joyous event. It saddens us. Sabi ko sa iyo, Maranao ang lola ko. So what do you think? Anong iniisip ko ngayon? Sige daw. Try to fathom it if you can. I’m mixed. My father is a Cebuano. But what do you think of the suffering there? Including my cousins, nandiyan sa evacuation centers. It is not a cause for celebration. The eventual end of this sad story, saga, is that it will teach all of us. The Army, they have to revise their doctrines about fighting because it’s a new thing about building per building. Kagaya ‘yan ng Iraq, Syria, na hanggang ngayon, sige away. Because sa Mosul, Aleppo, talagang nasa building, naka-position na eh. So kaya marami akong patay. ‘Yung first batch. And what precipitated the whole thing? They were there. The police were there to serve a warrant. Binakbakan sila ng --- Kaya pumunta ang Marines. Two days or three days after, I had these Marines all dead. Kaya ako pumunta sa--- Pagdating ng mga labi kasi --- Sabi ko, “What do you think?” Ako kasi mixed ako eh. So I have my own reasons to whatever there is to it. But first and foremost is the Republic of the Philippines. My duty as President is to protect the people and to preserve the nation. That’s the long --- That’s the start and end of my --- That’s why I’m standing here and pinning the awards to the soldiers. Okay?'"
      ]
     },
     "execution_count": 40,
     "metadata": {},
     "output_type": "execute_result"
    }
   ],
   "source": [
    "df.loc[643, 'transcript']"
   ]
  },
  {
   "cell_type": "markdown",
   "metadata": {},
   "source": [
    "## 374"
   ]
  },
  {
   "cell_type": "code",
   "execution_count": 43,
   "metadata": {},
   "outputs": [
    {
     "data": {
      "text/plain": [
       "' Philippines): Good afternoon sir. Si Ina po sa CNN. PRESIDENT\\n DUTERTE: Akala ko ikaw ‘yung… Ms. Andolong: Sir, I just want to ask about, you apologized to Governor Espino and Mr. Sison and the Baraan, the brother. What went wrong in the validation process of that matrix because I understand–? PRESIDENT\\n DUTERTE: Nothing went wrong. Everybody was correct but the focusing was, there were lapses. Connect-connect ‘yan, connect-connect ‘yan, connect-connect. They probably hit a snag somewhere and they stopped. So tinitingnan ko yung iba, sa DILG So kung wala man man kayong trabaho diyan, magtrabaho kayo so give me a chart there. Ms. Andolong: But this list… PRESIDENT\\n DUTERTE: Hindi ko ma-connect eh. Ms. Andolong: Sir but this list still ended up on your table and you announced it. Will anyone be held responsible for those lapses? PRESIDENT\\n DUTERTE: No, I take full responsibility. Ako ‘yung nag-announce. Hindi naman ito ‘yung… Sabi ko in this drive, I take full responsibility. Even if the soldiers and the police would commit a serious wrong, I will assume that mistake and they can file charges against me—fine. But my answer to the judge would really be something like this, “judge, nagkamali ako I’m sorry but I have to inform the people immediately so that they take their guards of their surroundings and prevent the contamination of drugs in their children. Ako, hindi ako ma-ano na tao. I am not a… Hindi ako kargado ng fried chicken kagaya ng iba. Ako pagka-mali… masama nga ang bunganga ko pero kung ako nagkamali, it comes from the heart. I am very sorry. Ms. Andolong: Thank you sir. Jospeh Morong (GMA): Sir, good afternoon po, Joseph po sa GMA 7. Sir, ‘yung sa Chua lang, may first name po ba ito? And then— PRESIDENT\\n DUTERTE: Sino? Mr. Morong: ‘Yung Chua, sir, na sinabi niyo na pinagbentahan ng lupa. Tapos sir, itong facility na ito hindi naman ito susulupot na lang? PRESIDENT\\n DUTERTE: Sunday Chua. Mr. Morong: Sunday sir, as in Linggo? PRESIDENT\\n DUTERTE: Sabi ni [inaudible] Mr. Morong: Okay. Sir, ‘yung ganitong facility hindi naman ‘to susulpot na lang out of nowhere. Bakit, how do you explain that this was set up somehow kahit hindi nagamit? Bakit napatayo? PRESIDENT\\n DUTERTE: You have to ask the governor. Kasi sabi niya this was being, per, per tanong-tanong dito, this was started during the election. Sabi ni governor, when I won, iniwan nila. ‘Nong nanalo ako pagka-presidente tapos nag-umpisa na ang tumbahan, araw-araw may nagtutumba na kasi may pinapatay rin ang mga media. Sumali rin kayo eh. Sa lima siguro, baka dalawa inyo. There are crusading media people, you might be surprised really to know. Mr. Morong: Sir, pasundot lang, ‘yung narco-celebrities sir natin kaya, ‘yung mga celebrities na involved sa drugs sir. They’re 50 or ilan ba ‘yun sir? PRESIDENT\\n DUTERTE: Alam mo, sa totoo lang, I never follow that item. ‘Yung magbasa ako, ‘yang mga kolumnista Hindi ko na binasa kasi wala namang mabuti sa kanila. Sila lang ang bright boy eh, ikaw ang bad, bugok ka, sila bright lahat. So, I read the factual reporting then after that ay itong mga… ‘yung mga nagdadaldal sila. Mr. Morong: Hindi sir, ‘yun pong mga celebrities na involved sa drugs din. I think that was floated several days ago that there’s also a list involving celebrities sa mga drugs. PRESIDENT\\n DUTERTE: ‘Yan ang problema nga, ganito. I’ve been telling… If this is the drug, and I am the superstar Rodrigo Duterte, you must catch me drinking the shabu. Pag ginagalaw diyan, kakapasok lang ninyo, tapos pupunta ako diyan, gaganon-ganon ako ng paypay, “O nag-inom ka na?” “O ngayon may shabu diyan, nagagamit ka?” “Oo, pero ngayong araw na ito wala. Kahapon.” It’s an instant crime just like a gun, pag nahuli ka na may baril, possession of the gun. Trafficking of a gun, how can you traffic a gun without holding it and passing it to the buyer? Trafficking of drugs, it must be in your possession, then buy-bust, ibigay mo sa kanya at ibigay ‘yung pera. Kung mag-tawagan lang sila, saan ‘yung shabu, hanapin mo lang diyan, hinulog namin sa Taft. Trafficking is you are holding. How can you traffic? How can you buy and sell if you do not have it? Just like a gun. If you sell a gun, sabihin ko ikaw. Eh, ito si kilabot ito si kapitan noon sa panahon niya sa kabila. Sabihin niya, “O, may inambush kaming sundalo, M-16, dalawa.” “Saan na?” “Ewan ko.” Pagdating sa Korte file-an mo siya ng kaso, magkuha siya ng M-16 three years ago. Tapos sana, ewan ko, iniwan ko doon sa mga NPA na kasama ko. How can you– Ganon ‘yan, pati artista. ‘Yung maghawak sila tapos, alam mo ito mga bright ‘to eh. They are not without a good education, na you know that this thing will shrink your brain. Kung matutunaw utak mo dito, shrinks your brain really. Pag gusto nila hayaan mo. Ang kailangan natin sa bayan na ito mas ma… maraming gago. Eh, pag maging gago ‘yan, kita mo ‘yung artista, ‘yung kahapon? ‘Yung sexy star na nahuli? Ganda-ganda, tingnan mo itsura niya. Bright ka naman then you waste your life. So, ibig sabihin ‘yung utak mo katorse. Ganito ang problema. Ako, wala ako sa Davao. Marami akong apo babae. Itong mga ‘to mga sundalo, pati pulis, ito, maybe— mga pamilya nila sa probinsya-probinsya. Ngayon sila nag-iisip. P***** ‘yung shabu na abot nito, abot ng Antique ‘yan, abot ng Cebu, abot ng Mindanao. Ano ang tingin ninyo sa aming pag-iisip ngayon? What do you think is going on in our minds, let alone ‘yung trabaho namin, nakikiaway ng NPA diyan, patayan. May mga pamilya ito, may anak ito nag-aaral. So ako mayroon ako doong mga apo, ayaw naman magpa-security, galit na galit. Ayaw mag, they don’t want security people there. Iyong babaeng anak ko, si Mayor, lalo na eh, inaaway niya. She doesn’t want security. I have my daughters, ganon. Ano ang isip namin? Kung may mangyari sa anak namin, bantay ka, kasi wala nang batas diyan. Do not lecture on me about rule of law. Ako, nadisgrasya ang anak ko, na-rape, pinatay, huwag kang mag-lecture sa akin ng… masampal kita. Itong, that’s why the evil… kasi pagkaalam kasi ang state of lawlessness na barilan dito. State of lawlessness is the number one problem of the country is… kaya huwag muna ninyong pakinggan ‘yang mura ko. Taong galit talaga nagmumura. Do not try to hope that I’ll change my character. I am I, and you are you. If we find, if we meet in one corner and we can understand each other, fine. But if we cannot get each other’s guts, eh ‘di pasensiya, huwag ninyo akong, talagang nagmumura ako. Obama man, maski sino. Saka ‘yung iba— may I just remind also, I’m not trying to be – how would you term it? – irreverent. Parang ‘yang mga pastor, tumatanggi na ako ba’t isali ang Diyos, mga ganon-ganon. Ito, kasalanan ito sa Diyos, more than the—Tatanungin ko bigla: Bakit, sino may sabi sa‘yo naniwala ako ng Diyos? Sinong naniniwala sa inyong may relihiyon ako? Kaya mahirap diyan eh. Gamit ang Diyos kasi ako ganoon, punta sa impiyerno. T**** What if I say to you now that I’m… atheist? An agnostic? Pero maniwala ako ng Diyos, style lang ‘yan. Pang-sagot lang ‘yan. ‘Yung pa-morale-morale ka diyan, you must remember that any crowd, not all the people there in the crowd have a religion. There are people there who, the agnostics, the atheists, and there are a lot of them. Wala na? Henry Uri (DZRH): Mr. President, magandang hapon. Si Henry Uri po sa DZRH. Sir, with all due respect sa mga local government officials present today, ano po ang kanilang naging pagkukulang, at ano ang kanilang magiging pananagutan dito sa pagsulpot nitong ganito kalaking shabu laboratory? PRESIDENT\\n DUTERTE: You know, Governor Pineda, nakikita mo kami kanina papalakad doon, she was beside me, and she was profuse of the apologies. Sabi ko, Ma’am, ako sa Davao mayor tinamaan rin ako ng laboratory. Ang doon lang, talagang lahat pinatay ko at nilagay ko diyan sa highway. Pero hindi mo ma-gwardiyahan ‘yang teritoryo. I cannot, you know, I cannot place a policeman every 300 square meters in this– Kulang ako, kaya ko tinawag ‘yung… That’s why I raised the level to a national security threat so that I could call the military to help in supporting cast, but they are exercising now police powers. When I commissioned the Armed Forces, “you come here” that is actually an order with the corresponding, “you are now an agent of a person in authority in the matter of law enforcement.” Parang pulis na sila ngayon and that is why ang sabi ko bilihan ko sila lahat ng side arms. It will cost me maybe a billion, but each and every soldier would have the side arm because I want them to reinvent themselves. Usually sa bukid lang sila mag-fight, but now they have to detect, crime and detection, profiling. Alam mo ‘yung pag sa Davao, may helmet siya hindi niya tinanggal. Tinaas niya ‘yung visor but he had a face mask. ‘Yung magda-drive ka ginagamit, ginagamit ko rin ‘yan pero para sa alikabok. Then may helmet siya, nagpamasahe siya, tinanggal lang niya—tinaas niya iyong—[inaudible] But they are police. Because our military and police are really bright, sa totoo lang, we know him. And I said, we will catch up with him. Mr. Uri: Salamat po. Tonette Orejas (Philippine Daily Inquirer) Magandang hapon po. Ako po si Tonette Orejas sa Inquirer. Matanong ko lang po kung may impormasyon kayo na involved, ito pong structure na ‘to ay connected sa Bilibid network through one Kapampangan who is detained at the NBP? PRESIDENT\\n DUTERTE: That this structure is connected sa? Ms. Orejas: Bilibid network. PRESIDENT\\n DUTERTE: You’re correct. Ms. Orejas: I am sir? PRESIDENT\\n DUTERTE: You are correct. Ms. Orejas: How, sir? PRESIDENT\\n DUTERTE: Ang operators, the drug lords are there inside. And somehow, nakakuha pa rin ng mga cellphone. Kung wala diyan sa Bilibid, ‘yung nasa detention na nahuli na pending ang trial nila, just like ‘yung sa Parañaque na sumabog silang lahat. Namatay silang lahat, ang nabuhay iyong nagtapon. Siniguro niya muna na ‘yung mga ulol. Ms. Orejas: Sir, follow-up question lang po. Magkano po ang budget ng inyong… last na po ito. Magkano po ang budget ng inyong administration to fight illegal drugs in the 2017 budget? PRESIDENT\\n DUTERTE: Ganito ma’am eh. It’s a very good question because everybody’s almost in cloud nine. You know ma’am, I entered the presidency midterm. I wasn’t the one who prepared the budget that is being used to operate government now. Because this budget was prepared the previous year for implementation now. It is Aquino’s budget. So I am operating on somebody else’ budget, not mine. Nong tumakbo ng presidente at nanalo ako, I never thought, alam ko sa Davao medyo ma– But I was horrified, ‘yung nagkampanya na ang pulis and lahat at lumabas na ito by the hundreds of thousands. If you think that we have sufficient money, we will not put it in our pockets. We will spend it, and I will not allow anybody to misappropriate money now especially, hindi namin alam ganon karami, by hundreds, by the thousands. Hindi alam ni Aquino, ni hindi alam ni Arroyo. Noong na-presidente ako, inipit ko lahat. Ayon lumabas. Bakit hindi kayo mag-rehab? Bakit kayo ganon, patay, dapat ganon, easily done. Problem is I said, lahat ng naiwan ngayon wala ng capital outlay, ‘yung maggawa ako ng mga ganito. [inaudible] MOOE. Sweldo na lang pati mga allowances until the end of the year. That’s why hirap rin ako sa. Meron ako konting mabigay. I cannot buy the guns now because there is no… tapos na ang budget. It’s January to December. Next year may bagong budget ako, this time it will include the expenditures of the problems connected with drugs. Am I clear on that?\\n DUTERTE: Ang naiwan?\\n DUTERTE: Ewan ko. Hindi pa… Marami pang… Alam mo ‘yung, ma’am, when it’s being heard in Congress. I submit an executive budget. Pagdating doon, papalitan nila ‘yan kung saan nila idagdag, saan isisingit ’yung kanila. So by the time it is passed, and that is [inaudible] that is the budget that the Filipino people will have to spend…\\n DUTERTE: For what dito?\\n DUTERTE: I really do not know kung makgano lahat. Pero hanggang ngayon, si DSSD, pati si Ubial keep on changing the, what submitted there, corrected because of the problem sa drugs. Kasi noon 700,000 lang, ngayon marami nag-surrender. And if you take, if you take a count throughout the whole Philippines, it sometimes reads 40, 60. So every day, nag-iiba ang figures, then everyday, they also correct what they have submitted. Kaya sabi ko nga by this time, Widodo said Indonesia, 400 million; ako, by the end of the year tabla na kami, I would have about four million. So, kaya ako galit, kaya ako galit. Tingnan mo naman, noon ‘yang shabu, kusina lang, kusina-kusina lang eh. Ngayon branded ‘to, baka mabili mo pa sa supermarket ‘to. Maganda ‘yung packaging, nakita ko doon oh. But apparently, they were open, nakita mo sa… by the condition of the cartoons.  Any question? Still? Ina please mag-tanong ka, please o. Please kayo. Please magtanong kayo please. T*** [speaks Bisaya]. Ay mag-uwi pa daw, baka magsara ‘yung clouds. Kaligaya nitong mga p***** i*** drug lord ‘to, mahulog ako. Magpalitson pa ‘yan ng elepante, hindi baka. Yes ma’am? Inquirer again.\\n DUTERTE: Government, PDEA will decide. I will not interfere. There are rules in the… PDEA law, there are rules to be followed. Ano ang gawain, iyong ganito-ganito. If they agree on the proposal of Governor Pineda to which I fully agree, okay ‘yan. Okay man, mag-over land na tayo, sama tayo sasakyan, para may karaoke ‘yung– but do not apologize. I am giving you even the privilege of singing inside.  Mr. Morong: Sir kakagatin ko ‘yan, sige. Sir pasundot lang, medyo other topics. Sir, ‘yung kay Senator De Lima ulit. ‘Yung kay Sebastian. Can we elaborate on what we know so far? More? PRESIDENT\\n DUTERTE: What you have read it’s all about. But kumpleto na ‘yan. But we have the evidence. Alam na naming lahat. ‘Yang pagsabi ko De Lima, you better hang yourself. Now, the reason why I do not read anymore articles of De Lima, because ever since napanuod ko ‘yung classic niya na ano, ‘yung x-rated na De Lima versus driver, hanggang ngayon, wala na ako, sa totoo lang [inaudible] Nawalan na akong ganang kumain. I’ve lost my appetite. Parang may nakita akong baboy [nag-uuntol-untol?] doon sa–\\n DUTERTE: Eh, siya ang nag-una eh.'"
      ]
     },
     "execution_count": 43,
     "metadata": {},
     "output_type": "execute_result"
    }
   ],
   "source": [
    "df.loc[374].transcript"
   ]
  },
  {
   "cell_type": "code",
   "execution_count": 51,
   "metadata": {},
   "outputs": [],
   "source": [
    "missing = 'Now we are dealing with China. I will bring this to their attention. I’m leaving for Vietnam then maybe too for China. Lahat ng materials galing sa China. So we want them also to control their people and increase their focus on the criminals. Kaibigan man kaya tayo. Eh bakit ganon? If you consider as your friend, you want to help us, but most of the materials, lahat and the machines and the boilers are from China, what does that mean? Why I’m asking the Filipino in the coming days kung totohanin talaga ng Amerika, I’m going to ask you to sacrifice a little bit. But by next year, I would have entered alliances with so many countries. I will have an alliance in the military, trade and commerce with China. I have talked to President Medvedev of Russia and we agreed that I will go there and we’ll talk about what, how they can help us here. China is ready, ready to help us and I would add now they should be ready to help us with this goddamn problem of, itong drugs. So ‘yan, any question? Ikaw ‘yung representative ni Chua, ‘yung may -ari?'"
   ]
  },
  {
   "cell_type": "code",
   "execution_count": 53,
   "metadata": {
    "scrolled": false
   },
   "outputs": [],
   "source": [
    "lt_others = ['Philippines):', 'Andolong:', '(GMA):', 'Morong:', '(DZRH):', 'Uri:', 'Orejas:']\n",
    "df.loc[374, 'transcript'] = missing + get_duterte_part_not_q(df.loc[374].transcript, lt_others)"
   ]
  },
  {
   "cell_type": "code",
   "execution_count": 54,
   "metadata": {},
   "outputs": [
    {
     "data": {
      "text/plain": [
       "'Now we are dealing with China. I will bring this to their attention. I’m leaving for Vietnam then maybe too for China. Lahat ng materials galing sa China. So we want them also to control their people and increase their focus on the criminals. Kaibigan man kaya tayo. Eh bakit ganon? If you consider as your friend, you want to help us, but most of the materials, lahat and the machines and the boilers are from China, what does that mean? Why I’m asking the Filipino in the coming days kung totohanin talaga ng Amerika, I’m going to ask you to sacrifice a little bit. But by next year, I would have entered alliances with so many countries. I will have an alliance in the military, trade and commerce with China. I have talked to President Medvedev of Russia and we agreed that I will go there and we’ll talk about what, how they can help us here. China is ready, ready to help us and I would add now they should be ready to help us with this goddamn problem of, itong drugs. So ‘yan, any question? Ikaw ‘yung representative ni Chua, ‘yung may -ari?\\n DUTERTE: Akala ko ikaw ‘yung… Ms.\\n DUTERTE: Nothing went wrong. Everybody was correct but the focusing was, there were lapses. Connect-connect ‘yan, connect-connect ‘yan, connect-connect. They probably hit a snag somewhere and they stopped. So tinitingnan ko yung iba, sa DILG So kung wala man man kayong trabaho diyan, magtrabaho kayo so give me a chart there. Ms.\\n DUTERTE: Hindi ko ma-connect eh. Ms.\\n DUTERTE: No, I take full responsibility. Ako ‘yung nag-announce. Hindi naman ito ‘yung… Sabi ko in this drive, I take full responsibility. Even if the soldiers and the police would commit a serious wrong, I will assume that mistake and they can file charges against me—fine. But my answer to the judge would really be something like this, “judge, nagkamali ako I’m sorry but I have to inform the people immediately so that they take their guards of their surroundings and prevent the contamination of drugs in their children. Ako, hindi ako ma-ano na tao. I am not a… Hindi ako kargado ng fried chicken kagaya ng iba. Ako pagka-mali… masama nga ang bunganga ko pero kung ako nagkamali, it comes from the heart. I am very sorry. Ms.\\n DUTERTE: Sino? Mr.\\n DUTERTE: Sunday Chua. Mr.\\n DUTERTE: Sabi ni [inaudible] Mr.\\n DUTERTE: You have to ask the governor. Kasi sabi niya this was being, per, per tanong-tanong dito, this was started during the election. Sabi ni governor, when I won, iniwan nila. ‘Nong nanalo ako pagka-presidente tapos nag-umpisa na ang tumbahan, araw-araw may nagtutumba na kasi may pinapatay rin ang mga media. Sumali rin kayo eh. Sa lima siguro, baka dalawa inyo. There are crusading media people, you might be surprised really to know. Mr.\\n DUTERTE: Alam mo, sa totoo lang, I never follow that item. ‘Yung magbasa ako, ‘yang mga kolumnista Hindi ko na binasa kasi wala namang mabuti sa kanila. Sila lang ang bright boy eh, ikaw ang bad, bugok ka, sila bright lahat. So, I read the factual reporting then after that ay itong mga… ‘yung mga nagdadaldal sila. Mr.\\n DUTERTE: ‘Yan ang problema nga, ganito. I’ve been telling… If this is the drug, and I am the superstar Rodrigo Duterte, you must catch me drinking the shabu. Pag ginagalaw diyan, kakapasok lang ninyo, tapos pupunta ako diyan, gaganon-ganon ako ng paypay, “O nag-inom ka na?” “O ngayon may shabu diyan, nagagamit ka?” “Oo, pero ngayong araw na ito wala. Kahapon.” It’s an instant crime just like a gun, pag nahuli ka na may baril, possession of the gun. Trafficking of a gun, how can you traffic a gun without holding it and passing it to the buyer? Trafficking of drugs, it must be in your possession, then buy-bust, ibigay mo sa kanya at ibigay ‘yung pera. Kung mag-tawagan lang sila, saan ‘yung shabu, hanapin mo lang diyan, hinulog namin sa Taft. Trafficking is you are holding. How can you traffic? How can you buy and sell if you do not have it? Just like a gun. If you sell a gun, sabihin ko ikaw. Eh, ito si kilabot ito si kapitan noon sa panahon niya sa kabila. Sabihin niya, “O, may inambush kaming sundalo, M-16, dalawa.” “Saan na?” “Ewan ko.” Pagdating sa Korte file-an mo siya ng kaso, magkuha siya ng M-16 three years ago. Tapos sana, ewan ko, iniwan ko doon sa mga NPA na kasama ko. How can you– Ganon ‘yan, pati artista. ‘Yung maghawak sila tapos, alam mo ito mga bright ‘to eh. They are not without a good education, na you know that this thing will shrink your brain. Kung matutunaw utak mo dito, shrinks your brain really. Pag gusto nila hayaan mo. Ang kailangan natin sa bayan na ito mas ma… maraming gago. Eh, pag maging gago ‘yan, kita mo ‘yung artista, ‘yung kahapon? ‘Yung sexy star na nahuli? Ganda-ganda, tingnan mo itsura niya. Bright ka naman then you waste your life. So, ibig sabihin ‘yung utak mo katorse. Ganito ang problema. Ako, wala ako sa Davao. Marami akong apo babae. Itong mga ‘to mga sundalo, pati pulis, ito, maybe— mga pamilya nila sa probinsya-probinsya. Ngayon sila nag-iisip. P***** ‘yung shabu na abot nito, abot ng Antique ‘yan, abot ng Cebu, abot ng Mindanao. Ano ang tingin ninyo sa aming pag-iisip ngayon? What do you think is going on in our minds, let alone ‘yung trabaho namin, nakikiaway ng NPA diyan, patayan. May mga pamilya ito, may anak ito nag-aaral. So ako mayroon ako doong mga apo, ayaw naman magpa-security, galit na galit. Ayaw mag, they don’t want security people there. Iyong babaeng anak ko, si Mayor, lalo na eh, inaaway niya. She doesn’t want security. I have my daughters, ganon. Ano ang isip namin? Kung may mangyari sa anak namin, bantay ka, kasi wala nang batas diyan. Do not lecture on me about rule of law. Ako, nadisgrasya ang anak ko, na-rape, pinatay, huwag kang mag-lecture sa akin ng… masampal kita. Itong, that’s why the evil… kasi pagkaalam kasi ang state of lawlessness na barilan dito. State of lawlessness is the number one problem of the country is… kaya huwag muna ninyong pakinggan ‘yang mura ko. Taong galit talaga nagmumura. Do not try to hope that I’ll change my character. I am I, and you are you. If we find, if we meet in one corner and we can understand each other, fine. But if we cannot get each other’s guts, eh ‘di pasensiya, huwag ninyo akong, talagang nagmumura ako. Obama man, maski sino. Saka ‘yung iba— may I just remind also, I’m not trying to be – how would you term it? – irreverent. Parang ‘yang mga pastor, tumatanggi na ako ba’t isali ang Diyos, mga ganon-ganon. Ito, kasalanan ito sa Diyos, more than the—Tatanungin ko bigla: Bakit, sino may sabi sa‘yo naniwala ako ng Diyos? Sinong naniniwala sa inyong may relihiyon ako? Kaya mahirap diyan eh. Gamit ang Diyos kasi ako ganoon, punta sa impiyerno. T**** What if I say to you now that I’m… atheist? An agnostic? Pero maniwala ako ng Diyos, style lang ‘yan. Pang-sagot lang ‘yan. ‘Yung pa-morale-morale ka diyan, you must remember that any crowd, not all the people there in the crowd have a religion. There are people there who, the agnostics, the atheists, and there are a lot of them. Wala na? Henry Uri\\n DUTERTE: You know, Governor Pineda, nakikita mo kami kanina papalakad doon, she was beside me, and she was profuse of the apologies. Sabi ko, Ma’am, ako sa Davao mayor tinamaan rin ako ng laboratory. Ang doon lang, talagang lahat pinatay ko at nilagay ko diyan sa highway. Pero hindi mo ma-gwardiyahan ‘yang teritoryo. I cannot, you know, I cannot place a policeman every 300 square meters in this– Kulang ako, kaya ko tinawag ‘yung… That’s why I raised the level to a national security threat so that I could call the military to help in supporting cast, but they are exercising now police powers. When I commissioned the Armed Forces, “you come here” that is actually an order with the corresponding, “you are now an agent of a person in authority in the matter of law enforcement.” Parang pulis na sila ngayon and that is why ang sabi ko bilihan ko sila lahat ng side arms. It will cost me maybe a billion, but each and every soldier would have the side arm because I want them to reinvent themselves. Usually sa bukid lang sila mag-fight, but now they have to detect, crime and detection, profiling. Alam mo ‘yung pag sa Davao, may helmet siya hindi niya tinanggal. Tinaas niya ‘yung visor but he had a face mask. ‘Yung magda-drive ka ginagamit, ginagamit ko rin ‘yan pero para sa alikabok. Then may helmet siya, nagpamasahe siya, tinanggal lang niya—tinaas niya iyong—[inaudible] But they are police. Because our military and police are really bright, sa totoo lang, we know him. And I said, we will catch up with him. Mr.\\n DUTERTE: That this structure is connected sa? Ms.\\n DUTERTE: You’re correct. Ms.\\n DUTERTE: You are correct. Ms.\\n DUTERTE: Ang operators, the drug lords are there inside. And somehow, nakakuha pa rin ng mga cellphone. Kung wala diyan sa Bilibid, ‘yung nasa detention na nahuli na pending ang trial nila, just like ‘yung sa Parañaque na sumabog silang lahat. Namatay silang lahat, ang nabuhay iyong nagtapon. Siniguro niya muna na ‘yung mga ulol. Ms.\\n DUTERTE: Ganito ma’am eh. It’s a very good question because everybody’s almost in cloud nine. You know ma’am, I entered the presidency midterm. I wasn’t the one who prepared the budget that is being used to operate government now. Because this budget was prepared the previous year for implementation now. It is Aquino’s budget. So I am operating on somebody else’ budget, not mine. Nong tumakbo ng presidente at nanalo ako, I never thought, alam ko sa Davao medyo ma– But I was horrified, ‘yung nagkampanya na ang pulis and lahat at lumabas na ito by the hundreds of thousands. If you think that we have sufficient money, we will not put it in our pockets. We will spend it, and I will not allow anybody to misappropriate money now especially, hindi namin alam ganon karami, by hundreds, by the thousands. Hindi alam ni Aquino, ni hindi alam ni Arroyo. Noong na-presidente ako, inipit ko lahat. Ayon lumabas. Bakit hindi kayo mag-rehab? Bakit kayo ganon, patay, dapat ganon, easily done. Problem is I said, lahat ng naiwan ngayon wala ng capital outlay, ‘yung maggawa ako ng mga ganito. [inaudible] MOOE. Sweldo na lang pati mga allowances until the end of the year. That’s why hirap rin ako sa. Meron ako konting mabigay. I cannot buy the guns now because there is no… tapos na ang budget. It’s January to December. Next year may bagong budget ako, this time it will include the expenditures of the problems connected with drugs. Am I clear on that? \\n DUTERTE: Ang naiwan? \\n DUTERTE: Ewan ko. Hindi pa… Marami pang… Alam mo ‘yung, ma’am, when it’s being heard in Congress. I submit an executive budget. Pagdating doon, papalitan nila ‘yan kung saan nila idagdag, saan isisingit ’yung kanila. So by the time it is passed, and that is [inaudible] that is the budget that the Filipino people will have to spend… \\n DUTERTE: For what dito? \\n DUTERTE: I really do not know kung makgano lahat. Pero hanggang ngayon, si DSSD, pati si Ubial keep on changing the, what submitted there, corrected because of the problem sa drugs. Kasi noon 700,000 lang, ngayon marami nag-surrender. And if you take, if you take a count throughout the whole Philippines, it sometimes reads 40, 60. So every day, nag-iiba ang figures, then everyday, they also correct what they have submitted. Kaya sabi ko nga by this time, Widodo said Indonesia, 400 million; ako, by the end of the year tabla na kami, I would have about four million. So, kaya ako galit, kaya ako galit. Tingnan mo naman, noon ‘yang shabu, kusina lang, kusina-kusina lang eh. Ngayon branded ‘to, baka mabili mo pa sa supermarket ‘to. Maganda ‘yung packaging, nakita ko doon oh. But apparently, they were open, nakita mo sa… by the condition of the cartoons.  Any question? Still? Ina please mag-tanong ka, please o. Please kayo. Please magtanong kayo please. T*** [speaks Bisaya]. Ay mag-uwi pa daw, baka magsara ‘yung clouds. Kaligaya nitong mga p***** i*** drug lord ‘to, mahulog ako. Magpalitson pa ‘yan ng elepante, hindi baka. Yes ma’am? Inquirer again. \\n DUTERTE: Government, PDEA will decide. I will not interfere. There are rules in the… PDEA law, there are rules to be followed. Ano ang gawain, iyong ganito-ganito. If they agree on the proposal of Governor Pineda to which I fully agree, okay ‘yan. Okay man, mag-over land na tayo, sama tayo sasakyan, para may karaoke ‘yung– but do not apologize. I am giving you even the privilege of singing inside.  Mr.\\n DUTERTE: What you have read it’s all about. But kumpleto na ‘yan. But we have the evidence. Alam na naming lahat. ‘Yang pagsabi ko De Lima, you better hang yourself. Now, the reason why I do not read anymore articles of De Lima, because ever since napanuod ko ‘yung classic niya na ano, ‘yung x-rated na De Lima versus driver, hanggang ngayon, wala na ako, sa totoo lang [inaudible] Nawalan na akong ganang kumain. I’ve lost my appetite. Parang may nakita akong baboy [nag-uuntol-untol?] doon sa– \\n DUTERTE: Eh, siya ang nag-una eh.'"
      ]
     },
     "execution_count": 54,
     "metadata": {},
     "output_type": "execute_result"
    }
   ],
   "source": [
    "df.loc[374].transcript"
   ]
  },
  {
   "cell_type": "markdown",
   "metadata": {},
   "source": [
    "## 372"
   ]
  },
  {
   "cell_type": "code",
   "execution_count": 56,
   "metadata": {},
   "outputs": [
    {
     "data": {
      "text/plain": [
       "'http://pcoo.gov.ph//sept-28-2016-media-interview-with-president-rodrigo-roa-duterte-before-his-departure-for-vietnam/'"
      ]
     },
     "execution_count": 56,
     "metadata": {},
     "output_type": "execute_result"
    }
   ],
   "source": [
    "df.loc[372].url"
   ]
  },
  {
   "cell_type": "code",
   "execution_count": 63,
   "metadata": {},
   "outputs": [],
   "source": [
    "lt_others = ['(ABS-CBN):', 'Hernandez:', '(GMA):', 'Morong:']\n",
    "df.loc[372, 'transcript'] = get_duterte_part_not_q(df.loc[372].transcript, lt_others).replace('Ms.', '').replace('Mr.', '')"
   ]
  },
  {
   "cell_type": "markdown",
   "metadata": {},
   "source": [
    "## 370"
   ]
  },
  {
   "cell_type": "code",
   "execution_count": 68,
   "metadata": {},
   "outputs": [
    {
     "data": {
      "text/plain": [
       "' computation: You know mayor, I’ll give you the economic impact of drugs in the country, your country. I said, this is the way how it goes. There are at least, he said, you claim to be three million drugs users and addicts; one hit daily costs around 200 or about 6,000 a month. If these users and addicts use drugs on a daily basis, that’s about 18 billion a month or around 216 billion a year. Otherwise, this money could go to food, education… And that was the cold reality and I was not able to sleep soundly that night and even… I was so stressed. Why, the figures. Because the mining industry gives us about 70 billion only and here is a cost of 16 billion, destroying lives. It’s an investment to destroy lives. It’s an investment by the drug lords that will break the social fabric of our society. Alam mo pag may adik sa pamilya… pag meron na magnakaw ng mga bagay-bagay na mga… ipagbili na ‘yung mga kotse kung saan-saan. And, pag wala na, they go into crime and that is why nationwide, ang crime, went on a spindown. We are going… mga almost 50 percent in the entire country. Wala na masyadong patayan. And here is a nation, which its ordinary government employs are talking as if they are gods. And to later on to be orchestrated or followed by the [inaudible]. Instead of coming over, knowing fully well, it could not escape their attention that I entered into the presidency of a budget that was prepared by my predecessor and that budget is in operation now. No other source. The budget for next year is being prepared. And now we have placed funds for building rehabilitations in the military camps, as I have requested the Armed Forces of the Philippines to weigh in, into the problem. It’s so exasperating… Knowing that… I said it could not have escaped their attention. They are running a government also. Instead of saying: You know, Mr. Duterte, instead of killing them, why don’t you build several–? Well, I get funds from the Office of the Foreign Affairs. Get it from Evasco, the Secretary… Get it from the funds, the intelligence fund of the Armed Forces of the Philippines? Or Secretary Aguirre? The newest enemy of my friend. So, it’s not allowed. That would be like robbing Peter to pay Paul. And this is the tragic thing about miscalculation, whether it is in business, whether at computing household. You have always to calculate correctly. That is why there is Calculus and it’s the greatest need for a Calculus, even in the military. The danger is always miscalculation. I don’t know if those guys there have the… pea-brained to think about calculations. It’s only good, criticize that’s it, in public. There is the United Nations. You can always deliver your speech there. As the Commission on Human Rights. Or of voting, then go send some rapporteur. And I was investigated during my mayorship days already. And there is the result. Ano gusto mo, [inaudible]? And all these years, not a single case was filed against me. It’s all talk until now. Now, question is… quoted by the EU, by this, I said the pea-brained lawyers there. That this official, this, even when he was mayor, he was threatening to kill the criminals. What an idiot. Group of idiots in the purest form. You know, when you want to charge me. You have to find out if the penal laws of this land would make a mayor liable if he threatens the criminals or intimidate the wrongdoers. You can read the penal codes, criminal laws of this land, you’ll find nothing. And to say that this mayor has been threatening to kill criminals… anong—Kaya kung ikaw nandito. Bakit hindi ka magmumura? You’re portrayed or pictured to be some… a cousin of Hitler. And you do not even bother to find out, to investigate… Imagine that, I will be fishing and even the international court for genocide. Hindi ba naman kabalbagan ang mga— Ikaw… Presidente ka tapos ganonin ka. It was of course all right when I was mayor. Because then, that would be about just a miniscule of the affairs of the humanity in this planet. But when I am the President and [inaudible] you know bitter and stupid. You put all the Filipinos, especially outside, you put them to shame. Okay lang sa akin. Sanay ako sa politika eh. Eh lahat ng kababuyan, dumating na sa aking buhay. Pero itong mga ganito… Ako, look. Kayong US, EU. You can call me anything. But I was never into or I am never into hypocrisy like you. Close your doors, it’s wintertime. There are migrants escaping from the Middle East. You allow them to rot and then you’re worried about the death of about 1,000, 2,000, 3,000. Hitler massacred three million Jews. Now there is three million, there’s a three million drug addict. There are. I’d be happy to slaughter them. At least if Germany had Hitler, the Philippines would have you know, my victims, I would like to be, all criminals to finish the problem of my country and save the next generation from perdition. Salamat po. QUESTIONS AND ANSWERS:\\n DUTERTE: Good morning ma’am.\\n DUTERTE: I do not talk to criminal. He can go to the fiscal if he wants. Or maybe write a letter to Secretary Yasay if that is his [inaudible]. What? He has a problem now?\\n DUTERTE: Sinasabi ko hiningi ninyo lahat ‘yan eh. Been telling everybody, ‘yang drugs na ‘yan, hinihingi ninyo sa buhay ninyo. Dadating ‘yan. I said be careful of what you wish for or what you want because you might get it. Dreaming of money. Living in filth of the… Wallow in several, at the expense of your fellow human beings. It will come. As always, the comeuppance and the law of karma, I assure you, that is a very valid universal statement.\\n DUTERTE: Yes.\\n DUTERTE: No, some of there are not for public use. Because I talked to several set of officers, the ruling chairman of the party. Party first then the government. I talked to the President after the Prime Minister. Some are… points is that what I’ve said. It’s a general… It has been repeated several times already. But if you want to know about what happened, what transpired in our talks, I’m sorry I cannot divulge it all because I do not have the authority from them and besides, put it, to put it in a correct perspective, serving the nations, respective interests.\\n DUTERTE: Good morning. Maayong buntag ma’am.\\n DUTERTE: Sila ‘yung unang… So I was just figuring out how to get rid of this three million… It’s a, they are, they are so strict about it. And, do not mess up with these guys. They have been at war for so many generations. They will not hesitate to finish you off.\\n DUTERTE: Yes, yes. They will share intelligence data from… I would like to talk to the… I’ll be sending some military and police. [inaudible] for specific purpose. They have agreed that it should be a concern, not only for the two nations, but for entire region. Salamat po.\\n DUTERTE: Yes, yes. In my term, yes. I don’t know if that treaty would take some form but in my term, yes. \\n DUTERTE: I am not, I am not… I would not be using my, you know, my entitlement as commander-in-chief. I would simply say that that is the foreign policy. I do not want to tire… you know. There’s a joint —and you can ask the military—They asked for a joint maneuvers, operations and yet there is no capability between the weapons and the armaments they use and even in the communications. Walang capability ‘yan. It’s all soiled… and soiled clothes. They do not share. I said I was… sabi nila bugok raw ako kasi hindi ko alam that the jets were made in Korea. Correct but that was outsourcing. Kanila rin ‘yan. Magbili ka ng rubber shoes doon it’s made in China. But the owner of the trademark– You cannot buy the planes there without the blessings of… And meron tayo. Bumili nga ng tatlo. Sabi ko nga noon huwag kayo magalit sa’kin. The Armed Forces, do not be disappointed, because may eroplano tayo. Hindi naman tayo pinagbibilihan ng… They don’t allow us to buy the missiles. So what would be the point? Ceremonial, good. I agree. We should have too. Okay na ‘yan sa akin, para ceremonial, for ceremony only. Prangka-prangkahan tayo dito ha. Walang… I said I do not want to be hypocrite. You can call me but I do not want to be a pretentious leader. ‘Yung jets natin wala ‘yan. ‘Yung F-58s, what’s made in Korea. So, I said it was owned by them. ‘Yung… We also have the capability to make a jet, transfer of technology. That’s what I meant. Be careful with your hearing. You might get it wrong. So we are a simple… we are a humble country. We are very simple people. We will operate our government in a very simple manner. I ask everybody in this government to cooperate. I do not want to go into a massive purge of government workers and officials. Please do not tempt me to do it because sinabi ko ayaw ko ng graft and corruption, especially money that’s intended, ‘yung mga…well I’m not attributing it to anybody, to the poor, to the farmers na hindi mag-abot o down the line ‘yang mga loans nila, minus-minus diyan sa nag-facilitate. They get nothing at the end, the bottom. Skip that. I will really skin you alive. I’m warning those in government. I promised the people a clean government. Huwag ninyo akong hiyain. Karamihan ‘yan regulatory boards and agencies. [LTFRB] and well of course with the advent of new leaders there. At kayong, I have nothing, that’s why I chose General Galvante. Why? Because I had an occasion to work with him here. He was the RD for some time. And Attorney Delgra, also…I worked the the son. I worked the father. Lahat ‘yan mga regulatory. Lahat ‘yan medicines and all. Do not commit the mistake. I will read your name in public and will ask you to resign. Pag ayaw mo mag-resign, ibulong kita doon sa mga addict at ‘yun ang nag-squeal sayo. Sige, go ahead. Do not force me to place you in a very uncomfortable and awkward position. Listen to me now. Wala kayong iskapo. My mandate is for six years. In the fullness of God’s time, if he’ll make me alive and you’re a corrupt… Hayaan mo na, dumaan na ‘yun. Those were the days when everybody was on the take, everybody would… Nandiyan sa Customs, may bagong tao diyan. BIR, may bagong tao diyan. Lahat. Now, you used to earn how much? Millions? Okay this time, just keep safe and if that is not enough, it’s just a salary that would… you’ll be forced to, you know, go to the office and you only earn that much, you resign. Tutal merong… you’ve had your fill all these years. Kayong nasa… Alam mo na. BIR tapos ‘yung Customs noon. You’ve had your fill. Tama na ‘yun. ‘Yung mga importation na sa bigas, ‘quota-quota.’ I’ve lost along the way several friends now. Do not… Huwag kang pumunta sa akin and start to… Defense, I leave it to Secretary Lorenzana. I am not a technical man. Do not come to me to make a whisper here or there. And besides, Lorenzana would not follow me if I give him a wrong order. Huwag kayong pumunta sa akin. I’ve lost two… Ayaw na nila akong batian. I said I don’t give, I don’t give a damn. If I lose a friend, I lose you, fine. This is not my property. This is not my hacienda. Lahat, lahat. Police, military, civilian employees. Wala masyadong problema not because you’re here but you do not go out of the camp unless you are ordered by the camp commander to go out. But the police they go out, everyday reporting for duty. I know that the salary is really terribly, terribly low. That’s why I am insisting that by next year ‘yung doblado na sweldo ng military, police tapos na. I cannot operate a government with a corrupt police. I cannot run a government with a corrupt bureaucracy. I do not want to fail on a promise. One of the things that we discussed, if you transact business… Will there be corruption and all of these things because we have been known for that, I said, no, I assure you. Do not even give me the name of the complainant. Just let me know and I will take him out. Pinag-usapan namin matagal na. Doing business… There are also new found billionaires there, interested in coming. But they have heard so much about the corruption in the Philippines, how hard it is to get the papers. Each department now, nothing of the past… four years, NEDA? And even ‘yung sa train in-applyan namin, until now it’s pending there. Wala naman kayo… [inaudible] but I was, I am talking of the past tense ha. Good as he… [inaudible] time to discuss corruption, maski na umaga na. Wala naman kayong… There’s nothing, there’s no technical office in that NEDA. There’s nothing to compute. So why would it take you years? All departments, one month. Down the line, local governments, issuance of licenses, permits, police clearance, fiscal court, three days. Three days lahat ‘yan. Down the line, from the Office of the President down to the barangay, three days. After three days, ilabas mo. ‘Denied.’ What for? Why? Kung nandiyan, release na ninyo. Now, I’m addressing myself to the people of the Philippines, if you experience any event or incident in the fashion that I’m setting the rules now, let me know. Let me know. You go to your… sa mga pari ninyo. You do not… Do not give me… if you’re afraid. Just give me the SOB. Wala na ‘yung ano. Hindi na kasi, alam mo… ‘yung tao, you’re not even milking government. Actually at the end of the day, you are milking the Filipino people. Please. Lahat ng mga kriminal, I’m telling you now. Drugs, stop it or I will really kill you. Siguro magkaproblema ka, huwag kang pumunta sa akin. You asked for it. If you want, you bring your secret to your grave. I think it’s about… Is there any question?\\n DUTERTE: Yes, I would like to–\\n DUTERTE: First, I would like to express my deepest condolences. I grieve with the family, with Narciso, the husband; si Benjie used to be a general of the Armed Forces of the Philippines; and to the children, I share your grief and if I, if I be back on time, I’d like to visit the wake. We have lost a leader. The colorful language also… And above all, ‘yung utak niya. We have lost one good guy in our government. Wala na? Is there–? Mag-breakfast na lang tayo sa baba pagkatapos. Ayan o, fair is fair. I’ll give everyone a space. Bakit wini-whisper mo ‘yung tanong mo? You use the–\\n DUTERTE: Yes, sir. Good morning.\\n DUTERTE: Who said it?\\n DUTERTE: Do not interfere in our affairs. I will ask him now: Why are you shooting the black people there when you’re on the ground? Sila pwede tapos tayo hindi. ‘Yan, sabi ko hypocrisy. There’s a proper way of arresting a black man there. You arrest him. You grapple with him. Pin him to the ground, place him under handcuff and bring him to the station. Do not shoot him, with the video and the cameras all around. So I’m returning the courtesy. Sanay kayo ng ganon eh. You criticize people outside of your Congress. [inaudible] So, they went to Iraq, the United States of America, president ordered the armed forces of the United States to enter Iraq on a flimsy excuse that there is a mass, weapon of mass destruction, joined by the British government and people. What did they find? Nothing. What happened? They killed Saddam. Now Iraq is a fractured country. They undermined Libya. They killed [Kadafi]. Libya is now a destroyed nation. They wanted Assad out, but Assad was being supported by China and Russia so until now they’re slaughtering civilians. Who gets the honor? I said, let us… I would like to appeal… answering that two senators. I’d like, to the government of the United States, stop this hypocrisy game and we’re all right. Stop being hypocrites. Do not pretend to be the moral conscience of the world. Do not be the policeman because I… You do not have the eligibility to do that in my country. Kaya ako, I’m just a small, but I’m growing. Everybody wants to have picture with me because they say, “You’re the only one who can b*****.” Of course I will. Thank you.'"
      ]
     },
     "execution_count": 68,
     "metadata": {},
     "output_type": "execute_result"
    }
   ],
   "source": [
    "df.loc[370].transcript"
   ]
  },
  {
   "cell_type": "code",
   "execution_count": 69,
   "metadata": {},
   "outputs": [
    {
     "data": {
      "text/plain": [
       "'http://pcoo.gov.ph//sept-30-2016-statement-of-president-rodrigo-roa-duterte-following-his-official-visit-to-vietnam/'"
      ]
     },
     "execution_count": 69,
     "metadata": {},
     "output_type": "execute_result"
    }
   ],
   "source": [
    "df.loc[370].url"
   ]
  },
  {
   "cell_type": "code",
   "execution_count": 74,
   "metadata": {},
   "outputs": [],
   "source": [
    "import requests\n",
    "from bs4 import BeautifulSoup\n",
    "headers = {\n",
    "    'user-agent': 'Mozilla/5.0 (iPhone; CPU iPhone OS 10_3 like Mac OS X) AppleWebKit/602.1.50 (KHTML, like Gecko) CriOS/56.0.2924.75 Mobile/14E5239e Safari/602.1 RuxitSynthetic/1.0 v1355348020 t3296535826494656701 smf=0'\n",
    "}\n",
    "\n",
    "url = 'https://pcoo.gov.ph/sept-30-2016-statement-of-president-rodrigo-roa-duterte-following-his-official-visit-to-vietnam/'\n",
    "response = requests.get(url, headers=headers)\n",
    "html = BeautifulSoup(response.text, 'lxml')"
   ]
  },
  {
   "cell_type": "code",
   "execution_count": 91,
   "metadata": {},
   "outputs": [
    {
     "data": {
      "text/plain": [
       "'\\u2029'"
      ]
     },
     "execution_count": 91,
     "metadata": {},
     "output_type": "execute_result"
    }
   ],
   "source": [
    "html.find('table').findAll('td')[3].findAll('span')[5].text"
   ]
  },
  {
   "cell_type": "code",
   "execution_count": 114,
   "metadata": {},
   "outputs": [],
   "source": [
    "full_txt = ''\n",
    "for span in html.find('table').findAll('td')[3].findAll('span'):\n",
    "    if span.text != '\\u2029':\n",
    "        full_txt += '\\n' + span.text"
   ]
  },
  {
   "cell_type": "code",
   "execution_count": 119,
   "metadata": {
    "scrolled": false
   },
   "outputs": [],
   "source": [
    "lt_others = ['Q:']\n",
    "df.loc[370, 'transcript'] = get_duterte_part_not_q(full_txt, lt_others).replace('QUESTIONS AND ANSWERS:', '')"
   ]
  },
  {
   "cell_type": "markdown",
   "metadata": {},
   "source": [
    "## 436"
   ]
  },
  {
   "cell_type": "code",
   "execution_count": 120,
   "metadata": {},
   "outputs": [
    {
     "data": {
      "text/plain": [
       "'\\nPRESIDENT PUTIN: Your Excellency, Mr. President, your colleagues and friends, we first of all cordially welcome you. It’s my pleasure to meet you.\\nMr. President, in the presidential election in your country was held on the 9th of May for us it is indeed a very bright day, public holiday that marks the victory in the great patriotic war over the Nazis group.\\nFor you, it has been your personal victory so once again congratulations, Mr. President.\\nMr. President, this year marks 40th anniversary since diplomatic ties between our countries established back in time.\\nHistorically, it’s quite a short period of time.\\nWell, you have been able to do a lot in a short period of time in terms of developing the all round partnership between our countries and with respect to promoting greater trust and confidence between us.\\nAnd it is my pleasure to have a chance to speak to you and your colleagues about developing our bilaterals.\\nPRESIDENT DUTERTE: I have been looking for this moment to meet you Mr. President not only because you represent a great country but of your leadership too.\\nAnd we’ve been longing to be part also of — despite the distance. We’ve been longing to be part of Europe especially in commerce and trade around the world.\\nBut there was one thing that really stood before us and that was the result of Cold War.\\nAnd historically, I have been identified with the Western world.\\nIt was good until it lasted. And of late, I see a lot of these Western nations bullying small nations. And not only that they are into so much hypocrisy.\\nAnd they want to… They seem to start a war but are afraid to go to war. That is what’s wrong with America and the other.\\nThey were waging war in so many places in Vietnam, in Afghanistan and in Iraq. And for one single reason that there was a weapon of mass destruction and there was none.\\nThey insist if you are allied with them that they follow you. They go to the Korean war, nothing happened. They got defeated.\\nThey also got soldiers, Filipino soldiers in both Iraq and Vietnam and nothing happened, they lost. Then they went to an expedition in Iraq on an excuse of weapons of mass destruction and there was none.\\nAnd they forced my country to contribute military forces. And when one soldier, one Filipino worker in the Middle East was captured by the groups there, they threatened to behead the Filipino unless we go out of war — in the war against the Middle East at that time.\\nAnd because it was of national interest, and because their country was really over thinking of how to solve the problem. And the condition was that if we withdraw our forces, then they would spare the life of the Filipino worker. And we decided to withdraw.\\nFrom that time on, the Americans made it hard for us and even in the (inaudible) times with IMF. So there are the things that I see which is not a good idea.\\n'"
      ]
     },
     "execution_count": 120,
     "metadata": {},
     "output_type": "execute_result"
    }
   ],
   "source": [
    "df.loc[436].transcript"
   ]
  },
  {
   "cell_type": "code",
   "execution_count": 123,
   "metadata": {},
   "outputs": [],
   "source": [
    "txt = 'I have been looking for this moment to meet you Mr. President not only because you represent a great country but of your leadership too.\\nAnd we’ve been longing to be part also of — despite the distance. We’ve been longing to be part of Europe especially in commerce and trade around the world.\\nBut there was one thing that really stood before us and that was the result of Cold War.\\nAnd historically, I have been identified with the Western world.\\nIt was good until it lasted. And of late, I see a lot of these Western nations bullying small nations. And not only that they are into so much hypocrisy.\\nAnd they want to… They seem to start a war but are afraid to go to war. That is what’s wrong with America and the other.\\nThey were waging war in so many places in Vietnam, in Afghanistan and in Iraq. And for one single reason that there was a weapon of mass destruction and there was none.\\nThey insist if you are allied with them that they follow you. They go to the Korean war, nothing happened. They got defeated.\\nThey also got soldiers, Filipino soldiers in both Iraq and Vietnam and nothing happened, they lost. Then they went to an expedition in Iraq on an excuse of weapons of mass destruction and there was none.\\nAnd they forced my country to contribute military forces. And when one soldier, one Filipino worker in the Middle East was captured by the groups there, they threatened to behead the Filipino unless we go out of war — in the war against the Middle East at that time.\\nAnd because it was of national interest, and because their country was really over thinking of how to solve the problem. And the condition was that if we withdraw our forces, then they would spare the life of the Filipino worker. And we decided to withdraw.\\nFrom that time on, the Americans made it hard for us and even in the (inaudible) times with IMF. So there are the things that I see which is not a good idea.\\n'"
   ]
  },
  {
   "cell_type": "code",
   "execution_count": 124,
   "metadata": {},
   "outputs": [],
   "source": [
    "df.loc[436, 'transcript'] = txt"
   ]
  },
  {
   "cell_type": "markdown",
   "metadata": {},
   "source": [
    "## 405"
   ]
  },
  {
   "cell_type": "code",
   "execution_count": 127,
   "metadata": {},
   "outputs": [
    {
     "data": {
      "text/plain": [
       "'\\nPRIME MINISTER ABE: \\nMay I once again express my heartfelt welcome to His Excellency President Duterte on your first visit to Japan after becoming the President of the Republic of the Philippines. \\nThis year marks the milestone of the 60th anniversary of normalization of our diplomatic relations and the year opened with an auspicious event of Their Majesties, the Emperor and the Empress visiting the Philippines.\\nIt is a great pleasure for me to welcome President Duterte, who has long served as the mayor of Davao, which has a long history of friendship with Japan and to have the second summit following our meeting last month.\\nJapan and the Philippines are important partners, both sharing fundamental values, including freedom, democracy, and the rule of law. During our talk today, based on such partnership, we had an extremely meaningful exchanges of opinions between President Duterte and we agreed to raise our bilateral relationship of cooperation to a level higher than before. Allow me to list a few of our achievements.\\nBoth Japan and the Philippines are maritime nations and support to enhance maritime safety capability will be strengthened. I am very happy that we have just signed the documents covering the transfer of large patrol vessels as well as the letter of arrangement on the transfer of Japan Maritime Self-Defense Force trainer aircraft TC-90s.\\nI welcome the agreement on the promotion of agriculture for the consolidation of peace in Mindanao. Japan supports the endeavors of President Duterte with regard to peace in Mindanao.\\nAs part of our counter-terrorism measures, the transfer of high-speed small vessels and equipment has been decided. Cooperation in the area of counter-terrorism will continue to deepen going forward.\\nInfrastructure development will be strongly supported in both the metropolitan and Davao areas. In this regard, I welcome the signing today of the Memorandum of Cooperation in the field of information and communication technology.\\nI also had a valuable exchange of views between President Duterte regarding the exploration of peace and stability.\\nRegarding North Korea, the threat has risen at a new level due to nuclear missile development and therefore, we will collaborate in the adoption of new UN Security Council Resolution and in the strict implementation of relevant resolutions and will cooperate towards the end of a resolution of the adoption issue which is the foremost priority for the administration.\\nNext year, the Philippines will assume the chairmanship of ASEAN. I have conveyed my message that Japan will offer our utmost support to the Philippines.\\nThe South China Sea issue is a matter of interest before the entire global community that is directly linked to regional peace and stability. With regard to the arbitration award, we have confirmed the importance of peaceful resolution of maritime disputes such as resolution in compliance with UN Convention on the Law of the Sea, amongst others, without resorting to threat or use of force.\\nIn that regard, Japan welcomes the effort of President Duterte visiting China and endeavoring to improve and further advance the bilateral relationship between the Philippines and China. \\nTaking this visit by President Duterte as another opportunity, I look forward to further deepening our bilateral bond of friendship and to cooperate together towards the stability and prosperity of the region and the international community.\\nThank you.\\n* * *\\nPRESIDENT DUTERTE:\\nThank you, Your Excellency. I take this opportunity to express gratitude for the warm welcome and exceptional arrangements accorded me and my delegation. \\nMy meeting with Prime Minister Shinzo Abe was productive and fruitful. We reaffirmed strong ties between our countries and peoples and resolved to make that friendship and partnership even stronger. \\nWe discussed a broad range of issues important to both sides and more importantly, agreed to work closely to ensure that shared objectives are accomplished.\\nWe want to increase two-way trade and investments, especially in agriculture and manufacturing and look at various opportunities for new areas of collaboration.\\nThese include the development of quality infrastructure and transport systems crucial in order to sustain the Philippines’ economic growth.\\nJapan’s Official Development Assistance for the Philippines is second to none in terms of real value and the positive impact on the lives of the Filipinos. \\nWe agreed to continue harnessing ODA or the Official Development Assistance as a tool to bring about positive economic and structural changes in the Philippines. \\nWe agreed to collaborate on political, security, and defense issues in order to create an enabling environment for our economies to grow. \\nJapan will continue to play an important role in modernizing the capabilities of the Philippines for maritime domain awareness and maritime security as well as in humanitarian relief and disaster risk reduction response.\\nWe welcome the ongoing new initiatives by Japan that support the Philippine government’s effort to realize Mindanao’s full potential.\\nAs the Philippines take on the chairmanship of ASEAN in 2017, I sought and received Japan’s support and commitment to take an active role in the relevant meeting.\\nThis is an important leadership role for the Philippines as we seek fully to realize the goal and rules-based, people-oriented and people-centered ASEAN.\\nJapan will be a crucial ASEAN dialogue partner in ensuring the efforts to strengthen adherence to the rule of law as the bedrock of stable and secure relation in the ASEAN region and beyond.\\nThe Philippines will continue to work closely with Japan on issues of common concern in the region and uphold the shared values of democracy, adherence to the rule of law and the peaceful settlement of disputes, including the South China Sea. \\nThe full range of our relations over the past 60 years has shown that Japan is the Philippines’ special friend who is closer than a brother.\\nThis visit has been a defining moment on the solid and strategic partnership between the Philippines and Japan. Today, we have taken steps to ensure that our ties remain vibrant and will gain greater strength in the years to come. Thank you.'"
      ]
     },
     "execution_count": 127,
     "metadata": {},
     "output_type": "execute_result"
    }
   ],
   "source": [
    "df.loc[405].transcript"
   ]
  },
  {
   "cell_type": "code",
   "execution_count": 130,
   "metadata": {},
   "outputs": [],
   "source": [
    "txt = '\\nThank you, Your Excellency. I take this opportunity to express gratitude for the warm welcome and exceptional arrangements accorded me and my delegation. \\nMy meeting with Prime Minister Shinzo Abe was productive and fruitful. We reaffirmed strong ties between our countries and peoples and resolved to make that friendship and partnership even stronger. \\nWe discussed a broad range of issues important to both sides and more importantly, agreed to work closely to ensure that shared objectives are accomplished.\\nWe want to increase two-way trade and investments, especially in agriculture and manufacturing and look at various opportunities for new areas of collaboration.\\nThese include the development of quality infrastructure and transport systems crucial in order to sustain the Philippines’ economic growth.\\nJapan’s Official Development Assistance for the Philippines is second to none in terms of real value and the positive impact on the lives of the Filipinos. \\nWe agreed to continue harnessing ODA or the Official Development Assistance as a tool to bring about positive economic and structural changes in the Philippines. \\nWe agreed to collaborate on political, security, and defense issues in order to create an enabling environment for our economies to grow. \\nJapan will continue to play an important role in modernizing the capabilities of the Philippines for maritime domain awareness and maritime security as well as in humanitarian relief and disaster risk reduction response.\\nWe welcome the ongoing new initiatives by Japan that support the Philippine government’s effort to realize Mindanao’s full potential.\\nAs the Philippines take on the chairmanship of ASEAN in 2017, I sought and received Japan’s support and commitment to take an active role in the relevant meeting.\\nThis is an important leadership role for the Philippines as we seek fully to realize the goal and rules-based, people-oriented and people-centered ASEAN.\\nJapan will be a crucial ASEAN dialogue partner in ensuring the efforts to strengthen adherence to the rule of law as the bedrock of stable and secure relation in the ASEAN region and beyond.\\nThe Philippines will continue to work closely with Japan on issues of common concern in the region and uphold the shared values of democracy, adherence to the rule of law and the peaceful settlement of disputes, including the South China Sea. \\nThe full range of our relations over the past 60 years has shown that Japan is the Philippines’ special friend who is closer than a brother.\\nThis visit has been a defining moment on the solid and strategic partnership between the Philippines and Japan. Today, we have taken steps to ensure that our ties remain vibrant and will gain greater strength in the years to come. Thank you.'"
   ]
  },
  {
   "cell_type": "code",
   "execution_count": 132,
   "metadata": {},
   "outputs": [],
   "source": [
    "df.loc[405, 'transcript'] = txt"
   ]
  },
  {
   "cell_type": "markdown",
   "metadata": {},
   "source": [
    "## 400"
   ]
  },
  {
   "cell_type": "code",
   "execution_count": 134,
   "metadata": {},
   "outputs": [
    {
     "data": {
      "text/plain": [
       "'PRIME MINISTER SHINZO ABE: Mr. President is quite a famous figure also in Japan and I’m very excited to see you in person.\\nFirst of all, I would like to underscore that Japan firmly deplores the terror incident which took place in Davao the other day.\\nI would like to take this opportunity to express My heartfelt condolences for the victims and their family members.\\nAnd also, I would like to reiterate my feelings and sympathy for you.\\nPRES. DUTERTE: Thank you.\\nPRIME MINISTER ABE: This year is a milestone year which marks the 60th anniversary of the normalization of the diplomatic relationship between Japan and the Philippines. And under our close partnership, I do look forward to further developing our cooperation in a wide range of areas together with you.\\nPRES. DUTERTE: I would like to thank the Japanese government for their efforts to commiserate with us in the bombing incident in Davao City. Thank you very much for your concern and Davao remains to be the largest recipient of JICA and the entire Philippines.\\nFor so many years, JICA has been there. Japan has been kind enough to extend us all the assistance for further development in our country and as a matter of fact, our trade shows that we export more to Japan than before.\\nAnd so, the trade balance surplus is in our favor and maybe Japan has— we saw to it that we are good partner also to our partner economy.\\nWe are confident that the program— the development agencies like JICA. We know that Japan is one of our friendly neighbors.\\nAnd we also would like to stand by you in the matter of the security of the Korean Peninsula. I support your stand. And we hope that we can work together for a better and a greater, peaceful area.'"
      ]
     },
     "execution_count": 134,
     "metadata": {},
     "output_type": "execute_result"
    }
   ],
   "source": [
    "df.loc[400, 'transcript']"
   ]
  },
  {
   "cell_type": "code",
   "execution_count": 149,
   "metadata": {},
   "outputs": [],
   "source": [
    "lt_others = ['PRIME MINISTER ABE:', 'ABE:']\n",
    "df.loc[400, 'transcript'] = get_duterte_part_not_q(df.loc[400, 'transcript'], lt_others).replace('PRIME MINISTER SHINZO', '').replace('PRIME MINISTER', '')"
   ]
  },
  {
   "cell_type": "markdown",
   "metadata": {},
   "source": [
    "## 525"
   ]
  },
  {
   "cell_type": "code",
   "execution_count": 160,
   "metadata": {},
   "outputs": [],
   "source": [
    "remove = ['QUESTIONS AND ANSWERS:', 'AC Nichols (CNN', 'Ms.', 'JP Bencito (Manila Standard', 'Julius Disamburun', 'Mr.'\n",
    "         'Ayee Macaraig (Agence', 'Victoria Tulad']\n",
    "lt_others = ['Philippines):', 'Nichols:', 'Inquirer):', 'Leila Salaverria (The Philippine Daily', 'Today):', '(PTV-4):', \n",
    "            'France-Presse):', 'Macaraig:', '(GMA-7):', 'Tulad:']\n",
    "txt = get_duterte_part_not_q(df.loc[525, 'transcript'], lt_others)\n",
    "for wrd in remove:\n",
    "    txt = txt.replace(wrd, ' ')\n",
    "df.loc[525, 'transcript'] = txt"
   ]
  },
  {
   "cell_type": "code",
   "execution_count": 151,
   "metadata": {},
   "outputs": [
    {
     "data": {
      "text/plain": [
       "'http://pcoo.gov.ph//march-23-2017-media-interview-of-president-rodrigo-roa-duterte-following-his-official-visits-to-republic-of-the-union-of-myanmar-and-the-kingdom-of-thailand/'"
      ]
     },
     "execution_count": 151,
     "metadata": {},
     "output_type": "execute_result"
    }
   ],
   "source": [
    "df.loc[525, 'url']"
   ]
  },
  {
   "cell_type": "markdown",
   "metadata": {},
   "source": [
    "## 708"
   ]
  },
  {
   "cell_type": "code",
   "execution_count": 162,
   "metadata": {
    "scrolled": true
   },
   "outputs": [
    {
     "name": "stdout",
     "output_type": "stream",
     "text": [
      "  Yes, what is the trouble of the day? Hi, sir. Sir, can you --- sir ‘yung statement niyo lang kahapon, can you clarify about China, ‘yung may ouster plans, tutulong po sa inyo ‘yung China. Sino po in particular, sir?   No, that was the time when there was this parade ‘yung “oust, oust, Duterte.” We would not want to see someone duly elected na… otherwise, these threats about ‘yung mga yellow pati Magdalo, pati ‘yung… ‘yung mga left nag-join, they were demonstrating almost everyday. I was just trying to recall his statement by [one?] --- not… by one of them pero… Actually kasi nandiyan sila lahat, we will not like to see a duly-elected Philippine leader ousted by itong ‘yung oust-oust na ‘to. ‘Yun ‘yun. Si President Xi Jinping? You were talking to President Xi Jinping…   Again? You were talking with President Xi Jinping regarding these threats that China…   At that time, hindi na. It was just a statement siguro ‘yung… Pero ‘yung ano… Ah ‘yung sabi niya na --- oo. It was passed on to the Ambassador, I think. Not clear to me pero parang… I think it was the Ambassador who told me. It would not be good to oust elected leaders, parang in a free and honest election. Sir, comment on the action by the Supreme Court to oust si Chief Justice Sereno?   No, no. Ayaw kong pati ako diyan dinadamay nila eh. I said if there is one congresswoman or congressman, or a Justice, single Justice magsabi may kinausap ako diyan na, I can guarantee you, I will resign. Sinabi ko na nga kay Sereno, “hindi ako nakialam.” Kaya ‘yung galing akong China, akong pinagbintangan, nagalit na ako but that was --- hindi ako tumatago ng sentimento kay… [garbled] But tanungin niya maski sino, I never lifted a finger. Calida, well, Calida was… You know Calida is an Ilocano. I think he’s related to the Marcoses. Calida, it is his job to find faults. Hindi ko inaano. Sabi ko, I do not order Cabinet members to work on this, work on that. Whatever he thinks that it is his duty to perform, hindi ako nakikialam. But in one of those meetings here regarding the issue of the burial of President Marcos, siya ’yung pinaka-ano and Calida is passionately, pro-Marcos ‘yan. Ilocano eh. Sir, you also had that statement kasi about the former Chief Justice before na “you’re now my enemy” and then ---   Kasi pagdating ko galing --- [Saan ako galing noon?] Galing ako sa labas. Wala ka kasi doon kaya nakalimutan ko na ‘yung… Sir, pero ‘yun nga. Kasi sabi mo ---   Hindi, ganito ‘yan. One of, one small girl. I do not remember her name. I cannot also remember her. Maalaala ko mukha iyo lang eh. So sabi niya, una niyang question, si Sereno raw umiyak. Ako daw ‘yung nag-udyok diyan sa mga… kaya sabi ko, nagalit --- ako nag… Well… Sinabi ko na sa iyo ngayon, nag-init ang ulo ko. Kasi magtanong ka diyan maski... I said kung may mag-isang congressman o congresswoman o isang Justice magsabi kinausap ko sila, magbaba ako. Sabay kami. Sabayan ko siya. Sinabi ko na it’s not my habit. Hindi ko talaga --- it’s out of my character to do that. Hindi ako nanghahabol ng tao. Maski ‘yung tao na… Speaker Nograles filed several cases against me. All. Almost all reaching the Supreme Court. But of course I was exonerated kasi itong… Kaya, kaya ‘yung nag --- I had this emotional outburst. Sinabi ko na sa iyo na wala akong kasali diyan. Kaya ngayon I challenge everybody and anybody. Magturo ng isang congresswoman or isang congressman o senador na --- o Justice ng Supreme Court na nilapitan ko. O maski na abogado lang naman kung wala na kayong makitang iba. Hindi naman ako nakikialam eh. Sir, corruption?   Anong corruption? Wala akong sinabi sa kanya. Hindi, I mean sir if meron kayong…   Mamaya na. Bukas marami pa ‘yan sila. Sino pa sir?   [Nasaan?] ‘yung listahan? T**** i** ‘yun. Saan na? Hawak-hawak ko na ‘yun kanina. Sir, sundot lang. Kahapon ‘yung pagpunta po sa Benham Rise, some are criticizing that it’s the wrong sea. Dapat daw hindi sa Benham because it’s uncontested, we should be making a statement in the WPS.   Kung bright sila mas sa akin, sila sana ang dapat iniinterview niyo. Alang-alang ang Ben --- it’s a vast open sea. Alam mo ba kung saan ang Benham Rise? Saan? ‘Di mo makita ‘yung Benham Rise is underneath parang a triangular land mass na --- ‘yun ang tinatawag nilang Benham Rise but ‘yung colloquially ‘yung Benham Rise is ‘yung buong dagat. Anong\tibig\tsabihin?\tLahat\tpuntahan\tko? Sabi ng Navy na magpunta ako doon, ‘di kami makauwi ng two days. Eh kung mag-jet ski ako, sabi ko wala namang gasolinahan diyan. T*** i** maubusan ng gasolina. Saan? Wala namang Petron o Caltex o Shell o [Exxon?] Saan ako kukuha ng gasolina? Pati ang binigay doon sa kanila ‘yung jet ski, ang akin ‘yung bangka lang. Naubusan… Maraming magagandang lalaki, gusto nilang may bangka isa, ‘yung motorized bangka ‘yun. Sir, what do you think of reports that China has landed some of its air assets in some of the areas that we claim like Zamora Reef?   There is an airport. There are business there installed. There are military equipment already in place. So what’s the point of questioning whether the planes there land or not. There’s an airstrip. Hindi naman ‘ka ko maglanding ‘yan doon sa bato, maganda ang airstrip nila. Sabi ngayon, gusto ninyong giyerahin natin. Sino bang gusto na ano --- Kasi payag ako. I can declare war on China tonight. At sino ang magpunta? Sundalo ko? Pulis ko? Mamatay lang lahat ‘yan. Sinabi ng --- why will I go to war for a battle that I cannot win? Para akong g***. And of course I said, we have to take into account, but it would --- I would take a longer time to do that. Pero kung… Busy ako ngayon eh. I will discuss with you geopolitics and why I allow things to just stay there. Hindi mo na rin mapaalis. Bakit mo awayin? Sabi ko nga nun, may over flights na, may satellite, nasa newspaper nandun na may --- nag-reclaim na sila. And that arbitration came during the time of Aquino, they filed it. There was sufficient time for him to stop. Siya ‘yung nag-demanda eh. Eh bakit hindi sila pumunta doon? Bakit hintayin ninyo ako ngayon? Na kung magka-giyera, maubos naman ang mga sundalo ko pati pulis. Of course, mamatayan sila but we will lose the battle. I am 100 percent about that. They are just about from the mainland. It’s about 14 minutes to reach the --- sasabog diyan lahat. Of course, we can equal the intensity but are we ready to go to war? At ‘yung ano… bakit hindi pumunta ‘yung Amerika? Sabi nga ni Noynoy in his press statement, only Amerika can stop --- O ‘di bakit hindi niya sinabihan ang Amerika, “pumunta ka doon. Dalhin mo ‘yung aircraft carrier mo, dalhin mo ‘yung cruise missiles mo, dalhin mo ‘yung battleship mo at parahin mo.” Ngayon, walang ginawa ang Amerika so that the Chinese made a garrison out of those rocks there and [unclear] area. Ngayon gusto nila ako ang… You know, during the bilateral, in front of my Cabinet, all of them and Lorenzana, and the military, Año. Sinabi ko kay Xi Jinping, ito bilateral ‘to ha. “I want to go to my territory and dig oil.” ‘Yan diretso ako, wala na ‘yang sabi mo assert, assert. Sabi ko, “I will dig oil in my own territory.” What was the reply of President Xi? Sabi niya: We just restored normalcy. Not be good for us to be talking for, you know, conflict. Eh pag-usapan na lang natin ‘yan some other time. Let us repair the relationship which Aquino destroyed and talk sense because we will never also talk to him. That’s why [walang?] nagawa sa panahon niya. And sabi niya, well someday. Then I said, in front of my entire Cabinet, I said but during my term I will insist and mention arbitral ruling. Sabi niya, “okay lang pero huwag ngayon because if we do that, there will be trouble.” So if you are a Chinese, what do you mean by “there will be trouble?” There will be war. So sino ‘yung mga gustong pumunta doon ngayon. Okay man ako. We will declare war against China. Provided ‘yung mga ugok, ‘yung maingay mauna sila. Nandiyan ako sa likod nila. Pagdating doon iwanan ko sila. Bahala kayo, eh kayo ‘yung gusto makipagaway eh. Sir, ‘yung listahan niyo sir? Sir ‘yung…   Ah, imbestigasyon. [unclear] lahat. It’s actually… Eh huwag kayong magsilip. [laughter] Those people that are under investigation: [Atty Ambrosi Basman; Atty Rohani Basman; Amisa Lumuntod; Amilquir Macabando, ex-mayor of Marawi City; Atty. Samina Sampaco Macabando-Usman, DOJ Prosecutor; OIC Pasay City Prosecutor Atty. Benjamin B. Lanto, relative of Mr. Lumuntod Macabando; Inquest Prosecutor Clemente Villanueva; Assistant Prosecutor Florenzo dela Cruz; NAIA District Collector Ramon Anquilan, sa Customs ito; DOJ Assistant Moslemen Macarambon?] --- I think he has resigned the other day? [NAIA-CIIS Director Adzhar Albani; political appointee --- itong si CIIS Head Butch Ledesma, plantilla holder assigned at NAIA; Customs Operation Officer Lumuntod Macabando?] Suspended sila lahat ngayon, pending investigation. Merong [footages?] ito sa… Ang isa pa. For corruption I have --- I will fire or if I were him… Pero lahat ito, ifo-forward ko ito sa Ombudsman, not me. Lahat itong dumating itong mga pina --- nagkakaso na ako ang naka… Hindi kami ang mag-iimbestiga, Ombudsman. Itong si DPWH Assistant Secretary Ting Umpa. Ah, karami nito. I’m sorry, but I said, do not go into… May ano na pala ‘to. Ah meron na silang ano --- mga kaso na. Pero sa Presidential [Anti-Corruption Commission.] Sir, may…   Mas gusto ko ang Ombudsman para walang masabi. Sir, si Labor Sec. nag-apply for Ombudsman post. Are you inclined to ano --- may Ombudsman ka na… July, sir, aalis na si…   I will assign him to --- as labor attaché to --- doon sa Kuwait. Ikaw? Gusto mong magtanong special question? Sir ‘yun nga sir, ‘yung ano lang sir, sa Ombudsman. Kasi sa July, sir, bababa --- aalis… Tapos na ‘yung term ni Ombudsman Morales.   Ah. Yes, sir. Sinong papalit kasi nag-apply sir…   I’ll have to consult everybody. I will even have to consult the Ombudsman people, not Morales. And marami, para sigurado ‘yung gusto ng tao.   JBC. Mag-nominate sila pero I choose --- Gusto ko ‘yung bilib ang tao sa integrity niya. Of course it could not be [unclear]. Lalo na hindi babae.[unclear] [recording cut] [start of recording] We would be watching the guys who have had records of drug --- trafficking, drug abuse. Kayong mga nasa droga at nanalo kayo, your election to the barangay position is not a guarantee. Do not [seek cover?] on that title. Hindi ako… Lahat. Basta may sinabi na ako--- I have this policy and it’s a campaign promise. ‘Pag sinabi ko sa inyo, it will be at the expense of my life, honor, and the presidency, but the drug war will end during the last day of my… Because I will not allow my country to go to the dogs. [unclear] Hindi tayo nagkaintindihan sa… [unclear]. Ngayon pa lang, I am sorry. Kanino narinig niyo ‘yan?\n"
     ]
    }
   ],
   "source": [
    "print(df.loc[708, 'transcript'])"
   ]
  },
  {
   "cell_type": "code",
   "execution_count": 172,
   "metadata": {},
   "outputs": [],
   "source": [
    "df.loc[708, 'transcript'] = get_duterte_part_docx(df.loc[708].date)"
   ]
  },
  {
   "cell_type": "markdown",
   "metadata": {},
   "source": [
    "## 528"
   ]
  },
  {
   "cell_type": "code",
   "execution_count": 176,
   "metadata": {
    "scrolled": true
   },
   "outputs": [
    {
     "name": "stdout",
     "output_type": "stream",
     "text": [
      "PRESIDENT DUTERTE: Good evening. I would be glad to take your questions.\n",
      "RG Cruz (ABS-CBN 2): Sir, good evening, Mr. President. \n",
      "PRESIDENT DUTERTE: Yes.\n",
      "Mr. Cruz: Does the Pres — do you support the impeachment of the Vice President Leni Robredo amid criticism from Senator de Lima that it is stupid and an arrogance of power? And will you bring to court all of those who are behind the supposed concerted efforts to destabilize your administration amid the claim by Speaker Alvarez that there are plans by the Liberal Party to oust you the way former President Estrada was ousted? \n",
      "PRESIDENT DUTERTE: Yes, it’s all politics actually. In the matter of going after them, it has not reached that level of violence, destabilization. It’s more of publicity. And for as long as it is really a peaceful exercise of the freedom of speech and freedom of the press, there’s nothing I can do about it. It’s guaranteed under the Constitution.  \n",
      "The talk about destabilization I think is a bit too… well it is just an exponential word actually. It has no limit. But actually you have to have the kind of situation where there is already violence committed and imposed on the population whether they are with you or against you.\n",
      "Pagka ginulo nila ang bayan, just like what is happening in Mindanao… If it goes out of hand and children are already targeted for killings, ibang istorya na iyan. But as far as just being criticized, I would allow them. I cannot do anything because the Constitution guarantees criticism. And to peaceably assemble and maybe to redress whatever grievance and I don’t see anyone except that they would want me ousted.\n",
      "Well that’s… I said I never denied that in the campaign in the war against drugs, a lot of people have been killed. I do not deny that. I admitted. But huwag naman ‘yung wala akong pakialaman that even families. I do not do that.  I mean for the life of me, I cannot imagine giving an order killing people who are innocent or even a criminal on bended knees or without stretched hand in surrender.\n",
      "Those who choose to fight the government will have the response that they want. But never I said you, can ask anybody: I never ordered anybody in private or in public which is… ang sinabi ko, papatayin kita, ako iyon. And that is just a rage in my heart.\n",
      "You have listened to all my speeches kako para makita nila kung gaano ako kagalit sa droga and for what it has, the drug itself has caused shabu to my country. And the many, many, many hundreds of thousands are already addicts and those which shrunk brain who have no more use to society. It’s just a burden actually.\n",
      "Mr. Cruz: Thank you very much, sir. \n",
      "Dano Tingcungco (GMA 7): Good evening, sir.\n",
      "PRESIDENT DUTERTE: Yes, good evening.\n",
      "Mr. Tingcungco: Sir, just to clarify and just to be very clear about it dahil po nabanggit ninyo ito dalawang beses. Una, kanina po sa Davao before you left, pre-departure press conference pati po ngayon earlier dito po sa ating address sa Filipino community dito sa Myanmar. \n",
      "Sir, pwede po ba nating ipaliwanag ng konti pa ‘yung inyong ibig sabihin sa sinasabi ninyong hindi na… parang hindi na mapipigilan ang China na ituloy ‘yung kung ano man ‘yung construction sa Scarborough Shoal.\n",
      "Now, this is in light of two things: ‘Yung mga ilang mangingisda sa Subic, Zambales ay meron pong hamon sa inyo na ipakita raw po ninyo  ang inyong katapangan at maglagay daw po tayo ng watawat doon po sa Scarborough.\n",
      "Another thing is ito pong si Representative Alejano ang nagfile po ng impeachment complaint po laban sa inyo ay kinoconsider daw po niya na magfile ng supplemental complaint kaugnay po dito sa Benham Rise.\n",
      "PRESIDENT DUTERTE: Well for what? If he wants to fight with China, he cand lead. I would be glad to send him as the first batch of delegation of Filipinos who’d want to take the Spratly Islands and all of those they occupied now.\n",
      "Sige. Siya ang mauna. Maraming galit na nangyari sa ganon. Ako, it would be a slaughter for the Filipinos to do that. ‘Yung kanyang tapang-tapangan, huwag munang… do not compare me with you. You are all cowards. Alam ninyo nakita ‘yung kagitingan ninyo noong nagmutiny kaya mga walang hiya kayo.\n",
      "You just disturb the public peace, shouting invectives against government. Nagwara-wara kayo ng mga armas doon. Nag-agaw kayo ng hotel. That is the only one you are capable of doing: to invade the hotel and then thereafter to surrender. Huwag mo nga akong pakitaan ng mga yabang kahit ano. I mean, ‘yung ano ba ‘yung ginawa nila — yung grupo nila?\n",
      "What have you done to the country?  Nothing. Except to make noise and that really happened during your mutiny. Na hindi kayo kasi pinapa… You were forgiven by a President na ewan ko. And you enjoyed your freedom now because of one man but what you did to the country was really something out of.\n",
      "Tapos kayo mayabang. Ano bang pinagyayabang ninyo? Na you had your chance to show your bravery. Do not s*** with me.\n",
      "May panahon na na dapat lumaban kayo, ‘yung itlog ninyo dumating naman diyan sa bunganga ninyo. Tapos sabihin niyan ‘bravery bravery.’ Eh di noon lumaban na sana kayo. Pinandigan ninyo ‘yung sarili ninyo. Don’t… If I were you, stop boasting about bravery and all of these things. You are incapable of doing it. You’ve had your chance to show to the Filipino. \n",
      "Your bravery was tested and you failed miserably. So do not talk about bravery and all of these things. You are actually a shame. Pinag-aral kayo, ginastuhan ng gobyerno tapos ganoon ang ginawa mo sa bayan.\n",
      "Mr. Tingcungco: Pero sir ‘yung inyong nabanggit po tungkol po doon sa construction sa Scarborough Shoal and hindi po mapipigilan, sir para lang po sa benefit ng ating mga kababayan na hindi po narinig marahil ng buo ang inyong nabanggit, ano po ang ibig sabihin nito?\n",
      "PRESIDENT DUTERTE: Hindi nga natin mapigilan kasi hindi natin kaya ang China. Hindi nga mapigilan ng Amerikano. In the first place, pag umpisa pa lang niyan, hindi na pumunta ang Amerikano, natakot na.  \n",
      "‘Yun may mga armas ‘yun baril, eroplano, lahat. Ngayon tinutulak nila tayo para makipag-away. And it would be a massacre.  \n",
      "First hour pa lang ubos na ‘yung, naku. We are not in a position to declare war. But I said to China that someday during my term as President, I will have to confront you about the arbitral ruling and that would be maybe, during the time when you begin to extract minerals and the riches of what is inside the bowels of the earth. \n",
      "Entitlements lang naman, hindi naman teritoryo. Eh ang teritoryo, it is not within — I said repeatedly it is not within our territorial waters. But what we are trying to achieve is that we are also recognized to own the entitlements. Ang nakuha lang diyan is the economic zone but ‘yung structures na ‘yan has nothing to do with the economic zone. \n",
      "It might impede but actually it’s a construction that would disturb the navigation of the sea. That is why it’s very important for China and the rest of the nation, especially the ASEAN, to come up with a Code of Conduct.\n",
      "Mr. Tingcungco: Sir, maraming salamat po.\n",
      "PRESIDENT DUTERTE: Masyadong bilib diyan sa mga… in the likes of. Susmarya.\n",
      "Jervis Manahan (PTV 4): Good evening sir, I’m Jervis Manahan from PTV. Sir, one of your allies in the House of Representatives, si former President GMA, has just been ousted as deputy speaker. So do you have any plans of appointing her in your Cabinet?\n",
      "PRESIDENT DUTERTE: No. I don’t she will accept it. She cannot be working under a President when she was already a president. That will be quite a tall order for her to do that. But representing the people of the district of her own province would be somehow acceptable to even  everybody. \n",
      "Marami nga silang ganoon eh, but ‘yung magtrabaho siya Executive department under my direction and control, I said that’s a very tall order for her. So I will answer the questions for her also, including mine. Ibig sabihin, hindi tayo darating pa sa panahon na ‘yan.\n",
      "Mr. Manahan: Sir, would you consider her to lead the constitutional commission para po sa pagbuo ng federalism in the House?\n",
      "PRESIDENT DUTERTE: Maybe. Maybe. Maybe, baka ayaw rin niya eh. But maybe.\n",
      "Mr. Manahan: Thank you very much sir.\n",
      "Roy Mabasa (Manila Bulletin): Good evening Mr. President.\n",
      "PRESIDENT DUTERTE: Yes sir.\n",
      "Mr. Mabasa: My question dwells on the relationship with the United States. You mentioned earlier that you are willing to give it all to support your counterpart, Mr. Donald Trump. In that context, I would like to know the… your appreciation of our present relationship with the United States in that context.\n",
      "PRESIDENT DUTERTE: I think we’re headed for something that is very… an understanding platform for both countries. You see, Donald Trump is a realist. He is a guy who knows what is real, what is not, and he does not engage in theories. And even in the matter of human rights, he takes into account everything.\n",
      "That the view of the United States and the rest of maybe the EU countries are far different from the Orientals. And they are… at face value, what they are now saying is that do you want everybody to follow.\n",
      "They are trying to impose their culture and their beliefs, whatever it has gone to. And in the matter of the gender, there seems to be no, it’s always the citizen globally. It does not say anything about being a national or a citizen of this country and that could be fatal. \n",
      "Because then you impose the rules because he is a citizen of the global countries. You know, you are trying to be a dictator. You dictate upon nations what, how, and what you believe in. That is not acceptable to Korea, Japan and the rest of the ASEAN countries and also with Putin and Xi Jinping. \n",
      "Eh huwag kang magsabi na ganito na protektado. That is why they are trying to protect everybody. That is why they worry about the human rights even if it is not a citizen of their country and dito, what is very sad is they believe in the propaganda. \n",
      "I said I have made my admissions and I bind myself to it. But certainly, killing other sectors who are not at all connected with the… you must be an insane person to do that. I’m just interested going after the drug guys. I have nothing to do with what’s your business, what is your… anong karnabal na gusto mo sa buhay mo. \n",
      "If you have Carnival there, fine, you go ahead. But dito sa akin droga. I’m trying to protect my country. I’m trying to stay loyal to the oath of office, to protect and preserve the Filipino nation. That’s the long and short. I do not need to read the Constitution about martial law, about suspension of the writ of habeas corpus, far from it. Actually all I have to do is just to remember my oath and I would do anything to protect the Filipino and preserve my nation. ‘Yun lang ang trabaho ko.\n",
      "Mr. Mabasa: Thank you very much.\n",
      "PRESIDENT DUTERTE: ‘Yung hindi nakakaintindi, talagang magulo ito. At gugulo ito kung ayaw nilang intindihin. Basta do not do anything that deprive us of the happiness of our children and destroying — Iisa lang itong bayan ko. Eh kung sisirain mo, talagang mag-ge-gyera tayo. \n",
      "And I’m warning the Mindanao guys: do not tempt me to declare martial law in Mindanao for starters. Because if I declare martial law, I will finish every problem of that island. Tatapusin ko na talaga lahat para wala na ‘yung next generation, wala na. \n",
      "At magkakaintindihan na ang lahat. Ang Moro, kontento, ang Kristyanos, kontento sila sa buhay nila. And it’s gonna be a progressive island. But if I declare martial law, I will finish, I will finish all what ails the island. Ayaw ko. So do not force my hand into it. Because if I do, wala nang atrasan. Tatapusin ko talaga to the last period. So, ayaw ko. Do not force me to do it. Okay? Salamat po.\n"
     ]
    }
   ],
   "source": [
    "print(df.loc[528, 'transcript'])"
   ]
  },
  {
   "cell_type": "code",
   "execution_count": 175,
   "metadata": {
    "scrolled": true
   },
   "outputs": [
    {
     "data": {
      "text/plain": [
       "'http://pcoo.gov.ph//march-19-2017-media-interview-with-president-rodrigo-roa-duterte-following-his-meeting-with-the-filipino-community-in-the-republic-union-of-myanmar/'"
      ]
     },
     "execution_count": 175,
     "metadata": {},
     "output_type": "execute_result"
    }
   ],
   "source": [
    "df.loc[528, 'url']"
   ]
  },
  {
   "cell_type": "code",
   "execution_count": 185,
   "metadata": {
    "scrolled": true
   },
   "outputs": [],
   "source": [
    "remove = ['RG Cruz (ABS-CBN', 'Mr.', 'Dano Tingcungco (GMA', 'Jervis Manahan (PTV', 'Roy Mabasa (Manila ']\n",
    "lt_others = ['2): Sir,', 'Cruz:', '7):', 'Tingcungco:', '):', 'Manahan:', 'Bulletin):']\n",
    "txt = get_duterte_part_not_q(df.loc[528, 'transcript'], lt_others)\n",
    "for wrd in remove:\n",
    "    txt = txt.replace(wrd, ' ')\n",
    "df.loc[528, 'transcript'] = txt"
   ]
  },
  {
   "cell_type": "markdown",
   "metadata": {},
   "source": [
    "## 494"
   ]
  },
  {
   "cell_type": "code",
   "execution_count": 188,
   "metadata": {
    "scrolled": true
   },
   "outputs": [
    {
     "name": "stdout",
     "output_type": "stream",
     "text": [
      "PRESIDENT DUTERTE: His Excellency Prime Minister Shinzo Abe, distinguished members of the Japan delegation, colleagues in the Philippine government, friends, ladies and gentlemen.\n",
      "Thank you for joining us this afternoon. Prime Minister Abe and I just concluded a productive meeting where we discussed the ways for further strengthening of bilateral ties.\n",
      "As proven defense and long time partners, the Philippines and Japan are committed to further expand and deepen our relations across a broad range of areas. We had an active discussion on enhancing of maritime and security cooperation.\n",
      "As maritime nations, the Philippines and Japan have a shared interest in keeping our waters safe and secure from threats of any kind.\n",
      "Capacity-building and assets acquisition and upgrading will be a centerpiece of this collaboration. We hope to fast-track the delivery of the Philippine of key assets already in the pipeline and the acquisition of new ones.\n",
      "As we seek these new innovations to the Philippines’ capabilities, we will continue to forge ahead with our efforts to advance the rule of law in order to secure the waters in our regions.\n",
      "Peace and development in the southern Philippines continue to be a priority for our countries. We both reaffirmed the need to ramp-up efforts to bring just and lasting peace and development in Mindanao.\n",
      "Japan is a proven partner for peace in Mindanao and it will continue to be one. For Japan’s demonstrated and sustained support to bring peace to our people in Mindanao, we are grateful.\n",
      "We also sought to further strengthen economic cooperation. We instructed our respective agencies to seek new areas of collaboration as well as to work on fulfilling the agreements signed in Tokyo last year during my visit.\n",
      "As part of those efforts, we are encouraging our business sectors to intensify two-way trade and investments. In fact, later today and in Davao, Prime Minister Abe and I will meet with the key business leaders.\n",
      "Also, we both agreed to work together in pursuing a comprehensive approach in the war against the illegal drugs trade. As the Philippines pursues its campaign to destroy illegal drugs trade apparatus, we welcome the expressed interest of Japan to support measures to address the tremendous social cause of drug addiction, this includes rehabilitation.\n",
      "Later today, the Philippines and Japan will sign agreements that show the whole range of our collaboration and cooperation in the fields of shared mutual interest.\n",
      "I am pleased to welcome Prime Minister Abe to Manila. As you all must and should be aware, he is the very first head of government to officially visit the Philippines under my term. And tomorrow, Prime Minister Abe will be the first leader that I will receive in Davao as President. \n",
      "By any measure, this visit is historic and sets the bar for constructive engagements. If my visit to Tokyo defined the solid and strategic partnerships of the Philippines and Japan then Prime Minister Abe’s visits to Manila and Davao renew the commitment to further strengthen the solid and strategic partnership toward greater peace, progress, and prosperity.\n",
      "I am humbled by this demonstration of friendship and look forward to working closely with Prime Minister Abe on all matters of mutual interest.\n",
      "Thank you and good afternoon. \n",
      "PRIME MINISTER ABE: I am grateful for the heartwarming invitation and hospitality that has been extended to me by President Duterte. I am very happy to meet with the President here in Manila so soon after his visit to Japan last year in October and I am very honored to be the first guest and to be received by President Duterte in Davao.\n",
      "As the first guest in Davao City, let me correct, the interpreter would like to correct herself.\n",
      "I chose the Philippines as the first destination of my overseas visits of the year. This is demonstration of the fact that I place much emphasis on my relationship with President Duterte and with the Philippines.\n",
      "This year, the Philippines will have the chairmanship of the ASEAN, which celebrates its 50th anniversary. We support the ASEAN in its attempt to strengthen unity and centrality and to develop as a free and open community. From such a perspective, we will provide maximum support to make the East Asia Summit and the ASEAN-Related Meetings a tremendous success.\n",
      "At the meeting today, we confirmed that both countries, which share common values and strategic interests, will cooperate hand-in-hand for the stability and prosperity of the region. The following are the key outcomes:\n",
      "First, for the further development of the Philippines, we will create business opportunities through ODA and private sector investments which together will be of the order of one trillion yen  over the next five years. The joint committee on economic cooperation and infrastructure will be launched through which both the private and public sectors will provide a strong underpinning for nation building.\n",
      "Second, we will leverage Japanese technology and know-how to the fullest extent to positively cooperate for the improvement of infrastructure in Metro Manila and the whole of the Philippines.\n",
      "Third, we will continue to provide positive support for the peace and development of Mindanao. A decision has been taken to start studies for the urban development and flood control of Davao City.\n",
      "Fourth, we welcome the signing of the exchange of notes on the provision of high-speed boats as part of the measures on security and counterterrorism. We will strengthen cooperation in the area of counterterrorism in order to realize a society in which it is possible for youths to entertain hopes.\n",
      " \n",
      "Fifth, on countering illegal drugs. We want to work together with the Philippines to think of relevant measures of support. For our part, Japan will tap among others, knowledge of the private sector to assist in the improvement of related facilities, formulation of treatment programs and in other areas.\n",
      "Sixth, both countries being maritime nations, Japan will enhance support for capacity-building in the field of maritime security.\n",
      "We also had a firm exchange of views on the regional landscape and agreed to elevate cooperative relations to a higher level to address not only bilateral issues but also to work toward a resolution of regional challenges.\n",
      "The issue of the South China Sea is linked directly to regional peace and stability and is a concern to the entire international community. I welcome the fact that President Duterte is making efforts to improve China-Philippine relations in light of the arbitral award. The significance of the rule of law, peaceful resolution of disputes and non-militarization has been confirmed at ASEAN-Related Meetings last year. Keeping in mind this year’s ASEAN-Related Meetings, we affirmed the importance of these.\n",
      "On the nuclear and missile development by North Korea, we agreed on the importance of the rigorous enforcement of the related UN Security Council resolutions including those to be newly adopted. Those of renewed confirmation of cooperation toward the early resolution of the adoption issue.\n",
      "On RCEP or Regional Comprehensive Economic Partnership, we agreed that we would continue cooperation toward the conclusion of a quality agreement.\n",
      "On the invitation extended to me by President Duterte, I shall visit his hometown of Davao tomorrow as the first foreign head of government to do so. Together with the President, I look forward to further enhancing friendly ties between our two nations and to cooperate towards regional stability and prosperity.\n"
     ]
    }
   ],
   "source": [
    "print(df.loc[494, 'transcript'])"
   ]
  },
  {
   "cell_type": "code",
   "execution_count": 187,
   "metadata": {},
   "outputs": [
    {
     "data": {
      "text/plain": [
       "'http://pcoo.gov.ph//jan-12-2017-president-rodrigo-roa-dutertes-joint-press-statement-with-japanese-prime-minister-shinzo-abe/'"
      ]
     },
     "execution_count": 187,
     "metadata": {},
     "output_type": "execute_result"
    }
   ],
   "source": [
    "df.loc[494, 'url']"
   ]
  },
  {
   "cell_type": "code",
   "execution_count": 191,
   "metadata": {},
   "outputs": [],
   "source": [
    "txt = df.loc[494, 'transcript']\n",
    "\n",
    "index = txt.find('PRIME MINISTER ABE:')\n",
    "df.loc[494, 'transcript'] = txt[:index]"
   ]
  },
  {
   "cell_type": "markdown",
   "metadata": {},
   "source": [
    "# DUPLICATES"
   ]
  },
  {
   "cell_type": "markdown",
   "metadata": {},
   "source": [
    "# 417 - duplicate delete this"
   ]
  },
  {
   "cell_type": "code",
   "execution_count": 195,
   "metadata": {},
   "outputs": [
    {
     "data": {
      "text/plain": [
       "date                                         October 19, 2016_2\n",
       "title         Press Conference of President Rodrigo Roa Dute...\n",
       "url           http://pcoo.gov.ph//oct-19-2016-press-conferen...\n",
       "event                                                       NaN\n",
       "location                      Grand Hyatt Hotel, Beijing, China\n",
       "transcript     STATEMENT: PRESIDENT\\n DUTERTE: Presently we ...\n",
       "Name: 417, dtype: object"
      ]
     },
     "execution_count": 195,
     "metadata": {},
     "output_type": "execute_result"
    }
   ],
   "source": [
    "df.loc[417]"
   ]
  },
  {
   "cell_type": "code",
   "execution_count": 201,
   "metadata": {},
   "outputs": [],
   "source": [
    "df.drop(index=417, inplace=True)"
   ]
  },
  {
   "cell_type": "markdown",
   "metadata": {},
   "source": [
    "# SKIPPED SOME DIALOGUES"
   ]
  },
  {
   "cell_type": "markdown",
   "metadata": {},
   "source": [
    "# 625"
   ]
  },
  {
   "cell_type": "code",
   "execution_count": 206,
   "metadata": {
    "scrolled": true
   },
   "outputs": [
    {
     "name": "stdout",
     "output_type": "stream",
     "text": [
      "\n",
      " DUTERTE: I can maybe spare you something like… Wala na ang relo ko, ibinigay ko sa sundalo. So I can… Mga five hours.\n",
      " DUTERTE: Yes?\n",
      " DUTERTE: Ang solusyon nasa Pilipino, kayo. Kayo ang… You know ang gustong magdala ng gobyerno, that is really extortion. That is just a matter of semantics. They call it “revolutionary tax,” actually it’s extortion. Kaya nga may away tayo eh. And kaya nga hindi kami papayag… I refuse now to resume the talks with them until they stop itong extortion. Kasi sasabihin ng tao, magbabayad sila ng buwis, wala namang protection kasi hinihingian sila ng NPA. So the only way is to — I do not want to continue the fight, it has been there for 50 years and I suppose that everybody’s tired killing people for 50 years. But if they want it another 50 years, wala kaming, wala — ang gobyerno walang magawa. It’s plain extortion. And if they want to continue, to resume the talks, one of the things that I would demand would really be that they stop the extortion activities.\n",
      " DUTERTE: Ganito ‘yan eh. Martial law was declared for the Mindanao island because that is an anticipation of a spillover. I said I have nothing against — I am a — I have a Maranao blood. But ‘yung in Central Mindanao, nandiyan ‘yung Lanao del Sur, Lanao del Norte, then you get left that you have the Zambopanga Peninsula na marami pati you go right, nandito ‘yung Maguindanao, nandiyan ‘yung Buldon, nandiyan sila. And so the spillover could create more trouble for us. That’s why in anticipation or to prevent or to prepare for a spillover or a simultaneous uprising, it has to be Mindanao.\n",
      " DUTERTE: You know, Mindanao relatively is just a new country. Bago lang itong Mindanao eh. Cebu has been there — ang architect gani nila diha sa ilang City Hall base pag si Magellan. Matagal na ‘yang Cebu eh, that’s an old city. You can’t compare it to Mindanao. Mindanao is the frontier. Kaya nga ito may giyera because ang Moro feels displaced, na sila ‘yung nauna dito, which is really correct. Historically they were ahead — ang by Islam almost 60 to 70 years, Islam was already in Mindanao. Kaya ‘yung pumasok dito na mga Cebuano are just — but hindi naman natin alam na ganon ang sitwasyon. And we do not have to die for that. That is not anybody’s fault. That was the creation of imperialism which had — had we had been here at that time, have not have happened because we would never agree to it. But you know, Islam ang Mindanao tapos the rest of the country was converted to Christianity. It was also bludgeoned into submission.\n",
      " DUTERTE: Wala namang nasira. Mahina ‘yun. Well, by this time, it could have caused massive destruction but there’s none. And actually, to be really very, very frank with you, nobody but nobody can foretell a disaster. That’s why in the insurance business, disasters are called or categorized an “act of God.” Just for want of any other term to use it, a massive destruction. Typhoons and earthquakes, ang category niyan sa — Kaming mga abogado, we call it an “act of God.” So ang God, ganito ang ating habulin. Kaya mo? Ha? Isama natin ‘yung mga pari.\n",
      " DUTERTE: Again, ma’am?\n",
      " DUTERTE: Well, we are doing everything we can. The military is doing its utmost. I am here for the time being that there’s a ruckus in Central Mindanao. I’d be spending most of my time here. I’ll just fly to Manila once in a while to fulfill with the protocol duties but I have to be back again until such time that peace is restored. But, we are already almost more than halfway. Matatapos na ‘to.\n",
      " DUTERTE: No, I did not. That’s a… He’s a pretender. I’d never talk to terrorists, that’s one. I will never talk to criminals and to terrorists. But I would talk to revolutionaries who are imbued with a principle of their — kagaya nitong MI, MN. I talk to them because ang — what drove them to fight government is the rising nationalism. Kasi nauna nga sila dito. Dumating ‘yung Amerikano, naunahan pa ng Español, then we were colonized. Kaya nga nagkawatak-watak tayo na ganito. Islam na nga ang Mindanao. At ano ba naman kasalanan natin pumasok itong mga Español, pati Amerikano? So that is how… It’s how it began. But we are here to preserve and ask… And I plead to the Moro people who are my brothers, who are our brothers: We do not want to fight, we do not want to kill. And if we can just stop fighting, okay ako. But for those criminals, mga terorista, wala.\n",
      " DUTERTE: Well, the MI and MN probably have started initiatives there. But kung manggaling sa akin, ako maghingi sa mga criminal pati terorista, imposible. At tsaka marami na akong patay na sundalo pati pulis. Huwag nila akong biruin ng mag-istorya-istorya lang tayo. If there has to be peace, it would really be peace. Huwag mo akong laruin ‘yang away ngayon tapos bukas… Let us finish this once and for all. Adto na kami kay… ‘Yung wala pa, magsakay ka na lang sa chopper. Doon ka na lang magtanong. [laughter]  — END —\n"
     ]
    }
   ],
   "source": [
    "print(df.loc[625, 'transcript'])"
   ]
  },
  {
   "cell_type": "code",
   "execution_count": 205,
   "metadata": {
    "scrolled": true
   },
   "outputs": [
    {
     "data": {
      "text/plain": [
       "'http://pcoo.gov.ph//media-interview-with-president-rodrigo-roa-duterte-following-his-visit-to-the-403rd-infantry-brigade/'"
      ]
     },
     "execution_count": 205,
     "metadata": {},
     "output_type": "execute_result"
    }
   ],
   "source": [
    "df.loc[625, 'url']"
   ]
  },
  {
   "cell_type": "code",
   "execution_count": 209,
   "metadata": {},
   "outputs": [],
   "source": [
    "url = 'https://pcoo.gov.ph/media-interview-with-president-rodrigo-roa-duterte-following-his-visit-to-the-403rd-infantry-brigade/'\n",
    "\n",
    "response = requests.get(url, headers=headers)\n",
    "html = BeautifulSoup(response.text, 'lxml')"
   ]
  },
  {
   "cell_type": "code",
   "execution_count": 214,
   "metadata": {},
   "outputs": [],
   "source": [
    "container = html.find('table')\n",
    "txt = container.findAll('td')[3].text\n",
    "\n",
    "txt_cleaned = get_duterte_part_not_q(txt , ['Q:'])\n",
    "df.loc[625, 'transcript'] = txt_cleaned"
   ]
  },
  {
   "cell_type": "markdown",
   "metadata": {},
   "source": [
    "## 367"
   ]
  },
  {
   "cell_type": "code",
   "execution_count": 216,
   "metadata": {},
   "outputs": [
    {
     "data": {
      "text/plain": [
       "' lahat: SSS. Tsaka wala yang paikut-ikot, huwag ninyong paikutin kasi ang totoo niyan, ayaw talaga niyo magbayad ng—mean, if you do not take care of the workers, then I cannot take care of you. Eh ano yan eh, quid pro quo, quid pro quo; tit-for-tat. So, yan ang warning ko. Second is mining. Huwag ninyong anuhin ang—si Gina Lopez by publicity. Hindi siya marunong—asan si Gina? She is not an incompetent—she’s a bright lady and she is simply a crusader. Kayong mga minahan diyan, pati yang Marcopper, hanggang ngayon, hindi pa ninyo nalinis yung dumi ninyo. I will not allow it. You only give me 40 billion, lahat kayo each year, I can do away with the 14, sirahan ko kayo lahat. You obey or we will survive as a nation without you. Huwag ninyo akong anuhan na, you—you try to castigate Gina Lopez for being strict and—yet you destroy the land, destroy the soil tapos yung yayaman kayo diyan. Yung iba, mga oligarchs, papartner-partner na kayo, kung sinu-sinong partner niyo mga foreigners and you get rich at the expense of our native land. Do not do it. I will not allow it. Forty billion? I can forego with the 40 billion I collect from you guys. And the Filipinos will survive without you. Either you follow strictly government standards or you close up. Lahat ng butasan ng—dito na, walang lisensya. I will order the military and the police to close them. Pag ayaw ninyong sumunod, ipapasok niyo doon sa butas, takpan ko kayo—kasali. You want to try it? Fine. Let’s do it. Eh butas ka ng butas diyan, landslide ng landslide. Tapos sabihin ninyo, mining is a critical component on the Philippine economy. Of course, it is. Its income, but you are also making a critical damage. Hindi lang man ito nasabi ninyo na—ewan ko kung nag—basta anybody violating the minimum wage law, di kayo nagbabayad ng tama. You go ahead with the contractualization, I will close you. Huwag ka nang maghintay ng business permit, I’ll always find a thousand and one reason to close you. Eh gusto ninyo, brasuhin kayo eh. Nakikiusap na nga yung gobyerno na—para makatulong sa kapwa tao niya. Or if I cannot do it, magpunta na ako, magresign ako. Maghanap kayo ng ibang presidente. Of course, si Robredo yan. Fine. Pero pag sumunod kayo, sabi ko sa inyo, maawa naman kayo sa kapwa tao ninyo. Mga gobyerno—losing. Kailan pa ba kayo nalugi? Yumayaman ka ng yumaman, araw-araw. Yes, hindi ito klase, ba’t ka mag-raise ng hands? Ah, yeah, okay. * * * QUESTION & ANSWER:\\u2028\\n DUTERTE: Hinuhuli mo talaga ako. Gusto mo akong yariin ng komunista ano? Well, anyway, as a President, I cannot—you know, go into an exercise of a polter—ideological poltergeist. I can only—poltergeist—I can only go along, coast along and get the advice of the people whom I have tasked. I cannot run my own errands. I have to do serious work here. I cannot also go there and talk to them. So kung anong ibigay sa akin ‘yan, advice nila with the talks, I will think about it, sleep on it perhaps, then I will make a decision. At this time, Dureza—I have yet to talk to Dureza and Bello, so I cannot answer you properly. But when the time comes, you will have all the facts that you want. But at this time, I said kind of a—but I will not go into a foul mouth thing here because I am talking for the Republic, in behalf of the Republic. Pia Ranada (Rappler): May misunderstanding kayo with the CPP, can you just elaborate on— PRESIDENT\\n DUTERTE: Wala kaming misunderstanding. Sinabi ko, there is a lot—sila yang nag-uusap, hindi ako. Bakit ako ang mag-misunderstand sa kanila? I have not talked to them. Ms. Ranada: Sir, they called you— PRESIDENT\\n DUTERTE: I am not the protagonist there.  Ms. Ranada: Sir, they called you “hasty” for lifting the ceasefire when they were about to declare their own— PRESIDENT\\n DUTERTE: A what?\\u2028 Ms. Ranada: They were calling you “hasty”, sir, ‘yung CPP, sir, si Joma Sison called you “hasty.” PRESIDENT\\n DUTERTE: Naniwala ka pala sa kanila. Sino ba ang pinaniniwalaan mo? Sila o ako? Ms. Ranada: Hindi, sir, I am just getting your reaction. PRESIDENT\\n DUTERTE: Yeah, I said, let me be very—I’ll give you a visual, for all this fighting: 43, 40 years, 45 years—they never even had a control of one barangay for a day. Me? I was elected by about 16 million of our countrymen for whom I’m really thankful. Sila? They could not even get to elect a leftist. Talo palagi. Tapos sila ang paniwalaan mo. Maniwala ka pala. Ms. Ranada: Sir— PRESIDENT\\n DUTERTE: Look, I got a six million margin. Anong margin na ‘pag…? They hardly could—you know, get people of their kind to be elected. Sa Davao, ako pa ang magdala—bayan—and only because I share some of their visions about how a country should help its citizens and to run government. Celerina Monte : Sir, Celerina Monte from Manila Shimbun. Sir, regarding your warnings with these ‘yung companies, businessmen. Are we seeing any possible closure of any companies— PRESIDENT\\n DUTERTE: Yes. Ms. Monte: How soon? PRESIDENT\\n DUTERTE: If you are asking, yes. Ms. Monte: How soon sir could we see? Para at least para makita talaga, sir — ? PRESIDENT\\n DUTERTE: You point out to me one violating now and I’ll close it. Ms. Monte: Sir, they are saying that— PRESIDENT\\n DUTERTE: You get to answer, you know, you get the obligation to—  Ms. Monte: Sir, there’s allegation that SM and other mga companies— PRESIDENT\\n DUTERTE: Well, I’m sorry. Whether it’s really SM or lahat. I can even close the entire Republic of the Philippines and we can all go into hunger strike. Ms. Monte: Sir— PRESIDENT\\n DUTERTE: Lahat tayo. Sabayan ko, ako mauna. Ms. Monte: Sir, another one. How soon are you going to send the former President Ramos to China for these talks regarding the South China Sea? PRESIDENT\\n DUTERTE: I guess the commission, we will be talking about it just good as any other time to do it but it’s scheduled to be taken up by the Cabinet this afternoon. Joseph Morong (GMA-7): Sir, pa-walk through lang po— PRESIDENT\\n DUTERTE: It will be a long night for us.  Mr. Morong: Sir good afternoon. Pa-walk through lang noong Saturday ‘nung nag-lift kayo ng 7 o’clock and then the CPP is saying, “eh we were supposed to declare our own ceasefire at 8.” What do you think of that kind of statement from the CPP? PRESIDENT\\n DUTERTE: Hindi ko papatulan iyan eh. I am not an ideological poltergeist. I am the President talking properly to you to have peace in this land. Bakit man ako—hindi naman ako insecure. Eh syempre, I got 16 million, a margin of 16 million plus. Eh sila, hindi nga sila makahawak ng isang barangay, wala naman silang—hardly. But the leftist guys before were elected because of their intellectual competence, not because they belong to the left. Rocky Ignacio (PTV 4): [inaudible] PRESIDENT\\n DUTERTE: O, kumusta ka? Akala ko ba dito ka nagtrabaho? Hindi kita nakikita. Ms. Ignacio: Sir, hindi naman ako pwede basta pumasok sa Palasyo, nahaharang ako ng PSG. (laughter) PRESIDENT\\n DUTERTE: Well, you know Rocky, I’ve been trying to—I was looking around because I want to make—several occasions, a statement. Wala naman akong mahanap na— Ms. Ignacio: Sir, hindi po ako allowed pumasok agad unless papapasukin ako ng PSG.  PRESIDENT\\n DUTERTE: Sabihin mo kaibigan tayo, maniwala ka naman sa mga PSG. (laughter) Ms. Ignacio: Ayaw nga ako papasukin. Hindi nga ako kasama, cameraman lang. PRESIDENT\\n DUTERTE: Sabihin mo sa PSG na, “Kaibigan ko si Mayor Duterte.” Ms. Ignacio: Ayaw akong papapasukin talaga, sir. Sir, pero are you confident that under your administration, ‘yung peace will be attained sa CPP/NPA? PRESIDENT\\n DUTERTE: I really—I pray to God na it will—gusto ko sa generation ko, with the MI, MN, huwag lang ‘yung mga criminal. Wala kasi akong—I cannot see, Rocky, a redeeming factor to open my mouth and begin to talk about peace with criminals. Kasi hindi man hihinto ‘yan. Criminality is a—to crave for money, to reach into your hands the dirty way. I cannot do that. Ms. Ignacio: Pero sir, anong directive mo kay Secretary Dureza para ma-retain or ma-ano yung confidence building, talking peace with— PRESIDENT\\n DUTERTE: Kaya nga ako nag-declare ng ceasefire eh. Ms. Ignacio: Pero binawi mo.  PRESIDENT\\n DUTERTE: Ako pa ang namatayan, kami pa ngayon ang kontrabida. I declared a truce, nagbabaan ‘yung mga sundalo galing bukid, tapos inambush. Kami na nga ang namatayan, si—yung kaibigan ko pa ang—tumatalsik ‘yung—tumatalsik ‘yung laway ko, gusto ko magpayong, lumalabas sa television eh. Ms. Ignacio: Pero sir, tuloy pa rin yung peace talks sa August 20 to 27? PRESIDENT\\n DUTERTE: Look, I cannot stop talking about peace. I am a President who is supposed to bring peace to his land. Whether it’s really Sison or not, whether I’d like to talk to Sison or not, it’s not important, it’s not relevant at all. The issue is, the left, not only Sison, but that would include Sison, the left, the entire leftist community or bloc dito sa atin. We cannot agree on all of these things. Merong right, left, center.  Me, at this time, Rocky, I just believe that I have to look for that peace for my land during my generation. If I fail, mahirap na, including Mindanao. Reymund Tinaza : Sir, good afternoon. Reymund Tinaza ng Bombo Radyo. Sir, you’ve mentioned previously during your speeches na “you had walked extra mile just to attain peace”. But now, with this not so acceptable respond of your good faith from the NDF-NPA, are you still willing for another extra mile walk just for peace? PRESIDENT\\n DUTERTE: Yes. I dare them. Challenge ko sa kanila: Let us not only talk, mag-marathon tayo. Mr. Tinaza: Sir, also another national issue. Yung—the issue of the constituent assembly and the constitutional convention. Some sectors, the Senate—  PRESIDENT\\n DUTERTE: Good. Thank you for the question. If I and the others would insist, that was my first position. Iyon ‘yung akin original. Wala pa akong naging—hindi pa ako naging Presidente. Because I thought that a constitutional convention would be more in keeping with the—a constitutional promise that the people would really believe in, would trust. Wala silang—walang—there’s nothing at the back of their minds.  Ganito ‘yan, ‘nung nag-usap na kami sa National Security Council, we decided to push for constitutional changes pero constituent assembly. Ang sabi ni Diokno, kasama namin, it would take us billions. Wala na akong pera eh. I came midstream. I have so many things to do. I have to maintain ‘yung 4Ps.  I am now, I would like to announce to you that I am taking in more, about 10,000 soldiers and 5,000 policemen to safeguard the integrity of the country. Nothing to do with the communists, nothing to do with the MI, MN. It’s simply making a strong, given also the external threats that we are now facing. I’m not particularly attributing it to any country. So, that is the—having said that, masyadong malaki. Now, if it’s a matter of just—I sense a feeling of contempt diyan sa Con-Ass maybe because it’s really not a good thing also to abbreviate ‘yung “ass” because it’s give us a pain in the ass, you know, sometimes.  Masyadong magasto and alam mo, ‘yung nagdadaldal diyan na ‘ah, hindi na,’ these are the guys who cannot be elected anyhow. And there are these guys na they think they are the only principled and honest persons in this universe. Why would you now begin to doubt the sincerity of a Filipino? O, kung meron mang isa, dalawang magnanakaw diyan, tatlo, apat, you cannot make a sweeping statement na people do not trust these guys to make a good constitution, to craft a new one that would serve this generation because ‘yung iba nga diyan had been elected time and again, dalawang dekada na, tatlong dekada, pati itong kaharap mo.   I’ve been all-in-all 40 years of politics. Who are you to tell me na in the end, honest, kayo lang? God! So ‘yung mga senador diyan, repeatedly elected, eh ‘di—in all probability, they are good because they have been elected time and again.   At saka nandiyan ako, ang Executive Department. Andiyan Defense, andiyan ‘yung Tourism, whatever you place them, will be reviewed by the Cabinet and if there is anything there that’s really despicable to the Filipino, I’d simply tell you: Do not do that. Ako mismo dito and you mangle a constitution, you come up, you craft a bullshit constitution, bakit, would I allow it? Would the military would allow it? The police? The civilian? The mayors?  Nandiyan rin ako. So meron na tayong ibang constitution, same wording, same lahat, due process, human rights. Automatic ‘yan sila, maybe just a thing or two about the economic prosperity of this nation. So therefore, you need to reconfigure the distribution sa shares, how many shares would you concede to the—andand about the land ownership.  It’s time to revisit the Constitution. It’s time to rethink how we look at things from afar and bring a constitution that would serve the Filipino at this time of his life. Itong generation natin—eh kita mo hirap ka dyan, luhod ka nang luhod eh, bakit ka kasi nakasimangot diyan? Kaya ganun eh, so I’m trying to bring—I do not promise heaven or pure happiness to the Filipino. But I can promise you perhaps, if I succeed, a comfortable life for all. Tina Mendez : Sir— (The Philippine Star) PRESIDENT\\n DUTERTE: Yan lang ang akin, wala na akong—wala ng drama. Iyon lang. O isa, e ‘di dalawa, okay ‘yan.  Ms. Mendez: Sir, Cristina from Philippine Star. I’d like to ask, sir, can you please expound your stand regarding Abu Sayyaf, your statement regarding Abu Sayyaf considering may hostages pa sila rin ngayon? PRESIDENT\\n DUTERTE: Abu Sayyaf has no redeeming factor. It does not have an ideology unlike the communists and maybe the MI, MN, that they are fighting and revolting against government, the duly-constituted authorities, because they’d want to change or supplant one that they think would be good for the entire community.  Kaya sabi ng mga komunista, ‘bulok yan,’ ‘kayong mga kapitalista,’ lalo na, well of course, and I must admit that you are correct, Mr. Communist, ‘yung graft and corruption. Talagang it has pulled our country down, not only in terms of prosperity but ‘yung talagang productivity. Kasi ayaw ng iba, kasi hingi dito, hingi doon. First day pa lang paglagay diyan sa table na ‘yan, umpisa na ang karate. That will not happen during my watch. I will never allow it. Makalusot ka man pero bigyan talaga kita.  Ms. Mendez: Sir, your standing order to the AFP regarding the Abu Sayyaf? PRESIDENT\\n DUTERTE: Standing order is to—ano bang trabaho nila? To protect the integrity of the nation. And, of course, to fight the enemies of the State who would want to challenge us, to bring us down, to pull us down, the duly-constituted authorities.  There was an election, every congressman, mayor, councilor, president were elected in a very orderly way. So by the essence of democracy, ang leader or leaders of the country is chosen by the people. It cannot be an imposed leadership. Mr. Morong: Sir, would you encourage po ‘yung mga tao na contractuals to complain?  PRESIDENT\\n DUTERTE: Yes Mr. Morong: Papano, sir? PRESIDENT\\n DUTERTE: Diretso na. I think I’m ready with 8888 and 911. Just—kaya sabi ko, my warning is not to—I’m not trying to scare you. But itong warning ko sa gobyerno: Pag sinabi ng gobyerno: ‘Yan. ‘yan na ‘yan. Huwag mo nang hintayin magkasala ka.  You just obey para walang gulo. Kaya ‘yan pagka sinarhan kita, huwag kang magpunta sa akin dito at you—mainsulto pa kita. Mainsulto ako, gagawa ka nang masama, pupunta ka sa akin, insultuhin mo ako ng mga tear-jerking stories about wala ng kapital, pakialam ko. Sinabi ko sa inyo, sumunod kayo. Now, it would mean a reduction of your corporate profits, fine. Share it with the people. Tutal, matagal naman itong contractualization. If you think that you’d lose, then close shop. Isarahan mo at magfarming ka na lang. I need a lot of farming endeavors back there in Mindanao. Tinotoo rin talaga ninyo hanggang alas-diyes tayo ‘no? Diyan ako bilib sa inyo eh.  So we have about five more hours to go (laughter). Sige, sige, sige. Sa totoo lang. I’m just joking actually. You guys can take your time.\\n DUTERTE: Hindi lang ‘yan, the other is Gutierrez, ‘yung sa Dubai. Iyong nagpapasok ng eroplano dito na walang bayad-bayad. They are the oligarchs of the modern kind. Iyan, ‘yan sila. You sell your country to the dogs. Kaya ako galit, one of the reasons why I ran is because government itself was not—hindi ngayon, hindi—was oppressing the people.  Kaya rin one of the compelling reasons na nag-udyok sa akin kasi ‘yan nga. You’re throwing your country to the dogs. Why would you allow black sand mining? Whatever is really the purpose to this generation, leave it there. Our children will better—well, we better in a position to determine how they would use it in the future. Yes? Nandiyan si Gina. Sabi ko, si Gina Lopez has my full support. So stop this nonsense of discrediting her because I won’t believe you a bit. Yes?\\n DUTERTE: No, no, no. I have to fix the Malacan—Maguindanao, ah, no! Mindanao issue. Tignan ko ‘yung framework, I’m set to—I have to travel to Cotabato to talk again to hurry up. And I travel to Jolo to talk to Nur. Sabi ko sa mga military pati pulis, you might want to consider just for a day makalabas lang sila. Paalamin kita, alam ko gusto kang sumama eh.\\n DUTERTE: Okay ka diyan. (laughter)\\n DUTERTE: I’m talking to Sison, he’s a fugitive. And the fact na he violated the ano tapos sumibat, so hindi na umuwi. Nur Misuari also, they are waging rebellions, okay. It is ideology-driven. So ang redeeming factor diyan is you rebel because you want a better setup or better life for the people. Kaya nga ang punishment ng rebellion, mababa. Walang death penalty, I think it’s prision correccional to prision mayor. It’s about—the longest is 12 years and if ‘yung mag-ano ka pa, but all of these guys will have my—I’ll consider an amnesty kung magkausap tayo at we can agree to a peaceful co-existence. I will accommodate them.\\n DUTERTE: No, on that day, wala siguro, I’ll just give them a safe conduct pass because ‘pag hindi ko nakausap, how do we fix these things? You have a better way of doing it? Tell me. Paano ako hindi ko makausap si—so what good would it do, sinong puntahan ko ‘nung Abu Sayyaf?\\n DUTERTE: Sabihin mo kay judiciary, pssst ‘sabi ni Mayor Duterte’ huwag kang maingay. (laughter)\\n DUTERTE: No, I just have about a day or two. Kausapin ko lang sabihin ko, ‘Nur, once the talk starts, I’ll give everybody a safe conduct pass.’ Alam mo, I’d like to make it public, not to flatter Misuari or anybody. You take in custody kay Nur tapos may nangyari ‘yan dito sa custody ng government, ng sundalo o pulis, forget about talking about peace in Mindanao.  So with the rebels the other side, you take custody. Hulihin mo ‘yan sila Murad, si Jaafar, tapos may nangyari ‘yan while in custody, sabihin ko sa inyo, my advice: Sabi ko sa military pati pulis, you will just have to navigate the way as it is been done, and a process of negotiation. Everywhere. When you talk to the rebels, you have to give them a safe conduct pass or at least a sense of security to face you and talk about what’s bugging the country. Okay? Again, ma’am?\\n DUTERTE: Ako, party list? If I have my way, tapos yan sila.\\n DUTERTE: Ah, akala ko partylist. Partylist, I’m not inclined to recreate them in a new constitution. Target date is, I said, I’m going to Mindanao maybe day after tomorrow and start to look into the firming up of the framework and if I have the time, I’ll just fly to Jolo and to Murad again to talk and I’ll just give them the firm commitments.  Ang sabi ko, ”pag meron kayong, adre, that you are really willing to talk with sincerity, then you can begin talking to the government panel’. Nandito lang ako eh, I said I cannot run my own errands, I have to send, somebody has to do it for me.\\n DUTERTE: The spouses Tiamzon? They will be released. Iyong ceasefire ng kaibigan ko. I will see if I will also be happy to reinstall a ceasefire. Maybe Christmas time (laughter). Well, in the spirit of the season.\\n DUTERTE: Nauna na ako, tingnan mo ang nangyari. Ako pa ang namatayan diyan, tapos ako pa ang sinisisi ngayon.\\n DUTERTE: Ako naman mag-ambush. Eh, inambush nila ‘yung sundalo ko. Well, I’ll see, I’ll see. I’m just joking. But alam mo, nakukunsumi na ako sa—‘tong mga ‘to, kaya dinadaan ko na lang sa pabiro-biro kasi mag-heart attack ako. ‘Pag nagka-heart attack ako, mamatay ako, bintangan mo itong mga komunista. REPORTERS: Thank you, sir. * * *'"
      ]
     },
     "execution_count": 216,
     "metadata": {},
     "output_type": "execute_result"
    }
   ],
   "source": [
    "df.loc[367, 'transcript']"
   ]
  },
  {
   "cell_type": "code",
   "execution_count": 217,
   "metadata": {},
   "outputs": [
    {
     "data": {
      "text/plain": [
       "'http://pcoo.gov.ph//aug-01-2016-statement-of-president-rodrigo-roa-duterte-during-a-press-briefing/'"
      ]
     },
     "execution_count": 217,
     "metadata": {},
     "output_type": "execute_result"
    }
   ],
   "source": [
    "df.loc[367, 'url']"
   ]
  },
  {
   "cell_type": "code",
   "execution_count": 218,
   "metadata": {},
   "outputs": [],
   "source": [
    "url = 'https://pcoo.gov.ph/aug-01-2016-statement-of-president-rodrigo-roa-duterte-during-a-press-briefing/'\n",
    "response = requests.get(url, headers=headers)\n",
    "html = BeautifulSoup(response.text, 'lxml')"
   ]
  },
  {
   "cell_type": "code",
   "execution_count": 221,
   "metadata": {},
   "outputs": [],
   "source": [
    "def get_txt_html(html):\n",
    "    container = html.find('table')\n",
    "    txt = container.findAll('td')[3].text\n",
    "    return txt"
   ]
  },
  {
   "cell_type": "code",
   "execution_count": 237,
   "metadata": {},
   "outputs": [],
   "source": [
    "txt = get_txt_html(html)"
   ]
  },
  {
   "cell_type": "code",
   "execution_count": 239,
   "metadata": {
    "scrolled": true
   },
   "outputs": [],
   "source": [
    "remove = ['Pia Ranada', 'Ms.', 'Joseph Morong', 'Mr.', 'QUESTION & ANSWER:']\n",
    "lt_others = ['Q:', '(Rappler):', 'Ranada:', 'Monte:', '(GMA-7):', 'Morong:', 'Ignacio:', 'Tinaza:', 'Mendez:',\n",
    "            'REPORTERS:']\n",
    "txt = get_duterte_part_not_q(txt, lt_others)\n",
    "for wrd in remove:\n",
    "    txt = txt.replace(wrd, ' ')\n",
    "df.loc[367, 'transcript'] = txt"
   ]
  },
  {
   "cell_type": "markdown",
   "metadata": {},
   "source": [
    "## 349"
   ]
  },
  {
   "cell_type": "code",
   "execution_count": 240,
   "metadata": {},
   "outputs": [
    {
     "data": {
      "text/plain": [
       "' 11:35. As of today, I am declaring a ceasefire. So, I’m joining the Communist Party of the Philippines in its desire to seek peace for this nation.  Likewise, in the same manner, I am ordering the Armed Forces of the Philippines pati ang Philippine National Police: As of today, meron tayong ceasefire.  So, we avoid hostile actions against each other, we do not go into antagonistic behavior in front of whoever and as a matter of fact, I am encouraging people in government—the military and the police to be friendly with the forces of the revolutionary government of the Communist Party of the Philippines.  In the meantime, that we have the ceasefire, because of the Oslo talks, not because we want to be extra friendly but you know, forget for—in the meantime, even for a short period, and I hope it would go a long, long period for a peaceful resolution of the communist rebellion against the Republic of the Philippines.  ‘Yan lang po, very important so that everybody will be apprised of, with my decision, which is mainly based on a consensus and with the concurrence of all, the commanding generals of the Armed Forces of the Philippines. The other day, and alsowith—kasali si Defense Secretary, si Delfin Lorenzana. So very important that this is transmitted to all. Alam mo, I’m addressing myself to the government forces, all the security forces na huwag kayong masyadong magsama ang loob because as mayor—as President rather, my main task is to seek the peace for my country.  I am not a President who would enjoy waging war against the citizens of this Republic.  It pains me deeply to see people dying for ideology na pwede naman nating mapag-usapan nang mapayapa, just like now.  I would have just also wondered: Bakit kailangan pa tayo magpatayan for 45 years, only to end up, which is really a significant event for everybody? Ngayon pa lang, mag-usap lang naman tayo and to think there’s so many lives lost for both government and on the other side. Na madala lang pala, na i-take ko sa istorya, okay naman pala.  That is my regret for my nation that sana noon pa ito, wala na masyadong patayan at magagamit ko pa ‘yung pera para sa mga mahirap na Pilipino.  Housing or whatever, relocating the—yung mga slum talaga, slum areas na blighted and inhospitable na nga eh, ‘ika nga.  So that is my plea to everybody, to the communists at itong mga sundalo, mga pulis ng gobyerno to understand that there is always a time for everything.  We cannot be at war at all times. Yung sa generation natin, wala na tayong makita kung ‘di magpapatayan. Sana bago ako umalis sa mundong ito eh, magkaroon tayo ng lessening of the hatred of war.  I am also appealing to my Moro brothers, our Moro brothers and sisters, the same thing. Bigla kong—gaya ngayon, ‘di na tayo mag-away.  But let me just stress also a point here: I am committed to give to the Moro people what I promised. Tanggalin na lang ninyo muna yung Constitutional issues na nasa BBL para wala nang gulo, no court, no litigation, no nothing at kung in the fullness of God’s time, we’ll have a successful talk, we can have a Constitution that—embedded na ‘yung hinihingi ninyo.  Ang hindi ko lang nga maibigay, sabi ko, as of now, yung—which I really would object this, really, is itong Armed Forces na regional, pati regional armed police. Armed Forces—it’s not, I’m sorry, I cannot give that.  In the same manner, sa komunista, I cannot share the power over the police and the Armed Forces with anybody. It only belongs to one guy, to the President. But kung sino ‘yung, who will be elected after me and before me, that has always been the case. It only belongs to one person who is elected by the Filipino people. Kung sino man ‘yan, kanya ‘yan. That is to keep the country together, to bind us as a nation. Otherwise, delikado. Question? \\n DUTERTE: U nagka-ulan na o. \\n DUTERTE: No, I just wanted a time to be with the commanding generals of all the Armed Forces of the Philippines. You know why? And I can do it on my own. But you know, ikaw isipin mo, ikaw ang Presidente. Hindi naman ikaw ang namamatay eh. So you should consult these guys who are the ones ordering the troops to move and to die. It’s not an issue maybe for other people but it is to me.  As a Commander-in-Chief, I would not like anybody there dying or dead. Kaya ako, kita mo ang punta ko, galing ako doon sa pulis only to—tingnan mo itong mga Human Rights. Is there anybody sa inyo, ‘yung mga human rights, counting the dead soldiers and policemen?  I’m losing, as a matter of fact, on the average, two. It’s either soldier, drug connected ha. Either a police or a military man, nag-aano, nag-a-average ako ng dalawang araw na patay.  Kanina sa Samar. I was visiting the, ‘yung si Mark doon sa Tanay. Tapos binulungan na lang ako na, “Sir, may patay na naman.”\\xa0  At itong mga human rights, silent naman. Ni hindi na nakakasabing, “nakakaawa naman.” Letse kayo. Genocide. Genocide? Mga criminal, genocide? Paka-ugok naman ninyo eh! Mag-aral nga kayo uli.  Ang tinatarget pa ninyo, ay ‘yun pang pinaka-mayor sa Davao. Genocide?  Q : Sir, follow-up. Are you willing—the NDF says they wanted the government, the GRP to free other political prisoners. Are you ready to give in to that demand?  PRESIDENT\\n DUTERTE: I am ready if the successful talks are there for me to see and to hear. In the meantime, “No.” Kung tapos na, oh free, you want to join my government? Many of them are already there.  Nandiyan na nga sila halos and I’m ready to give more. Kaya mga banking, mga financing institutions, I can accommodate all of them. And ‘yun namang mga NPA soldiers, I will release money and lands for them.  ‘Yung totohanan na Land Reform but I will not confiscate lands now who are—which are, rather, or get it from people who own. ‘Nong una tapos, ini-Land Reform at ipinagbili uli ng tenant. Tapos kunin ko ulit doon sa landowner, I will not do that, that would be an injustice.  But there’s so much land in the Philippines, and I could—sabihin lang nila and I will give them everything.  Hindi sabihin na ano, but you know, hindi ako natatakot magpatayan. The problem is, tayo-tayo lang Pilipino. It takes so much money to run a war for nothing.  Kita mo, after 45 years, estudyante pa ako noon, kasali ako sa mga rally-rally. Kaya kilala ko si Sison, kilala ko sila halos lahat.  But now, we have hit—a kind of an agreement there to talk. See? Pwede pala tayo mag-usap eh. Another 45 years of what, deadly fighting? Question? \\n DUTERTE: Part of the regular movement of troops, they have to be relieved. They’re just passing by to catch up the plane bukas. Nire-relieve mo ‘yan, they cannot be fighting forever there so you have to give the soldiers a respite also.  Part of the regular movement of troops ‘yan. Nobody is getting somewhere, dati na ‘yan sila diyan, pinahinga lang tapos palitan na naman ng mga bagong ano para—you know, they have to also take a respite of the war. Nothing. No big deal.  Kasi pag landing ko nandoon ‘yung—sabi ko, sabi ko “Bakit kayo nandito?” Sabi nila naghihintay ng sasakayan. Sabi ko, “Okay. I’ll invite you to a dinner.” That’s the long and short of the story, no big deal, I said.  Part of the regular movement of troops in this area. Wala tayong sabihing may kinuha ako sa ibang lugar because I need them every inch of the territory, we can be helped. Just for law and order purposes. \\n DUTERTE: I have the matrix now. I don’t know if– \\n DUTERTE: I really do not know. The success or failure would depend on the people talking there. If they can agree with each other, especially on the points towards moving—towards peace, baka—because there will be some dynamics there, you know.  Trabaho nila, how are they supposed to be assimilated back to and be with us, together with government people. Parang ganoon. At no other time, at no other time that there’s really a big chance for both the communist and government to have peace. At no other time, hindi ako nag-aano— \\n DUTERTE: Including—excuse me ah, sandali, including the Moro people. At no other time, mga brother na makakita tayo ng opportunity na ganito.  I do not think that in the future would be able to talk sensibly about the, what bugs this island, what ails this country. Okay, go ahead. \\n DUTERTE: It’s not my problem. \\n DUTERTE: Wala na. Alam mo na, madali eh, may isang order lang naman. Depart kaagad. It’s not my problem. That’s their problem.  My problem is nobody violates my order and it behooves upon the Communist Party to do the same. Otherwise, walang mangyayari rito kung ganoon. Hindi ko ‘yan problema sila, problema nila ‘yan.  Ang problema ko, ‘yung mga sundalo ko pati pulis ko, kaya ko sabihin na, ako kaya ko, kasi naniniwala sila. Isang gobyerno lang naman kami, so sabihin ko: Huwag muna kasi baka sakali, magkaroon tayo ng kapayapaan sa mundong ito. \\n DUTERTE: No. I said I will but I have to consult the—ang mga tao na, which I’m worried, I said kung nangyari sa kanilang mga komunista, that nobody should violate the order because that is a guarantee of the Republic. Hindi ko naman akin, personal ‘yan eh.  You know, there are the CAFGUs, tsaka rin—sa kanila. But everybody should behave. Hindi ko personal ‘to, so karga-karga ko in the burden sa likod ko ang Republic of the Philippines. That’s why, I wanted to be sure na masunod ‘yung order ko. \\n DUTERTE: Yes. Correct. I said, I already ordered it but I said I have to consult them, just to make sure that my orders are followed. Otherwise, para akong gago dito.  That’s a sovereign—my view ha? That is a sovereign gesture. That is not, sabi ko, personal whim ko. Sa ngalan ng Republika ng Pilipinas ‘yan.  Q : Sir, another question po. You announced yesterday that you have invited Gibo to be the Defense—any development po, sir?  PRESIDENT DUTERTE : Coming in tonight, I called him and reiterated my—si Delfin naman, Lorenzana, he used to—he was here, matagal na. Kilala ni Carol. ‘Di ba, kaibigan ni Carol Arguillas ‘yan. He was a very good soldier and I got him as my Defense Secretary. Sabi niya, “Mayor, wala man ako mag—” ‘Mayor’ kasi tawag niya sa akin, hindi ‘Presidente’ pero I do not want. Gusto ko, mayor, kasi ‘yan ang palayaw ko noon. That’s my—nickname ko ‘yan, kaya matagal akong mayor eh. Sabi niya, “maniwala man akong order mo talaga. Pero alam mo, matanda na ako. Gusto ko, nakabalik na lang rin ako dito, gusto ko dito na lang.”  So wala akong—sib Gibo, talagang naghugas kamay. These are the guys siguro who had a, who had some— \\n DUTERTE: No, no, not naman. He was the Secretary of Defense. Maybe ‘disenchanted’ would be the word. Because you know, he ran for president. Itong si Lorenzana naman, eh gusto niya ng—kaganda ng buhok niya ‘nong pumunta ‘yan dito, ngayon wala na siyang buhok. Konti na lang.\\xa0 \\n DUTERTE: Gusto na niya manahimik, gusto niya dito sa Pilipinas na lang. Of course, that is the dream of every—\\xa0 \\n DUTERTE: Wala. Both. First, nagtuturuan kami sa Cabinet. Somebody pointed to him. Sabi niya, “Ayan o.” Sabi ko: “You know guys, we have to have an Ambassador to the UN—ah to the United States.” \\n DUTERTE: May nagturo, I don’t know, I fotgot—I think it was Sonny Dominguez. Sabi niya, “Ayon o,” Tapos sabi: “Bakit ako naman?” Sabi ko, “You should do it for your country.” Tapos sabi niya, contending kami, “Mayor, kung wala ka naman talagang, if you order me to accept the position, I will work there. Pero gusto ko lang malaman mo na matanda na ako, tsaka mahirap ang buhay sa labas.” ‘Yung mingaw. If it’s not your country— \\n DUTERTE: Oh, yeah. Ayaw niya eh, ayaw rin ni Gibo, ibig sabihin, maghanap tayo ng iba. \\n DUTERTE: Yes. \\n DUTERTE: Sinong naisip mo? \\n DUTERTE: Sino ‘yan siya? \\n DUTERTE: Sige ma’am, abante ka. \\n DUTERTE: Ah, ‘yung pumunta ka. Sabi mo assigned ka dito. Kaya nga sabi ko, familiar siya. Ikaw pala yun. \\n DUTERTE: It would really depend on the military on the ground, whoever is the commander there, whether it is a battalion or a company, he decides for—if going to be a relaxation of the vigilance or not. \\n DUTERTE: There is no such thing as a militarization. Every inch of this property of the Republic must be occupied by the soldiers of the government. Wala, there is no such thing as hindi kayo papasok diyan kasi, no militarization there. Siguro ‘yung overt acts na makipag-away, ‘yun ang iniiwasan. Ito namang ideological conflict. Nasali lang ito kasi ‘yung iba, nandyan sa Alamara, which is really a paramilitary unit of—CAFGU is also one. The other one, is meron rin itong who sympathize with the Communist Party. Meron rin silang kanyang liquidation. Meron silang private army rin, even they have also the regular ones.  Kanya-kanyang sphere of ano ‘yan, may influence man eh. Baka bukas ko na siguro i-deliver. But I will deliver it to, pag-uwi ko na siguro. Kasi natagalan tayo, naghintay na ‘yung— Mukhang may magsama mamaya.  Actually, I am inviting you also, lalo na ‘yung ‘di taga-rito, ‘yung kumakain ng durian. I have invited the soldiers to a durian festival. Kasi hindi na naabutan nila ang Kadayawan eh. Sabi ko: Sige, punta tayo doon, makahabol ako.  Baka ikaw, Ma’am. I am inviting you. Do you eat durian? \\n DUTERTE: Of course, then we should be together of course also. (laughter) Hindi humabol lang kayo. You are with a—mga mabait naman ‘yung mga taga-Davao. Sige, sino pa?\\n DUTERTE: Yes, marami na, especially those who have pending cases. ‘Yung may mga kaso sa Ombudsman, tapos suspended already and reinstated back, they have to go.  Marami akong nailagay sa gobyerno because I also supported Arroyo during the last election. And before that, I was also—malapit. Alam ninyo, I was the consultant of President Arroyo’s law and order.  Marami rin akong nailagay sa mga institutions diyan, lalo na sa financing institution. But I told them, kung may mga kaso kayo, there are complaints against you, you resign now. \\n DUTERTE: Marami na. I do not keep count. Because it’s somebody else’s errand. Not mine. Basta, ‘yung may—lahat may kaso. Patay na kayo.  question: You are scheduled to travel to Laos Republic for–?  PRESIDENT\\n DUTERTE: Laos… because ‘yung chairmanship ng ASEAN, it’s our turn. They have to—I have to be there to receive it. It has to be the head of state. I beg off sana but the protocol people say that, you know, “you have to be there.” \\n DUTERTE: No, there are issues, but they are not—there are critical issues but it is not the proper time to be ranting, raising hell or whatever. We are better off—just, you know, biding our time.  But, I will wait for the bilateral talks. If you are—I will read your mind. You’re talking about China. But during a bilateral meeting, maybe — When? I really do not know.  Then, I’ll put squarely the things that we have. We will be talking about the arbitral judgment, and maybe we cannot go out of discussion within the four corners of this paper. But that has to wait. Because if I act hostile now, then they might just decide not to sit in front of you and talk. Magka-pikonan.  So you better just say when, maybe a goodwill visit to their country to express our willingness to talk and be friendly and avoid war. It’s not an option. So there is only one option left. And it is just to talk.  There are two things: You talk or go to war or create trouble. If you cannot afford to go to war or do some trouble, there’s only one left for you to do. And that is to talk. What is there to worry about?  So I’ll go to Laos and I will avoid talking the issue, vis-à-vis with the Philippines. Now, if another country brings the matter up, that is not within my control. My participation there is to listen to the issues confronting the ASEAN.  And if somebody brings up the matter about China Sea, then I will talk. But I said, it has to be like a soft landing. We do not go there shouting and ready to fight. We’re there to talk peacefully. Ah, palit-pait ang magaga-fashion show.\\xa0  : Dress to kill pa gyud ang show natin na— Q :Pangtulog na, Mr. President. PRRD : Ah, eh istorya. Sige na, ge. Q : Angie of Bombo Radyo, Mr. President. Na-issue po, regarding po doon sa pag-declare ng Supreme Court na unconstitutional ‘yung banning of aerial spray po sa Davao City. Kasi ikaw po ‘yung, during your term po ‘yung–  PRESIDENT\\n DUTERTE: Well, it’s the final say of the Supreme Court. Hindi naman ako, hindi ako naghuhugas pero alam naman ninyo hindi ‘yung akin, kay—Neneng Arculeo ‘yun because she resides within the vicinity, within the parameters of—just beside the parameters of the banana plantation. Q : Balikan ko lang po yung— PRRD : Wala na tayong magawa diyan. Q : Peace negotiation po.  PRRD : We do not intend to file a motion for reconsideration or anything. And if it is useless. And kung ‘yun ang sabi ng Supreme Court, wala tayong magawa. We’ll just have to follow and maybe allow again the spraying of—ewan ko. I would not—we will have to dwell on so many things. We have to dwell on so many things there: health issues, and whether it is really, whether it’s a good chemical to be using and what’s the net effect of that sa water, sa underground. There’s a river there. And whether you like it or not, ‘yung chemicals will seep into the aquifer of a place.  Kaya kung magbutas, may lalabas talaga na tubig, because there’s leveled down there, that there’s water. \\n DUTERTE: I’m sorry I was distracted. You have to—naputol. Yung trend ko na, my … got lost along the way. \\n DUTERTE: Sa? \\n DUTERTE: I have not been—I’ve been posted with just a general statement, almost generic. But as to the hard, to the gravamen ‘ika nga of the problem, wala pa. Wala pa.  I’m posted by Dureza and the rest. But it’s just almost generic that—we talked this afternoon—maybe at this time, they’re still shaking hands until now.  Q : Maayong gabi sir. Going back to some of the local concerns, like the budget. Edcel Lagman is hell-bent on trying to oppose that budget for the Office of the President because of huge increases. What is your justification and why is the increase—?  PRESIDENT\\n DUTERTE: I have so many fights. And he can be very sure that that money will go to either the soldiers or to the police. I should have a budget to buy information and all of these things. I’m fighting a crisis.  But at the end, there should be no worry. It will come to evoke and I’m sure Congress would know. Ako, kung ayaw ninyo binigay, okay lang sa akin. But, you take care of the problem.  Wala naman ako hiningi na sabihin mo, ibulsa ko. All of these things will be used for, lalo na sa intelligence fund. You know, I also, magtanong ka. Even ‘nong mayor pa ako dito. Ngayon, Presidente na ako. Magtanong kayo. Umaabot talaga sa kanila ‘yan.  And I tend to give more because I said I’m fighting so many wars. I have the Abu Sayyaf, I have the MI, MN. I really do not know if this will go on, as peacefully as we can really do it, then I have the Communist.  So kung ayaw nilang ibigay, okay lang sa akin. Wala akong problema. Pero sabihin ko, we are failing in this, failing of that because we fail to act on time. Now, if we had the information, malaman sana namin, ‘di we could have just also interdicted this and that.  Pero if you just worry that ibubulsa ko ‘yan. When I was mayor, magtanong kayo ng mga pulis na wala na ako sa pwesto. Ngayong Presidente ako, tanungin mo sila. You can ask anybody in the military establishment. \\n DUTERTE:\\xa0Ah, hindi. \\n DUTERTE:\\xa0Yeah.\\xa0 \\n DUTERTE:\\xa0Well, I will, you know. De Lima is undergoing a nightmare now. Tama na ‘yun para sa akin.  Alam mo, I still have the tapes and you guys were there. And you should be able to utter the same words that she uttered, which was very simple. “I am here to conduct an investigation,” meron pa akong record eh. Narecord rin sa inyo, sa inyo rin. Nandiyan sa tapes ninyo. “And I will connect that he is connected with the DDS. I will prove it.”  Nandiyan sa tape. She came. Bumalik dito, nagdala ng pala, kasi killing fields daw ang Davao. Do you agree with me if she said that? Di ba, sabi niya, killing fields ang Davao. Do you agree na sinabi niya ‘yan? Wala siyang nakita, buto isang tao pero may dalawang skull, plate numbers na nandon naman sa kabilang partido. ‘Yung nag-udyok sa kanya na pumunta dito.  She violated the human rights. She started everything, not only me. But maraming Pilipinong sinira niya. Now, the truth is out. The cat is out of the bag, ‘ika nga. So what happens now? She’s still yakking about the same issues. I do not deny that there are encounters between the police and the drug. Sinasabi ko lumalaban talaga ‘yan.  Tingnan mo ‘yung pulis na namatay kanina. Hinabol niya. Kumuha ng—di binaril siya. Lalaban ‘yan kasi ‘yang mga ‘yan, sira na ulo talaga ‘yan. Kaya ‘yung sabi nila, nakita na sprawl there with a gun beside a body and they think that is planted, it’s machinations of you know, evidence.  Sinasabi ko sa inyo. Davao experience. Lumalaban ‘yan. Kasi constant use of shabu will shrink your brain. Kaya talaga, bumubunot ng baril ‘yan.  Now, I said I’m losing two policemen a day, either police or military man. Ayaw maniwala, ito namang mga gago, genocide, genocide. Tang-ina. Paka-bobo naman nitong mga putang-inang ‘to. Is it live? ‘Di mas mabuti. Ulitin ko: Napakabobo naman ninyo, kayong mga putang-ina kayo.  Why are you asking about—eh ‘di si De Lima, pati ‘yung mga UN rapporteur. Meron, legitimate encounters, we will, I will assume full responsibility. We will explain. Nandyan ‘yung mga papel na pinadala ko. Sabi ko: Ipadala ninyo ‘yung mga—babasahin ko. The papers are with me. I’m reviewing it. Sabi ko ‘yung mga, on the spot, and I will compare it with the affidavits. I am studying it every night. Tingnan ko kung may mga salvage-salvage. Pero ‘yung pinatay na hindi natin—binalot ng mga sako. Binalot ng plastik. The police I assure you, would not waste their time on that.  So kung pati ba naman ‘yan isali ninyo na wala akong kamuwang-muwang, pakisali na lang po sa namatay ng lahat diyan sa punerarya, pati ‘yung may mga cancer, isali na lang ninyo, may mga diabetes, may mga—kasi ‘yung lahat na nakita ninyong patay. Binibilang ninyo sa akin. Baka ‘yung gusto ninyo, ‘yung taga-Davao dito. Magbilang ako sa punerarya.  Lahat na. Lahat ng patay. Bakit lang ‘yang binabalot ng mga sako? Because the accusation itself is very stupid. It assumes right away na ‘yung may patay diyan. Gobyerno ang pumatay. When as a matter of fact, as early, as kuwan, sabi ko mag-drama na tayo. We sow intrigue. Hulihin mo ito. Sabihin mo siya, siya ang may courier. Tapos ito, sabihin mo, ito siya ang nagturo. Kung magpatayan ‘yan sila, hayaan mo muna. Let them kill each other. After that, papasok tayo. We are not prohibited from using that kind of methodology or modality or what’s the term? 1,000? Sira-ulo 1,600. ‘Di naubusan na kami ng bala niyan. Papakialam naman ‘yang binalot ng plaster? And to think that there are—Hoy, De Lima. Makinig ka. Putang-ina ka. 3 million addicts in this country. Hoy, UN. …(dialect)…  There are now, even those who surrendered, 600,000. You think it’s a joke? It’s a joke for you to tell me about human rights. Come here and solve the problem yourself.  I will fund you. I will pay your, even your, bibili ako pati ‘yung toilet paper mo. Gago kayo. ‘Wag kayong magsalita nang salita diyan. May problema ako dito. 600,000 tapos ganon kayo magsalita.  De Lima, you are finished. Tapos ka na. Sunod election—by the way, you look nice. Fighter talaga. Fighter talaga. Q :\\xa0Sir— PRRD :\\xa0Depensa ka kay De Lima? \\n DUTERTE:\\xa0Is that the other one? ‘Yung Norwegian, is that the one? Q :\\xa0No. PRRD :\\xa0Well, if that’s the one then I would accuse now the Abu Sayyaf of utter bad faith. Binayaran na ‘yun sila, 50,000, they were adding—Ano? \\n DUTERTE:\\xa0Babae, lalaki? Ah ‘yung bata? \\n DUTERTE:\\xa0That’s why, I’m sending the troops there and tell them to destroy there. My orders to the Police and to the Armed Forces against all enemies of the State: Seek out. Seek them out in their lairs whatever and destroy them. Ang mga droga, destroy them. Ang mga Abu Sayyaf, destroy them. Period.  Napakaano naman nila. Diyan ako nawalaan ng bilib sa inyo. Pasalamat ako when I won by landslide sa ano. Alam naman ninyo kung ano. I have this little connection by blood with you. But you know, nawawala talaga ako ng bilib sa inyo.  Although hindi ako Tausug. More of the Maranao side. But, ‘di ako bilib sa inyo.  Q :\\xa0How will this war against the Abu Sayyaf be any different from the previous administrations, which also by the way, waged wars against the Abu Sayyaf?  PRESIDENT\\n DUTERTE:\\xa0I said, I’ll be harsh. But, that is just a campaign, a campaign. Go out and destroy them. So patay kung ano ‘yan. ‘Wag na kayo magtanong ng human rights. Don’t bother to think. Wala akong panahon magsalita—even sa drugs. 3 million—destroying my country. Mister—sino ‘yang putang-inang ‘yan? Anong pangalan ng Amerikano na nagsasalita? Hoy, gago ka. Drug—or the drugs, drug is destroying my country. Do not fuck with me today.'"
      ]
     },
     "execution_count": 240,
     "metadata": {},
     "output_type": "execute_result"
    }
   ],
   "source": [
    "df.loc[349, 'transcript']"
   ]
  },
  {
   "cell_type": "code",
   "execution_count": 241,
   "metadata": {},
   "outputs": [
    {
     "data": {
      "text/plain": [
       "'http://pcoo.gov.ph//aug-24-2016-press-conference-of-president-rodrigo-roa-duterte/'"
      ]
     },
     "execution_count": 241,
     "metadata": {},
     "output_type": "execute_result"
    }
   ],
   "source": [
    "df.loc[349, 'url']"
   ]
  },
  {
   "cell_type": "code",
   "execution_count": 262,
   "metadata": {},
   "outputs": [],
   "source": [
    "url = 'https://pcoo.gov.ph/aug-24-2016-press-conference-of-president-rodrigo-roa-duterte/'\n",
    "\n",
    "response = requests.get(url, headers=headers)\n",
    "\n",
    "html = BeautifulSoup(response.text, 'lxml')"
   ]
  },
  {
   "cell_type": "code",
   "execution_count": 263,
   "metadata": {},
   "outputs": [
    {
     "data": {
      "text/plain": [
       "'I’ll be talking in English because I’m also—at the same time, addressing the nation.\\nEffective this hour, it’s 11:35. As of today, I am declaring a ceasefire. So, I’m joining the Communist Party of the Philippines in its desire to seek peace for this nation.\\n Likewise, in the same manner, I am ordering the Armed Forces of the Philippines pati ang Philippine National Police: As of today, meron tayong ceasefire.\\n So, we avoid hostile actions against each other, we do not go into antagonistic behavior in front of whoever and as a matter of fact, I am encouraging people in government—the military and the police to be friendly with the forces of the revolutionary government of the Communist Party of the Philippines.\\n In the meantime, that we have the ceasefire, because of the Oslo talks, not because we want to be extra friendly but you know, forget for—in the meantime, even for a short period, and I hope it would go a long, long period for a peaceful resolution of the communist rebellion against the Republic of the Philippines.\\n ‘Yan lang po, very important so that everybody will be apprised of, with my decision, which is mainly based on a consensus and with the concurrence of all, the commanding generals of the Armed Forces of the Philippines. The other day, and alsowith—kasali si Defense Secretary, si Delfin Lorenzana.\\nSo very important that this is transmitted to all. Alam mo, I’m addressing myself to the government forces, all the security forces na huwag kayong masyadong magsama ang loob because as mayor—as President rather, my main task is to seek the peace for my country.\\n I am not a President who would enjoy waging war against the citizens of this Republic.\\n It pains me deeply to see people dying for ideology na pwede naman nating mapag-usapan nang mapayapa, just like now.\\n I would have just also wondered: Bakit kailangan pa tayo magpatayan for 45 years, only to end up, which is really a significant event for everybody? Ngayon pa lang, mag-usap lang naman tayo and to think there’s so many lives lost for both government and on the other side. Na madala lang pala, na i-take ko sa istorya, okay naman pala.\\n That is my regret for my nation that sana noon pa ito, wala na masyadong patayan at magagamit ko pa ‘yung pera para sa mga mahirap na Pilipino.\\n Housing or whatever, relocating the—yung mga slum talaga, slum areas na blighted and inhospitable na nga eh, ‘ika nga.\\n So that is my plea to everybody, to the communists at itong mga sundalo, mga pulis ng gobyerno to understand that there is always a time for everything.\\n We cannot be at war at all times. Yung sa generation natin, wala na tayong makita kung ‘di magpapatayan. Sana bago ako umalis sa mundong ito eh, magkaroon tayo ng lessening of the hatred of war.\\n I am also appealing to my Moro brothers, our Moro brothers and sisters, the same thing. Bigla kong—gaya ngayon, ‘di na tayo mag-away.\\n But let me just stress also a point here: I am committed to give to the Moro people what I promised. Tanggalin na lang ninyo muna yung Constitutional issues na nasa BBL para wala nang gulo, no court, no litigation, no nothing at kung in the fullness of God’s time, we’ll have a successful talk, we can have a Constitution that—embedded na ‘yung hinihingi ninyo.\\n Ang hindi ko lang nga maibigay, sabi ko, as of now, yung—which I really would object this, really, is itong Armed Forces na regional, pati regional armed police. Armed Forces—it’s not, I’m sorry, I cannot give that.\\n In the same manner, sa komunista, I cannot share the power over the police and the Armed Forces with anybody. It only belongs to one guy, to the President. But kung sino ‘yung, who will be elected after me and before me, that has always been the case. It only belongs to one person who is elected by the Filipino people. Kung sino man ‘yan, kanya ‘yan. That is to keep the country together, to bind us as a nation. Otherwise, delikado.\\nQuestion?\\n Q: Sir, four days ago you said–\\n PRESIDENT DUTERTE: U nagka-ulan na o.\\n Q: Wala pa, sir. Four days ago, you said you need to consult the AFP in declaring a, in responding to the ceasefire, which was announced by the NDF. Has there been any consideration or has there been any–?\\n PRESIDENT DUTERTE: No, I just wanted a time to be with the commanding generals of all the Armed Forces of the Philippines. You know why? And I can do it on my own. But you know, ikaw isipin mo, ikaw ang Presidente. Hindi naman ikaw ang namamatay eh. So you should consult these guys who are the ones ordering the troops to move and to die. It’s not an issue maybe for other people but it is to me.\\n As a Commander-in-Chief, I would not like anybody there dying or dead. Kaya ako, kita mo ang punta ko, galing ako doon sa pulis only to—tingnan mo itong mga Human Rights. Is there anybody sa inyo, ‘yung mga human rights, counting the dead soldiers and policemen?\\n I’m losing, as a matter of fact, on the average, two. It’s either soldier, drug connected ha. Either a police or a military man, nag-aano, nag-a-average ako ng dalawang araw na patay.\\n Kanina sa Samar. I was visiting the, ‘yung si Mark doon sa Tanay. Tapos binulungan na lang ako na, “Sir, may patay na naman.”\\xa0\\n At itong mga human rights, silent naman. Ni hindi na nakakasabing, “nakakaawa naman.” Letse kayo. Genocide. Genocide? Mga criminal, genocide? Paka-ugok naman ninyo eh! Mag-aral nga kayo uli.\\n Ang tinatarget pa ninyo, ay ‘yun pang pinaka-mayor sa Davao. Genocide?\\n Q : Sir, follow-up. Are you willing—the NDF says they wanted the government, the GRP to free other political prisoners. Are you ready to give in to that demand?\\n PRESIDENT DUTERTE: I am ready if the successful talks are there for me to see and to hear. In the meantime, “No.” Kung tapos na, oh free, you want to join my government? Many of them are already there.\\n Nandiyan na nga sila halos and I’m ready to give more. Kaya mga banking, mga financing institutions, I can accommodate all of them. And ‘yun namang mga NPA soldiers, I will release money and lands for them.\\n ‘Yung totohanan na Land Reform but I will not confiscate lands now who are—which are, rather, or get it from people who own. ‘Nong una tapos, ini-Land Reform at ipinagbili uli ng tenant. Tapos kunin ko ulit doon sa landowner, I will not do that, that would be an injustice.\\n But there’s so much land in the Philippines, and I could—sabihin lang nila and I will give them everything.\\n Hindi sabihin na ano, but you know, hindi ako natatakot magpatayan. The problem is, tayo-tayo lang Pilipino. It takes so much money to run a war for nothing.\\n Kita mo, after 45 years, estudyante pa ako noon, kasali ako sa mga rally-rally. Kaya kilala ko si Sison, kilala ko sila halos lahat.\\n But now, we have hit—a kind of an agreement there to talk. See? Pwede pala tayo mag-usap eh. Another 45 years of what, deadly fighting?\\nQuestion?\\n Q: Good evening President, there’s a deployment of troops in Western Mindanao right now to crush down the Abu Sayyaf group. Do you have timeline to–?\\n PRESIDENT DUTERTE: Part of the regular movement of troops, they have to be relieved. They’re just passing by to catch up the plane bukas. Nire-relieve mo ‘yan, they cannot be fighting forever there so you have to give the soldiers a respite also.\\n Part of the regular movement of troops ‘yan. Nobody is getting somewhere, dati na ‘yan sila diyan, pinahinga lang tapos palitan na naman ng mga bagong ano para—you know, they have to also take a respite of the war. Nothing. No big deal.\\n Kasi pag landing ko nandoon ‘yung—sabi ko, sabi ko “Bakit kayo nandito?” Sabi nila naghihintay ng sasakayan. Sabi ko, “Okay. I’ll invite you to a dinner.” That’s the long and short of the story, no big deal, I said.\\n Part of the regular movement of troops in this area. Wala tayong sabihing may kinuha ako sa ibang lugar because I need them every inch of the territory, we can be helped. Just for law and order purposes.\\n Q: President, second question. When are you going to announce the six to seven personalities that involved in drug, ‘yung sinabi niyong matrix?\\n PRESIDENT DUTERTE: I have the matrix now. I don’t know if–\\n Q: Going back to the ceasefire, Mr. President. May timeframe ba ito? Hanggang kailan?\\n PRESIDENT DUTERTE: I really do not know. The success or failure would depend on the people talking there. If they can agree with each other, especially on the points towards moving—towards peace, baka—because there will be some dynamics there, you know.\\n Trabaho nila, how are they supposed to be assimilated back to and be with us, together with government people. Parang ganoon. At no other time, at no other time that there’s really a big chance for both the communist and government to have peace. At no other time, hindi ako nag-aano—\\n Q: Second question, sir. Did they–?\\n PRESIDENT DUTERTE: Including—excuse me ah, sandali, including the Moro people. At no other time, mga brother na makakita tayo ng opportunity na ganito.\\n I do not think that in the future would be able to talk sensibly about the, what bugs this island, what ails this country. Okay, go ahead.\\n Q: Okay, did they assure you na wala nang puputok na bomba sa mga sundalong bababa from the operation sites?\\n PRESIDENT DUTERTE: It’s not my problem.\\n Q: What if kung meron?\\n PRESIDENT DUTERTE: Wala na. Alam mo na, madali eh, may isang order lang naman. Depart kaagad. It’s not my problem. That’s their problem.\\n My problem is nobody violates my order and it behooves upon the Communist Party to do the same. Otherwise, walang mangyayari rito kung ganoon. Hindi ko ‘yan problema sila, problema nila ‘yan.\\n Ang problema ko, ‘yung mga sundalo ko pati pulis ko, kaya ko sabihin na, ako kaya ko, kasi naniniwala sila. Isang gobyerno lang naman kami, so sabihin ko: Huwag muna kasi baka sakali, magkaroon tayo ng kapayapaan sa mundong ito.\\n Q: Good evening sir. I understand, last Saturday before Presidential Assistant to the Peace Process Jesus Dureza left for Oslo, he also announced you having declared that ceasefire. So, point of clarification lang po–\\n PRESIDENT DUTERTE: No. I said I will but I have to consult the—ang mga tao na, which I’m worried, I said kung nangyari sa kanilang mga komunista, that nobody should violate the order because that is a guarantee of the Republic. Hindi ko naman akin, personal ‘yan eh.\\n You know, there are the CAFGUs, tsaka rin—sa kanila. But everybody should behave. Hindi ko personal ‘to, so karga-karga ko in the burden sa likod ko ang Republic of the Philippines. That’s why, I wanted to be sure na masunod ‘yung order ko.\\n Q: Sir, right… I think it was yesterday or the other day, the Eastern Mindanao Command came up with an announcement that there is already a suspension of military operation and that is before you have a declaration—?\\n PRESIDENT DUTERTE: Yes. Correct. I said, I already ordered it but I said I have to consult them, just to make sure that my orders are followed. Otherwise, para akong gago dito.\\n That’s a sovereign—my view ha? That is a sovereign gesture. That is not, sabi ko, personal whim ko. Sa ngalan ng Republika ng Pilipinas ‘yan.\\n Q : Sir, another question po. You announced yesterday that you have invited Gibo to be the Defense—any development po, sir?\\n PRESIDENT DUTERTE : Coming in tonight, I called him and reiterated my—si Delfin naman, Lorenzana, he used to—he was here, matagal na. Kilala ni Carol. ‘Di ba, kaibigan ni Carol Arguillas ‘yan. He was a very good soldier and I got him as my Defense Secretary. Sabi niya, “Mayor, wala man ako mag—” ‘Mayor’ kasi tawag niya sa akin, hindi ‘Presidente’ pero I do not want. Gusto ko, mayor, kasi ‘yan ang palayaw ko noon. That’s my—nickname ko ‘yan, kaya matagal akong mayor eh. Sabi niya, “maniwala man akong order mo talaga. Pero alam mo, matanda na ako. Gusto ko, nakabalik na lang rin ako dito, gusto ko dito na lang.”\\n So wala akong—sib Gibo, talagang naghugas kamay. These are the guys siguro who had a, who had some—\\n Q: Bad experience being with government?\\n PRESIDENT DUTERTE: No, no, not naman. He was the Secretary of Defense. Maybe ‘disenchanted’ would be the word. Because you know, he ran for president. Itong si Lorenzana naman, eh gusto niya ng—kaganda ng buhok niya ‘nong pumunta ‘yan dito, ngayon wala na siyang buhok. Konti na lang.\\xa0\\n Q: Thank you po, sir.\\n PRESIDENT DUTERTE: Gusto na niya manahimik, gusto niya dito sa Pilipinas na lang. Of course, that is the dream of every—\\xa0\\n Q: What is the status of Lorenzana, what is exactly the status of Lorenzana and Gibo right now?\\n PRESIDENT DUTERTE: Wala. Both. First, nagtuturuan kami sa Cabinet. Somebody pointed to him. Sabi niya, “Ayan o.” Sabi ko: “You know guys, we have to have an Ambassador to the UN—ah to the United States.”\\n Q: That’s for Lorenzana?\\n PRESIDENT DUTERTE: May nagturo, I don’t know, I fotgot—I think it was Sonny Dominguez. Sabi niya, “Ayon o,” Tapos sabi: “Bakit ako naman?” Sabi ko, “You should do it for your country.” Tapos sabi niya, contending kami, “Mayor, kung wala ka naman talagang, if you order me to accept the position, I will work there. Pero gusto ko lang malaman mo na matanda na ako, tsaka mahirap ang buhay sa labas.” ‘Yung mingaw. If it’s not your country—\\n Q: So if that’s the case, Lorenzana stays as DND?\\n PRESIDENT DUTERTE: Oh, yeah. Ayaw niya eh, ayaw rin ni Gibo, ibig sabihin, maghanap tayo ng iba.\\n Q: For Ambassador?\\n PRESIDENT DUTERTE: Yes.\\n Q: Okay, thank you.\\n PRESIDENT DUTERTE: Sinong naisip mo?\\n Q: Maya na lang.\\n PRESIDENT DUTERTE: Sino ‘yan siya?\\n Q: Sa PTV 4.\\n PRESIDENT DUTERTE: Sige ma’am, abante ka.\\n Q: Hi sir. I’m Lala Babilonia po from PTV.\\n PRESIDENT DUTERTE: Ah, ‘yung pumunta ka. Sabi mo assigned ka dito. Kaya nga sabi ko, familiar siya. Ikaw pala yun.\\n Q: Thank you sir, ayon po. Good evening. I’m sorry po. Baka natanong na ‘to kanina. Amidst the unilateral ceasefire po, naka-heightened security alert pa rin po ba ang ating militar? At naka-deploy pa rin po ba sa areas kung nasaan ‘yung mga NPA?\\n PRESIDENT DUTERTE: It would really depend on the military on the ground, whoever is the commander there, whether it is a battalion or a company, he decides for—if going to be a relaxation of the vigilance or not.\\n Q: Sir, follow-up. Ay ano po. Another question po. What’s your comment po on the militarization po ng mga areas ng ating indigenous peoples, particularly mga lumad. Kasi sabi daw po nila, mayor pa lang daw po kayo, nagkakaroon na po ng series of dialogues. Pero ngayon pong nagkakaroon na tayo ng peace talks. Umaasa po ‘yung mga Lumad leaders na baka daw matigil na itong militarization. What’s your comment?\\n PRESIDENT DUTERTE: There is no such thing as a militarization. Every inch of this property of the Republic must be occupied by the soldiers of the government. Wala, there is no such thing as hindi kayo papasok diyan kasi, no militarization there. Siguro ‘yung overt acts na makipag-away, ‘yun ang iniiwasan. Ito namang ideological conflict. Nasali lang ito kasi ‘yung iba, nandyan sa Alamara, which is really a paramilitary unit of—CAFGU is also one.\\nThe other one, is meron rin itong who sympathize with the Communist Party. Meron rin silang kanyang liquidation. Meron silang private army rin, even they have also the regular ones.\\n Kanya-kanyang sphere of ano ‘yan, may influence man eh. Baka bukas ko na siguro i-deliver. But I will deliver it to, pag-uwi ko na siguro. Kasi natagalan tayo, naghintay na ‘yung— Mukhang may magsama mamaya.\\n Actually, I am inviting you also, lalo na ‘yung ‘di taga-rito, ‘yung kumakain ng durian. I have invited the soldiers to a durian festival. Kasi hindi na naabutan nila ang Kadayawan eh. Sabi ko: Sige, punta tayo doon, makahabol ako.\\n Baka ikaw, Ma’am. I am inviting you. Do you eat durian?\\n Q: Of course, sir.\\n PRESIDENT DUTERTE: Of course, then we should be together of course also. (laughter) Hindi humabol lang kayo. You are with a—mga mabait naman ‘yung mga taga-Davao.\\nSige, sino pa?\\nQ: Good evening, sir. Last weekend, you declared positions in the government, are there – vacant – are there officials already tendered resignation?\\n PRESIDENT DUTERTE: Yes, marami na, especially those who have pending cases. ‘Yung may mga kaso sa Ombudsman, tapos suspended already and reinstated back, they have to go.\\n Marami akong nailagay sa gobyerno because I also supported Arroyo during the last election. And before that, I was also—malapit. Alam ninyo, I was the consultant of President Arroyo’s law and order.\\n Marami rin akong nailagay sa mga institutions diyan, lalo na sa financing institution. But I told them, kung may mga kaso kayo, there are complaints against you, you resign now.\\n Q: Sir, which offices are these–?\\n PRESIDENT DUTERTE: Marami na. I do not keep count. Because it’s somebody else’s errand. Not mine. Basta, ‘yung may—lahat may kaso. Patay na kayo.\\n Q: Sir, another question: You are scheduled to travel to Laos Republic for–?\\n PRESIDENT DUTERTE: Laos… because ‘yung chairmanship ng ASEAN, it’s our turn. They have to—I have to be there to receive it. It has to be the head of state. I beg off sana but the protocol people say that, you know, “you have to be there.”\\n Q: Are there issues that you wanted to raise before the–?\\n PRESIDENT DUTERTE: No, there are issues, but they are not—there are critical issues but it is not the proper time to be ranting, raising hell or whatever. We are better off—just, you know, biding our time.\\n But, I will wait for the bilateral talks. If you are—I will read your mind. You’re talking about China. But during a bilateral meeting, maybe — When? I really do not know.\\n Then, I’ll put squarely the things that we have. We will be talking about the arbitral judgment, and maybe we cannot go out of discussion within the four corners of this paper. But that has to wait. Because if I act hostile now, then they might just decide not to sit in front of you and talk. Magka-pikonan.\\n So you better just say when, maybe a goodwill visit to their country to express our willingness to talk and be friendly and avoid war. It’s not an option. So there is only one option left. And it is just to talk.\\n There are two things: You talk or go to war or create trouble. If you cannot afford to go to war or do some trouble, there’s only one left for you to do. And that is to talk. What is there to worry about?\\n So I’ll go to Laos and I will avoid talking the issue, vis-à-vis with the Philippines. Now, if another country brings the matter up, that is not within my control. My participation there is to listen to the issues confronting the ASEAN.\\n And if somebody brings up the matter about China Sea, then I will talk. But I said, it has to be like a soft landing. We do not go there shouting and ready to fight. We’re there to talk peacefully.\\nAh, palit-pait ang magaga-fashion show.\\xa0\\n Q: Good evening sir.\\nPRRD : Dress to kill pa gyud ang show natin na—\\nQ :Pangtulog na, Mr. President.\\nPRRD : Ah, eh istorya. Sige na, ge.\\nQ : Angie of Bombo Radyo, Mr. President. Na-issue po, regarding po doon sa pag-declare ng Supreme Court na unconstitutional ‘yung banning of aerial spray po sa Davao City. Kasi ikaw po ‘yung, during your term po ‘yung–\\n PRESIDENT DUTERTE: Well, it’s the final say of the Supreme Court. Hindi naman ako, hindi ako naghuhugas pero alam naman ninyo hindi ‘yung akin, kay—Neneng Arculeo ‘yun because she resides within the vicinity, within the parameters of—just beside the parameters of the banana plantation.\\nQ : Balikan ko lang po yung—\\nPRRD : Wala na tayong magawa diyan.\\nQ : Peace negotiation po.\\n PRRD : We do not intend to file a motion for reconsideration or anything. And if it is useless. And kung ‘yun ang sabi ng Supreme Court, wala tayong magawa. We’ll just have to follow and maybe allow again the spraying of—ewan ko. I would not—we will have to dwell on so many things. We have to dwell on so many things there: health issues, and whether it is really, whether it’s a good chemical to be using and what’s the net effect of that sa water, sa underground. There’s a river there. And whether you like it or not, ‘yung chemicals will seep into the aquifer of a place.\\n Kaya kung magbutas, may lalabas talaga na tubig, because there’s leveled down there, that there’s water.\\n Q: Isang question pa po, Mr. President. Regarding po doon sa ongoing na peace negotiation sa Olso, Norway. Assessment lang po niyo for the first three days po ng talks?\\n PRESIDENT DUTERTE: I’m sorry I was distracted. You have to—naputol. Yung trend ko na, my … got lost along the way.\\n Q: Assessment lang po, Mr. President during the first few days po ng peace negotiation po sa Oslo Norway?\\nPRESIDENT DUTERTE: Sa?\\n Q: Kontento po ba kayo doon sa first few days po ng peace negotiation sa Oslo Norway?\\n PRESIDENT DUTERTE: I have not been—I’ve been posted with just a general statement, almost generic. But as to the hard, to the gravamen ‘ika nga of the problem, wala pa. Wala pa.\\n I’m posted by Dureza and the rest. But it’s just almost generic that—we talked this afternoon—maybe at this time, they’re still shaking hands until now.\\n Q : Maayong gabi sir. Going back to some of the local concerns, like the budget. Edcel Lagman is hell-bent on trying to oppose that budget for the Office of the President because of huge increases. What is your justification and why is the increase—?\\n PRESIDENT DUTERTE: I have so many fights. And he can be very sure that that money will go to either the soldiers or to the police. I should have a budget to buy information and all of these things. I’m fighting a crisis.\\n But at the end, there should be no worry. It will come to evoke and I’m sure Congress would know. Ako, kung ayaw ninyo binigay, okay lang sa akin. But, you take care of the problem.\\n Wala naman ako hiningi na sabihin mo, ibulsa ko. All of these things will be used for, lalo na sa intelligence fund. You know, I also, magtanong ka. Even ‘nong mayor pa ako dito. Ngayon, Presidente na ako. Magtanong kayo. Umaabot talaga sa kanila ‘yan.\\n And I tend to give more because I said I’m fighting so many wars. I have the Abu Sayyaf, I have the MI, MN. I really do not know if this will go on, as peacefully as we can really do it, then I have the Communist.\\n So kung ayaw nilang ibigay, okay lang sa akin. Wala akong problema. Pero sabihin ko, we are failing in this, failing of that because we fail to act on time. Now, if we had the information, malaman sana namin, ‘di we could have just also interdicted this and that.\\n Pero if you just worry that ibubulsa ko ‘yan. When I was mayor, magtanong kayo ng mga pulis na wala na ako sa pwesto. Ngayong Presidente ako, tanungin mo sila. You can ask anybody in the military establishment.\\n Q: Sir, follow-up question. I hope this will not irritate you if I bring up again the issue of De Lima.\\n PRESIDENT DUTERTE:\\xa0Ah, hindi.\\n Q: She kept on repeating about the possible human right violation but when she came here for an investigation during your time Mr. Mayor, she in fact could have violated the rule of law and trying to pull out the prisoner from the prison cell by the person of Jonathan Balo, without the benefit of a court order.\\n PRESIDENT DUTERTE:\\xa0Yeah.\\xa0\\n Q: Are you not trying to contemplate on turning them–?\\n PRESIDENT DUTERTE:\\xa0Well, I will, you know. De Lima is undergoing a nightmare now. Tama na ‘yun para sa akin.\\n Alam mo, I still have the tapes and you guys were there. And you should be able to utter the same words that she uttered, which was very simple. “I am here to conduct an investigation,” meron pa akong record eh. Narecord rin sa inyo, sa inyo rin. Nandiyan sa tapes ninyo. “And I will connect that he is connected with the DDS. I will prove it.”\\n Nandiyan sa tape. She came. Bumalik dito, nagdala ng pala, kasi killing fields daw ang Davao. Do you agree with me if she said that? Di ba, sabi niya, killing fields ang Davao. Do you agree na sinabi niya ‘yan? Wala siyang nakita, buto isang tao pero may dalawang skull, plate numbers na nandon naman sa kabilang partido. ‘Yung nag-udyok sa kanya na pumunta dito.\\n She violated the human rights. She started everything, not only me. But maraming Pilipinong sinira niya.\\nNow, the truth is out. The cat is out of the bag, ‘ika nga. So what happens now? She’s still yakking about the same issues. I do not deny that there are encounters between the police and the drug. Sinasabi ko lumalaban talaga ‘yan.\\n Tingnan mo ‘yung pulis na namatay kanina. Hinabol niya. Kumuha ng—di binaril siya. Lalaban ‘yan kasi ‘yang mga ‘yan, sira na ulo talaga ‘yan. Kaya ‘yung sabi nila, nakita na sprawl there with a gun beside a body and they think that is planted, it’s machinations of you know, evidence.\\n Sinasabi ko sa inyo. Davao experience. Lumalaban ‘yan. Kasi constant use of shabu will shrink your brain. Kaya talaga, bumubunot ng baril ‘yan.\\n Now, I said I’m losing two policemen a day, either police or military man. Ayaw maniwala, ito namang mga gago, genocide, genocide. Tang-ina. Paka-bobo naman nitong mga putang-inang ‘to. Is it live? ‘Di mas mabuti. Ulitin ko: Napakabobo naman ninyo, kayong mga putang-ina kayo.\\n Why are you asking about—eh ‘di si De Lima, pati ‘yung mga UN rapporteur. Meron, legitimate encounters, we will, I will assume full responsibility. We will explain. Nandyan ‘yung mga papel na pinadala ko. Sabi ko: Ipadala ninyo ‘yung mga—babasahin ko. The papers are with me. I’m reviewing it.\\nSabi ko ‘yung mga, on the spot, and I will compare it with the affidavits. I am studying it every night. Tingnan ko kung may mga salvage-salvage.\\nPero ‘yung pinatay na hindi natin—binalot ng mga sako. Binalot ng plastik. The police I assure you, would not waste their time on that.\\n So kung pati ba naman ‘yan isali ninyo na wala akong kamuwang-muwang, pakisali na lang po sa namatay ng lahat diyan sa punerarya, pati ‘yung may mga cancer, isali na lang ninyo, may mga diabetes, may mga—kasi ‘yung lahat na nakita ninyong patay. Binibilang ninyo sa akin. Baka ‘yung gusto ninyo, ‘yung taga-Davao dito. Magbilang ako sa punerarya.\\n Lahat na. Lahat ng patay. Bakit lang ‘yang binabalot ng mga sako? Because the accusation itself is very stupid. It assumes right away na ‘yung may patay diyan. Gobyerno ang pumatay. When as a matter of fact, as early, as kuwan, sabi ko mag-drama na tayo. We sow intrigue. Hulihin mo ito. Sabihin mo siya, siya ang may courier. Tapos ito, sabihin mo, ito siya ang nagturo. Kung magpatayan ‘yan sila, hayaan mo muna. Let them kill each other. After that, papasok tayo.\\nWe are not prohibited from using that kind of methodology or modality or what’s the term? 1,000? Sira-ulo 1,600. ‘Di naubusan na kami ng bala niyan. Papakialam naman ‘yang binalot ng plaster? And to think that there are—Hoy, De Lima. Makinig ka. Putang-ina ka. 3 million addicts in this country. Hoy, UN. …(dialect)…\\n There are now, even those who surrendered, 600,000. You think it’s a joke? It’s a joke for you to tell me about human rights. Come here and solve the problem yourself.\\n I will fund you. I will pay your, even your, bibili ako pati ‘yung toilet paper mo. Gago kayo. ‘Wag kayong magsalita nang salita diyan. May problema ako dito. 600,000 tapos ganon kayo magsalita.\\n De Lima, you are finished. Tapos ka na. Sunod election—by the way, you look nice. Fighter talaga. Fighter talaga.\\nQ :\\xa0Sir—\\nPRRD :\\xa0Depensa ka kay De Lima?\\n Q: Good evening po. May we know if you have a confirmation already of this report that a kidnap victim was beheaded in Sulu this afternoon?\\n PRESIDENT DUTERTE:\\xa0Is that the other one? ‘Yung Norwegian, is that the one?\\nQ :\\xa0No.\\nPRRD :\\xa0Well, if that’s the one then I would accuse now the Abu Sayyaf of utter bad faith. Binayaran na ‘yun sila, 50,000, they were adding—Ano?\\n Q: This is the 18-year-old.\\n PRESIDENT DUTERTE:\\xa0Babae, lalaki? Ah ‘yung bata?\\n Q: Lalaki.\\n PRESIDENT DUTERTE:\\xa0That’s why, I’m sending the troops there and tell them to destroy there. My orders to the Police and to the Armed Forces against all enemies of the State: Seek out. Seek them out in their lairs whatever and destroy them. Ang mga droga, destroy them. Ang mga Abu Sayyaf, destroy them. Period.\\n Napakaano naman nila. Diyan ako nawalaan ng bilib sa inyo. Pasalamat ako when I won by landslide sa ano. Alam naman ninyo kung ano. I have this little connection by blood with you. But you know, nawawala talaga ako ng bilib sa inyo.\\n Although hindi ako Tausug. More of the Maranao side. But, ‘di ako bilib sa inyo.\\n Q :\\xa0How will this war against the Abu Sayyaf be any different from the previous administrations, which also by the way, waged wars against the Abu Sayyaf?\\n PRESIDENT DUTERTE:\\xa0I said, I’ll be harsh. But, that is just a campaign, a campaign. Go out and destroy them. So patay kung ano ‘yan. ‘Wag na kayo magtanong ng human rights. Don’t bother to think. Wala akong panahon magsalita—even sa drugs. 3 million—destroying my country. Mister—sino ‘yang putang-inang ‘yan? Anong pangalan ng Amerikano na nagsasalita? Hoy, gago ka. Drug—or the drugs, drug is destroying my country. Do not fuck with me today.'"
      ]
     },
     "execution_count": 263,
     "metadata": {},
     "output_type": "execute_result"
    }
   ],
   "source": [
    "txt = get_txt_html(html)\n",
    "txt"
   ]
  },
  {
   "cell_type": "code",
   "execution_count": 266,
   "metadata": {},
   "outputs": [],
   "source": [
    "lt_others = ['Q:', 'PRRD', 'Q']\n",
    "cleaned_txt = get_duterte_part_not_q(txt, lt_others)\n",
    "df.loc[349, 'transcript'] = cleaned_txt"
   ]
  },
  {
   "cell_type": "code",
   "execution_count": 264,
   "metadata": {},
   "outputs": [],
   "source": [
    "def get_duterte_part_not_q(transcript, others):\n",
    "    lt_names= ['PRESIDENT RODRIGO DUTERTE:', 'PRESIDENT DUTERTE:', 'PRESIDENT RODRIGO ROA DUTERTE:', 'DUTERTE:', 'PRES. DUTERTE: ']\n",
    "\n",
    "    lt_trans = transcript.replace('\\n', ' ').split(' ')\n",
    "\n",
    "    full_txt = ''\n",
    "    isDuterte = True\n",
    "    for word in lt_trans:\n",
    "        if ':' in word or 'Q' in word or 'PRRD' in word:\n",
    "#             print(word)\n",
    "            if any(nm in word for nm in lt_names):\n",
    "                isDuterte = True\n",
    "                full_txt += '\\n'\n",
    "            elif any(nm in word.strip() for nm in others):\n",
    "                isDuterte = False\n",
    "            else:\n",
    "                pass\n",
    "\n",
    "        if isDuterte:\n",
    "            full_txt = full_txt + ' ' + word\n",
    "    return full_txt"
   ]
  },
  {
   "cell_type": "code",
   "execution_count": 274,
   "metadata": {},
   "outputs": [],
   "source": [
    "with open('semi_cleaned_df.pkl', 'wb') as fl:\n",
    "    pkl.dump(df, fl)"
   ]
  }
 ],
 "metadata": {
  "kernelspec": {
   "display_name": "data_science_venv_2",
   "language": "python",
   "name": "data_science_venv_2"
  },
  "language_info": {
   "codemirror_mode": {
    "name": "ipython",
    "version": 3
   },
   "file_extension": ".py",
   "mimetype": "text/x-python",
   "name": "python",
   "nbconvert_exporter": "python",
   "pygments_lexer": "ipython3",
   "version": "3.7.7"
  }
 },
 "nbformat": 4,
 "nbformat_minor": 4
}
