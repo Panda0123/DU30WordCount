{
 "cells": [
  {
   "cell_type": "code",
   "execution_count": 1,
   "metadata": {},
   "outputs": [],
   "source": [
    "import numpy as np\n",
    "import pandas as pd\n",
    "import pickle as pkl\n",
    "from pdfminer.high_level import extract_text\n",
    "import os"
   ]
  },
  {
   "cell_type": "markdown",
   "metadata": {},
   "source": [
    ">We'll load the information"
   ]
  },
  {
   "cell_type": "code",
   "execution_count": 889,
   "metadata": {},
   "outputs": [],
   "source": [
    "with open('dictionary_speeches_2.pkl', 'rb') as fl:\n",
    "    information = pkl.load(fl)"
   ]
  },
  {
   "cell_type": "code",
   "execution_count": 891,
   "metadata": {
    "scrolled": true
   },
   "outputs": [
    {
     "data": {
      "text/plain": [
       "417"
      ]
     },
     "execution_count": 891,
     "metadata": {},
     "output_type": "execute_result"
    }
   ],
   "source": [
    "len(information.keys())"
   ]
  },
  {
   "cell_type": "markdown",
   "metadata": {},
   "source": [
    ">Seems like we loaded everthing"
   ]
  },
  {
   "cell_type": "markdown",
   "metadata": {},
   "source": [
    "# Let's load load the PDFs"
   ]
  },
  {
   "cell_type": "code",
   "execution_count": 892,
   "metadata": {},
   "outputs": [
    {
     "data": {
      "text/plain": [
       "dict_keys(['April 02, 2018', 'April 03, 2018', 'April 05, 2018', 'April 05, 2018_2', 'April 09, 2018', 'April 10, 2018', 'April 10, 2018_2', 'April 10, 2018_3', 'April 12, 2018', 'April 13, 2018', 'April 15, 2018', 'April 17, 2018', 'April 17, 2018_2', 'April 18, 2018', 'April 19, 2018', 'April 21, 2018', 'April 26, 2018', 'April 28, 2018', 'April 28, 2018_2', 'August 17, 2017', 'August 28, 2017_2', 'August 29, 2017', 'February 01, 2018', 'February 06, 2018', 'February 06, 2018_2', 'February 07, 2018', 'February 09, 2018', 'February 09, 2018_2', 'February 12, 2018', 'February 12, 2018_2', 'February 13, 2018', 'February 13, 2018_2', 'February 13, 2018_3', 'February 19, 2018', 'February 20, 2018', 'February 21, 2018', 'February 22, 2018', 'February 22, 2018_2', 'February 26, 2018', 'February 28, 2018', 'February 28, 2018_2', 'July 20, 2017', 'July 24, 2017', 'July 25, 2017', 'March 01, 2018', 'March 06, 2018', 'March 07, 2018', 'March 07, 2018_2', 'March 07, 2018_3', 'March 11, 2018', 'March 11, 2018_2', 'March 14, 2018', 'March 18, 2018', 'March 20, 2018', 'March 20, 2018_2', 'March 21, 2018', 'March 21, 2018_2', 'March 23, 2018', 'May 01, 2018', 'May 02, 2018', 'May 04, 2018', 'May 05, 2018', 'May 08, 2018', 'May 09, 2018', 'May 11, 2018', 'May 15, 2018', 'May 16, 2018', 'May 16, 2018_2', 'May 16, 2018_3', 'May 16, 2018_4', 'May 16, 2018_5', 'May 19, 2018', 'May 19, 2018_2', 'May 19, 2018_3', 'May 19, 2018_4', 'November 07, 2017', 'November 07, 2017_2', 'November 08, 2017', 'November 09, 2017', 'November 13, 2017', 'November 13, 2017_2', 'November 14, 2017', 'November 21, 2017', 'November 21, 2017_2', 'November 21, 2017_3', 'November 23, 2017', 'October 31, 2017', 'October 31, 2017_2', 'September 01, 2017', 'September 03, 2017', 'September 05, 2017', 'September 06, 2017', 'September 06, 2017_2', 'September 08, 2017', 'September 09, 2017', 'September 09, 2017_2', 'September 21, 2017', 'September 22, 2017', 'September 28, 2017'])"
      ]
     },
     "execution_count": 892,
     "metadata": {},
     "output_type": "execute_result"
    }
   ],
   "source": [
    "lt_fl = os.listdir('duterte_pdf2')\n",
    "transcript_dict = {}\n",
    "\n",
    "for fl in lt_fl:\n",
    "    with open(f'duterte_pdf2\\{fl}', 'rb'):\n",
    "        date = fl[:-4]\n",
    "        transcript_dict[date] = extract_text(f'duterte_pdf2\\\\{fl}')\n",
    "transcript_dict.keys()"
   ]
  },
  {
   "cell_type": "code",
   "execution_count": 893,
   "metadata": {
    "scrolled": false
   },
   "outputs": [
    {
     "data": {
      "text/plain": [
       "99"
      ]
     },
     "execution_count": 893,
     "metadata": {},
     "output_type": "execute_result"
    }
   ],
   "source": [
    "len(transcript_dict.keys())"
   ]
  },
  {
   "cell_type": "markdown",
   "metadata": {},
   "source": [
    ">So we loaded everything\n",
    "\n",
    ">Like I did before I'm going to check if they contain the pattern I discussed in (put section number)"
   ]
  },
  {
   "cell_type": "code",
   "execution_count": 2,
   "metadata": {},
   "outputs": [
    {
     "ename": "NameError",
     "evalue": "name 'transcript_dict' is not defined",
     "output_type": "error",
     "traceback": [
      "\u001b[1;31m---------------------------------------------------------------------------\u001b[0m",
      "\u001b[1;31mNameError\u001b[0m                                 Traceback (most recent call last)",
      "\u001b[1;32m<ipython-input-2-3f9739661259>\u001b[0m in \u001b[0;36m<module>\u001b[1;34m\u001b[0m\n\u001b[0;32m      1\u001b[0m \u001b[1;32mimport\u001b[0m \u001b[0mre\u001b[0m\u001b[1;33m\u001b[0m\u001b[1;33m\u001b[0m\u001b[0m\n\u001b[0;32m      2\u001b[0m \u001b[0mregex\u001b[0m \u001b[1;33m=\u001b[0m \u001b[0mre\u001b[0m\u001b[1;33m.\u001b[0m\u001b[0mcompile\u001b[0m\u001b[1;33m(\u001b[0m\u001b[1;34m'\\\\[(.*?)\\]'\u001b[0m\u001b[1;33m)\u001b[0m\u001b[1;33m\u001b[0m\u001b[1;33m\u001b[0m\u001b[0m\n\u001b[1;32m----> 3\u001b[1;33m \u001b[1;32mfor\u001b[0m \u001b[0mdt\u001b[0m\u001b[1;33m,\u001b[0m \u001b[0mtrans\u001b[0m \u001b[1;32min\u001b[0m \u001b[0mzip\u001b[0m\u001b[1;33m(\u001b[0m\u001b[0mtranscript_dict\u001b[0m\u001b[1;33m.\u001b[0m\u001b[0mkeys\u001b[0m\u001b[1;33m(\u001b[0m\u001b[1;33m)\u001b[0m\u001b[1;33m,\u001b[0m \u001b[0mtranscript_dict\u001b[0m\u001b[1;33m.\u001b[0m\u001b[0mvalues\u001b[0m\u001b[1;33m(\u001b[0m\u001b[1;33m)\u001b[0m\u001b[1;33m)\u001b[0m\u001b[1;33m:\u001b[0m\u001b[1;33m\u001b[0m\u001b[1;33m\u001b[0m\u001b[0m\n\u001b[0m\u001b[0;32m      4\u001b[0m         \u001b[1;32mif\u001b[0m \u001b[1;32mnot\u001b[0m \u001b[0mre\u001b[0m\u001b[1;33m.\u001b[0m\u001b[0msearch\u001b[0m\u001b[1;33m(\u001b[0m\u001b[0mregex\u001b[0m\u001b[1;33m,\u001b[0m \u001b[0mtrans\u001b[0m\u001b[1;33m.\u001b[0m\u001b[0mreplace\u001b[0m\u001b[1;33m(\u001b[0m\u001b[1;34m'\\n'\u001b[0m\u001b[1;33m,\u001b[0m \u001b[1;34m''\u001b[0m\u001b[1;33m)\u001b[0m\u001b[1;33m)\u001b[0m\u001b[1;33m:\u001b[0m\u001b[1;33m\u001b[0m\u001b[1;33m\u001b[0m\u001b[0m\n\u001b[0;32m      5\u001b[0m             \u001b[0mprint\u001b[0m\u001b[1;33m(\u001b[0m\u001b[0mdt\u001b[0m\u001b[1;33m)\u001b[0m\u001b[1;33m\u001b[0m\u001b[1;33m\u001b[0m\u001b[0m\n",
      "\u001b[1;31mNameError\u001b[0m: name 'transcript_dict' is not defined"
     ]
    }
   ],
   "source": [
    "import re\n",
    "regex = re.compile('\\\\[(.*?)\\]')\n",
    "for dt, trans in zip(transcript_dict.keys(), transcript_dict.values()):\n",
    "        if not re.search(regex, trans.replace('\\n', '')):\n",
    "            print(dt)"
   ]
  },
  {
   "cell_type": "markdown",
   "metadata": {},
   "source": [
    ">So all of them has the pattern\n",
    "\n",
    ">Let's check which pdf contains dialogue of another person (same procedure we did at put section number)"
   ]
  },
  {
   "cell_type": "code",
   "execution_count": 899,
   "metadata": {},
   "outputs": [],
   "source": [
    "lt_names= ['PRESIDENT RODRIGO DUTERTE:', 'PRESIDENT DUTERTE:', 'PRESIDENT RODRIGO ROA DUTERTE:']"
   ]
  },
  {
   "cell_type": "code",
   "execution_count": 900,
   "metadata": {},
   "outputs": [
    {
     "data": {
      "text/plain": [
       "['April 09, 2018',\n",
       " 'April 13, 2018',\n",
       " 'February 09, 2018_2',\n",
       " 'February 22, 2018_2',\n",
       " 'February 28, 2018',\n",
       " 'May 16, 2018',\n",
       " 'May 16, 2018_2',\n",
       " 'May 16, 2018_3',\n",
       " 'November 08, 2017',\n",
       " 'November 09, 2017',\n",
       " 'November 13, 2017',\n",
       " 'November 14, 2017',\n",
       " 'October 31, 2017',\n",
       " 'September 03, 2017',\n",
       " 'September 05, 2017',\n",
       " 'September 09, 2017']"
      ]
     },
     "execution_count": 900,
     "metadata": {},
     "output_type": "execute_result"
    }
   ],
   "source": [
    "lt_contain_convo = []\n",
    "for dt, trans in zip(transcript_dict.keys(), transcript_dict.values()):\n",
    "    if any(nm in trans for nm in lt_names):\n",
    "        lt_contain_convo.append(dt)\n",
    "lt_contain_convo"
   ]
  },
  {
   "cell_type": "markdown",
   "metadata": {},
   "source": [
    ">These are the pdfs that contains dialogue of another person. I used <a href='https://pdf2docx.com/'>pdf2docx</a> to convert them to docx using  ro be processed later on.\n",
    "\n",
    ">I'm just going to store them to another file"
   ]
  },
  {
   "cell_type": "code",
   "execution_count": 55,
   "metadata": {},
   "outputs": [],
   "source": [
    "import shutil\n",
    "\n",
    "for fl in lt_contain_convo:\n",
    "    shutil.copy(f'duterte_pdf2\\\\{fl}.pdf', f'duterte_docx2\\\\{fl}.pdf')"
   ]
  },
  {
   "cell_type": "markdown",
   "metadata": {},
   "source": [
    ">Now I'm going to scrape only Presiden Duterte's dialogue. Some pdf actually contain the location of the event so I'm going to scrape these also."
   ]
  },
  {
   "cell_type": "code",
   "execution_count": 907,
   "metadata": {
    "scrolled": false
   },
   "outputs": [],
   "source": [
    "import docx\n",
    "\n",
    "loc_trans_docx = {}\n",
    "\n",
    "for fl in lt_contain_convo:\n",
    "    \n",
    "    encountered = False\n",
    "    isDuterte = True\n",
    "    trans = []\n",
    "    \n",
    "    doc = docx.Document(f'duterte_docx2\\\\{fl}.docx')\n",
    "    \n",
    "    for paragraph in doc.paragraphs:\n",
    "        if encountered:\n",
    "            for run in paragraph.runs:\n",
    "                # if the text is bold we ask if it is a name of duterte or not\n",
    "                 if run.bold:\n",
    "                    if any(nm in paragraph.text for nm in lt_names):\n",
    "                                isDuterte = True\n",
    "                    else:\n",
    "                        isDuterte = False\n",
    "                        \n",
    "        #we'll only include President Duterte's dialogue in the list\n",
    "        if isDuterte and encountered:\n",
    "            if paragraph.text:\n",
    "                trans.append(paragraph.text)\n",
    "\n",
    "\n",
    "        #if we encounter the pattern\n",
    "        if re.search(regex, paragraph.text.replace('\\n', '')) and not encountered:\n",
    "            encountered = True\n",
    "            #we'll extract the location\n",
    "            pattern = paragraph.text\n",
    "            separator = pattern.find('|')\n",
    "            loc = pattern[1:separator]\n",
    "            if 'Delivered at' in loc:\n",
    "                loc = loc[len('Delivered at'):].strip()\n",
    "            \n",
    "    \n",
    "    single_str = ' '.join(trans)\n",
    "    \n",
    "    #remove duterte's name\n",
    "    for nm in lt_names:\n",
    "        single_str = single_str.replace(nm, ' ')\n",
    "        \n",
    "    loc_trans_docx[fl] = {'location':loc, 'transcript': single_str}"
   ]
  },
  {
   "cell_type": "code",
   "execution_count": 908,
   "metadata": {},
   "outputs": [
    {
     "data": {
      "text/plain": [
       "16"
      ]
     },
     "execution_count": 908,
     "metadata": {},
     "output_type": "execute_result"
    }
   ],
   "source": [
    "len(loc_trans_docx)"
   ]
  },
  {
   "cell_type": "markdown",
   "metadata": {},
   "source": [
    ">Now we'll scrape dialogue of President Duterte from speeches that has only his dialogue."
   ]
  },
  {
   "cell_type": "code",
   "execution_count": 909,
   "metadata": {},
   "outputs": [],
   "source": [
    "loc_trans_pdf = {}\n",
    "for dt, transcript in zip(transcript_dict.keys(), transcript_dict.values()):\n",
    "    if dt not in loc_trans_docx.keys():\n",
    "        cleaned = transcript.replace('\\n', ' ')\n",
    "        try:\n",
    "            span = re.search(regex, cleaned).span()\n",
    "        except:\n",
    "            print(dt)\n",
    "\n",
    "        #we'll extract the location\n",
    "        pattern = cleaned[span[0]:span[1]]\n",
    "        separator = pattern.find('|')\n",
    "        loc = pattern[1:separator]\n",
    "        if 'Delivered at' in loc:\n",
    "            loc = loc[len('Delivered at'):].strip()\n",
    "\n",
    "        transcript = cleaned[span[1]:].strip()\n",
    "\n",
    "        loc_trans_pdf[dt] = {'location':loc, 'date': dt, 'transcript':transcript,}"
   ]
  },
  {
   "cell_type": "code",
   "execution_count": 910,
   "metadata": {},
   "outputs": [
    {
     "data": {
      "text/plain": [
       "83"
      ]
     },
     "execution_count": 910,
     "metadata": {},
     "output_type": "execute_result"
    }
   ],
   "source": [
    "len(loc_trans_pdf)"
   ]
  },
  {
   "cell_type": "markdown",
   "metadata": {},
   "source": [
    ">Now we're going to merge the two dictionaries."
   ]
  },
  {
   "cell_type": "code",
   "execution_count": 911,
   "metadata": {},
   "outputs": [
    {
     "data": {
      "text/plain": [
       "99"
      ]
     },
     "execution_count": 911,
     "metadata": {},
     "output_type": "execute_result"
    }
   ],
   "source": [
    "loc_trans_pdf.update(loc_trans_docx)\n",
    "len(loc_trans_pdf)"
   ]
  },
  {
   "cell_type": "markdown",
   "metadata": {},
   "source": [
    ">Let's update the *transcript* of these speeches in the dictionary *information*. Let's check first if all keys from these *loc_trans_df* exist in *information*."
   ]
  },
  {
   "cell_type": "code",
   "execution_count": 912,
   "metadata": {},
   "outputs": [],
   "source": [
    "for key in loc_trans_pdf.keys():\n",
    "    if key not in information.keys():\n",
    "        print(key)"
   ]
  },
  {
   "cell_type": "markdown",
   "metadata": {},
   "source": [
    ">Let's check if the *transcripts* of the pdf files in *information* are empty."
   ]
  },
  {
   "cell_type": "code",
   "execution_count": 913,
   "metadata": {},
   "outputs": [],
   "source": [
    "for key in loc_trans_pdf.keys():\n",
    "    if key in information.keys():\n",
    "        if type(information[key]['transcript']) != float:\n",
    "            print(information[key])"
   ]
  },
  {
   "cell_type": "markdown",
   "metadata": {},
   "source": [
    ">Looks like they are all empty so let's add the transcripts for those speeches with empty *transcripts* in *information*."
   ]
  },
  {
   "cell_type": "code",
   "execution_count": 914,
   "metadata": {
    "scrolled": false
   },
   "outputs": [],
   "source": [
    "for key in loc_trans_pdf.keys():\n",
    "    information[key]['transcript'] = loc_trans_pdf[key]['transcript']\n",
    "    information[key]['location'] = loc_trans_pdf[key]['location']    "
   ]
  },
  {
   "cell_type": "code",
   "execution_count": 915,
   "metadata": {},
   "outputs": [
    {
     "data": {
      "text/plain": [
       "417"
      ]
     },
     "execution_count": 915,
     "metadata": {},
     "output_type": "execute_result"
    }
   ],
   "source": [
    "len(information.keys())"
   ]
  },
  {
   "cell_type": "markdown",
   "metadata": {},
   "source": [
    ">Now that we have everything let's turn it into dataframe"
   ]
  },
  {
   "cell_type": "code",
   "execution_count": 916,
   "metadata": {
    "scrolled": false
   },
   "outputs": [
    {
     "data": {
      "text/html": [
       "<div>\n",
       "<style scoped>\n",
       "    .dataframe tbody tr th:only-of-type {\n",
       "        vertical-align: middle;\n",
       "    }\n",
       "\n",
       "    .dataframe tbody tr th {\n",
       "        vertical-align: top;\n",
       "    }\n",
       "\n",
       "    .dataframe thead th {\n",
       "        text-align: right;\n",
       "    }\n",
       "</style>\n",
       "<table border=\"1\" class=\"dataframe\">\n",
       "  <thead>\n",
       "    <tr style=\"text-align: right;\">\n",
       "      <th></th>\n",
       "      <th>title</th>\n",
       "      <th>date</th>\n",
       "      <th>location</th>\n",
       "      <th>event</th>\n",
       "      <th>transcript</th>\n",
       "      <th>url</th>\n",
       "    </tr>\n",
       "  </thead>\n",
       "  <tbody>\n",
       "    <tr>\n",
       "      <th>June 30, 2016</th>\n",
       "      <td>President Rodrigo Roa Duterte’s Speech during ...</td>\n",
       "      <td>June 30, 2016</td>\n",
       "      <td>Rizal Ceremonial Hall, Malacañang Palace</td>\n",
       "      <td>NaN</td>\n",
       "      <td>President Fidel Ramos, sir, salamat po sa tulo...</td>\n",
       "      <td>http://pcoo.gov.ph//june-30-2016-president-rod...</td>\n",
       "    </tr>\n",
       "    <tr>\n",
       "      <th>July 31, 2016</th>\n",
       "      <td>Remarks of President Rodrigo Roa Duterte durin...</td>\n",
       "      <td>July 31, 2016</td>\n",
       "      <td>PSG Grandstand, Malacañang Park, Manila</td>\n",
       "      <td>NaN</td>\n",
       "      <td>Let me begin by addressing myself to you throu...</td>\n",
       "      <td>http://pcoo.gov.ph//july-31-2016-remarks-of-pr...</td>\n",
       "    </tr>\n",
       "    <tr>\n",
       "      <th>July 29, 2016</th>\n",
       "      <td>Speech of President Rodrigo Roa Duterte during...</td>\n",
       "      <td>July 29, 2016</td>\n",
       "      <td>Purok 35, Phase 3, Acasia St., Bgy. 76-A, Dava...</td>\n",
       "      <td>NaN</td>\n",
       "      <td>Maayong gabi-I kaninyong tanan. (audience resp...</td>\n",
       "      <td>http://pcoo.gov.ph//july-29-2016-speech-of-pre...</td>\n",
       "    </tr>\n",
       "    <tr>\n",
       "      <th>July 29, 2016_2</th>\n",
       "      <td>Speech of President Rodrigo Roa Duterte during...</td>\n",
       "      <td>July 29, 2016</td>\n",
       "      <td>60th IB headquarters, Asuncion, Daval del Norte</td>\n",
       "      <td>NaN</td>\n",
       "      <td>I’d like to address myself to the Filipino peo...</td>\n",
       "      <td>http://pcoo.gov.ph//july-29-2016-speech-of-pre...</td>\n",
       "    </tr>\n",
       "    <tr>\n",
       "      <th>July 28, 2016</th>\n",
       "      <td>Speech of President Rodrigo Roa Duterte during...</td>\n",
       "      <td>July 28, 2016</td>\n",
       "      <td>Lucena City, Quezon Province</td>\n",
       "      <td>NaN</td>\n",
       "      <td>Secretary Delfin Lorenzana; Secretary Arthur T...</td>\n",
       "      <td>http://pcoo.gov.ph//july-28-2016-speech-of-pre...</td>\n",
       "    </tr>\n",
       "    <tr>\n",
       "      <th>...</th>\n",
       "      <td>...</td>\n",
       "      <td>...</td>\n",
       "      <td>...</td>\n",
       "      <td>...</td>\n",
       "      <td>...</td>\n",
       "      <td>...</td>\n",
       "    </tr>\n",
       "    <tr>\n",
       "      <th>May 08, 2018</th>\n",
       "      <td>Speech of President Rodrigo Roa Duterte during...</td>\n",
       "      <td>May 08, 2018</td>\n",
       "      <td>the Rizal Hall, Malacañan Palace</td>\n",
       "      <td>NaN</td>\n",
       "      <td>Maybe after my prepared speech, this is just a...</td>\n",
       "      <td>http://pcoo.gov.ph/wp-content/uploads/2018/05/...</td>\n",
       "    </tr>\n",
       "    <tr>\n",
       "      <th>May 05, 2018</th>\n",
       "      <td>Speech of President Rodrigo Roa Duterte during...</td>\n",
       "      <td>May 05, 2018</td>\n",
       "      <td>the Isla Ballroom, EDSA Shangri-La, Mandaluyon...</td>\n",
       "      <td>NaN</td>\n",
       "      <td>Thank you. Kindly sit down.     I’d forego wit...</td>\n",
       "      <td>http://pcoo.gov.ph/wp-content/uploads/2018/05/...</td>\n",
       "    </tr>\n",
       "    <tr>\n",
       "      <th>May 04, 2018</th>\n",
       "      <td>Speech of President Rodrigo Roa Duterte during...</td>\n",
       "      <td>May 04, 2018</td>\n",
       "      <td>the SMX Convention Center, Davao City</td>\n",
       "      <td>NaN</td>\n",
       "      <td>Salamat po. Thank you for your courtesy. You m...</td>\n",
       "      <td>http://pcoo.gov.ph/wp-content/uploads/2018/05/...</td>\n",
       "    </tr>\n",
       "    <tr>\n",
       "      <th>May 02, 2018</th>\n",
       "      <td>Speech of President Rodrigo Roa Duterte during...</td>\n",
       "      <td>May 02, 2018</td>\n",
       "      <td>Liwasang Alfaro G. Aguirre, Mulanay, Quezon</td>\n",
       "      <td>NaN</td>\n",
       "      <td>Kindly sit down. Thank you for your courtesy. ...</td>\n",
       "      <td>http://pcoo.gov.ph/wp-content/uploads/2018/05/...</td>\n",
       "    </tr>\n",
       "    <tr>\n",
       "      <th>May 01, 2018</th>\n",
       "      <td>Speech of President Rodrigo Roa Duterte during...</td>\n",
       "      <td>May 01, 2018</td>\n",
       "      <td>IEC Convention Center of Cebu, Pope John Paul ...</td>\n",
       "      <td>NaN</td>\n",
       "      <td>Paglingkod lang, sige mo pakpak diha. (Please ...</td>\n",
       "      <td>http://pcoo.gov.ph/wp-content/uploads/2018/05/...</td>\n",
       "    </tr>\n",
       "  </tbody>\n",
       "</table>\n",
       "<p>417 rows × 6 columns</p>\n",
       "</div>"
      ],
      "text/plain": [
       "                                                             title  \\\n",
       "June 30, 2016    President Rodrigo Roa Duterte’s Speech during ...   \n",
       "July 31, 2016    Remarks of President Rodrigo Roa Duterte durin...   \n",
       "July 29, 2016    Speech of President Rodrigo Roa Duterte during...   \n",
       "July 29, 2016_2  Speech of President Rodrigo Roa Duterte during...   \n",
       "July 28, 2016    Speech of President Rodrigo Roa Duterte during...   \n",
       "...                                                            ...   \n",
       "May 08, 2018     Speech of President Rodrigo Roa Duterte during...   \n",
       "May 05, 2018     Speech of President Rodrigo Roa Duterte during...   \n",
       "May 04, 2018     Speech of President Rodrigo Roa Duterte during...   \n",
       "May 02, 2018     Speech of President Rodrigo Roa Duterte during...   \n",
       "May 01, 2018     Speech of President Rodrigo Roa Duterte during...   \n",
       "\n",
       "                          date  \\\n",
       "June 30, 2016    June 30, 2016   \n",
       "July 31, 2016    July 31, 2016   \n",
       "July 29, 2016    July 29, 2016   \n",
       "July 29, 2016_2  July 29, 2016   \n",
       "July 28, 2016    July 28, 2016   \n",
       "...                        ...   \n",
       "May 08, 2018      May 08, 2018   \n",
       "May 05, 2018      May 05, 2018   \n",
       "May 04, 2018      May 04, 2018   \n",
       "May 02, 2018      May 02, 2018   \n",
       "May 01, 2018      May 01, 2018   \n",
       "\n",
       "                                                          location event  \\\n",
       "June 30, 2016             Rizal Ceremonial Hall, Malacañang Palace   NaN   \n",
       "July 31, 2016              PSG Grandstand, Malacañang Park, Manila   NaN   \n",
       "July 29, 2016    Purok 35, Phase 3, Acasia St., Bgy. 76-A, Dava...   NaN   \n",
       "July 29, 2016_2    60th IB headquarters, Asuncion, Daval del Norte   NaN   \n",
       "July 28, 2016                         Lucena City, Quezon Province   NaN   \n",
       "...                                                            ...   ...   \n",
       "May 08, 2018                      the Rizal Hall, Malacañan Palace   NaN   \n",
       "May 05, 2018     the Isla Ballroom, EDSA Shangri-La, Mandaluyon...   NaN   \n",
       "May 04, 2018                 the SMX Convention Center, Davao City   NaN   \n",
       "May 02, 2018           Liwasang Alfaro G. Aguirre, Mulanay, Quezon   NaN   \n",
       "May 01, 2018     IEC Convention Center of Cebu, Pope John Paul ...   NaN   \n",
       "\n",
       "                                                        transcript  \\\n",
       "June 30, 2016    President Fidel Ramos, sir, salamat po sa tulo...   \n",
       "July 31, 2016    Let me begin by addressing myself to you throu...   \n",
       "July 29, 2016    Maayong gabi-I kaninyong tanan. (audience resp...   \n",
       "July 29, 2016_2  I’d like to address myself to the Filipino peo...   \n",
       "July 28, 2016    Secretary Delfin Lorenzana; Secretary Arthur T...   \n",
       "...                                                            ...   \n",
       "May 08, 2018     Maybe after my prepared speech, this is just a...   \n",
       "May 05, 2018     Thank you. Kindly sit down.     I’d forego wit...   \n",
       "May 04, 2018     Salamat po. Thank you for your courtesy. You m...   \n",
       "May 02, 2018     Kindly sit down. Thank you for your courtesy. ...   \n",
       "May 01, 2018     Paglingkod lang, sige mo pakpak diha. (Please ...   \n",
       "\n",
       "                                                               url  \n",
       "June 30, 2016    http://pcoo.gov.ph//june-30-2016-president-rod...  \n",
       "July 31, 2016    http://pcoo.gov.ph//july-31-2016-remarks-of-pr...  \n",
       "July 29, 2016    http://pcoo.gov.ph//july-29-2016-speech-of-pre...  \n",
       "July 29, 2016_2  http://pcoo.gov.ph//july-29-2016-speech-of-pre...  \n",
       "July 28, 2016    http://pcoo.gov.ph//july-28-2016-speech-of-pre...  \n",
       "...                                                            ...  \n",
       "May 08, 2018     http://pcoo.gov.ph/wp-content/uploads/2018/05/...  \n",
       "May 05, 2018     http://pcoo.gov.ph/wp-content/uploads/2018/05/...  \n",
       "May 04, 2018     http://pcoo.gov.ph/wp-content/uploads/2018/05/...  \n",
       "May 02, 2018     http://pcoo.gov.ph/wp-content/uploads/2018/05/...  \n",
       "May 01, 2018     http://pcoo.gov.ph/wp-content/uploads/2018/05/...  \n",
       "\n",
       "[417 rows x 6 columns]"
      ]
     },
     "execution_count": 916,
     "metadata": {},
     "output_type": "execute_result"
    }
   ],
   "source": [
    "df_cur = pd.DataFrame(information).T\n",
    "df_cur"
   ]
  },
  {
   "cell_type": "markdown",
   "metadata": {},
   "source": [
    ">Let's load the dataframe from previous scraping"
   ]
  },
  {
   "cell_type": "code",
   "execution_count": 917,
   "metadata": {},
   "outputs": [],
   "source": [
    "df_prev = pd.read_csv('Duterte_Speech2.csv')"
   ]
  },
  {
   "cell_type": "code",
   "execution_count": 918,
   "metadata": {},
   "outputs": [
    {
     "data": {
      "text/html": [
       "<div>\n",
       "<style scoped>\n",
       "    .dataframe tbody tr th:only-of-type {\n",
       "        vertical-align: middle;\n",
       "    }\n",
       "\n",
       "    .dataframe tbody tr th {\n",
       "        vertical-align: top;\n",
       "    }\n",
       "\n",
       "    .dataframe thead th {\n",
       "        text-align: right;\n",
       "    }\n",
       "</style>\n",
       "<table border=\"1\" class=\"dataframe\">\n",
       "  <thead>\n",
       "    <tr style=\"text-align: right;\">\n",
       "      <th></th>\n",
       "      <th>date</th>\n",
       "      <th>title</th>\n",
       "      <th>url</th>\n",
       "      <th>event</th>\n",
       "      <th>location</th>\n",
       "      <th>transcript</th>\n",
       "    </tr>\n",
       "  </thead>\n",
       "  <tbody>\n",
       "    <tr>\n",
       "      <th>0</th>\n",
       "      <td>May 26, 2020</td>\n",
       "      <td>Excerpts from Speech of President Rodrigo Roa ...</td>\n",
       "      <td>https://pcoo.gov.ph/presidential-speech/excerp...</td>\n",
       "      <td>Meeting with Philippine Army (PA) and Philippi...</td>\n",
       "      <td>Malago Clubhouse, Malacañang Park, Manila</td>\n",
       "      <td>So ako pati si Bong during my mayorship d...</td>\n",
       "    </tr>\n",
       "    <tr>\n",
       "      <th>1</th>\n",
       "      <td>May 25, 2020</td>\n",
       "      <td>Talk to the People of President Rodrigo Roa Du...</td>\n",
       "      <td>https://pcoo.gov.ph/presidential-speech/talk-t...</td>\n",
       "      <td>On Coronavirus Disease 2019 (COVID-19)</td>\n",
       "      <td>Malago Clubhouse in Malacañang</td>\n",
       "      <td>PRESIDENT RODRIGO ROA DUTERTE: I remember dist...</td>\n",
       "    </tr>\n",
       "    <tr>\n",
       "      <th>2</th>\n",
       "      <td>May 22, 2020</td>\n",
       "      <td>Speech of President Rodrigo Roa Duterte during...</td>\n",
       "      <td>https://pcoo.gov.ph/presidential-speech/speech...</td>\n",
       "      <td>Commencement Exercsies of the Philippine Milit...</td>\n",
       "      <td>Malago Clubhouse, Malacañang Park, Manila</td>\n",
       "      <td>Kindly sit down. [May upuan sila? Okay.], Defe...</td>\n",
       "    </tr>\n",
       "    <tr>\n",
       "      <th>3</th>\n",
       "      <td>May 19, 2020</td>\n",
       "      <td>Talk to the People of President Rodrigo Roa Du...</td>\n",
       "      <td>https://pcoo.gov.ph/presidential-speech/talk-t...</td>\n",
       "      <td>On Coronavirus Disease 2019 (COVID-19)</td>\n",
       "      <td>Malago Clubhouse in Malacañang</td>\n",
       "      <td>PRESIDENT RODRIGO ROA DUTERTE: Good evening my...</td>\n",
       "    </tr>\n",
       "    <tr>\n",
       "      <th>4</th>\n",
       "      <td>May 12, 2020</td>\n",
       "      <td>Talk to the People of President Rodrigo Roa Du...</td>\n",
       "      <td>https://pcoo.gov.ph/presidential-speech/talk-t...</td>\n",
       "      <td>On Coronavirus Disease 2019 (COVID-19)</td>\n",
       "      <td>Malago Clubhouse in Malacañang</td>\n",
       "      <td>PRESIDENT DUTERTE: Sir, one question. Itong op...</td>\n",
       "    </tr>\n",
       "    <tr>\n",
       "      <th>...</th>\n",
       "      <td>...</td>\n",
       "      <td>...</td>\n",
       "      <td>...</td>\n",
       "      <td>...</td>\n",
       "      <td>...</td>\n",
       "      <td>...</td>\n",
       "    </tr>\n",
       "    <tr>\n",
       "      <th>311</th>\n",
       "      <td>April 3, 2018</td>\n",
       "      <td>Speech of President Rodrigo Roa Duterte during...</td>\n",
       "      <td>https://pcoo.gov.ph/presidential-speech/speech...</td>\n",
       "      <td>Inauguration of Lisap Bridge Project</td>\n",
       "      <td>Bongabong, Oriental Mindoro</td>\n",
       "      <td>Nagkahiyaan pa. Sige na. Kaya ‘pag mag-usap [...</td>\n",
       "    </tr>\n",
       "    <tr>\n",
       "      <th>312</th>\n",
       "      <td>April 2, 2018</td>\n",
       "      <td>Speech of President Rodrigo Roa Duterte during...</td>\n",
       "      <td>https://pcoo.gov.ph/presidential-speech/speech...</td>\n",
       "      <td>Distribution of Certificate of Land Ownership ...</td>\n",
       "      <td>Provincial Capitol Gymnasium, Isulan, Sultan K...</td>\n",
       "      <td>Kindly sit down. Salamat po sa courtesy n...</td>\n",
       "    </tr>\n",
       "    <tr>\n",
       "      <th>313</th>\n",
       "      <td>March 26, 2018</td>\n",
       "      <td>Speech Of President Rodrigo Roa Duterte during...</td>\n",
       "      <td>https://pcoo.gov.ph/presidential-speech/speech...</td>\n",
       "      <td>Handover of loose firearms and presentation of...</td>\n",
       "      <td>Multi-purpose Gym, Capitol, Patikul Sulu</td>\n",
       "      <td>Thank you for your courtesy. Kindly sit d...</td>\n",
       "    </tr>\n",
       "    <tr>\n",
       "      <th>314</th>\n",
       "      <td>March 23, 2018</td>\n",
       "      <td>Speech of President Rodrigo Roa Duterte during...</td>\n",
       "      <td>https://pcoo.gov.ph/presidential-speech/speech...</td>\n",
       "      <td>16th founding Anniversary of the Supreme Triba...</td>\n",
       "      <td>3rd Infantry Battalion Headquarters, Calinan, ...</td>\n",
       "      <td>Salamat. Panglingkod mo. Kanang... Una sa tan...</td>\n",
       "    </tr>\n",
       "    <tr>\n",
       "      <th>315</th>\n",
       "      <td>May 28, 2020</td>\n",
       "      <td>Talk to the People of President Rodrigo Roa Du...</td>\n",
       "      <td>https://pcoo.gov.ph/presidential-speech/talk-t...</td>\n",
       "      <td>Meeting on COVID-19 Concerns and Talk to the P...</td>\n",
       "      <td>Malacañang Golf (MALAGO) Clubhouse, Malacañang...</td>\n",
       "      <td>PRESIDENT RODRIGO ROA DUTERTE: Mga kababayan ...</td>\n",
       "    </tr>\n",
       "  </tbody>\n",
       "</table>\n",
       "<p>316 rows × 6 columns</p>\n",
       "</div>"
      ],
      "text/plain": [
       "               date                                              title  \\\n",
       "0      May 26, 2020  Excerpts from Speech of President Rodrigo Roa ...   \n",
       "1      May 25, 2020  Talk to the People of President Rodrigo Roa Du...   \n",
       "2      May 22, 2020  Speech of President Rodrigo Roa Duterte during...   \n",
       "3      May 19, 2020  Talk to the People of President Rodrigo Roa Du...   \n",
       "4      May 12, 2020  Talk to the People of President Rodrigo Roa Du...   \n",
       "..              ...                                                ...   \n",
       "311   April 3, 2018  Speech of President Rodrigo Roa Duterte during...   \n",
       "312   April 2, 2018  Speech of President Rodrigo Roa Duterte during...   \n",
       "313  March 26, 2018  Speech Of President Rodrigo Roa Duterte during...   \n",
       "314  March 23, 2018  Speech of President Rodrigo Roa Duterte during...   \n",
       "315    May 28, 2020  Talk to the People of President Rodrigo Roa Du...   \n",
       "\n",
       "                                                   url  \\\n",
       "0    https://pcoo.gov.ph/presidential-speech/excerp...   \n",
       "1    https://pcoo.gov.ph/presidential-speech/talk-t...   \n",
       "2    https://pcoo.gov.ph/presidential-speech/speech...   \n",
       "3    https://pcoo.gov.ph/presidential-speech/talk-t...   \n",
       "4    https://pcoo.gov.ph/presidential-speech/talk-t...   \n",
       "..                                                 ...   \n",
       "311  https://pcoo.gov.ph/presidential-speech/speech...   \n",
       "312  https://pcoo.gov.ph/presidential-speech/speech...   \n",
       "313  https://pcoo.gov.ph/presidential-speech/speech...   \n",
       "314  https://pcoo.gov.ph/presidential-speech/speech...   \n",
       "315  https://pcoo.gov.ph/presidential-speech/talk-t...   \n",
       "\n",
       "                                                 event  \\\n",
       "0    Meeting with Philippine Army (PA) and Philippi...   \n",
       "1               On Coronavirus Disease 2019 (COVID-19)   \n",
       "2    Commencement Exercsies of the Philippine Milit...   \n",
       "3               On Coronavirus Disease 2019 (COVID-19)   \n",
       "4               On Coronavirus Disease 2019 (COVID-19)   \n",
       "..                                                 ...   \n",
       "311               Inauguration of Lisap Bridge Project   \n",
       "312  Distribution of Certificate of Land Ownership ...   \n",
       "313  Handover of loose firearms and presentation of...   \n",
       "314  16th founding Anniversary of the Supreme Triba...   \n",
       "315  Meeting on COVID-19 Concerns and Talk to the P...   \n",
       "\n",
       "                                              location  \\\n",
       "0           Malago Clubhouse, Malacañang Park, Manila    \n",
       "1                       Malago Clubhouse in Malacañang   \n",
       "2           Malago Clubhouse, Malacañang Park, Manila    \n",
       "3                       Malago Clubhouse in Malacañang   \n",
       "4                       Malago Clubhouse in Malacañang   \n",
       "..                                                 ...   \n",
       "311                        Bongabong, Oriental Mindoro   \n",
       "312  Provincial Capitol Gymnasium, Isulan, Sultan K...   \n",
       "313          Multi-purpose Gym, Capitol, Patikul Sulu    \n",
       "314  3rd Infantry Battalion Headquarters, Calinan, ...   \n",
       "315  Malacañang Golf (MALAGO) Clubhouse, Malacañang...   \n",
       "\n",
       "                                            transcript  \n",
       "0         So ako pati si Bong during my mayorship d...  \n",
       "1    PRESIDENT RODRIGO ROA DUTERTE: I remember dist...  \n",
       "2    Kindly sit down. [May upuan sila? Okay.], Defe...  \n",
       "3    PRESIDENT RODRIGO ROA DUTERTE: Good evening my...  \n",
       "4    PRESIDENT DUTERTE: Sir, one question. Itong op...  \n",
       "..                                                 ...  \n",
       "311   Nagkahiyaan pa. Sige na. Kaya ‘pag mag-usap [...  \n",
       "312       Kindly sit down. Salamat po sa courtesy n...  \n",
       "313       Thank you for your courtesy. Kindly sit d...  \n",
       "314   Salamat. Panglingkod mo. Kanang... Una sa tan...  \n",
       "315   PRESIDENT RODRIGO ROA DUTERTE: Mga kababayan ...  \n",
       "\n",
       "[316 rows x 6 columns]"
      ]
     },
     "execution_count": 918,
     "metadata": {},
     "output_type": "execute_result"
    }
   ],
   "source": [
    "df_prev"
   ]
  },
  {
   "cell_type": "markdown",
   "metadata": {},
   "source": [
    ">Some speeches overlap between two dataframe, let's identify them"
   ]
  },
  {
   "cell_type": "code",
   "execution_count": 919,
   "metadata": {
    "scrolled": false
   },
   "outputs": [
    {
     "name": "stdout",
     "output_type": "stream",
     "text": [
      "May 19, 2018\n",
      "May 16, 2018\n",
      "May 15, 2018\n",
      "May 11, 2018\n",
      "April 28, 2018\n",
      "April 26, 2018\n",
      "April 21, 2018\n",
      "April 19, 2018\n",
      "April 18, 2018\n",
      "April 17, 2018\n",
      "April 15, 2018\n",
      "April 13, 2018\n",
      "April 12, 2018\n",
      "April 10, 2018\n",
      "March 23, 2018\n"
     ]
    }
   ],
   "source": [
    "exist_both = []\n",
    "for key in df_prev.date.tolist():\n",
    "    if any(df_cur.date.str.contains(key).tolist()):\n",
    "        print(key)\n",
    "        exist_both.append(key)"
   ]
  },
  {
   "cell_type": "markdown",
   "metadata": {},
   "source": [
    ">So these speeches exist in both dataframe. Since speeches in *df_prev* contains complete information than speeches in *df_cur* I'm gonna delete the duplicates in *df_cur*. While deleting tho I have to check which exact speech in *df_cur* does the speech corresponds to as there could be multiple speeches in that date."
   ]
  },
  {
   "cell_type": "code",
   "execution_count": 920,
   "metadata": {},
   "outputs": [],
   "source": [
    "import pickle as pkl\n",
    "with open('df_prev.pkl', 'wb') as fl:\n",
    "    pkl.dump(df_prev, fl)\n",
    "    \n",
    "with open('df_cur.pkl', 'wb') as fl:\n",
    "    pkl.dump(df_cur, fl)"
   ]
  },
  {
   "cell_type": "code",
   "execution_count": 921,
   "metadata": {},
   "outputs": [],
   "source": [
    "df_cur_2 = df_cur\n",
    "df_prev_2 = df_prev"
   ]
  },
  {
   "cell_type": "markdown",
   "metadata": {},
   "source": [
    "# if you want to load"
   ]
  },
  {
   "cell_type": "code",
   "execution_count": 927,
   "metadata": {},
   "outputs": [],
   "source": [
    "import pickle as pkl\n",
    "with open('df_prev.pkl', 'rb') as fl:\n",
    "    df_prev = pkl.load(fl)\n",
    "    \n",
    "with open('df_cur.pkl', 'rb') as fl:\n",
    "    df_cur = pkl.load(fl)"
   ]
  },
  {
   "cell_type": "code",
   "execution_count": 925,
   "metadata": {},
   "outputs": [
    {
     "data": {
      "text/plain": [
       "['May 19, 2018',\n",
       " 'May 16, 2018',\n",
       " 'May 15, 2018',\n",
       " 'May 11, 2018',\n",
       " 'April 28, 2018',\n",
       " 'April 26, 2018',\n",
       " 'April 21, 2018',\n",
       " 'April 19, 2018',\n",
       " 'April 18, 2018',\n",
       " 'April 17, 2018',\n",
       " 'April 15, 2018',\n",
       " 'April 13, 2018',\n",
       " 'April 12, 2018',\n",
       " 'April 10, 2018',\n",
       " 'March 23, 2018']"
      ]
     },
     "execution_count": 925,
     "metadata": {},
     "output_type": "execute_result"
    }
   ],
   "source": [
    "exist_both"
   ]
  },
  {
   "cell_type": "code",
   "execution_count": 933,
   "metadata": {},
   "outputs": [
    {
     "data": {
      "text/plain": [
       "array(['Speech of President Roa Duterte during the Ceremonial Opening of Oil and Gas Production of the Alegria Oilfield Polyard-3 Well Site (with translation)'],\n",
       "      dtype=object)"
      ]
     },
     "execution_count": 933,
     "metadata": {},
     "output_type": "execute_result"
    }
   ],
   "source": [
    "df_prev[df_prev.date == 'May 19, 2018'].title.values"
   ]
  },
  {
   "cell_type": "code",
   "execution_count": 937,
   "metadata": {},
   "outputs": [
    {
     "data": {
      "text/plain": [
       "'Speech of President Rodrigo Roa Duterte during the Ceremonial Opening of Oil and Gas Production of the Alegria Oilfield Polyard-3 Well Site (with translation)'"
      ]
     },
     "execution_count": 937,
     "metadata": {},
     "output_type": "execute_result"
    }
   ],
   "source": [
    "df_cur[df_cur.date.str.contains('May 19, 2018')].title.values[3]"
   ]
  },
  {
   "cell_type": "code",
   "execution_count": 938,
   "metadata": {},
   "outputs": [],
   "source": [
    "df_prev.loc[df_prev.date == 'May 19, 2018', 'title'] = 'Speech of President Rodrigo Roa Duterte during the Ceremonial Opening of Oil and Gas Production of the Alegria Oilfield Polyard-3 Well Site (with translation)'"
   ]
  },
  {
   "cell_type": "markdown",
   "metadata": {},
   "source": [
    ">While running the block of code below I got an error because the two dataframe has date for May 19, 2018 but none in *df_cur* has the same title. Turns outs the one in *df_prev* lack the word Rodrigo for the full nname of President Duterte(see output of the two cells above). I have to a manually the on one in *df_prev*."
   ]
  },
  {
   "cell_type": "code",
   "execution_count": 940,
   "metadata": {},
   "outputs": [],
   "source": [
    "for dt in exist_both:\n",
    "    temp_df = df_cur[df_cur.date.str.contains(dt)]\n",
    "    if temp_df.shape[0] > 1:\n",
    "        #check which speech in df_cur it correspond to\n",
    "        actual = temp_df[temp_df.title == df_prev[df_prev.date == dt].title.values[0]]\n",
    "        actual_date = actual.index.values\n",
    "        #delete in df_cur\n",
    "        df_cur.drop(index=actual_date, inplace=True)\n",
    "        \n",
    "        #change date in df_prev\n",
    "        df_prev.loc[df_prev.date == dt, 'date'] = actual_date\n",
    "    else:\n",
    "        df_cur.drop(index=dt, inplace=True)\n",
    "        \n"
   ]
  },
  {
   "cell_type": "code",
   "execution_count": 941,
   "metadata": {},
   "outputs": [
    {
     "data": {
      "text/plain": [
       "['May 26, 2020',\n",
       " 'May 25, 2020',\n",
       " 'May 22, 2020',\n",
       " 'May 19, 2020',\n",
       " 'May 12, 2020',\n",
       " 'May 4, 2020',\n",
       " 'April 27, 2020',\n",
       " 'April 24, 2020',\n",
       " 'April 16, 2020',\n",
       " 'April 14, 2020',\n",
       " 'April 13, 2020',\n",
       " 'April 8, 2020',\n",
       " 'April 6, 2020',\n",
       " 'April 3, 2020',\n",
       " 'April 1, 2020',\n",
       " 'March 31, 2020',\n",
       " 'March 24, 2020',\n",
       " 'March 19, 2020',\n",
       " 'March 16, 2020',\n",
       " 'March 12, 2020',\n",
       " 'March 11, 2020',\n",
       " 'March 10, 2020',\n",
       " 'March 9, 2020',\n",
       " 'March 5, 2020',\n",
       " 'March 3, 2020',\n",
       " 'February 26, 2020',\n",
       " 'February 25, 2020',\n",
       " 'February 20, 2020',\n",
       " 'February 15, 2020',\n",
       " 'February 12, 2020',\n",
       " 'February 11, 2020',\n",
       " 'February 10, 2020',\n",
       " 'February 6, 2020',\n",
       " 'February 3, 2020',\n",
       " 'January 29, 2020',\n",
       " 'January 24, 2020',\n",
       " 'January 21, 2020',\n",
       " 'January 20, 2020',\n",
       " 'January 19, 2020',\n",
       " 'January 17, 2020',\n",
       " 'January 16, 2020',\n",
       " 'January 14, 2020',\n",
       " 'January 13, 2020',\n",
       " 'January 10, 2020',\n",
       " 'January 8, 2020',\n",
       " 'January 7, 2020',\n",
       " 'January 6, 2020',\n",
       " 'January 4, 2020',\n",
       " 'December 30, 2019',\n",
       " 'December 23, 2019',\n",
       " 'December 20, 2019',\n",
       " 'December 18, 2019',\n",
       " 'December 17, 2019',\n",
       " 'December 10, 2019',\n",
       " 'December 9, 2019',\n",
       " 'December 5, 2019',\n",
       " 'December 4, 2019',\n",
       " 'December 3, 2019',\n",
       " 'December 2, 2019',\n",
       " 'November 30, 2019',\n",
       " 'November 28, 2019',\n",
       " 'November 25, 2019',\n",
       " 'November 22, 2019',\n",
       " 'November 21, 2019',\n",
       " 'November 20, 2019',\n",
       " 'November 19, 2019',\n",
       " 'October 31, 2019',\n",
       " 'October 28, 2019',\n",
       " 'October 18, 2019',\n",
       " 'October 17, 2019',\n",
       " 'October 16, 2019',\n",
       " 'October 6, 2019',\n",
       " 'October 5, 2019',\n",
       " 'October 3, 2019',\n",
       " 'October 2, 2019',\n",
       " 'October 1, 2019',\n",
       " 'September 25, 2019',\n",
       " 'September 24, 2019',\n",
       " 'September 19, 2019',\n",
       " 'September 17, 2019',\n",
       " 'September 12, 2019',\n",
       " 'September 10, 2019',\n",
       " 'September 9, 2019',\n",
       " 'September 7, 2019',\n",
       " 'September 6, 2019',\n",
       " 'August 30, 2019',\n",
       " 'August 28, 2019',\n",
       " 'August 26, 2019',\n",
       " 'August 21, 2019',\n",
       " 'August 20, 2019',\n",
       " 'August 9, 2019',\n",
       " 'August 8, 2019',\n",
       " 'August 6, 2019',\n",
       " 'August 5, 2019',\n",
       " 'August 2, 2019',\n",
       " 'August 1, 2019',\n",
       " 'July 30, 2019',\n",
       " 'July 28, 2019',\n",
       " 'July 26, 2019',\n",
       " 'July 25, 2019',\n",
       " 'July 24, 2019',\n",
       " 'July 22, 2019',\n",
       " 'July 16, 2019',\n",
       " 'July 12, 2019',\n",
       " 'July 11, 2019',\n",
       " 'July 9, 2019',\n",
       " 'July 8, 2019',\n",
       " 'July 5, 2019',\n",
       " 'July 2, 2019',\n",
       " 'June 26, 2019',\n",
       " 'June 25, 2019',\n",
       " 'June 24, 2019',\n",
       " 'June 23, 2019',\n",
       " 'June 22, 2019',\n",
       " 'June 21, 2019',\n",
       " 'June 19, 2019',\n",
       " 'June 17, 2019',\n",
       " 'June 13, 2019',\n",
       " 'June 12, 2019',\n",
       " 'June 8, 2019',\n",
       " 'June 6, 2019',\n",
       " 'May 31, 2019',\n",
       " 'May 30, 2019',\n",
       " 'May 29, 2019',\n",
       " 'May 27, 2019',\n",
       " 'May 26, 2019',\n",
       " 'May 24, 2019',\n",
       " 'May 21, 2019',\n",
       " 'May 11, 2019',\n",
       " 'May 8, 2019',\n",
       " 'April 28, 2019',\n",
       " 'April 26, 2019',\n",
       " 'April 25, 2019',\n",
       " 'April 23, 2019',\n",
       " 'April 21, 2019',\n",
       " 'April 17, 2019',\n",
       " 'April 16, 2019',\n",
       " 'April 13, 2019',\n",
       " 'April 11, 2019',\n",
       " 'April 9, 2019',\n",
       " 'April 6, 2019',\n",
       " 'April 4, 2019',\n",
       " 'April 2, 2019',\n",
       " 'March 29, 2019',\n",
       " 'March 26, 2019',\n",
       " 'March 23, 2019',\n",
       " 'March 22, 2019',\n",
       " 'March 21, 2019',\n",
       " 'March 20, 2019',\n",
       " 'March 14, 2019',\n",
       " 'March 13, 2019',\n",
       " 'March 11, 2019',\n",
       " 'March 8, 2019',\n",
       " 'March 7, 2019',\n",
       " 'March 6, 2019',\n",
       " 'March 5, 2019',\n",
       " 'March 3, 2019',\n",
       " 'February 28, 2019',\n",
       " 'February 26, 2019',\n",
       " 'February 25, 2019',\n",
       " 'February 24, 2019',\n",
       " 'February 23, 2019',\n",
       " 'February 22, 2019',\n",
       " 'February 21, 2019',\n",
       " 'February 19, 2019',\n",
       " 'February 14, 2019',\n",
       " 'February 13, 2019',\n",
       " 'February 11, 2019',\n",
       " 'February 8, 2019',\n",
       " 'February 7, 2019',\n",
       " 'January 29, 2019',\n",
       " 'January 23, 2019',\n",
       " 'January 22, 2019',\n",
       " 'January 18, 2019',\n",
       " 'January 16, 2019',\n",
       " 'January 10, 2019',\n",
       " 'January 9, 2019',\n",
       " 'January 8, 2019',\n",
       " 'January 3, 2019',\n",
       " 'December 29, 2018',\n",
       " 'December 26, 2018',\n",
       " 'December 22, 2018',\n",
       " 'December 21, 2018',\n",
       " 'December 18, 2018',\n",
       " 'December 15, 2018',\n",
       " 'December 13, 2018',\n",
       " 'December 11, 2018',\n",
       " 'December 10, 2018',\n",
       " 'December 7, 2018',\n",
       " 'December 6, 2018',\n",
       " 'December 5, 2018',\n",
       " 'December 3, 2018',\n",
       " 'November 28, 2018',\n",
       " 'November 27, 2018',\n",
       " 'November 26, 2018',\n",
       " 'November 22, 2018',\n",
       " 'November 20, 2018',\n",
       " 'November 16, 2018',\n",
       " 'November 15, 2018',\n",
       " 'November 14, 2018',\n",
       " 'November 13, 2018',\n",
       " 'November 10, 2018',\n",
       " 'November 8, 2018',\n",
       " 'November 7, 2018',\n",
       " 'November 6, 2018',\n",
       " 'November 5, 2018',\n",
       " 'November 1, 2018',\n",
       " 'October 31, 2018',\n",
       " 'October 28, 2018',\n",
       " 'October 27, 2018',\n",
       " 'October 25, 2018',\n",
       " 'October 24, 2018',\n",
       " 'October 19, 2018',\n",
       " 'October 18, 2018',\n",
       " 'October 15, 2018',\n",
       " 'October 14, 2018',\n",
       " 'October 11, 2018',\n",
       " 'October 9, 2018',\n",
       " 'October 4, 2018',\n",
       " 'October 2, 2018',\n",
       " 'September 29, 2018',\n",
       " 'September 27, 2018',\n",
       " 'September 26, 2018',\n",
       " 'September 22, 2018',\n",
       " 'September 20, 2018',\n",
       " 'September 19, 2018',\n",
       " 'September 18, 2018',\n",
       " 'September 17, 2018',\n",
       " 'September 16, 2018',\n",
       " 'September 13, 2018',\n",
       " 'September 12, 2018',\n",
       " 'September 11, 2018',\n",
       " 'September 8, 2018',\n",
       " 'September 6, 2018',\n",
       " 'September 4, 2018',\n",
       " 'September 3, 2018',\n",
       " 'September 2, 2018',\n",
       " 'August 30, 2018',\n",
       " 'August 27, 2018',\n",
       " 'August 26, 2018',\n",
       " 'August 23, 2018',\n",
       " 'August 21, 2018',\n",
       " 'August 17, 2018',\n",
       " 'August 15, 2018',\n",
       " 'August 14, 2018',\n",
       " 'August 13, 2018',\n",
       " 'August 8, 2018',\n",
       " 'August 7, 2018',\n",
       " 'August 6, 2018',\n",
       " 'August 4, 2018',\n",
       " 'August 1, 2018',\n",
       " 'July 31, 2018',\n",
       " 'July 30, 2018',\n",
       " 'July 27, 2018',\n",
       " 'July 26, 2018',\n",
       " 'July 25, 2018',\n",
       " 'July 23, 2018',\n",
       " 'July 17, 2018',\n",
       " 'July 10, 2018',\n",
       " 'July 7, 2018',\n",
       " 'July 6, 2018',\n",
       " 'July 4, 2018',\n",
       " 'July 2, 2018',\n",
       " 'June 29, 2018',\n",
       " 'June 28, 2018',\n",
       " 'June 26, 2018',\n",
       " 'June 25, 2018',\n",
       " 'June 22, 2018',\n",
       " 'June 20, 2018',\n",
       " 'June 19, 2018',\n",
       " 'June 18, 2018',\n",
       " 'June 16, 2018',\n",
       " 'June 14, 2018',\n",
       " 'June 13, 2018',\n",
       " 'June 12, 2018',\n",
       " 'June 7, 2018',\n",
       " 'June 5, 2018',\n",
       " 'June 4, 2018',\n",
       " 'June 3, 2018',\n",
       " 'June 2, 2018',\n",
       " 'May 31, 2018',\n",
       " 'May 30, 2018',\n",
       " 'May 29, 2018',\n",
       " 'May 28, 2018',\n",
       " 'May 24, 2018',\n",
       " 'May 22, 2018',\n",
       " 'May 20, 2018',\n",
       " 'May 19, 2018_4',\n",
       " 'May 16, 2018_5',\n",
       " 'May 15, 2018',\n",
       " 'May 11, 2018',\n",
       " 'May 9, 2018',\n",
       " 'May 8, 2018',\n",
       " 'May 5, 2018',\n",
       " 'May 4, 2018',\n",
       " 'May 2, 2018',\n",
       " 'May 1, 2018',\n",
       " 'April 29, 2018',\n",
       " 'April 28, 2018_2',\n",
       " 'April 26, 2018',\n",
       " 'April 25, 2018',\n",
       " 'April 21, 2018',\n",
       " 'April 19, 2018',\n",
       " 'April 18, 2018',\n",
       " 'April 17, 2018_2',\n",
       " 'April 15, 2018',\n",
       " 'April 13, 2018',\n",
       " 'April 12, 2018',\n",
       " 'April 10, 2018_3',\n",
       " 'April 9, 2018',\n",
       " 'April 5, 2018',\n",
       " 'April 3, 2018',\n",
       " 'April 2, 2018',\n",
       " 'March 26, 2018',\n",
       " 'March 23, 2018',\n",
       " 'May 28, 2020']"
      ]
     },
     "execution_count": 941,
     "metadata": {},
     "output_type": "execute_result"
    }
   ],
   "source": [
    "df_prev.date.tolist()"
   ]
  },
  {
   "cell_type": "markdown",
   "metadata": {},
   "source": [
    ">Before we merge this two let's revise the format for *df_cur* so that they have the same format to *df_prev*"
   ]
  },
  {
   "cell_type": "code",
   "execution_count": 942,
   "metadata": {},
   "outputs": [
    {
     "data": {
      "text/html": [
       "<div>\n",
       "<style scoped>\n",
       "    .dataframe tbody tr th:only-of-type {\n",
       "        vertical-align: middle;\n",
       "    }\n",
       "\n",
       "    .dataframe tbody tr th {\n",
       "        vertical-align: top;\n",
       "    }\n",
       "\n",
       "    .dataframe thead th {\n",
       "        text-align: right;\n",
       "    }\n",
       "</style>\n",
       "<table border=\"1\" class=\"dataframe\">\n",
       "  <thead>\n",
       "    <tr style=\"text-align: right;\">\n",
       "      <th></th>\n",
       "      <th>date</th>\n",
       "      <th>title</th>\n",
       "      <th>location</th>\n",
       "      <th>event</th>\n",
       "      <th>transcript</th>\n",
       "      <th>url</th>\n",
       "    </tr>\n",
       "  </thead>\n",
       "  <tbody>\n",
       "    <tr>\n",
       "      <th>0</th>\n",
       "      <td>June 30, 2016</td>\n",
       "      <td>President Rodrigo Roa Duterte’s Speech during ...</td>\n",
       "      <td>Rizal Ceremonial Hall, Malacañang Palace</td>\n",
       "      <td>NaN</td>\n",
       "      <td>President Fidel Ramos, sir, salamat po sa tulo...</td>\n",
       "      <td>http://pcoo.gov.ph//june-30-2016-president-rod...</td>\n",
       "    </tr>\n",
       "    <tr>\n",
       "      <th>1</th>\n",
       "      <td>July 31, 2016</td>\n",
       "      <td>Remarks of President Rodrigo Roa Duterte durin...</td>\n",
       "      <td>PSG Grandstand, Malacañang Park, Manila</td>\n",
       "      <td>NaN</td>\n",
       "      <td>Let me begin by addressing myself to you throu...</td>\n",
       "      <td>http://pcoo.gov.ph//july-31-2016-remarks-of-pr...</td>\n",
       "    </tr>\n",
       "    <tr>\n",
       "      <th>2</th>\n",
       "      <td>July 29, 2016</td>\n",
       "      <td>Speech of President Rodrigo Roa Duterte during...</td>\n",
       "      <td>Purok 35, Phase 3, Acasia St., Bgy. 76-A, Dava...</td>\n",
       "      <td>NaN</td>\n",
       "      <td>Maayong gabi-I kaninyong tanan. (audience resp...</td>\n",
       "      <td>http://pcoo.gov.ph//july-29-2016-speech-of-pre...</td>\n",
       "    </tr>\n",
       "    <tr>\n",
       "      <th>3</th>\n",
       "      <td>July 29, 2016_2</td>\n",
       "      <td>Speech of President Rodrigo Roa Duterte during...</td>\n",
       "      <td>60th IB headquarters, Asuncion, Daval del Norte</td>\n",
       "      <td>NaN</td>\n",
       "      <td>I’d like to address myself to the Filipino peo...</td>\n",
       "      <td>http://pcoo.gov.ph//july-29-2016-speech-of-pre...</td>\n",
       "    </tr>\n",
       "    <tr>\n",
       "      <th>4</th>\n",
       "      <td>July 28, 2016</td>\n",
       "      <td>Speech of President Rodrigo Roa Duterte during...</td>\n",
       "      <td>Lucena City, Quezon Province</td>\n",
       "      <td>NaN</td>\n",
       "      <td>Secretary Delfin Lorenzana; Secretary Arthur T...</td>\n",
       "      <td>http://pcoo.gov.ph//july-28-2016-speech-of-pre...</td>\n",
       "    </tr>\n",
       "    <tr>\n",
       "      <th>...</th>\n",
       "      <td>...</td>\n",
       "      <td>...</td>\n",
       "      <td>...</td>\n",
       "      <td>...</td>\n",
       "      <td>...</td>\n",
       "      <td>...</td>\n",
       "    </tr>\n",
       "    <tr>\n",
       "      <th>397</th>\n",
       "      <td>May 08, 2018</td>\n",
       "      <td>Speech of President Rodrigo Roa Duterte during...</td>\n",
       "      <td>the Rizal Hall, Malacañan Palace</td>\n",
       "      <td>NaN</td>\n",
       "      <td>Maybe after my prepared speech, this is just a...</td>\n",
       "      <td>http://pcoo.gov.ph/wp-content/uploads/2018/05/...</td>\n",
       "    </tr>\n",
       "    <tr>\n",
       "      <th>398</th>\n",
       "      <td>May 05, 2018</td>\n",
       "      <td>Speech of President Rodrigo Roa Duterte during...</td>\n",
       "      <td>the Isla Ballroom, EDSA Shangri-La, Mandaluyon...</td>\n",
       "      <td>NaN</td>\n",
       "      <td>Thank you. Kindly sit down.     I’d forego wit...</td>\n",
       "      <td>http://pcoo.gov.ph/wp-content/uploads/2018/05/...</td>\n",
       "    </tr>\n",
       "    <tr>\n",
       "      <th>399</th>\n",
       "      <td>May 04, 2018</td>\n",
       "      <td>Speech of President Rodrigo Roa Duterte during...</td>\n",
       "      <td>the SMX Convention Center, Davao City</td>\n",
       "      <td>NaN</td>\n",
       "      <td>Salamat po. Thank you for your courtesy. You m...</td>\n",
       "      <td>http://pcoo.gov.ph/wp-content/uploads/2018/05/...</td>\n",
       "    </tr>\n",
       "    <tr>\n",
       "      <th>400</th>\n",
       "      <td>May 02, 2018</td>\n",
       "      <td>Speech of President Rodrigo Roa Duterte during...</td>\n",
       "      <td>Liwasang Alfaro G. Aguirre, Mulanay, Quezon</td>\n",
       "      <td>NaN</td>\n",
       "      <td>Kindly sit down. Thank you for your courtesy. ...</td>\n",
       "      <td>http://pcoo.gov.ph/wp-content/uploads/2018/05/...</td>\n",
       "    </tr>\n",
       "    <tr>\n",
       "      <th>401</th>\n",
       "      <td>May 01, 2018</td>\n",
       "      <td>Speech of President Rodrigo Roa Duterte during...</td>\n",
       "      <td>IEC Convention Center of Cebu, Pope John Paul ...</td>\n",
       "      <td>NaN</td>\n",
       "      <td>Paglingkod lang, sige mo pakpak diha. (Please ...</td>\n",
       "      <td>http://pcoo.gov.ph/wp-content/uploads/2018/05/...</td>\n",
       "    </tr>\n",
       "  </tbody>\n",
       "</table>\n",
       "<p>402 rows × 6 columns</p>\n",
       "</div>"
      ],
      "text/plain": [
       "                date                                              title  \\\n",
       "0      June 30, 2016  President Rodrigo Roa Duterte’s Speech during ...   \n",
       "1      July 31, 2016  Remarks of President Rodrigo Roa Duterte durin...   \n",
       "2      July 29, 2016  Speech of President Rodrigo Roa Duterte during...   \n",
       "3    July 29, 2016_2  Speech of President Rodrigo Roa Duterte during...   \n",
       "4      July 28, 2016  Speech of President Rodrigo Roa Duterte during...   \n",
       "..               ...                                                ...   \n",
       "397     May 08, 2018  Speech of President Rodrigo Roa Duterte during...   \n",
       "398     May 05, 2018  Speech of President Rodrigo Roa Duterte during...   \n",
       "399     May 04, 2018  Speech of President Rodrigo Roa Duterte during...   \n",
       "400     May 02, 2018  Speech of President Rodrigo Roa Duterte during...   \n",
       "401     May 01, 2018  Speech of President Rodrigo Roa Duterte during...   \n",
       "\n",
       "                                              location event  \\\n",
       "0             Rizal Ceremonial Hall, Malacañang Palace   NaN   \n",
       "1              PSG Grandstand, Malacañang Park, Manila   NaN   \n",
       "2    Purok 35, Phase 3, Acasia St., Bgy. 76-A, Dava...   NaN   \n",
       "3      60th IB headquarters, Asuncion, Daval del Norte   NaN   \n",
       "4                         Lucena City, Quezon Province   NaN   \n",
       "..                                                 ...   ...   \n",
       "397                   the Rizal Hall, Malacañan Palace   NaN   \n",
       "398  the Isla Ballroom, EDSA Shangri-La, Mandaluyon...   NaN   \n",
       "399              the SMX Convention Center, Davao City   NaN   \n",
       "400        Liwasang Alfaro G. Aguirre, Mulanay, Quezon   NaN   \n",
       "401  IEC Convention Center of Cebu, Pope John Paul ...   NaN   \n",
       "\n",
       "                                            transcript  \\\n",
       "0    President Fidel Ramos, sir, salamat po sa tulo...   \n",
       "1    Let me begin by addressing myself to you throu...   \n",
       "2    Maayong gabi-I kaninyong tanan. (audience resp...   \n",
       "3    I’d like to address myself to the Filipino peo...   \n",
       "4    Secretary Delfin Lorenzana; Secretary Arthur T...   \n",
       "..                                                 ...   \n",
       "397  Maybe after my prepared speech, this is just a...   \n",
       "398  Thank you. Kindly sit down.     I’d forego wit...   \n",
       "399  Salamat po. Thank you for your courtesy. You m...   \n",
       "400  Kindly sit down. Thank you for your courtesy. ...   \n",
       "401  Paglingkod lang, sige mo pakpak diha. (Please ...   \n",
       "\n",
       "                                                   url  \n",
       "0    http://pcoo.gov.ph//june-30-2016-president-rod...  \n",
       "1    http://pcoo.gov.ph//july-31-2016-remarks-of-pr...  \n",
       "2    http://pcoo.gov.ph//july-29-2016-speech-of-pre...  \n",
       "3    http://pcoo.gov.ph//july-29-2016-speech-of-pre...  \n",
       "4    http://pcoo.gov.ph//july-28-2016-speech-of-pre...  \n",
       "..                                                 ...  \n",
       "397  http://pcoo.gov.ph/wp-content/uploads/2018/05/...  \n",
       "398  http://pcoo.gov.ph/wp-content/uploads/2018/05/...  \n",
       "399  http://pcoo.gov.ph/wp-content/uploads/2018/05/...  \n",
       "400  http://pcoo.gov.ph/wp-content/uploads/2018/05/...  \n",
       "401  http://pcoo.gov.ph/wp-content/uploads/2018/05/...  \n",
       "\n",
       "[402 rows x 6 columns]"
      ]
     },
     "execution_count": 942,
     "metadata": {},
     "output_type": "execute_result"
    }
   ],
   "source": [
    "df_cur.drop(columns='date', inplace=True)\n",
    "df_cur.reset_index(inplace=True)\n",
    "df_cur.rename(columns={'index':'date'}, inplace=True)\n",
    "df_cur"
   ]
  },
  {
   "cell_type": "code",
   "execution_count": 943,
   "metadata": {},
   "outputs": [
    {
     "data": {
      "text/html": [
       "<div>\n",
       "<style scoped>\n",
       "    .dataframe tbody tr th:only-of-type {\n",
       "        vertical-align: middle;\n",
       "    }\n",
       "\n",
       "    .dataframe tbody tr th {\n",
       "        vertical-align: top;\n",
       "    }\n",
       "\n",
       "    .dataframe thead th {\n",
       "        text-align: right;\n",
       "    }\n",
       "</style>\n",
       "<table border=\"1\" class=\"dataframe\">\n",
       "  <thead>\n",
       "    <tr style=\"text-align: right;\">\n",
       "      <th></th>\n",
       "      <th>date</th>\n",
       "      <th>title</th>\n",
       "      <th>url</th>\n",
       "      <th>event</th>\n",
       "      <th>location</th>\n",
       "      <th>transcript</th>\n",
       "    </tr>\n",
       "  </thead>\n",
       "  <tbody>\n",
       "    <tr>\n",
       "      <th>0</th>\n",
       "      <td>May 26, 2020</td>\n",
       "      <td>Excerpts from Speech of President Rodrigo Roa ...</td>\n",
       "      <td>https://pcoo.gov.ph/presidential-speech/excerp...</td>\n",
       "      <td>Meeting with Philippine Army (PA) and Philippi...</td>\n",
       "      <td>Malago Clubhouse, Malacañang Park, Manila</td>\n",
       "      <td>So ako pati si Bong during my mayorship d...</td>\n",
       "    </tr>\n",
       "    <tr>\n",
       "      <th>1</th>\n",
       "      <td>May 25, 2020</td>\n",
       "      <td>Talk to the People of President Rodrigo Roa Du...</td>\n",
       "      <td>https://pcoo.gov.ph/presidential-speech/talk-t...</td>\n",
       "      <td>On Coronavirus Disease 2019 (COVID-19)</td>\n",
       "      <td>Malago Clubhouse in Malacañang</td>\n",
       "      <td>PRESIDENT RODRIGO ROA DUTERTE: I remember dist...</td>\n",
       "    </tr>\n",
       "    <tr>\n",
       "      <th>2</th>\n",
       "      <td>May 22, 2020</td>\n",
       "      <td>Speech of President Rodrigo Roa Duterte during...</td>\n",
       "      <td>https://pcoo.gov.ph/presidential-speech/speech...</td>\n",
       "      <td>Commencement Exercsies of the Philippine Milit...</td>\n",
       "      <td>Malago Clubhouse, Malacañang Park, Manila</td>\n",
       "      <td>Kindly sit down. [May upuan sila? Okay.], Defe...</td>\n",
       "    </tr>\n",
       "    <tr>\n",
       "      <th>3</th>\n",
       "      <td>May 19, 2020</td>\n",
       "      <td>Talk to the People of President Rodrigo Roa Du...</td>\n",
       "      <td>https://pcoo.gov.ph/presidential-speech/talk-t...</td>\n",
       "      <td>On Coronavirus Disease 2019 (COVID-19)</td>\n",
       "      <td>Malago Clubhouse in Malacañang</td>\n",
       "      <td>PRESIDENT RODRIGO ROA DUTERTE: Good evening my...</td>\n",
       "    </tr>\n",
       "    <tr>\n",
       "      <th>4</th>\n",
       "      <td>May 12, 2020</td>\n",
       "      <td>Talk to the People of President Rodrigo Roa Du...</td>\n",
       "      <td>https://pcoo.gov.ph/presidential-speech/talk-t...</td>\n",
       "      <td>On Coronavirus Disease 2019 (COVID-19)</td>\n",
       "      <td>Malago Clubhouse in Malacañang</td>\n",
       "      <td>PRESIDENT DUTERTE: Sir, one question. Itong op...</td>\n",
       "    </tr>\n",
       "    <tr>\n",
       "      <th>...</th>\n",
       "      <td>...</td>\n",
       "      <td>...</td>\n",
       "      <td>...</td>\n",
       "      <td>...</td>\n",
       "      <td>...</td>\n",
       "      <td>...</td>\n",
       "    </tr>\n",
       "    <tr>\n",
       "      <th>311</th>\n",
       "      <td>April 3, 2018</td>\n",
       "      <td>Speech of President Rodrigo Roa Duterte during...</td>\n",
       "      <td>https://pcoo.gov.ph/presidential-speech/speech...</td>\n",
       "      <td>Inauguration of Lisap Bridge Project</td>\n",
       "      <td>Bongabong, Oriental Mindoro</td>\n",
       "      <td>Nagkahiyaan pa. Sige na. Kaya ‘pag mag-usap [...</td>\n",
       "    </tr>\n",
       "    <tr>\n",
       "      <th>312</th>\n",
       "      <td>April 2, 2018</td>\n",
       "      <td>Speech of President Rodrigo Roa Duterte during...</td>\n",
       "      <td>https://pcoo.gov.ph/presidential-speech/speech...</td>\n",
       "      <td>Distribution of Certificate of Land Ownership ...</td>\n",
       "      <td>Provincial Capitol Gymnasium, Isulan, Sultan K...</td>\n",
       "      <td>Kindly sit down. Salamat po sa courtesy n...</td>\n",
       "    </tr>\n",
       "    <tr>\n",
       "      <th>313</th>\n",
       "      <td>March 26, 2018</td>\n",
       "      <td>Speech Of President Rodrigo Roa Duterte during...</td>\n",
       "      <td>https://pcoo.gov.ph/presidential-speech/speech...</td>\n",
       "      <td>Handover of loose firearms and presentation of...</td>\n",
       "      <td>Multi-purpose Gym, Capitol, Patikul Sulu</td>\n",
       "      <td>Thank you for your courtesy. Kindly sit d...</td>\n",
       "    </tr>\n",
       "    <tr>\n",
       "      <th>314</th>\n",
       "      <td>March 23, 2018</td>\n",
       "      <td>Speech of President Rodrigo Roa Duterte during...</td>\n",
       "      <td>https://pcoo.gov.ph/presidential-speech/speech...</td>\n",
       "      <td>16th founding Anniversary of the Supreme Triba...</td>\n",
       "      <td>3rd Infantry Battalion Headquarters, Calinan, ...</td>\n",
       "      <td>Salamat. Panglingkod mo. Kanang... Una sa tan...</td>\n",
       "    </tr>\n",
       "    <tr>\n",
       "      <th>315</th>\n",
       "      <td>May 28, 2020</td>\n",
       "      <td>Talk to the People of President Rodrigo Roa Du...</td>\n",
       "      <td>https://pcoo.gov.ph/presidential-speech/talk-t...</td>\n",
       "      <td>Meeting on COVID-19 Concerns and Talk to the P...</td>\n",
       "      <td>Malacañang Golf (MALAGO) Clubhouse, Malacañang...</td>\n",
       "      <td>PRESIDENT RODRIGO ROA DUTERTE: Mga kababayan ...</td>\n",
       "    </tr>\n",
       "  </tbody>\n",
       "</table>\n",
       "<p>316 rows × 6 columns</p>\n",
       "</div>"
      ],
      "text/plain": [
       "               date                                              title  \\\n",
       "0      May 26, 2020  Excerpts from Speech of President Rodrigo Roa ...   \n",
       "1      May 25, 2020  Talk to the People of President Rodrigo Roa Du...   \n",
       "2      May 22, 2020  Speech of President Rodrigo Roa Duterte during...   \n",
       "3      May 19, 2020  Talk to the People of President Rodrigo Roa Du...   \n",
       "4      May 12, 2020  Talk to the People of President Rodrigo Roa Du...   \n",
       "..              ...                                                ...   \n",
       "311   April 3, 2018  Speech of President Rodrigo Roa Duterte during...   \n",
       "312   April 2, 2018  Speech of President Rodrigo Roa Duterte during...   \n",
       "313  March 26, 2018  Speech Of President Rodrigo Roa Duterte during...   \n",
       "314  March 23, 2018  Speech of President Rodrigo Roa Duterte during...   \n",
       "315    May 28, 2020  Talk to the People of President Rodrigo Roa Du...   \n",
       "\n",
       "                                                   url  \\\n",
       "0    https://pcoo.gov.ph/presidential-speech/excerp...   \n",
       "1    https://pcoo.gov.ph/presidential-speech/talk-t...   \n",
       "2    https://pcoo.gov.ph/presidential-speech/speech...   \n",
       "3    https://pcoo.gov.ph/presidential-speech/talk-t...   \n",
       "4    https://pcoo.gov.ph/presidential-speech/talk-t...   \n",
       "..                                                 ...   \n",
       "311  https://pcoo.gov.ph/presidential-speech/speech...   \n",
       "312  https://pcoo.gov.ph/presidential-speech/speech...   \n",
       "313  https://pcoo.gov.ph/presidential-speech/speech...   \n",
       "314  https://pcoo.gov.ph/presidential-speech/speech...   \n",
       "315  https://pcoo.gov.ph/presidential-speech/talk-t...   \n",
       "\n",
       "                                                 event  \\\n",
       "0    Meeting with Philippine Army (PA) and Philippi...   \n",
       "1               On Coronavirus Disease 2019 (COVID-19)   \n",
       "2    Commencement Exercsies of the Philippine Milit...   \n",
       "3               On Coronavirus Disease 2019 (COVID-19)   \n",
       "4               On Coronavirus Disease 2019 (COVID-19)   \n",
       "..                                                 ...   \n",
       "311               Inauguration of Lisap Bridge Project   \n",
       "312  Distribution of Certificate of Land Ownership ...   \n",
       "313  Handover of loose firearms and presentation of...   \n",
       "314  16th founding Anniversary of the Supreme Triba...   \n",
       "315  Meeting on COVID-19 Concerns and Talk to the P...   \n",
       "\n",
       "                                              location  \\\n",
       "0           Malago Clubhouse, Malacañang Park, Manila    \n",
       "1                       Malago Clubhouse in Malacañang   \n",
       "2           Malago Clubhouse, Malacañang Park, Manila    \n",
       "3                       Malago Clubhouse in Malacañang   \n",
       "4                       Malago Clubhouse in Malacañang   \n",
       "..                                                 ...   \n",
       "311                        Bongabong, Oriental Mindoro   \n",
       "312  Provincial Capitol Gymnasium, Isulan, Sultan K...   \n",
       "313          Multi-purpose Gym, Capitol, Patikul Sulu    \n",
       "314  3rd Infantry Battalion Headquarters, Calinan, ...   \n",
       "315  Malacañang Golf (MALAGO) Clubhouse, Malacañang...   \n",
       "\n",
       "                                            transcript  \n",
       "0         So ako pati si Bong during my mayorship d...  \n",
       "1    PRESIDENT RODRIGO ROA DUTERTE: I remember dist...  \n",
       "2    Kindly sit down. [May upuan sila? Okay.], Defe...  \n",
       "3    PRESIDENT RODRIGO ROA DUTERTE: Good evening my...  \n",
       "4    PRESIDENT DUTERTE: Sir, one question. Itong op...  \n",
       "..                                                 ...  \n",
       "311   Nagkahiyaan pa. Sige na. Kaya ‘pag mag-usap [...  \n",
       "312       Kindly sit down. Salamat po sa courtesy n...  \n",
       "313       Thank you for your courtesy. Kindly sit d...  \n",
       "314   Salamat. Panglingkod mo. Kanang... Una sa tan...  \n",
       "315   PRESIDENT RODRIGO ROA DUTERTE: Mga kababayan ...  \n",
       "\n",
       "[316 rows x 6 columns]"
      ]
     },
     "execution_count": 943,
     "metadata": {},
     "output_type": "execute_result"
    }
   ],
   "source": [
    "df_prev"
   ]
  },
  {
   "cell_type": "markdown",
   "metadata": {},
   "source": [
    ">Now that we have same column names let's merge them"
   ]
  },
  {
   "cell_type": "code",
   "execution_count": 944,
   "metadata": {},
   "outputs": [
    {
     "data": {
      "text/html": [
       "<div>\n",
       "<style scoped>\n",
       "    .dataframe tbody tr th:only-of-type {\n",
       "        vertical-align: middle;\n",
       "    }\n",
       "\n",
       "    .dataframe tbody tr th {\n",
       "        vertical-align: top;\n",
       "    }\n",
       "\n",
       "    .dataframe thead th {\n",
       "        text-align: right;\n",
       "    }\n",
       "</style>\n",
       "<table border=\"1\" class=\"dataframe\">\n",
       "  <thead>\n",
       "    <tr style=\"text-align: right;\">\n",
       "      <th></th>\n",
       "      <th>date</th>\n",
       "      <th>title</th>\n",
       "      <th>url</th>\n",
       "      <th>event</th>\n",
       "      <th>location</th>\n",
       "      <th>transcript</th>\n",
       "    </tr>\n",
       "  </thead>\n",
       "  <tbody>\n",
       "    <tr>\n",
       "      <th>0</th>\n",
       "      <td>May 26, 2020</td>\n",
       "      <td>Excerpts from Speech of President Rodrigo Roa ...</td>\n",
       "      <td>https://pcoo.gov.ph/presidential-speech/excerp...</td>\n",
       "      <td>Meeting with Philippine Army (PA) and Philippi...</td>\n",
       "      <td>Malago Clubhouse, Malacañang Park, Manila</td>\n",
       "      <td>So ako pati si Bong during my mayorship d...</td>\n",
       "    </tr>\n",
       "    <tr>\n",
       "      <th>1</th>\n",
       "      <td>May 25, 2020</td>\n",
       "      <td>Talk to the People of President Rodrigo Roa Du...</td>\n",
       "      <td>https://pcoo.gov.ph/presidential-speech/talk-t...</td>\n",
       "      <td>On Coronavirus Disease 2019 (COVID-19)</td>\n",
       "      <td>Malago Clubhouse in Malacañang</td>\n",
       "      <td>PRESIDENT RODRIGO ROA DUTERTE: I remember dist...</td>\n",
       "    </tr>\n",
       "    <tr>\n",
       "      <th>2</th>\n",
       "      <td>May 22, 2020</td>\n",
       "      <td>Speech of President Rodrigo Roa Duterte during...</td>\n",
       "      <td>https://pcoo.gov.ph/presidential-speech/speech...</td>\n",
       "      <td>Commencement Exercsies of the Philippine Milit...</td>\n",
       "      <td>Malago Clubhouse, Malacañang Park, Manila</td>\n",
       "      <td>Kindly sit down. [May upuan sila? Okay.], Defe...</td>\n",
       "    </tr>\n",
       "    <tr>\n",
       "      <th>3</th>\n",
       "      <td>May 19, 2020</td>\n",
       "      <td>Talk to the People of President Rodrigo Roa Du...</td>\n",
       "      <td>https://pcoo.gov.ph/presidential-speech/talk-t...</td>\n",
       "      <td>On Coronavirus Disease 2019 (COVID-19)</td>\n",
       "      <td>Malago Clubhouse in Malacañang</td>\n",
       "      <td>PRESIDENT RODRIGO ROA DUTERTE: Good evening my...</td>\n",
       "    </tr>\n",
       "    <tr>\n",
       "      <th>4</th>\n",
       "      <td>May 12, 2020</td>\n",
       "      <td>Talk to the People of President Rodrigo Roa Du...</td>\n",
       "      <td>https://pcoo.gov.ph/presidential-speech/talk-t...</td>\n",
       "      <td>On Coronavirus Disease 2019 (COVID-19)</td>\n",
       "      <td>Malago Clubhouse in Malacañang</td>\n",
       "      <td>PRESIDENT DUTERTE: Sir, one question. Itong op...</td>\n",
       "    </tr>\n",
       "    <tr>\n",
       "      <th>...</th>\n",
       "      <td>...</td>\n",
       "      <td>...</td>\n",
       "      <td>...</td>\n",
       "      <td>...</td>\n",
       "      <td>...</td>\n",
       "      <td>...</td>\n",
       "    </tr>\n",
       "    <tr>\n",
       "      <th>713</th>\n",
       "      <td>May 08, 2018</td>\n",
       "      <td>Speech of President Rodrigo Roa Duterte during...</td>\n",
       "      <td>http://pcoo.gov.ph/wp-content/uploads/2018/05/...</td>\n",
       "      <td>NaN</td>\n",
       "      <td>the Rizal Hall, Malacañan Palace</td>\n",
       "      <td>Maybe after my prepared speech, this is just a...</td>\n",
       "    </tr>\n",
       "    <tr>\n",
       "      <th>714</th>\n",
       "      <td>May 05, 2018</td>\n",
       "      <td>Speech of President Rodrigo Roa Duterte during...</td>\n",
       "      <td>http://pcoo.gov.ph/wp-content/uploads/2018/05/...</td>\n",
       "      <td>NaN</td>\n",
       "      <td>the Isla Ballroom, EDSA Shangri-La, Mandaluyon...</td>\n",
       "      <td>Thank you. Kindly sit down.     I’d forego wit...</td>\n",
       "    </tr>\n",
       "    <tr>\n",
       "      <th>715</th>\n",
       "      <td>May 04, 2018</td>\n",
       "      <td>Speech of President Rodrigo Roa Duterte during...</td>\n",
       "      <td>http://pcoo.gov.ph/wp-content/uploads/2018/05/...</td>\n",
       "      <td>NaN</td>\n",
       "      <td>the SMX Convention Center, Davao City</td>\n",
       "      <td>Salamat po. Thank you for your courtesy. You m...</td>\n",
       "    </tr>\n",
       "    <tr>\n",
       "      <th>716</th>\n",
       "      <td>May 02, 2018</td>\n",
       "      <td>Speech of President Rodrigo Roa Duterte during...</td>\n",
       "      <td>http://pcoo.gov.ph/wp-content/uploads/2018/05/...</td>\n",
       "      <td>NaN</td>\n",
       "      <td>Liwasang Alfaro G. Aguirre, Mulanay, Quezon</td>\n",
       "      <td>Kindly sit down. Thank you for your courtesy. ...</td>\n",
       "    </tr>\n",
       "    <tr>\n",
       "      <th>717</th>\n",
       "      <td>May 01, 2018</td>\n",
       "      <td>Speech of President Rodrigo Roa Duterte during...</td>\n",
       "      <td>http://pcoo.gov.ph/wp-content/uploads/2018/05/...</td>\n",
       "      <td>NaN</td>\n",
       "      <td>IEC Convention Center of Cebu, Pope John Paul ...</td>\n",
       "      <td>Paglingkod lang, sige mo pakpak diha. (Please ...</td>\n",
       "    </tr>\n",
       "  </tbody>\n",
       "</table>\n",
       "<p>718 rows × 6 columns</p>\n",
       "</div>"
      ],
      "text/plain": [
       "             date                                              title  \\\n",
       "0    May 26, 2020  Excerpts from Speech of President Rodrigo Roa ...   \n",
       "1    May 25, 2020  Talk to the People of President Rodrigo Roa Du...   \n",
       "2    May 22, 2020  Speech of President Rodrigo Roa Duterte during...   \n",
       "3    May 19, 2020  Talk to the People of President Rodrigo Roa Du...   \n",
       "4    May 12, 2020  Talk to the People of President Rodrigo Roa Du...   \n",
       "..            ...                                                ...   \n",
       "713  May 08, 2018  Speech of President Rodrigo Roa Duterte during...   \n",
       "714  May 05, 2018  Speech of President Rodrigo Roa Duterte during...   \n",
       "715  May 04, 2018  Speech of President Rodrigo Roa Duterte during...   \n",
       "716  May 02, 2018  Speech of President Rodrigo Roa Duterte during...   \n",
       "717  May 01, 2018  Speech of President Rodrigo Roa Duterte during...   \n",
       "\n",
       "                                                   url  \\\n",
       "0    https://pcoo.gov.ph/presidential-speech/excerp...   \n",
       "1    https://pcoo.gov.ph/presidential-speech/talk-t...   \n",
       "2    https://pcoo.gov.ph/presidential-speech/speech...   \n",
       "3    https://pcoo.gov.ph/presidential-speech/talk-t...   \n",
       "4    https://pcoo.gov.ph/presidential-speech/talk-t...   \n",
       "..                                                 ...   \n",
       "713  http://pcoo.gov.ph/wp-content/uploads/2018/05/...   \n",
       "714  http://pcoo.gov.ph/wp-content/uploads/2018/05/...   \n",
       "715  http://pcoo.gov.ph/wp-content/uploads/2018/05/...   \n",
       "716  http://pcoo.gov.ph/wp-content/uploads/2018/05/...   \n",
       "717  http://pcoo.gov.ph/wp-content/uploads/2018/05/...   \n",
       "\n",
       "                                                 event  \\\n",
       "0    Meeting with Philippine Army (PA) and Philippi...   \n",
       "1               On Coronavirus Disease 2019 (COVID-19)   \n",
       "2    Commencement Exercsies of the Philippine Milit...   \n",
       "3               On Coronavirus Disease 2019 (COVID-19)   \n",
       "4               On Coronavirus Disease 2019 (COVID-19)   \n",
       "..                                                 ...   \n",
       "713                                                NaN   \n",
       "714                                                NaN   \n",
       "715                                                NaN   \n",
       "716                                                NaN   \n",
       "717                                                NaN   \n",
       "\n",
       "                                              location  \\\n",
       "0           Malago Clubhouse, Malacañang Park, Manila    \n",
       "1                       Malago Clubhouse in Malacañang   \n",
       "2           Malago Clubhouse, Malacañang Park, Manila    \n",
       "3                       Malago Clubhouse in Malacañang   \n",
       "4                       Malago Clubhouse in Malacañang   \n",
       "..                                                 ...   \n",
       "713                   the Rizal Hall, Malacañan Palace   \n",
       "714  the Isla Ballroom, EDSA Shangri-La, Mandaluyon...   \n",
       "715              the SMX Convention Center, Davao City   \n",
       "716        Liwasang Alfaro G. Aguirre, Mulanay, Quezon   \n",
       "717  IEC Convention Center of Cebu, Pope John Paul ...   \n",
       "\n",
       "                                            transcript  \n",
       "0         So ako pati si Bong during my mayorship d...  \n",
       "1    PRESIDENT RODRIGO ROA DUTERTE: I remember dist...  \n",
       "2    Kindly sit down. [May upuan sila? Okay.], Defe...  \n",
       "3    PRESIDENT RODRIGO ROA DUTERTE: Good evening my...  \n",
       "4    PRESIDENT DUTERTE: Sir, one question. Itong op...  \n",
       "..                                                 ...  \n",
       "713  Maybe after my prepared speech, this is just a...  \n",
       "714  Thank you. Kindly sit down.     I’d forego wit...  \n",
       "715  Salamat po. Thank you for your courtesy. You m...  \n",
       "716  Kindly sit down. Thank you for your courtesy. ...  \n",
       "717  Paglingkod lang, sige mo pakpak diha. (Please ...  \n",
       "\n",
       "[718 rows x 6 columns]"
      ]
     },
     "execution_count": 944,
     "metadata": {},
     "output_type": "execute_result"
    }
   ],
   "source": [
    "df_all = pd.merge(df_prev, df_cur, how='outer')\n",
    "df_all"
   ]
  },
  {
   "cell_type": "markdown",
   "metadata": {},
   "source": [
    ">Although the date are unique, let's see if there are duplicate transcripts."
   ]
  },
  {
   "cell_type": "code",
   "execution_count": 945,
   "metadata": {},
   "outputs": [
    {
     "data": {
      "text/plain": [
       "708"
      ]
     },
     "execution_count": 945,
     "metadata": {},
     "output_type": "execute_result"
    }
   ],
   "source": [
    "df_all.transcript.nunique()"
   ]
  },
  {
   "cell_type": "markdown",
   "metadata": {},
   "source": [
    ">So only 708 transcripts are unique, while all other are just duplicates. Let's view these transcripts."
   ]
  },
  {
   "cell_type": "code",
   "execution_count": 946,
   "metadata": {},
   "outputs": [
    {
     "name": "stdout",
     "output_type": "stream",
     "text": [
      "nan\n"
     ]
    },
    {
     "data": {
      "text/plain": [
       "7"
      ]
     },
     "execution_count": 946,
     "metadata": {},
     "output_type": "execute_result"
    }
   ],
   "source": [
    "grouped_transcript = df_all.groupby('transcript')\n",
    "u_transcript = df_all.transcript.unique()\n",
    "\n",
    "u_transcript_multiple = []\n",
    "for trans in u_transcript:\n",
    "    try:\n",
    "        if grouped_transcript.get_group(trans).shape[0] > 1:\n",
    "            u_transcript_multiple.append(trans)\n",
    "    except:\n",
    "        print(trans)\n",
    "len(u_transcript_multiple)"
   ]
  },
  {
   "cell_type": "markdown",
   "metadata": {},
   "source": [
    ">There are total of 7 kinds transcripts that has duplicates. I'm gonna manually check these and see the reason for it and fix them. I found out that most of them are just duplicates while the elements in 8 and 9 are actually "
   ]
  },
  {
   "cell_type": "code",
   "execution_count": 967,
   "metadata": {},
   "outputs": [
    {
     "name": "stdout",
     "output_type": "stream",
     "text": [
      "Group-0\n",
      "['http://pcoo.gov.ph//aug-29-2016-speech-of-president-rodrigo-roa-duterte-during-the-18th-anniversary-of-volunteers-against-crime-and-corruption-vacc/', 'http://pcoo.gov.ph//aug-29-2016-speech-of-president-rodrigo-roa-duterte-during-the-18th-anniversary-of-volunteers-against-crime-and-corruption-vacc/']\n",
      "\n",
      "Group-1\n",
      "['http://pcoo.gov.ph//aug-29-2016-statement-of-president-rodrigo-roa-duterte-during-his-visit-to-wounded-in-action-soldiers-in-tacloban-city/', 'http://pcoo.gov.ph//aug-29-2016-statement-of-president-rodrigo-roa-duterte-during-his-visit-to-wounded-in-action-soldiers-in-tacloban-city/']\n",
      "\n",
      "Group-2\n",
      "['http://pcoo.gov.ph//oct-23-2016-president-rodrigo-roa-dutertes-speech-during-the-distribution-of-emergency-shelter-assistance-esa-and-relief-goods-to-typhoon-lawin-victims/', 'http://pcoo.gov.ph//oct-23-2016-president-rodrigo-roa-dutertes-speech-during-the-distribution-of-emergency-shelter-assistance-esa-and-relief-goods-to-typhoon-lawin-victims/', 'http://pcoo.gov.ph//oct-23-2016-president-rodrigo-roa-dutertes-speech-during-the-distribution-of-emergency-shelter-assistance-esa-and-relief-goods-to-typhoon-lawin-victims/']\n",
      "\n",
      "Group-3\n",
      "['http://pcoo.gov.ph//dec-27-2016-speech-of-president-rodrigo-roa-duterte-during-christmas-gathering-with-the-barangay-officials/', 'http://pcoo.gov.ph//dec-27-2016-speech-of-president-rodrigo-roa-duterte-during-christmas-gathering-with-the-barangay-officials/']\n",
      "\n",
      "Group-4\n",
      "['http://pcoo.gov.ph//march-25-2017-speech-of-president-rodrigo-roa-duterte-during-the-groundbreaking-ceremony-of-a-drug-treatment-and-rehabilitation-center/', 'http://pcoo.gov.ph//march-25-2017-speech-of-president-rodrigo-roa-duterte-during-the-groundbreaking-ceremony-of-a-drug-treatment-and-rehabilitation-center/', 'http://pcoo.gov.ph//march-25-2017-speech-of-president-rodrigo-roa-duterte-during-the-groundbreaking-ceremony-of-a-drug-treatment-and-rehabilitation-center/']\n",
      "\n",
      "Group-5\n",
      "['http://pcoo.gov.ph//speech-of-president-rodrigo-duterte-during-the-philippines-qatar-business-forum/', 'http://pcoo.gov.ph//speech-of-president-rodrigo-duterte-during-the-philippines-qatar-business-forum/']\n",
      "\n",
      "Group-6\n",
      "['http://pcoo.gov.ph/wp-content/uploads/2017/09/20170922-Speech-of-President-Rodrigo-Duterte-during-the-Globe-Telecoms-Southeast-Asia-United-States-SEA-US-Cable-System-Commercial-Launch.pdf', 'http://pcoo.gov.ph/wp-content/uploads/2017/09/20170922-Speech-of-President-Rodrigo-Duterte-during-the-Globe-Telecoms-Southeast-Asia-United-States-SEA-US-Cable-System-Commercial-Launch.pdf']\n",
      "\n"
     ]
    }
   ],
   "source": [
    "for i in range(7):\n",
    "    print(f'Group-{i}\\n{grouped_transcript.get_group(u_transcript_multiple[i]).url.tolist()}')\n",
    "    print()"
   ]
  },
  {
   "cell_type": "markdown",
   "metadata": {},
   "source": [
    ">As you can see they are basically repeated speech with the same source so I'm going to delete their duplicate/s."
   ]
  },
  {
   "cell_type": "code",
   "execution_count": 984,
   "metadata": {},
   "outputs": [],
   "source": [
    "df_all_temp = df_all.copy()"
   ]
  },
  {
   "cell_type": "code",
   "execution_count": 1013,
   "metadata": {},
   "outputs": [],
   "source": [
    "for i in range(7):\n",
    "    df_all.drop(index=grouped_transcript.get_group(u_transcript_multiple[i]).index[1:], inplace=True)\n",
    "    grouped_transcript = df_all.groupby('transcript')"
   ]
  },
  {
   "cell_type": "code",
   "execution_count": 1008,
   "metadata": {},
   "outputs": [],
   "source": [
    "df_all = df_all_temp.copy()"
   ]
  },
  {
   "cell_type": "code",
   "execution_count": 1025,
   "metadata": {},
   "outputs": [
    {
     "name": "stdout",
     "output_type": "stream",
     "text": [
      "Shape of_all:(709, 6)\n",
      "Number of unique transcript:708\n",
      "Number of nan transcript:1\n"
     ]
    }
   ],
   "source": [
    "print(f'Shape of_all:{df_all.shape}')\n",
    "print(f'Number of unique transcript:{df_all.transcript.nunique()}')\n",
    "print(f'Number of nan transcript:{df_all.transcript.isna().sum()}')"
   ]
  },
  {
   "cell_type": "code",
   "execution_count": 1023,
   "metadata": {},
   "outputs": [
    {
     "data": {
      "text/html": [
       "<div>\n",
       "<style scoped>\n",
       "    .dataframe tbody tr th:only-of-type {\n",
       "        vertical-align: middle;\n",
       "    }\n",
       "\n",
       "    .dataframe tbody tr th {\n",
       "        vertical-align: top;\n",
       "    }\n",
       "\n",
       "    .dataframe thead th {\n",
       "        text-align: right;\n",
       "    }\n",
       "</style>\n",
       "<table border=\"1\" class=\"dataframe\">\n",
       "  <thead>\n",
       "    <tr style=\"text-align: right;\">\n",
       "      <th></th>\n",
       "      <th>date</th>\n",
       "      <th>title</th>\n",
       "      <th>url</th>\n",
       "      <th>event</th>\n",
       "      <th>location</th>\n",
       "      <th>transcript</th>\n",
       "    </tr>\n",
       "  </thead>\n",
       "  <tbody>\n",
       "    <tr>\n",
       "      <th>300</th>\n",
       "      <td>April 25, 2018</td>\n",
       "      <td>Speech of President Rodrigo Roa Duterte during...</td>\n",
       "      <td>https://pcoo.gov.ph/presidential-speech/speech...</td>\n",
       "      <td>Launching of the Maguindanao Balik Baril Program</td>\n",
       "      <td>Buluan, Maguindanao</td>\n",
       "      <td>NaN</td>\n",
       "    </tr>\n",
       "  </tbody>\n",
       "</table>\n",
       "</div>"
      ],
      "text/plain": [
       "               date                                              title  \\\n",
       "300  April 25, 2018  Speech of President Rodrigo Roa Duterte during...   \n",
       "\n",
       "                                                   url  \\\n",
       "300  https://pcoo.gov.ph/presidential-speech/speech...   \n",
       "\n",
       "                                                event               location  \\\n",
       "300  Launching of the Maguindanao Balik Baril Program   Buluan, Maguindanao    \n",
       "\n",
       "    transcript  \n",
       "300        NaN  "
      ]
     },
     "execution_count": 1023,
     "metadata": {},
     "output_type": "execute_result"
    }
   ],
   "source": [
    "df_all[df_all.transcript.isna()]"
   ]
  },
  {
   "cell_type": "markdown",
   "metadata": {},
   "source": [
    ">There is a discrepancy between nunique and shape because for *nunique()* function a nan value is not regarded as unique value. This nan value is the pdf that is not available from the site. I have to drop it from the dataframe."
   ]
  },
  {
   "cell_type": "code",
   "execution_count": 1029,
   "metadata": {},
   "outputs": [
    {
     "data": {
      "text/html": [
       "<div>\n",
       "<style scoped>\n",
       "    .dataframe tbody tr th:only-of-type {\n",
       "        vertical-align: middle;\n",
       "    }\n",
       "\n",
       "    .dataframe tbody tr th {\n",
       "        vertical-align: top;\n",
       "    }\n",
       "\n",
       "    .dataframe thead th {\n",
       "        text-align: right;\n",
       "    }\n",
       "</style>\n",
       "<table border=\"1\" class=\"dataframe\">\n",
       "  <thead>\n",
       "    <tr style=\"text-align: right;\">\n",
       "      <th></th>\n",
       "      <th>date</th>\n",
       "      <th>title</th>\n",
       "      <th>url</th>\n",
       "      <th>event</th>\n",
       "      <th>location</th>\n",
       "      <th>transcript</th>\n",
       "    </tr>\n",
       "  </thead>\n",
       "  <tbody>\n",
       "    <tr>\n",
       "      <th>0</th>\n",
       "      <td>May 26, 2020</td>\n",
       "      <td>Excerpts from Speech of President Rodrigo Roa ...</td>\n",
       "      <td>https://pcoo.gov.ph/presidential-speech/excerp...</td>\n",
       "      <td>Meeting with Philippine Army (PA) and Philippi...</td>\n",
       "      <td>Malago Clubhouse, Malacañang Park, Manila</td>\n",
       "      <td>So ako pati si Bong during my mayorship d...</td>\n",
       "    </tr>\n",
       "    <tr>\n",
       "      <th>1</th>\n",
       "      <td>May 25, 2020</td>\n",
       "      <td>Talk to the People of President Rodrigo Roa Du...</td>\n",
       "      <td>https://pcoo.gov.ph/presidential-speech/talk-t...</td>\n",
       "      <td>On Coronavirus Disease 2019 (COVID-19)</td>\n",
       "      <td>Malago Clubhouse in Malacañang</td>\n",
       "      <td>PRESIDENT RODRIGO ROA DUTERTE: I remember dist...</td>\n",
       "    </tr>\n",
       "    <tr>\n",
       "      <th>2</th>\n",
       "      <td>May 22, 2020</td>\n",
       "      <td>Speech of President Rodrigo Roa Duterte during...</td>\n",
       "      <td>https://pcoo.gov.ph/presidential-speech/speech...</td>\n",
       "      <td>Commencement Exercsies of the Philippine Milit...</td>\n",
       "      <td>Malago Clubhouse, Malacañang Park, Manila</td>\n",
       "      <td>Kindly sit down. [May upuan sila? Okay.], Defe...</td>\n",
       "    </tr>\n",
       "    <tr>\n",
       "      <th>3</th>\n",
       "      <td>May 19, 2020</td>\n",
       "      <td>Talk to the People of President Rodrigo Roa Du...</td>\n",
       "      <td>https://pcoo.gov.ph/presidential-speech/talk-t...</td>\n",
       "      <td>On Coronavirus Disease 2019 (COVID-19)</td>\n",
       "      <td>Malago Clubhouse in Malacañang</td>\n",
       "      <td>PRESIDENT RODRIGO ROA DUTERTE: Good evening my...</td>\n",
       "    </tr>\n",
       "    <tr>\n",
       "      <th>4</th>\n",
       "      <td>May 12, 2020</td>\n",
       "      <td>Talk to the People of President Rodrigo Roa Du...</td>\n",
       "      <td>https://pcoo.gov.ph/presidential-speech/talk-t...</td>\n",
       "      <td>On Coronavirus Disease 2019 (COVID-19)</td>\n",
       "      <td>Malago Clubhouse in Malacañang</td>\n",
       "      <td>PRESIDENT DUTERTE: Sir, one question. Itong op...</td>\n",
       "    </tr>\n",
       "    <tr>\n",
       "      <th>...</th>\n",
       "      <td>...</td>\n",
       "      <td>...</td>\n",
       "      <td>...</td>\n",
       "      <td>...</td>\n",
       "      <td>...</td>\n",
       "      <td>...</td>\n",
       "    </tr>\n",
       "    <tr>\n",
       "      <th>713</th>\n",
       "      <td>May 08, 2018</td>\n",
       "      <td>Speech of President Rodrigo Roa Duterte during...</td>\n",
       "      <td>http://pcoo.gov.ph/wp-content/uploads/2018/05/...</td>\n",
       "      <td>NaN</td>\n",
       "      <td>the Rizal Hall, Malacañan Palace</td>\n",
       "      <td>Maybe after my prepared speech, this is just a...</td>\n",
       "    </tr>\n",
       "    <tr>\n",
       "      <th>714</th>\n",
       "      <td>May 05, 2018</td>\n",
       "      <td>Speech of President Rodrigo Roa Duterte during...</td>\n",
       "      <td>http://pcoo.gov.ph/wp-content/uploads/2018/05/...</td>\n",
       "      <td>NaN</td>\n",
       "      <td>the Isla Ballroom, EDSA Shangri-La, Mandaluyon...</td>\n",
       "      <td>Thank you. Kindly sit down.     I’d forego wit...</td>\n",
       "    </tr>\n",
       "    <tr>\n",
       "      <th>715</th>\n",
       "      <td>May 04, 2018</td>\n",
       "      <td>Speech of President Rodrigo Roa Duterte during...</td>\n",
       "      <td>http://pcoo.gov.ph/wp-content/uploads/2018/05/...</td>\n",
       "      <td>NaN</td>\n",
       "      <td>the SMX Convention Center, Davao City</td>\n",
       "      <td>Salamat po. Thank you for your courtesy. You m...</td>\n",
       "    </tr>\n",
       "    <tr>\n",
       "      <th>716</th>\n",
       "      <td>May 02, 2018</td>\n",
       "      <td>Speech of President Rodrigo Roa Duterte during...</td>\n",
       "      <td>http://pcoo.gov.ph/wp-content/uploads/2018/05/...</td>\n",
       "      <td>NaN</td>\n",
       "      <td>Liwasang Alfaro G. Aguirre, Mulanay, Quezon</td>\n",
       "      <td>Kindly sit down. Thank you for your courtesy. ...</td>\n",
       "    </tr>\n",
       "    <tr>\n",
       "      <th>717</th>\n",
       "      <td>May 01, 2018</td>\n",
       "      <td>Speech of President Rodrigo Roa Duterte during...</td>\n",
       "      <td>http://pcoo.gov.ph/wp-content/uploads/2018/05/...</td>\n",
       "      <td>NaN</td>\n",
       "      <td>IEC Convention Center of Cebu, Pope John Paul ...</td>\n",
       "      <td>Paglingkod lang, sige mo pakpak diha. (Please ...</td>\n",
       "    </tr>\n",
       "  </tbody>\n",
       "</table>\n",
       "<p>708 rows × 6 columns</p>\n",
       "</div>"
      ],
      "text/plain": [
       "             date                                              title  \\\n",
       "0    May 26, 2020  Excerpts from Speech of President Rodrigo Roa ...   \n",
       "1    May 25, 2020  Talk to the People of President Rodrigo Roa Du...   \n",
       "2    May 22, 2020  Speech of President Rodrigo Roa Duterte during...   \n",
       "3    May 19, 2020  Talk to the People of President Rodrigo Roa Du...   \n",
       "4    May 12, 2020  Talk to the People of President Rodrigo Roa Du...   \n",
       "..            ...                                                ...   \n",
       "713  May 08, 2018  Speech of President Rodrigo Roa Duterte during...   \n",
       "714  May 05, 2018  Speech of President Rodrigo Roa Duterte during...   \n",
       "715  May 04, 2018  Speech of President Rodrigo Roa Duterte during...   \n",
       "716  May 02, 2018  Speech of President Rodrigo Roa Duterte during...   \n",
       "717  May 01, 2018  Speech of President Rodrigo Roa Duterte during...   \n",
       "\n",
       "                                                   url  \\\n",
       "0    https://pcoo.gov.ph/presidential-speech/excerp...   \n",
       "1    https://pcoo.gov.ph/presidential-speech/talk-t...   \n",
       "2    https://pcoo.gov.ph/presidential-speech/speech...   \n",
       "3    https://pcoo.gov.ph/presidential-speech/talk-t...   \n",
       "4    https://pcoo.gov.ph/presidential-speech/talk-t...   \n",
       "..                                                 ...   \n",
       "713  http://pcoo.gov.ph/wp-content/uploads/2018/05/...   \n",
       "714  http://pcoo.gov.ph/wp-content/uploads/2018/05/...   \n",
       "715  http://pcoo.gov.ph/wp-content/uploads/2018/05/...   \n",
       "716  http://pcoo.gov.ph/wp-content/uploads/2018/05/...   \n",
       "717  http://pcoo.gov.ph/wp-content/uploads/2018/05/...   \n",
       "\n",
       "                                                 event  \\\n",
       "0    Meeting with Philippine Army (PA) and Philippi...   \n",
       "1               On Coronavirus Disease 2019 (COVID-19)   \n",
       "2    Commencement Exercsies of the Philippine Milit...   \n",
       "3               On Coronavirus Disease 2019 (COVID-19)   \n",
       "4               On Coronavirus Disease 2019 (COVID-19)   \n",
       "..                                                 ...   \n",
       "713                                                NaN   \n",
       "714                                                NaN   \n",
       "715                                                NaN   \n",
       "716                                                NaN   \n",
       "717                                                NaN   \n",
       "\n",
       "                                              location  \\\n",
       "0           Malago Clubhouse, Malacañang Park, Manila    \n",
       "1                       Malago Clubhouse in Malacañang   \n",
       "2           Malago Clubhouse, Malacañang Park, Manila    \n",
       "3                       Malago Clubhouse in Malacañang   \n",
       "4                       Malago Clubhouse in Malacañang   \n",
       "..                                                 ...   \n",
       "713                   the Rizal Hall, Malacañan Palace   \n",
       "714  the Isla Ballroom, EDSA Shangri-La, Mandaluyon...   \n",
       "715              the SMX Convention Center, Davao City   \n",
       "716        Liwasang Alfaro G. Aguirre, Mulanay, Quezon   \n",
       "717  IEC Convention Center of Cebu, Pope John Paul ...   \n",
       "\n",
       "                                            transcript  \n",
       "0         So ako pati si Bong during my mayorship d...  \n",
       "1    PRESIDENT RODRIGO ROA DUTERTE: I remember dist...  \n",
       "2    Kindly sit down. [May upuan sila? Okay.], Defe...  \n",
       "3    PRESIDENT RODRIGO ROA DUTERTE: Good evening my...  \n",
       "4    PRESIDENT DUTERTE: Sir, one question. Itong op...  \n",
       "..                                                 ...  \n",
       "713  Maybe after my prepared speech, this is just a...  \n",
       "714  Thank you. Kindly sit down.     I’d forego wit...  \n",
       "715  Salamat po. Thank you for your courtesy. You m...  \n",
       "716  Kindly sit down. Thank you for your courtesy. ...  \n",
       "717  Paglingkod lang, sige mo pakpak diha. (Please ...  \n",
       "\n",
       "[708 rows x 6 columns]"
      ]
     },
     "execution_count": 1029,
     "metadata": {},
     "output_type": "execute_result"
    }
   ],
   "source": [
    "df_all.drop(index=df_all[df_all.transcript.isna()].index, inplace=True)\n",
    "df_all"
   ]
  },
  {
   "cell_type": "markdown",
   "metadata": {},
   "source": [
    ">We have a total of 708 unique speeches from President Duterte."
   ]
  },
  {
   "cell_type": "code",
   "execution_count": 1033,
   "metadata": {},
   "outputs": [],
   "source": [
    "import json\n",
    "import pickle as pkl\n",
    "\n",
    "with open('Duterte_Dialogue.pkl', 'wb') as fl:\n",
    "    pkl.dump(df_all, fl)\n",
    "    \n",
    "df_all.to_json('Duterte_Dialogue.json')\n",
    "df_all.to_csv('Duterte_Dialogue.csv', index=False)"
   ]
  },
  {
   "cell_type": "code",
   "execution_count": 1044,
   "metadata": {},
   "outputs": [
    {
     "data": {
      "text/plain": [
       "'OPENING STATEMENT:\\nPRESIDENT DUTERTE: Presently we are the subject of the fury of a powerful typhoon cyclone Lawin and it is hitting the country by now.\\nAs usual, we have made the preparations to mitigate damages, save lives, and we have deployed all available measures to lessen at least to put into action what would really be a life-saving measures for my fellowmen.\\n There are three leading agencies there, the DSWD which is really the social workers; and the mitigating guys, the National Disaster Risk Reduction and Management Council. There are all there on the ground today and we can only pray that it would not really result in so many damage and hopefully God forbid no lives lost.\\n I cannot give you the…I think it’s going on now and I’m just waiting for a final report. Just before coming down, I read something that it’s coming in. So I suppose that I cannot have the facts to tell you know but maybe later in the evening or earliest tomorrow.\\n I’m here to answer your questions and hopefully to satisfy everybody.\\n Who will ask the first question?\\n QUESTIONS AND ANSWERS:\\nQ: Thank you, President. I’m from Xinhua News Agency. My first question is how is your first day in Beijing? And what did you do and where did you go? Were the people—Who did you meet and what’s your first impression of Beijing?\\nPRESIDENT DUTERTE: Here in Beijing?\\nQ: Yeah.\\nPRESIDENT DUTERTE: None. I was just met by the protocol officers and some high government officials but there were neither—I’ve never met with them. I think that’s protocol.\\n I will go to them tomorrow and one after the other and that would keep me busy. And, coming over here, we’re given copies of the wide-ranging issues of the subject of bilateral agreements.\\n So it’s just the broader outlines of what areas we might be able to challenge each other and the hard facts or whatever are there to be discussed. We’ll develop tomorrow as we go along the bilateral talks.\\n No… It was just purely socials, handshakes and all. No such thing about the issues that we are going to take up.\\n Q: So today you just did some private tour in Beijing?\\n PRESIDENT DUTERTE: Yes —\\nQ: Did you do some private tour in Beijing?\\nPRESIDENT DUTERTE: Tour? I have none. I’ve slept. I just came from Brunei and maybe I needed some additional rest. The average something like for the last three days three hours, fours hours. I was able to catch up with my backlog. Okay. So I slept, woke up very late in the morning today. But I’m preparing for tomorrow’s engagements.\\n Q: Have you tried some Chinese food? Chinese food?\\n PRESIDENT DUTERTE: My grandfather is a Chinese. We always eat Chinese food almost everyday in the house.\\n Q: Magandang, magandang gabi po Ginoong Pangulo. Ito po si Jade ng China Radio International Filipino Service. Chinese po ako pero marunong po akong mag-Filipino.\\n PRESIDENT DUTERTE: You come from a [unclear]?\\nQ: Kasi meron pong ano… China Radio International, meron pong kaming ‘yung sa Beijing University, meron po kaming ‘yung Philippine Studies program. Nag-graduate.\\n PRESIDENT DUTERTE: Ah, okay.\\n Q: So ‘yung nakalungkot po ‘yung nabanggit niyong balita hinggil sa ‘yung sa Bagyong Lawin. Pero ‘yung sa tingin ko po, maraming beses na may ganitong karanasan ang mga Pinoy. ‘Yung sa naniniwala po akong matagumpayan po kayo ng ano, ng kalamidad na ito. Mabuhay po ang Pilipinas po.\\nPRESIDENT DUTERTE: Thank you.\\nQ: At ‘yung tanong, ‘yung kasi, pwede po bang isang maikling…Okay. English. Okay.\\nPRESIDENT DUTERTE: English yeah.\\nQ: Opo. ‘Yung—You have initiated the — and implemented…You are implementing the independent foreign policy. So in your… How would you enhance the China, China-Philippines relationship based on this foreign policy?\\nPRESIDENT DUTERTE: Well, historically we were never…You know, let me be very…We’ve always been allied with the West. And in terms of entertainment, education, and all, it was all Western.\\nAs a matter of fact, I am more articulate in talking in English than in my own dialect.\\n Sometimes, I have to grope for the words. Now, there is one language which is Tagalog, which is being taught to be the — well, they say it’s the national dialect. But we have not perfected anything.\\n And that is why even in the movies and even in the histories, those were the things that were not properly put in place at in their proper perspective.\\n And that is why even in the survey, the Filipinos were placed trust more with the Americans than the Chinese. During the Cold War, China was portrayed as the bad guy. And all of these years, what we have read in our books, in school were all propaganda produced by the West. And I cannot blame the Filipinos for being son indebted because everything—indebted to the West because even the reasons for war was placed there as a war against the Philippines, against the enemies during the Second World War.\\n You know we were hit hard. In the Battle of Manila, I think it was 200,000 people killed. The carpet-bombings there were not really made by the Japanese. It’s made by the Americans to retake the city.\\n So there’s no question that in the propaganda as we grew up, we under read the propaganda of the West but there was Cold War at that time. And so we could hardly get any news from China and Russia.\\n Those are the realities of life. And so are foreign policies… Up to now, up to this point, we’re geared towards to favor a sector in the world ideology, in the contending ideologies of the world.\\n Now, that I am President, by the grace of God, I read a lot. I’m a lawyer and I study geopolitics and all. And also I am a graduate of the foreign service. So I get to know how to balance this contending…At this age, I have now the proper perspective to judge whether the foreign policy is good for us or not.\\n I said a few days ago, few months ago, that I will charter a new course, changing direction of the foreign policy and be with friends with everybody and with no enemies to contend with, no enemies to hurt, no friends to serve.\\n Unfortunately, they started with the war against drugs and I’ll give you the hard numbers. It’s four million all in all. And they are scattered all over the country.\\nThere are about 6,000 policemen into it, then municipal mayors, and the barangay captains who take care of the basic government unit, the barangay chairman, then the municipal mayor, city mayors, governors, regional heads, then the national.\\nWhat is really very alarming is that my country has already been contaminated with narcopolitics. And there is a senator in my country who was elected. And she was the poster girl of the Human Rights Commission. And the thing that would — why this reason — why I am known to you guys, are interested to hear about me. And because while I was explaining the quandary of my country and the sheer number and the danger that would impose on the next generation. And it will be a failed state just like in Latin America and the Mexico. In that border there between Texas and Mexico, there are about 60,000 deaths. But I never heard of the State Department of Obama and the EU complained about it.\\nThey were focusing on… Because that issue which is really correct was an issue against me when I was mayor. And they kept on hammering on me, criticizing me. But when I was President, that is something else because now I represent a country and if you reprimand me in the international scene, all the networks here, your networks, and you show it to your own country, it will put to shame my countrymen and you have something to answer.\\nYou come from this place, could you explain to us–? But all the networks, they were only interested to highlight my statement when I said internationally, publicly: “If you destroy my country, I will kill you.” And I was addressing myself to all the drug syndicates and the drug pushers and all. And I said, if you destroy the youth of the land, deprived us of the resources of tomorrow, I will kill you.\\n And they keep on hammering— they said that President has been heard saying that he would kill people. Because they did not understand the statement because they were dumbheaded.\\nYou know, China, America, Russia can perfectly say it and it’s very legitimate and valid. “If you kill my country,” there’s the word even “if.” It’s conditional. I don’t know what happened to these guys with their grammar.\\nAnd we are not that sophisticated and our English-acquired culture. What is your…If… So if you do not destroy my country, then I would not kill you. But they keep on hammering on the issues of killing alone because they like it — and threatening me, “we’ll going to the international criminal court”.\\nI said that was enough and I said since nobody was listening to me, I gave them the word bullshit all of you. Then they suddenly heard somebody bullshitting us. Who is this guy? Now they know that that it’s me. Now, they are hearing. What’s wrong in saying you kill all the criminals?\\n The police when I say… Yeah, you’re ordering the police. Look, the soldiers of my country, they go to a four-year course, Philippine Military Academy. The police, there’s another school, the Philippine National Police Academy. They study for four years before they become full-fledged law enforcer.\\nThey all know that when you say you kill them, it’s either just like in the old West, it is not our words. It is the words of the American cowboy in the movies. “Billy the Kid: Wanted dead or alive.”\\n And if you do that in my country, it is not all right. But if they do it with their country, the funniest thing is it’s even in the movies. Without the caveat. You know, “warning this is just movies.” And I said, “Go for them dead or alive.”\\n And when I say I’m going to protect my country because I am the President and I have every right that is self-preservation. If that is not understood by EU and America, I’m sorry for them. It is really a very sad day. When even when you invented the language, you past it on to some other people. You gave so many clichés about dead or alive.\\n And when I said, “capture him dead or alive”. The policemen are the military knew that there has to be some sort of a resistance and that resistance must be violent. And therefore, if it is a violent resistance, that is the time that they can use force. If that resistance endangers the life of the police and the military, if they believe that they are already in the process of losing their lives, and that’s the only time that they can kill.\\n No need to repeat it. They have been there for four years. And that has been imbued in their minds and that is the same theory for the FBIs and the police and everybody.\\nBut you know, people judge best when they condemn. You always make — you did the worst of you. And to think, that will… When I was small, there was this cowboy chasing a bad guy. Then you see posters in the movies, “Dead or alive: 500 dollars”. We do not even do that.\\nI always say to the police and the military, who will be assigned in my city when I was mayor. Give me a clean city. It’s up to this guy to interpret what is cleaning the city. This police, this mili… The guys in front of you are the police and the military of my [country].\\n They have been to school. They were taught the rudiments of how to kill and how not to kill. That’s their job. They are not ignorant of that. I said they stayed there in the academy for four years. What else am I supposed to do when I give the orders? Do I have to lecture again? The same lectures given to them for four years?\\n So what prompted me to change foreign policy is that almost getting our deal with the West. And EU signed a manifesto and they told me it was prepared by the lawyers of them. I mean, I said that the lawyers who warned me that I will, I can — I can be prosecuted.\\n And then I realized that what is happening now in EU and everything is because they have stupid lawyers. If they cannot even agree to let in, let out the migrants. They were so benevolent at first. Then now it’s winter time, some of the guys who came in late are drove out back to the sea, not accepted in their boundary. So they will die there and rot in the cold.\\nGive me a sensible answer. I’m willing to resign here. I would not even have to go Manila. America and Britain invaded Iraq. With all the hullabaloo and pronouncement that said weapons of mass destruction. After killing so much of the soldiers there, the Republican guards of Saddam and killed Saddam in the process. They found out, with all its might and technology and human intelligence that there was no weapons of mass destruction.\\nIf somebody could explain it to me that it was right, stand there in front of me right now. I’m willing to listen and if you do it right, you convince everybody that after all it was right to invade Iraq and even without the weapons of mass destruction. Undermining Libya, wanting to destroy Assad putting in turmoil Egypt.\\nNow tell me, if it is a bright idea of the West? Tell me now justify it that it is correct, I will listen and I will resign as President of the Republic of the Philippines.\\nWas there an explanation? Was there a digest? You know, these guys are really convoluted idiots. When you say you want to prosecute me, for what? It is not crime in my country, especially a President to warn and even any President for that matter. Tell me, do not do it because I will kill you. Do not enter my boundaries because if you hurt the people there, I will go to war. I just don’t know what’s happening with the idiots in the other side.\\nSo my foreign policy goes to where there are people who are sane. Why should I mix my country where the people who’ve I said a very convoluted and almost insane theories of how to run civilization.\\nTell me, anyone of you. Tell me that it was right to invade Iraq. Even without the mass… That was the only thing that kept them going. But where were these weapons of mass destruction. How many died? How many children died in the bombing of Afghanistan? How many died in the invasion of Vietnam only to lose it after several decades and to burn the families there? How many times has this to be repeated?\\nLook at Aleppo. When the could have just stopped it by because earlier they were supplying the arms of the rebels against Syria. But the Chinese government and Russia supported Assad. So you had the longest war there. So from where was this ISIS? When was it born? It was borne out of the desperation of the radicals and rebels of Libya and Syria. That is the beginning of ISIS. America imported terrorism in their own territories. Not by human beings. There in America itself. American citizen almost all of them from Arab ancestry. Because the citizens of that country, the American citizens were Arab of origin really felt to what was being done to their land.\\nAnd who was the first to enter the land and took off with the fat of the land, oil? British, American, French Italian. And after so many troubles, they partitioned the Middle East, according to tribes and not of kingdoms and that is why you have until now fighting amongst themselves. And ISIS became the rallying point.\\nWho imported violence? America. To their lands? They were not the migrants that went there to create trouble. They were the lone works. They were the Arabs who went there when they were young, had education there but saw what was history in the past.\\nMy country? It was occupied by Spain for 400 years. Then it was occupied by the Americans for 50 years. And you think that because we are now — that was century ago then you should see the pile of bodies. You see the big holes where the Moro Muslims of Mindanao were dumped there. And they say, “Oh, it’s 100 years Duterte.”\\n No, it could not be 100 years. It still is now. Why? Because of your convoluted ideas of how to run this civilization.\\nSo why don’t I go to China? What kept us from China was not our own making? We are almost a vassal state of America. Our foreign policy dovetails the policy of the United States and of the West.\\nAnd if they’ve said they hated Russia, were supposed to be, “Amen, we also hated China.” And if they say: I will go to war in Vietnam for no reason at all eventually to lose and they will just say, “yes, we will send also our soldiers there.” It’s a kind of stupid, do you think?\\nSo now that we are…All has been said and done. What gives? Me? Killer? Drug war? I’d give you a computation. It’s four million now. But that is, the four million that’s growing up. It’s about 700,000 at the end of my term it will breach the four million mark. So we stick with the two-year survey done before by General Santiago, a military man who headed the Philippine Drug Enforcement Agency. He said there are already three million addicts. Okay.\\nThe mining industry is all over putting [unclear] in my country… Degrading… Degrade the environment alone. How much does it give my country in taxes? 70 billion US dollars.\\nThere are three million Filipinos, at one hit per day, times three million, that is 6,000 per person a month. If you multiply it by the three million, that’s 18 billion a month. If you multiply it by 12, that’s 216 billion a year. Money which the father of a family would have to buy rice, medicine, schools, and…And the crime rate has downed —-drastically, down, down, down. It’s less than 49 percent.\\nWe have girls raped, one-year-old, two-years-old. People dying because they were perceived to be devils in front of the addicts. Rape and all — and even the crime volume. Puts the crime volume before a President puts me to chain.\\n There are killings well because some choose really to fight government. And I said, I will have no mercy for you guys. You fight the authorities and you die? It’s good for you. You asked for it. I told you before, it will destroy my country and yet you go in and persist in doing it.\\nAnd so I said, if you fight, kill them, especially if your life is in danger. I do now want verily, I do not want to see military men and policemen die. It should be the bad boys who’d be dying, not my soldiers and my police.\\nSo, we’re talking of what is right and what is wrong in this world? We’re talking of what is moral, what is not. I said I challenge anyone of you to come here. We can debate until midnight. Just tell me what was really good when they started destroying the Middle East. And until now, they bomb the hospitals, the patients with it dying and those who are already in the morgues are also dying again. And even prisoners and all. And they go about moralizing the righteousness of the world.\\nI’m sorry I have to say this. And they said, why are you veering towards China? Why should not I not veer to China? China is good. It has not invaded a piece of my country all this generation. All they were is to went there and do business. Barter trade even before the arrival of the Spaniards.\\nMost… A lot of Chinese descended Filipino. Almost everyone. We do not have — we have not seen any atrocities committed of late. And the wars of Genghis Khan and Kublai Khan, that’s an anarchy. That is really for the history books. But events of the recent times, there’s a book, which we have to read when we are on the [unclear].\\nIt’s the modern times and the living past. Modern times and we have to live by the past to learn our lessons in life.\\nThank you.\\nAny question? We’re good until 6 o’clock in the morning. Go ahead. Can we have it one at a time?\\nQ: Thank you, Mr. President. We’re China Daily. We’d like to ask a question about trade and cooperation. Do you have any expectations about your meetings with Chinese leaders tomorrow? And, what do you expect from the outcomes like in trade, infrastructure, agricultural technologies like froze and foods? And do you have any expectations about for the political and economic messages to be delivered through the meetings? Thank you.\\nPRESIDENT DUTERTE: Yes, frankly, actually… I’m going to say I’m not in the kind of really to… I hate to admit it but there’s so many things that we need. We will be asking for the help of China. I do not know if they will — your government will give it to us.\\nI am here on a State Visit to pay my respects to the great people of China and to the Chinese government. But along the way, if they would ask me other things which I need and they can help and I would [unclear] of, also the simple ones, not impositions, not financial burdens.\\nWe would appreciate if we are given loans, soft loans. We would rather borrow and pay it in a very liberal schedule.\\nQ: Mr. President, on South China Sea issue, how are you going to raise this issue during the meeting with President Xi tomorrow? And are you going to request President Xi to respect the international law, especially the result of arbitration? And what will be the bottom line?\\nPRESIDENT DUTERTE: Yes. Let me tell you this. Before I came, there were preliminary talks within the Foreign Secretary of my country and the Foreign Minister of China.\\nWe sorted out an agenda that is broad enough to accommodate all. But I as a friend and I would say this to…If he mentions it in passing and I will just say, Mr. President, I came here for a visit. I do not want to make hard impositions. I do not want to ask you to do it now because there will be a time when we shall be doing it.\\nBut I have to be courteous and I have to wait for your President to mention it in passing for me to respond. It is in the broader outlines of talks that we have agreed. But as a matter of courtesy and the oriental way, you’d always wait because I am a visitor here.\\nI cannot destroy the goodwill by just blurting out something, for after all it is also…Let us be clear on this, the arbitral awards give us the right. Okay? China has the historical right and they are insisting and you are insisting and the Chinese government is insisting that it is right. So in this… Do we argue or we just talk? Then, if [unclear] I would say let us just put it to some other day.\\nThere will come a time we will have to talk about it and the arbitral judgment is in a piece of paper with four corners. And maybe up by that time, I would say, you know, we have to talk now and might the issues will not go out of what is being stated.\\nWe are limited to this but that is not the time to do it. That is the time to prepare for the goodwill and then maybe the agenda of how to go about doing it. But unfortunately or fortunately, it was not discussed by us. So it would not be in keeping with courtesy and goodwill if I’ll be the one to open it.\\nBecause after all, I did not come here to agree to talk about the China Sea. And you can say it can take a back seat? Of course, it has to take a back seat. The question again is, there‘ll be a time that you have to talk about it? Of course, there will be a time because, you know, there are also countries around that — all the same issue.\\n But it is not the time to quarrel.\\nI have the highest respect for your President and your Premier. I have the highest love for my Chinese people. We will be on a different side one day, I know, because of that arbitral. But again I said, let us enjoy the camaraderie and by new found — predilection to choose people who understand human civility.\\nDid I answer your question? Thank you.\\nQ: Mr. President, thank you so much for taking our question, from CNN. Sir, with the understanding that on this particular trip you will not be talking in substance in terms of negotiating over the South China Sea. When that day inevitably comes, would there be room for some sort of bargain? For instance, if China allowed Filipino fishermen back into the area, would you ever allow China to build another artificial island in that area? Or is that a red line for you? And just a quick follow-up, if I may, the US presidential elections just a few weeks away, what are your thoughts on the candidates and do you have a preference for which candidate should win? Thank you very much for your time.\\nPRESIDENT DUTERTE: In the matter of the fishing rights, I leave it to China to decide. We’ll be talking about it. And if — I will mention it in passing, the arbitral judgment, I would say, Okay. If that is what you want, if there are things really which we have to talk — to be talked of preliminarily, we can do it now. We can set the broad lines. As… But there would be no hard impositions. There will be no asking of concessions and anything.\\nAnd the third is, with the elections, I don’t know which way it will go. I…If I were just an ordinary citizen of the Republic of the Philippines, I’d gladly give you my choice. Problems I have in my burden, the Republic of the Philippines, which are not allowed by protocol and by law to side with anybody.\\nOf course, if you whisper to me, to which side I belong. I’ll tell you and you’d be surprised.\\nQ: Are you sure you don’t want to tell us now?\\nPRESIDENT DUTERTE: Because it’s not good, it’s not allowed, and I am sure that I’d get a lot of flak for that.'"
      ]
     },
     "execution_count": 1044,
     "metadata": {},
     "output_type": "execute_result"
    }
   ],
   "source": [
    "df_all[df_all.date == 'October 19, 2016'].transcript.values[0]"
   ]
  },
  {
   "cell_type": "code",
   "execution_count": 1022,
   "metadata": {},
   "outputs": [
    {
     "data": {
      "text/html": [
       "<div>\n",
       "<style scoped>\n",
       "    .dataframe tbody tr th:only-of-type {\n",
       "        vertical-align: middle;\n",
       "    }\n",
       "\n",
       "    .dataframe tbody tr th {\n",
       "        vertical-align: top;\n",
       "    }\n",
       "\n",
       "    .dataframe thead th {\n",
       "        text-align: right;\n",
       "    }\n",
       "</style>\n",
       "<table border=\"1\" class=\"dataframe\">\n",
       "  <thead>\n",
       "    <tr style=\"text-align: right;\">\n",
       "      <th></th>\n",
       "      <th>date</th>\n",
       "      <th>title</th>\n",
       "      <th>url</th>\n",
       "      <th>event</th>\n",
       "      <th>location</th>\n",
       "      <th>transcript</th>\n",
       "    </tr>\n",
       "  </thead>\n",
       "  <tbody>\n",
       "    <tr>\n",
       "      <th>300</th>\n",
       "      <td>April 25, 2018</td>\n",
       "      <td>Speech of President Rodrigo Roa Duterte during...</td>\n",
       "      <td>https://pcoo.gov.ph/presidential-speech/speech...</td>\n",
       "      <td>Launching of the Maguindanao Balik Baril Program</td>\n",
       "      <td>Buluan, Maguindanao</td>\n",
       "      <td>NaN</td>\n",
       "    </tr>\n",
       "  </tbody>\n",
       "</table>\n",
       "</div>"
      ],
      "text/plain": [
       "               date                                              title  \\\n",
       "300  April 25, 2018  Speech of President Rodrigo Roa Duterte during...   \n",
       "\n",
       "                                                   url  \\\n",
       "300  https://pcoo.gov.ph/presidential-speech/speech...   \n",
       "\n",
       "                                                event               location  \\\n",
       "300  Launching of the Maguindanao Balik Baril Program   Buluan, Maguindanao    \n",
       "\n",
       "    transcript  \n",
       "300        NaN  "
      ]
     },
     "execution_count": 1022,
     "metadata": {},
     "output_type": "execute_result"
    }
   ],
   "source": [
    "df_all[df_all.transcript.isna()]"
   ]
  },
  {
   "cell_type": "markdown",
   "metadata": {},
   "source": [
    "# TEST"
   ]
  },
  {
   "cell_type": "code",
   "execution_count": 700,
   "metadata": {},
   "outputs": [],
   "source": [
    "import requests\n",
    "from bs4 import BeautifulSoup"
   ]
  },
  {
   "cell_type": "code",
   "execution_count": 723,
   "metadata": {},
   "outputs": [],
   "source": [
    "url = 'http://pcoo.gov.ph//may-13-2017-speech-of-president-rodrigo-roa-duterte-during-the-meeting-with-the-filipino-community-in-hong-kong-special-administrative-region/'\n",
    "headers = {\n",
    "    'user-agent': 'Mozilla/5.0 (iPhone; CPU iPhone OS 10_3 like Mac OS X) AppleWebKit/602.1.50 (KHTML, like Gecko) CriOS/56.0.2924.75 Mobile/14E5239e Safari/602.1 RuxitSynthetic/1.0 v1355348020 t3296535826494656701 smf=0'\n",
    "}\n",
    "response = requests.get(url, headers=headers)\n",
    "html = BeautifulSoup(response.text, 'lxml')"
   ]
  },
  {
   "cell_type": "markdown",
   "metadata": {},
   "source": [
    "# SOLUTION TO '\\xa0'"
   ]
  }
 ],
 "metadata": {
  "kernelspec": {
   "display_name": "data_science_venv_2",
   "language": "python",
   "name": "data_science_venv_2"
  },
  "language_info": {
   "codemirror_mode": {
    "name": "ipython",
    "version": 3
   },
   "file_extension": ".py",
   "mimetype": "text/x-python",
   "name": "python",
   "nbconvert_exporter": "python",
   "pygments_lexer": "ipython3",
   "version": "3.7.7"
  }
 },
 "nbformat": 4,
 "nbformat_minor": 4
}
